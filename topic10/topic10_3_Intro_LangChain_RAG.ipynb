{
  "nbformat": 4,
  "nbformat_minor": 0,
  "metadata": {
    "colab": {
      "provenance": [],
      "gpuType": "T4",
      "authorship_tag": "ABX9TyO5ph7sWfk84Ksv+sQqjzSf",
      "include_colab_link": true
    },
    "kernelspec": {
      "name": "python3",
      "display_name": "Python 3"
    },
    "language_info": {
      "name": "python"
    },
    "accelerator": "GPU",
    "widgets": {
      "application/vnd.jupyter.widget-state+json": {
        "525eae76ba9a497884d84720853fec25": {
          "model_module": "@jupyter-widgets/controls",
          "model_name": "HBoxModel",
          "model_module_version": "1.5.0",
          "state": {
            "_dom_classes": [],
            "_model_module": "@jupyter-widgets/controls",
            "_model_module_version": "1.5.0",
            "_model_name": "HBoxModel",
            "_view_count": null,
            "_view_module": "@jupyter-widgets/controls",
            "_view_module_version": "1.5.0",
            "_view_name": "HBoxView",
            "box_style": "",
            "children": [
              "IPY_MODEL_9b64cc99c4df444dbe7510de7f412544",
              "IPY_MODEL_401c6a2e83fc4f99a5ba2e154d4e5cef",
              "IPY_MODEL_50678d3f564f401a89110177285a5074"
            ],
            "layout": "IPY_MODEL_69e75f0ba6754fb78af3997b4d745d27"
          }
        },
        "9b64cc99c4df444dbe7510de7f412544": {
          "model_module": "@jupyter-widgets/controls",
          "model_name": "HTMLModel",
          "model_module_version": "1.5.0",
          "state": {
            "_dom_classes": [],
            "_model_module": "@jupyter-widgets/controls",
            "_model_module_version": "1.5.0",
            "_model_name": "HTMLModel",
            "_view_count": null,
            "_view_module": "@jupyter-widgets/controls",
            "_view_module_version": "1.5.0",
            "_view_name": "HTMLView",
            "description": "",
            "description_tooltip": null,
            "layout": "IPY_MODEL_1b6a8fda36f44c049309fa49aca31d60",
            "placeholder": "​",
            "style": "IPY_MODEL_f8f8beb724a046a9b9f07b93bf5a79f2",
            "value": "modules.json: 100%"
          }
        },
        "401c6a2e83fc4f99a5ba2e154d4e5cef": {
          "model_module": "@jupyter-widgets/controls",
          "model_name": "FloatProgressModel",
          "model_module_version": "1.5.0",
          "state": {
            "_dom_classes": [],
            "_model_module": "@jupyter-widgets/controls",
            "_model_module_version": "1.5.0",
            "_model_name": "FloatProgressModel",
            "_view_count": null,
            "_view_module": "@jupyter-widgets/controls",
            "_view_module_version": "1.5.0",
            "_view_name": "ProgressView",
            "bar_style": "success",
            "description": "",
            "description_tooltip": null,
            "layout": "IPY_MODEL_be2b923b86d74469888014990a53eb93",
            "max": 349,
            "min": 0,
            "orientation": "horizontal",
            "style": "IPY_MODEL_7d5cdd7f95d84ce393e74926b93aca5e",
            "value": 349
          }
        },
        "50678d3f564f401a89110177285a5074": {
          "model_module": "@jupyter-widgets/controls",
          "model_name": "HTMLModel",
          "model_module_version": "1.5.0",
          "state": {
            "_dom_classes": [],
            "_model_module": "@jupyter-widgets/controls",
            "_model_module_version": "1.5.0",
            "_model_name": "HTMLModel",
            "_view_count": null,
            "_view_module": "@jupyter-widgets/controls",
            "_view_module_version": "1.5.0",
            "_view_name": "HTMLView",
            "description": "",
            "description_tooltip": null,
            "layout": "IPY_MODEL_3fd1a312b07d46c48bbcf739690b1a5e",
            "placeholder": "​",
            "style": "IPY_MODEL_22ca7a2f7a9144248440bb31cf3f8a27",
            "value": " 349/349 [00:00&lt;00:00, 24.9kB/s]"
          }
        },
        "69e75f0ba6754fb78af3997b4d745d27": {
          "model_module": "@jupyter-widgets/base",
          "model_name": "LayoutModel",
          "model_module_version": "1.2.0",
          "state": {
            "_model_module": "@jupyter-widgets/base",
            "_model_module_version": "1.2.0",
            "_model_name": "LayoutModel",
            "_view_count": null,
            "_view_module": "@jupyter-widgets/base",
            "_view_module_version": "1.2.0",
            "_view_name": "LayoutView",
            "align_content": null,
            "align_items": null,
            "align_self": null,
            "border": null,
            "bottom": null,
            "display": null,
            "flex": null,
            "flex_flow": null,
            "grid_area": null,
            "grid_auto_columns": null,
            "grid_auto_flow": null,
            "grid_auto_rows": null,
            "grid_column": null,
            "grid_gap": null,
            "grid_row": null,
            "grid_template_areas": null,
            "grid_template_columns": null,
            "grid_template_rows": null,
            "height": null,
            "justify_content": null,
            "justify_items": null,
            "left": null,
            "margin": null,
            "max_height": null,
            "max_width": null,
            "min_height": null,
            "min_width": null,
            "object_fit": null,
            "object_position": null,
            "order": null,
            "overflow": null,
            "overflow_x": null,
            "overflow_y": null,
            "padding": null,
            "right": null,
            "top": null,
            "visibility": null,
            "width": null
          }
        },
        "1b6a8fda36f44c049309fa49aca31d60": {
          "model_module": "@jupyter-widgets/base",
          "model_name": "LayoutModel",
          "model_module_version": "1.2.0",
          "state": {
            "_model_module": "@jupyter-widgets/base",
            "_model_module_version": "1.2.0",
            "_model_name": "LayoutModel",
            "_view_count": null,
            "_view_module": "@jupyter-widgets/base",
            "_view_module_version": "1.2.0",
            "_view_name": "LayoutView",
            "align_content": null,
            "align_items": null,
            "align_self": null,
            "border": null,
            "bottom": null,
            "display": null,
            "flex": null,
            "flex_flow": null,
            "grid_area": null,
            "grid_auto_columns": null,
            "grid_auto_flow": null,
            "grid_auto_rows": null,
            "grid_column": null,
            "grid_gap": null,
            "grid_row": null,
            "grid_template_areas": null,
            "grid_template_columns": null,
            "grid_template_rows": null,
            "height": null,
            "justify_content": null,
            "justify_items": null,
            "left": null,
            "margin": null,
            "max_height": null,
            "max_width": null,
            "min_height": null,
            "min_width": null,
            "object_fit": null,
            "object_position": null,
            "order": null,
            "overflow": null,
            "overflow_x": null,
            "overflow_y": null,
            "padding": null,
            "right": null,
            "top": null,
            "visibility": null,
            "width": null
          }
        },
        "f8f8beb724a046a9b9f07b93bf5a79f2": {
          "model_module": "@jupyter-widgets/controls",
          "model_name": "DescriptionStyleModel",
          "model_module_version": "1.5.0",
          "state": {
            "_model_module": "@jupyter-widgets/controls",
            "_model_module_version": "1.5.0",
            "_model_name": "DescriptionStyleModel",
            "_view_count": null,
            "_view_module": "@jupyter-widgets/base",
            "_view_module_version": "1.2.0",
            "_view_name": "StyleView",
            "description_width": ""
          }
        },
        "be2b923b86d74469888014990a53eb93": {
          "model_module": "@jupyter-widgets/base",
          "model_name": "LayoutModel",
          "model_module_version": "1.2.0",
          "state": {
            "_model_module": "@jupyter-widgets/base",
            "_model_module_version": "1.2.0",
            "_model_name": "LayoutModel",
            "_view_count": null,
            "_view_module": "@jupyter-widgets/base",
            "_view_module_version": "1.2.0",
            "_view_name": "LayoutView",
            "align_content": null,
            "align_items": null,
            "align_self": null,
            "border": null,
            "bottom": null,
            "display": null,
            "flex": null,
            "flex_flow": null,
            "grid_area": null,
            "grid_auto_columns": null,
            "grid_auto_flow": null,
            "grid_auto_rows": null,
            "grid_column": null,
            "grid_gap": null,
            "grid_row": null,
            "grid_template_areas": null,
            "grid_template_columns": null,
            "grid_template_rows": null,
            "height": null,
            "justify_content": null,
            "justify_items": null,
            "left": null,
            "margin": null,
            "max_height": null,
            "max_width": null,
            "min_height": null,
            "min_width": null,
            "object_fit": null,
            "object_position": null,
            "order": null,
            "overflow": null,
            "overflow_x": null,
            "overflow_y": null,
            "padding": null,
            "right": null,
            "top": null,
            "visibility": null,
            "width": null
          }
        },
        "7d5cdd7f95d84ce393e74926b93aca5e": {
          "model_module": "@jupyter-widgets/controls",
          "model_name": "ProgressStyleModel",
          "model_module_version": "1.5.0",
          "state": {
            "_model_module": "@jupyter-widgets/controls",
            "_model_module_version": "1.5.0",
            "_model_name": "ProgressStyleModel",
            "_view_count": null,
            "_view_module": "@jupyter-widgets/base",
            "_view_module_version": "1.2.0",
            "_view_name": "StyleView",
            "bar_color": null,
            "description_width": ""
          }
        },
        "3fd1a312b07d46c48bbcf739690b1a5e": {
          "model_module": "@jupyter-widgets/base",
          "model_name": "LayoutModel",
          "model_module_version": "1.2.0",
          "state": {
            "_model_module": "@jupyter-widgets/base",
            "_model_module_version": "1.2.0",
            "_model_name": "LayoutModel",
            "_view_count": null,
            "_view_module": "@jupyter-widgets/base",
            "_view_module_version": "1.2.0",
            "_view_name": "LayoutView",
            "align_content": null,
            "align_items": null,
            "align_self": null,
            "border": null,
            "bottom": null,
            "display": null,
            "flex": null,
            "flex_flow": null,
            "grid_area": null,
            "grid_auto_columns": null,
            "grid_auto_flow": null,
            "grid_auto_rows": null,
            "grid_column": null,
            "grid_gap": null,
            "grid_row": null,
            "grid_template_areas": null,
            "grid_template_columns": null,
            "grid_template_rows": null,
            "height": null,
            "justify_content": null,
            "justify_items": null,
            "left": null,
            "margin": null,
            "max_height": null,
            "max_width": null,
            "min_height": null,
            "min_width": null,
            "object_fit": null,
            "object_position": null,
            "order": null,
            "overflow": null,
            "overflow_x": null,
            "overflow_y": null,
            "padding": null,
            "right": null,
            "top": null,
            "visibility": null,
            "width": null
          }
        },
        "22ca7a2f7a9144248440bb31cf3f8a27": {
          "model_module": "@jupyter-widgets/controls",
          "model_name": "DescriptionStyleModel",
          "model_module_version": "1.5.0",
          "state": {
            "_model_module": "@jupyter-widgets/controls",
            "_model_module_version": "1.5.0",
            "_model_name": "DescriptionStyleModel",
            "_view_count": null,
            "_view_module": "@jupyter-widgets/base",
            "_view_module_version": "1.2.0",
            "_view_name": "StyleView",
            "description_width": ""
          }
        },
        "f99f115a882847fda5b901ee3b823118": {
          "model_module": "@jupyter-widgets/controls",
          "model_name": "HBoxModel",
          "model_module_version": "1.5.0",
          "state": {
            "_dom_classes": [],
            "_model_module": "@jupyter-widgets/controls",
            "_model_module_version": "1.5.0",
            "_model_name": "HBoxModel",
            "_view_count": null,
            "_view_module": "@jupyter-widgets/controls",
            "_view_module_version": "1.5.0",
            "_view_name": "HBoxView",
            "box_style": "",
            "children": [
              "IPY_MODEL_f403b03d5d8f4312a414560df56de086",
              "IPY_MODEL_f69bebdca9f749df82250eddb93f5815",
              "IPY_MODEL_83583deae3ee46528ae2b18d6582e286"
            ],
            "layout": "IPY_MODEL_1b5443ea99894b47900086be20881c5a"
          }
        },
        "f403b03d5d8f4312a414560df56de086": {
          "model_module": "@jupyter-widgets/controls",
          "model_name": "HTMLModel",
          "model_module_version": "1.5.0",
          "state": {
            "_dom_classes": [],
            "_model_module": "@jupyter-widgets/controls",
            "_model_module_version": "1.5.0",
            "_model_name": "HTMLModel",
            "_view_count": null,
            "_view_module": "@jupyter-widgets/controls",
            "_view_module_version": "1.5.0",
            "_view_name": "HTMLView",
            "description": "",
            "description_tooltip": null,
            "layout": "IPY_MODEL_5c30f5f5792840a29de66f022a402586",
            "placeholder": "​",
            "style": "IPY_MODEL_20e933ff364a44008d6e5a4938d5b429",
            "value": "config_sentence_transformers.json: 100%"
          }
        },
        "f69bebdca9f749df82250eddb93f5815": {
          "model_module": "@jupyter-widgets/controls",
          "model_name": "FloatProgressModel",
          "model_module_version": "1.5.0",
          "state": {
            "_dom_classes": [],
            "_model_module": "@jupyter-widgets/controls",
            "_model_module_version": "1.5.0",
            "_model_name": "FloatProgressModel",
            "_view_count": null,
            "_view_module": "@jupyter-widgets/controls",
            "_view_module_version": "1.5.0",
            "_view_name": "ProgressView",
            "bar_style": "success",
            "description": "",
            "description_tooltip": null,
            "layout": "IPY_MODEL_8cd9d46423d84c9593d64619e4f18e7b",
            "max": 124,
            "min": 0,
            "orientation": "horizontal",
            "style": "IPY_MODEL_e0b2fa032a8547bba29eeb7804d9a39f",
            "value": 124
          }
        },
        "83583deae3ee46528ae2b18d6582e286": {
          "model_module": "@jupyter-widgets/controls",
          "model_name": "HTMLModel",
          "model_module_version": "1.5.0",
          "state": {
            "_dom_classes": [],
            "_model_module": "@jupyter-widgets/controls",
            "_model_module_version": "1.5.0",
            "_model_name": "HTMLModel",
            "_view_count": null,
            "_view_module": "@jupyter-widgets/controls",
            "_view_module_version": "1.5.0",
            "_view_name": "HTMLView",
            "description": "",
            "description_tooltip": null,
            "layout": "IPY_MODEL_68100b8014fa4e9eb58f595a49a98421",
            "placeholder": "​",
            "style": "IPY_MODEL_debc15cd86fe409c8cde105a96a1112f",
            "value": " 124/124 [00:00&lt;00:00, 9.10kB/s]"
          }
        },
        "1b5443ea99894b47900086be20881c5a": {
          "model_module": "@jupyter-widgets/base",
          "model_name": "LayoutModel",
          "model_module_version": "1.2.0",
          "state": {
            "_model_module": "@jupyter-widgets/base",
            "_model_module_version": "1.2.0",
            "_model_name": "LayoutModel",
            "_view_count": null,
            "_view_module": "@jupyter-widgets/base",
            "_view_module_version": "1.2.0",
            "_view_name": "LayoutView",
            "align_content": null,
            "align_items": null,
            "align_self": null,
            "border": null,
            "bottom": null,
            "display": null,
            "flex": null,
            "flex_flow": null,
            "grid_area": null,
            "grid_auto_columns": null,
            "grid_auto_flow": null,
            "grid_auto_rows": null,
            "grid_column": null,
            "grid_gap": null,
            "grid_row": null,
            "grid_template_areas": null,
            "grid_template_columns": null,
            "grid_template_rows": null,
            "height": null,
            "justify_content": null,
            "justify_items": null,
            "left": null,
            "margin": null,
            "max_height": null,
            "max_width": null,
            "min_height": null,
            "min_width": null,
            "object_fit": null,
            "object_position": null,
            "order": null,
            "overflow": null,
            "overflow_x": null,
            "overflow_y": null,
            "padding": null,
            "right": null,
            "top": null,
            "visibility": null,
            "width": null
          }
        },
        "5c30f5f5792840a29de66f022a402586": {
          "model_module": "@jupyter-widgets/base",
          "model_name": "LayoutModel",
          "model_module_version": "1.2.0",
          "state": {
            "_model_module": "@jupyter-widgets/base",
            "_model_module_version": "1.2.0",
            "_model_name": "LayoutModel",
            "_view_count": null,
            "_view_module": "@jupyter-widgets/base",
            "_view_module_version": "1.2.0",
            "_view_name": "LayoutView",
            "align_content": null,
            "align_items": null,
            "align_self": null,
            "border": null,
            "bottom": null,
            "display": null,
            "flex": null,
            "flex_flow": null,
            "grid_area": null,
            "grid_auto_columns": null,
            "grid_auto_flow": null,
            "grid_auto_rows": null,
            "grid_column": null,
            "grid_gap": null,
            "grid_row": null,
            "grid_template_areas": null,
            "grid_template_columns": null,
            "grid_template_rows": null,
            "height": null,
            "justify_content": null,
            "justify_items": null,
            "left": null,
            "margin": null,
            "max_height": null,
            "max_width": null,
            "min_height": null,
            "min_width": null,
            "object_fit": null,
            "object_position": null,
            "order": null,
            "overflow": null,
            "overflow_x": null,
            "overflow_y": null,
            "padding": null,
            "right": null,
            "top": null,
            "visibility": null,
            "width": null
          }
        },
        "20e933ff364a44008d6e5a4938d5b429": {
          "model_module": "@jupyter-widgets/controls",
          "model_name": "DescriptionStyleModel",
          "model_module_version": "1.5.0",
          "state": {
            "_model_module": "@jupyter-widgets/controls",
            "_model_module_version": "1.5.0",
            "_model_name": "DescriptionStyleModel",
            "_view_count": null,
            "_view_module": "@jupyter-widgets/base",
            "_view_module_version": "1.2.0",
            "_view_name": "StyleView",
            "description_width": ""
          }
        },
        "8cd9d46423d84c9593d64619e4f18e7b": {
          "model_module": "@jupyter-widgets/base",
          "model_name": "LayoutModel",
          "model_module_version": "1.2.0",
          "state": {
            "_model_module": "@jupyter-widgets/base",
            "_model_module_version": "1.2.0",
            "_model_name": "LayoutModel",
            "_view_count": null,
            "_view_module": "@jupyter-widgets/base",
            "_view_module_version": "1.2.0",
            "_view_name": "LayoutView",
            "align_content": null,
            "align_items": null,
            "align_self": null,
            "border": null,
            "bottom": null,
            "display": null,
            "flex": null,
            "flex_flow": null,
            "grid_area": null,
            "grid_auto_columns": null,
            "grid_auto_flow": null,
            "grid_auto_rows": null,
            "grid_column": null,
            "grid_gap": null,
            "grid_row": null,
            "grid_template_areas": null,
            "grid_template_columns": null,
            "grid_template_rows": null,
            "height": null,
            "justify_content": null,
            "justify_items": null,
            "left": null,
            "margin": null,
            "max_height": null,
            "max_width": null,
            "min_height": null,
            "min_width": null,
            "object_fit": null,
            "object_position": null,
            "order": null,
            "overflow": null,
            "overflow_x": null,
            "overflow_y": null,
            "padding": null,
            "right": null,
            "top": null,
            "visibility": null,
            "width": null
          }
        },
        "e0b2fa032a8547bba29eeb7804d9a39f": {
          "model_module": "@jupyter-widgets/controls",
          "model_name": "ProgressStyleModel",
          "model_module_version": "1.5.0",
          "state": {
            "_model_module": "@jupyter-widgets/controls",
            "_model_module_version": "1.5.0",
            "_model_name": "ProgressStyleModel",
            "_view_count": null,
            "_view_module": "@jupyter-widgets/base",
            "_view_module_version": "1.2.0",
            "_view_name": "StyleView",
            "bar_color": null,
            "description_width": ""
          }
        },
        "68100b8014fa4e9eb58f595a49a98421": {
          "model_module": "@jupyter-widgets/base",
          "model_name": "LayoutModel",
          "model_module_version": "1.2.0",
          "state": {
            "_model_module": "@jupyter-widgets/base",
            "_model_module_version": "1.2.0",
            "_model_name": "LayoutModel",
            "_view_count": null,
            "_view_module": "@jupyter-widgets/base",
            "_view_module_version": "1.2.0",
            "_view_name": "LayoutView",
            "align_content": null,
            "align_items": null,
            "align_self": null,
            "border": null,
            "bottom": null,
            "display": null,
            "flex": null,
            "flex_flow": null,
            "grid_area": null,
            "grid_auto_columns": null,
            "grid_auto_flow": null,
            "grid_auto_rows": null,
            "grid_column": null,
            "grid_gap": null,
            "grid_row": null,
            "grid_template_areas": null,
            "grid_template_columns": null,
            "grid_template_rows": null,
            "height": null,
            "justify_content": null,
            "justify_items": null,
            "left": null,
            "margin": null,
            "max_height": null,
            "max_width": null,
            "min_height": null,
            "min_width": null,
            "object_fit": null,
            "object_position": null,
            "order": null,
            "overflow": null,
            "overflow_x": null,
            "overflow_y": null,
            "padding": null,
            "right": null,
            "top": null,
            "visibility": null,
            "width": null
          }
        },
        "debc15cd86fe409c8cde105a96a1112f": {
          "model_module": "@jupyter-widgets/controls",
          "model_name": "DescriptionStyleModel",
          "model_module_version": "1.5.0",
          "state": {
            "_model_module": "@jupyter-widgets/controls",
            "_model_module_version": "1.5.0",
            "_model_name": "DescriptionStyleModel",
            "_view_count": null,
            "_view_module": "@jupyter-widgets/base",
            "_view_module_version": "1.2.0",
            "_view_name": "StyleView",
            "description_width": ""
          }
        },
        "54248f8a86c147cebb75f0262816d51c": {
          "model_module": "@jupyter-widgets/controls",
          "model_name": "HBoxModel",
          "model_module_version": "1.5.0",
          "state": {
            "_dom_classes": [],
            "_model_module": "@jupyter-widgets/controls",
            "_model_module_version": "1.5.0",
            "_model_name": "HBoxModel",
            "_view_count": null,
            "_view_module": "@jupyter-widgets/controls",
            "_view_module_version": "1.5.0",
            "_view_name": "HBoxView",
            "box_style": "",
            "children": [
              "IPY_MODEL_d8c99b4894de4f3c830db663d16fb228",
              "IPY_MODEL_71a66f5ce13d47f4879907d491539fbe",
              "IPY_MODEL_2fdc19be11674d59b8477d97f39fec5e"
            ],
            "layout": "IPY_MODEL_441afda7b241486cad0506fb065e44ed"
          }
        },
        "d8c99b4894de4f3c830db663d16fb228": {
          "model_module": "@jupyter-widgets/controls",
          "model_name": "HTMLModel",
          "model_module_version": "1.5.0",
          "state": {
            "_dom_classes": [],
            "_model_module": "@jupyter-widgets/controls",
            "_model_module_version": "1.5.0",
            "_model_name": "HTMLModel",
            "_view_count": null,
            "_view_module": "@jupyter-widgets/controls",
            "_view_module_version": "1.5.0",
            "_view_name": "HTMLView",
            "description": "",
            "description_tooltip": null,
            "layout": "IPY_MODEL_a81e6c15ce9a45ceab77973c14708084",
            "placeholder": "​",
            "style": "IPY_MODEL_a84c3efcf22a4356b231def3a1bc7710",
            "value": "README.md: 100%"
          }
        },
        "71a66f5ce13d47f4879907d491539fbe": {
          "model_module": "@jupyter-widgets/controls",
          "model_name": "FloatProgressModel",
          "model_module_version": "1.5.0",
          "state": {
            "_dom_classes": [],
            "_model_module": "@jupyter-widgets/controls",
            "_model_module_version": "1.5.0",
            "_model_name": "FloatProgressModel",
            "_view_count": null,
            "_view_module": "@jupyter-widgets/controls",
            "_view_module_version": "1.5.0",
            "_view_name": "ProgressView",
            "bar_style": "success",
            "description": "",
            "description_tooltip": null,
            "layout": "IPY_MODEL_50b0e13a18d8479fa64a90a8a3a4b9ab",
            "max": 90272,
            "min": 0,
            "orientation": "horizontal",
            "style": "IPY_MODEL_dbbf97ce6c6846c283d44df6f1fa3f04",
            "value": 90272
          }
        },
        "2fdc19be11674d59b8477d97f39fec5e": {
          "model_module": "@jupyter-widgets/controls",
          "model_name": "HTMLModel",
          "model_module_version": "1.5.0",
          "state": {
            "_dom_classes": [],
            "_model_module": "@jupyter-widgets/controls",
            "_model_module_version": "1.5.0",
            "_model_name": "HTMLModel",
            "_view_count": null,
            "_view_module": "@jupyter-widgets/controls",
            "_view_module_version": "1.5.0",
            "_view_name": "HTMLView",
            "description": "",
            "description_tooltip": null,
            "layout": "IPY_MODEL_c67743740e5143969c4d4d524342f5f0",
            "placeholder": "​",
            "style": "IPY_MODEL_0538f40920fd446aac89561a01a3c6b5",
            "value": " 90.3k/90.3k [00:00&lt;00:00, 5.40MB/s]"
          }
        },
        "441afda7b241486cad0506fb065e44ed": {
          "model_module": "@jupyter-widgets/base",
          "model_name": "LayoutModel",
          "model_module_version": "1.2.0",
          "state": {
            "_model_module": "@jupyter-widgets/base",
            "_model_module_version": "1.2.0",
            "_model_name": "LayoutModel",
            "_view_count": null,
            "_view_module": "@jupyter-widgets/base",
            "_view_module_version": "1.2.0",
            "_view_name": "LayoutView",
            "align_content": null,
            "align_items": null,
            "align_self": null,
            "border": null,
            "bottom": null,
            "display": null,
            "flex": null,
            "flex_flow": null,
            "grid_area": null,
            "grid_auto_columns": null,
            "grid_auto_flow": null,
            "grid_auto_rows": null,
            "grid_column": null,
            "grid_gap": null,
            "grid_row": null,
            "grid_template_areas": null,
            "grid_template_columns": null,
            "grid_template_rows": null,
            "height": null,
            "justify_content": null,
            "justify_items": null,
            "left": null,
            "margin": null,
            "max_height": null,
            "max_width": null,
            "min_height": null,
            "min_width": null,
            "object_fit": null,
            "object_position": null,
            "order": null,
            "overflow": null,
            "overflow_x": null,
            "overflow_y": null,
            "padding": null,
            "right": null,
            "top": null,
            "visibility": null,
            "width": null
          }
        },
        "a81e6c15ce9a45ceab77973c14708084": {
          "model_module": "@jupyter-widgets/base",
          "model_name": "LayoutModel",
          "model_module_version": "1.2.0",
          "state": {
            "_model_module": "@jupyter-widgets/base",
            "_model_module_version": "1.2.0",
            "_model_name": "LayoutModel",
            "_view_count": null,
            "_view_module": "@jupyter-widgets/base",
            "_view_module_version": "1.2.0",
            "_view_name": "LayoutView",
            "align_content": null,
            "align_items": null,
            "align_self": null,
            "border": null,
            "bottom": null,
            "display": null,
            "flex": null,
            "flex_flow": null,
            "grid_area": null,
            "grid_auto_columns": null,
            "grid_auto_flow": null,
            "grid_auto_rows": null,
            "grid_column": null,
            "grid_gap": null,
            "grid_row": null,
            "grid_template_areas": null,
            "grid_template_columns": null,
            "grid_template_rows": null,
            "height": null,
            "justify_content": null,
            "justify_items": null,
            "left": null,
            "margin": null,
            "max_height": null,
            "max_width": null,
            "min_height": null,
            "min_width": null,
            "object_fit": null,
            "object_position": null,
            "order": null,
            "overflow": null,
            "overflow_x": null,
            "overflow_y": null,
            "padding": null,
            "right": null,
            "top": null,
            "visibility": null,
            "width": null
          }
        },
        "a84c3efcf22a4356b231def3a1bc7710": {
          "model_module": "@jupyter-widgets/controls",
          "model_name": "DescriptionStyleModel",
          "model_module_version": "1.5.0",
          "state": {
            "_model_module": "@jupyter-widgets/controls",
            "_model_module_version": "1.5.0",
            "_model_name": "DescriptionStyleModel",
            "_view_count": null,
            "_view_module": "@jupyter-widgets/base",
            "_view_module_version": "1.2.0",
            "_view_name": "StyleView",
            "description_width": ""
          }
        },
        "50b0e13a18d8479fa64a90a8a3a4b9ab": {
          "model_module": "@jupyter-widgets/base",
          "model_name": "LayoutModel",
          "model_module_version": "1.2.0",
          "state": {
            "_model_module": "@jupyter-widgets/base",
            "_model_module_version": "1.2.0",
            "_model_name": "LayoutModel",
            "_view_count": null,
            "_view_module": "@jupyter-widgets/base",
            "_view_module_version": "1.2.0",
            "_view_name": "LayoutView",
            "align_content": null,
            "align_items": null,
            "align_self": null,
            "border": null,
            "bottom": null,
            "display": null,
            "flex": null,
            "flex_flow": null,
            "grid_area": null,
            "grid_auto_columns": null,
            "grid_auto_flow": null,
            "grid_auto_rows": null,
            "grid_column": null,
            "grid_gap": null,
            "grid_row": null,
            "grid_template_areas": null,
            "grid_template_columns": null,
            "grid_template_rows": null,
            "height": null,
            "justify_content": null,
            "justify_items": null,
            "left": null,
            "margin": null,
            "max_height": null,
            "max_width": null,
            "min_height": null,
            "min_width": null,
            "object_fit": null,
            "object_position": null,
            "order": null,
            "overflow": null,
            "overflow_x": null,
            "overflow_y": null,
            "padding": null,
            "right": null,
            "top": null,
            "visibility": null,
            "width": null
          }
        },
        "dbbf97ce6c6846c283d44df6f1fa3f04": {
          "model_module": "@jupyter-widgets/controls",
          "model_name": "ProgressStyleModel",
          "model_module_version": "1.5.0",
          "state": {
            "_model_module": "@jupyter-widgets/controls",
            "_model_module_version": "1.5.0",
            "_model_name": "ProgressStyleModel",
            "_view_count": null,
            "_view_module": "@jupyter-widgets/base",
            "_view_module_version": "1.2.0",
            "_view_name": "StyleView",
            "bar_color": null,
            "description_width": ""
          }
        },
        "c67743740e5143969c4d4d524342f5f0": {
          "model_module": "@jupyter-widgets/base",
          "model_name": "LayoutModel",
          "model_module_version": "1.2.0",
          "state": {
            "_model_module": "@jupyter-widgets/base",
            "_model_module_version": "1.2.0",
            "_model_name": "LayoutModel",
            "_view_count": null,
            "_view_module": "@jupyter-widgets/base",
            "_view_module_version": "1.2.0",
            "_view_name": "LayoutView",
            "align_content": null,
            "align_items": null,
            "align_self": null,
            "border": null,
            "bottom": null,
            "display": null,
            "flex": null,
            "flex_flow": null,
            "grid_area": null,
            "grid_auto_columns": null,
            "grid_auto_flow": null,
            "grid_auto_rows": null,
            "grid_column": null,
            "grid_gap": null,
            "grid_row": null,
            "grid_template_areas": null,
            "grid_template_columns": null,
            "grid_template_rows": null,
            "height": null,
            "justify_content": null,
            "justify_items": null,
            "left": null,
            "margin": null,
            "max_height": null,
            "max_width": null,
            "min_height": null,
            "min_width": null,
            "object_fit": null,
            "object_position": null,
            "order": null,
            "overflow": null,
            "overflow_x": null,
            "overflow_y": null,
            "padding": null,
            "right": null,
            "top": null,
            "visibility": null,
            "width": null
          }
        },
        "0538f40920fd446aac89561a01a3c6b5": {
          "model_module": "@jupyter-widgets/controls",
          "model_name": "DescriptionStyleModel",
          "model_module_version": "1.5.0",
          "state": {
            "_model_module": "@jupyter-widgets/controls",
            "_model_module_version": "1.5.0",
            "_model_name": "DescriptionStyleModel",
            "_view_count": null,
            "_view_module": "@jupyter-widgets/base",
            "_view_module_version": "1.2.0",
            "_view_name": "StyleView",
            "description_width": ""
          }
        },
        "509104620c894f4f80c7f84243ff9152": {
          "model_module": "@jupyter-widgets/controls",
          "model_name": "HBoxModel",
          "model_module_version": "1.5.0",
          "state": {
            "_dom_classes": [],
            "_model_module": "@jupyter-widgets/controls",
            "_model_module_version": "1.5.0",
            "_model_name": "HBoxModel",
            "_view_count": null,
            "_view_module": "@jupyter-widgets/controls",
            "_view_module_version": "1.5.0",
            "_view_name": "HBoxView",
            "box_style": "",
            "children": [
              "IPY_MODEL_a521ff5e564646c9b8ac34814ae53dcd",
              "IPY_MODEL_ee8bcab27ade4acab0c03546ab237200",
              "IPY_MODEL_7bd03deaf8b343c1b508be797fd14af6"
            ],
            "layout": "IPY_MODEL_5849799d43b543d8930b5bc05a245ea5"
          }
        },
        "a521ff5e564646c9b8ac34814ae53dcd": {
          "model_module": "@jupyter-widgets/controls",
          "model_name": "HTMLModel",
          "model_module_version": "1.5.0",
          "state": {
            "_dom_classes": [],
            "_model_module": "@jupyter-widgets/controls",
            "_model_module_version": "1.5.0",
            "_model_name": "HTMLModel",
            "_view_count": null,
            "_view_module": "@jupyter-widgets/controls",
            "_view_module_version": "1.5.0",
            "_view_name": "HTMLView",
            "description": "",
            "description_tooltip": null,
            "layout": "IPY_MODEL_d83d126d381f4a89a562e5ea28d783ba",
            "placeholder": "​",
            "style": "IPY_MODEL_65efd4a37d414932b192338c9595561f",
            "value": "sentence_bert_config.json: 100%"
          }
        },
        "ee8bcab27ade4acab0c03546ab237200": {
          "model_module": "@jupyter-widgets/controls",
          "model_name": "FloatProgressModel",
          "model_module_version": "1.5.0",
          "state": {
            "_dom_classes": [],
            "_model_module": "@jupyter-widgets/controls",
            "_model_module_version": "1.5.0",
            "_model_name": "FloatProgressModel",
            "_view_count": null,
            "_view_module": "@jupyter-widgets/controls",
            "_view_module_version": "1.5.0",
            "_view_name": "ProgressView",
            "bar_style": "success",
            "description": "",
            "description_tooltip": null,
            "layout": "IPY_MODEL_58d43f49303b4ca5b0e343ac1b4732aa",
            "max": 52,
            "min": 0,
            "orientation": "horizontal",
            "style": "IPY_MODEL_9b153582215b4c60bcd97958dbfccc29",
            "value": 52
          }
        },
        "7bd03deaf8b343c1b508be797fd14af6": {
          "model_module": "@jupyter-widgets/controls",
          "model_name": "HTMLModel",
          "model_module_version": "1.5.0",
          "state": {
            "_dom_classes": [],
            "_model_module": "@jupyter-widgets/controls",
            "_model_module_version": "1.5.0",
            "_model_name": "HTMLModel",
            "_view_count": null,
            "_view_module": "@jupyter-widgets/controls",
            "_view_module_version": "1.5.0",
            "_view_name": "HTMLView",
            "description": "",
            "description_tooltip": null,
            "layout": "IPY_MODEL_6bd09b28d9a1400f856c392921a776ad",
            "placeholder": "​",
            "style": "IPY_MODEL_f70ecf632467417cb9653c60318d1ba1",
            "value": " 52.0/52.0 [00:00&lt;00:00, 4.35kB/s]"
          }
        },
        "5849799d43b543d8930b5bc05a245ea5": {
          "model_module": "@jupyter-widgets/base",
          "model_name": "LayoutModel",
          "model_module_version": "1.2.0",
          "state": {
            "_model_module": "@jupyter-widgets/base",
            "_model_module_version": "1.2.0",
            "_model_name": "LayoutModel",
            "_view_count": null,
            "_view_module": "@jupyter-widgets/base",
            "_view_module_version": "1.2.0",
            "_view_name": "LayoutView",
            "align_content": null,
            "align_items": null,
            "align_self": null,
            "border": null,
            "bottom": null,
            "display": null,
            "flex": null,
            "flex_flow": null,
            "grid_area": null,
            "grid_auto_columns": null,
            "grid_auto_flow": null,
            "grid_auto_rows": null,
            "grid_column": null,
            "grid_gap": null,
            "grid_row": null,
            "grid_template_areas": null,
            "grid_template_columns": null,
            "grid_template_rows": null,
            "height": null,
            "justify_content": null,
            "justify_items": null,
            "left": null,
            "margin": null,
            "max_height": null,
            "max_width": null,
            "min_height": null,
            "min_width": null,
            "object_fit": null,
            "object_position": null,
            "order": null,
            "overflow": null,
            "overflow_x": null,
            "overflow_y": null,
            "padding": null,
            "right": null,
            "top": null,
            "visibility": null,
            "width": null
          }
        },
        "d83d126d381f4a89a562e5ea28d783ba": {
          "model_module": "@jupyter-widgets/base",
          "model_name": "LayoutModel",
          "model_module_version": "1.2.0",
          "state": {
            "_model_module": "@jupyter-widgets/base",
            "_model_module_version": "1.2.0",
            "_model_name": "LayoutModel",
            "_view_count": null,
            "_view_module": "@jupyter-widgets/base",
            "_view_module_version": "1.2.0",
            "_view_name": "LayoutView",
            "align_content": null,
            "align_items": null,
            "align_self": null,
            "border": null,
            "bottom": null,
            "display": null,
            "flex": null,
            "flex_flow": null,
            "grid_area": null,
            "grid_auto_columns": null,
            "grid_auto_flow": null,
            "grid_auto_rows": null,
            "grid_column": null,
            "grid_gap": null,
            "grid_row": null,
            "grid_template_areas": null,
            "grid_template_columns": null,
            "grid_template_rows": null,
            "height": null,
            "justify_content": null,
            "justify_items": null,
            "left": null,
            "margin": null,
            "max_height": null,
            "max_width": null,
            "min_height": null,
            "min_width": null,
            "object_fit": null,
            "object_position": null,
            "order": null,
            "overflow": null,
            "overflow_x": null,
            "overflow_y": null,
            "padding": null,
            "right": null,
            "top": null,
            "visibility": null,
            "width": null
          }
        },
        "65efd4a37d414932b192338c9595561f": {
          "model_module": "@jupyter-widgets/controls",
          "model_name": "DescriptionStyleModel",
          "model_module_version": "1.5.0",
          "state": {
            "_model_module": "@jupyter-widgets/controls",
            "_model_module_version": "1.5.0",
            "_model_name": "DescriptionStyleModel",
            "_view_count": null,
            "_view_module": "@jupyter-widgets/base",
            "_view_module_version": "1.2.0",
            "_view_name": "StyleView",
            "description_width": ""
          }
        },
        "58d43f49303b4ca5b0e343ac1b4732aa": {
          "model_module": "@jupyter-widgets/base",
          "model_name": "LayoutModel",
          "model_module_version": "1.2.0",
          "state": {
            "_model_module": "@jupyter-widgets/base",
            "_model_module_version": "1.2.0",
            "_model_name": "LayoutModel",
            "_view_count": null,
            "_view_module": "@jupyter-widgets/base",
            "_view_module_version": "1.2.0",
            "_view_name": "LayoutView",
            "align_content": null,
            "align_items": null,
            "align_self": null,
            "border": null,
            "bottom": null,
            "display": null,
            "flex": null,
            "flex_flow": null,
            "grid_area": null,
            "grid_auto_columns": null,
            "grid_auto_flow": null,
            "grid_auto_rows": null,
            "grid_column": null,
            "grid_gap": null,
            "grid_row": null,
            "grid_template_areas": null,
            "grid_template_columns": null,
            "grid_template_rows": null,
            "height": null,
            "justify_content": null,
            "justify_items": null,
            "left": null,
            "margin": null,
            "max_height": null,
            "max_width": null,
            "min_height": null,
            "min_width": null,
            "object_fit": null,
            "object_position": null,
            "order": null,
            "overflow": null,
            "overflow_x": null,
            "overflow_y": null,
            "padding": null,
            "right": null,
            "top": null,
            "visibility": null,
            "width": null
          }
        },
        "9b153582215b4c60bcd97958dbfccc29": {
          "model_module": "@jupyter-widgets/controls",
          "model_name": "ProgressStyleModel",
          "model_module_version": "1.5.0",
          "state": {
            "_model_module": "@jupyter-widgets/controls",
            "_model_module_version": "1.5.0",
            "_model_name": "ProgressStyleModel",
            "_view_count": null,
            "_view_module": "@jupyter-widgets/base",
            "_view_module_version": "1.2.0",
            "_view_name": "StyleView",
            "bar_color": null,
            "description_width": ""
          }
        },
        "6bd09b28d9a1400f856c392921a776ad": {
          "model_module": "@jupyter-widgets/base",
          "model_name": "LayoutModel",
          "model_module_version": "1.2.0",
          "state": {
            "_model_module": "@jupyter-widgets/base",
            "_model_module_version": "1.2.0",
            "_model_name": "LayoutModel",
            "_view_count": null,
            "_view_module": "@jupyter-widgets/base",
            "_view_module_version": "1.2.0",
            "_view_name": "LayoutView",
            "align_content": null,
            "align_items": null,
            "align_self": null,
            "border": null,
            "bottom": null,
            "display": null,
            "flex": null,
            "flex_flow": null,
            "grid_area": null,
            "grid_auto_columns": null,
            "grid_auto_flow": null,
            "grid_auto_rows": null,
            "grid_column": null,
            "grid_gap": null,
            "grid_row": null,
            "grid_template_areas": null,
            "grid_template_columns": null,
            "grid_template_rows": null,
            "height": null,
            "justify_content": null,
            "justify_items": null,
            "left": null,
            "margin": null,
            "max_height": null,
            "max_width": null,
            "min_height": null,
            "min_width": null,
            "object_fit": null,
            "object_position": null,
            "order": null,
            "overflow": null,
            "overflow_x": null,
            "overflow_y": null,
            "padding": null,
            "right": null,
            "top": null,
            "visibility": null,
            "width": null
          }
        },
        "f70ecf632467417cb9653c60318d1ba1": {
          "model_module": "@jupyter-widgets/controls",
          "model_name": "DescriptionStyleModel",
          "model_module_version": "1.5.0",
          "state": {
            "_model_module": "@jupyter-widgets/controls",
            "_model_module_version": "1.5.0",
            "_model_name": "DescriptionStyleModel",
            "_view_count": null,
            "_view_module": "@jupyter-widgets/base",
            "_view_module_version": "1.2.0",
            "_view_name": "StyleView",
            "description_width": ""
          }
        },
        "d2e63a4d8d584612b78caa717db07235": {
          "model_module": "@jupyter-widgets/controls",
          "model_name": "HBoxModel",
          "model_module_version": "1.5.0",
          "state": {
            "_dom_classes": [],
            "_model_module": "@jupyter-widgets/controls",
            "_model_module_version": "1.5.0",
            "_model_name": "HBoxModel",
            "_view_count": null,
            "_view_module": "@jupyter-widgets/controls",
            "_view_module_version": "1.5.0",
            "_view_name": "HBoxView",
            "box_style": "",
            "children": [
              "IPY_MODEL_2f3109893c9643538880ebfb06aa2eb9",
              "IPY_MODEL_f3b4347ab0404edc99718ec597103493",
              "IPY_MODEL_81469b68874b41b79d98dacebf2a1f4d"
            ],
            "layout": "IPY_MODEL_23499f4ef46248eb927958859878c751"
          }
        },
        "2f3109893c9643538880ebfb06aa2eb9": {
          "model_module": "@jupyter-widgets/controls",
          "model_name": "HTMLModel",
          "model_module_version": "1.5.0",
          "state": {
            "_dom_classes": [],
            "_model_module": "@jupyter-widgets/controls",
            "_model_module_version": "1.5.0",
            "_model_name": "HTMLModel",
            "_view_count": null,
            "_view_module": "@jupyter-widgets/controls",
            "_view_module_version": "1.5.0",
            "_view_name": "HTMLView",
            "description": "",
            "description_tooltip": null,
            "layout": "IPY_MODEL_d07a85232b4d496c93e9b69b3499087f",
            "placeholder": "​",
            "style": "IPY_MODEL_793afd4731764d50a758c67d3b12a850",
            "value": "config.json: 100%"
          }
        },
        "f3b4347ab0404edc99718ec597103493": {
          "model_module": "@jupyter-widgets/controls",
          "model_name": "FloatProgressModel",
          "model_module_version": "1.5.0",
          "state": {
            "_dom_classes": [],
            "_model_module": "@jupyter-widgets/controls",
            "_model_module_version": "1.5.0",
            "_model_name": "FloatProgressModel",
            "_view_count": null,
            "_view_module": "@jupyter-widgets/controls",
            "_view_module_version": "1.5.0",
            "_view_name": "ProgressView",
            "bar_style": "success",
            "description": "",
            "description_tooltip": null,
            "layout": "IPY_MODEL_e5019d9c4b0c4bf481a70350c03e538b",
            "max": 720,
            "min": 0,
            "orientation": "horizontal",
            "style": "IPY_MODEL_06a8fb0767d54207ac87e5bef62b063e",
            "value": 720
          }
        },
        "81469b68874b41b79d98dacebf2a1f4d": {
          "model_module": "@jupyter-widgets/controls",
          "model_name": "HTMLModel",
          "model_module_version": "1.5.0",
          "state": {
            "_dom_classes": [],
            "_model_module": "@jupyter-widgets/controls",
            "_model_module_version": "1.5.0",
            "_model_name": "HTMLModel",
            "_view_count": null,
            "_view_module": "@jupyter-widgets/controls",
            "_view_module_version": "1.5.0",
            "_view_name": "HTMLView",
            "description": "",
            "description_tooltip": null,
            "layout": "IPY_MODEL_ea11c4dcdc754a95a1f528b8665c42d0",
            "placeholder": "​",
            "style": "IPY_MODEL_acd7fda64f2e47a094ce9560a5079308",
            "value": " 720/720 [00:00&lt;00:00, 53.6kB/s]"
          }
        },
        "23499f4ef46248eb927958859878c751": {
          "model_module": "@jupyter-widgets/base",
          "model_name": "LayoutModel",
          "model_module_version": "1.2.0",
          "state": {
            "_model_module": "@jupyter-widgets/base",
            "_model_module_version": "1.2.0",
            "_model_name": "LayoutModel",
            "_view_count": null,
            "_view_module": "@jupyter-widgets/base",
            "_view_module_version": "1.2.0",
            "_view_name": "LayoutView",
            "align_content": null,
            "align_items": null,
            "align_self": null,
            "border": null,
            "bottom": null,
            "display": null,
            "flex": null,
            "flex_flow": null,
            "grid_area": null,
            "grid_auto_columns": null,
            "grid_auto_flow": null,
            "grid_auto_rows": null,
            "grid_column": null,
            "grid_gap": null,
            "grid_row": null,
            "grid_template_areas": null,
            "grid_template_columns": null,
            "grid_template_rows": null,
            "height": null,
            "justify_content": null,
            "justify_items": null,
            "left": null,
            "margin": null,
            "max_height": null,
            "max_width": null,
            "min_height": null,
            "min_width": null,
            "object_fit": null,
            "object_position": null,
            "order": null,
            "overflow": null,
            "overflow_x": null,
            "overflow_y": null,
            "padding": null,
            "right": null,
            "top": null,
            "visibility": null,
            "width": null
          }
        },
        "d07a85232b4d496c93e9b69b3499087f": {
          "model_module": "@jupyter-widgets/base",
          "model_name": "LayoutModel",
          "model_module_version": "1.2.0",
          "state": {
            "_model_module": "@jupyter-widgets/base",
            "_model_module_version": "1.2.0",
            "_model_name": "LayoutModel",
            "_view_count": null,
            "_view_module": "@jupyter-widgets/base",
            "_view_module_version": "1.2.0",
            "_view_name": "LayoutView",
            "align_content": null,
            "align_items": null,
            "align_self": null,
            "border": null,
            "bottom": null,
            "display": null,
            "flex": null,
            "flex_flow": null,
            "grid_area": null,
            "grid_auto_columns": null,
            "grid_auto_flow": null,
            "grid_auto_rows": null,
            "grid_column": null,
            "grid_gap": null,
            "grid_row": null,
            "grid_template_areas": null,
            "grid_template_columns": null,
            "grid_template_rows": null,
            "height": null,
            "justify_content": null,
            "justify_items": null,
            "left": null,
            "margin": null,
            "max_height": null,
            "max_width": null,
            "min_height": null,
            "min_width": null,
            "object_fit": null,
            "object_position": null,
            "order": null,
            "overflow": null,
            "overflow_x": null,
            "overflow_y": null,
            "padding": null,
            "right": null,
            "top": null,
            "visibility": null,
            "width": null
          }
        },
        "793afd4731764d50a758c67d3b12a850": {
          "model_module": "@jupyter-widgets/controls",
          "model_name": "DescriptionStyleModel",
          "model_module_version": "1.5.0",
          "state": {
            "_model_module": "@jupyter-widgets/controls",
            "_model_module_version": "1.5.0",
            "_model_name": "DescriptionStyleModel",
            "_view_count": null,
            "_view_module": "@jupyter-widgets/base",
            "_view_module_version": "1.2.0",
            "_view_name": "StyleView",
            "description_width": ""
          }
        },
        "e5019d9c4b0c4bf481a70350c03e538b": {
          "model_module": "@jupyter-widgets/base",
          "model_name": "LayoutModel",
          "model_module_version": "1.2.0",
          "state": {
            "_model_module": "@jupyter-widgets/base",
            "_model_module_version": "1.2.0",
            "_model_name": "LayoutModel",
            "_view_count": null,
            "_view_module": "@jupyter-widgets/base",
            "_view_module_version": "1.2.0",
            "_view_name": "LayoutView",
            "align_content": null,
            "align_items": null,
            "align_self": null,
            "border": null,
            "bottom": null,
            "display": null,
            "flex": null,
            "flex_flow": null,
            "grid_area": null,
            "grid_auto_columns": null,
            "grid_auto_flow": null,
            "grid_auto_rows": null,
            "grid_column": null,
            "grid_gap": null,
            "grid_row": null,
            "grid_template_areas": null,
            "grid_template_columns": null,
            "grid_template_rows": null,
            "height": null,
            "justify_content": null,
            "justify_items": null,
            "left": null,
            "margin": null,
            "max_height": null,
            "max_width": null,
            "min_height": null,
            "min_width": null,
            "object_fit": null,
            "object_position": null,
            "order": null,
            "overflow": null,
            "overflow_x": null,
            "overflow_y": null,
            "padding": null,
            "right": null,
            "top": null,
            "visibility": null,
            "width": null
          }
        },
        "06a8fb0767d54207ac87e5bef62b063e": {
          "model_module": "@jupyter-widgets/controls",
          "model_name": "ProgressStyleModel",
          "model_module_version": "1.5.0",
          "state": {
            "_model_module": "@jupyter-widgets/controls",
            "_model_module_version": "1.5.0",
            "_model_name": "ProgressStyleModel",
            "_view_count": null,
            "_view_module": "@jupyter-widgets/base",
            "_view_module_version": "1.2.0",
            "_view_name": "StyleView",
            "bar_color": null,
            "description_width": ""
          }
        },
        "ea11c4dcdc754a95a1f528b8665c42d0": {
          "model_module": "@jupyter-widgets/base",
          "model_name": "LayoutModel",
          "model_module_version": "1.2.0",
          "state": {
            "_model_module": "@jupyter-widgets/base",
            "_model_module_version": "1.2.0",
            "_model_name": "LayoutModel",
            "_view_count": null,
            "_view_module": "@jupyter-widgets/base",
            "_view_module_version": "1.2.0",
            "_view_name": "LayoutView",
            "align_content": null,
            "align_items": null,
            "align_self": null,
            "border": null,
            "bottom": null,
            "display": null,
            "flex": null,
            "flex_flow": null,
            "grid_area": null,
            "grid_auto_columns": null,
            "grid_auto_flow": null,
            "grid_auto_rows": null,
            "grid_column": null,
            "grid_gap": null,
            "grid_row": null,
            "grid_template_areas": null,
            "grid_template_columns": null,
            "grid_template_rows": null,
            "height": null,
            "justify_content": null,
            "justify_items": null,
            "left": null,
            "margin": null,
            "max_height": null,
            "max_width": null,
            "min_height": null,
            "min_width": null,
            "object_fit": null,
            "object_position": null,
            "order": null,
            "overflow": null,
            "overflow_x": null,
            "overflow_y": null,
            "padding": null,
            "right": null,
            "top": null,
            "visibility": null,
            "width": null
          }
        },
        "acd7fda64f2e47a094ce9560a5079308": {
          "model_module": "@jupyter-widgets/controls",
          "model_name": "DescriptionStyleModel",
          "model_module_version": "1.5.0",
          "state": {
            "_model_module": "@jupyter-widgets/controls",
            "_model_module_version": "1.5.0",
            "_model_name": "DescriptionStyleModel",
            "_view_count": null,
            "_view_module": "@jupyter-widgets/base",
            "_view_module_version": "1.2.0",
            "_view_name": "StyleView",
            "description_width": ""
          }
        },
        "6e46762d65e94ef0925b96aa129639ae": {
          "model_module": "@jupyter-widgets/controls",
          "model_name": "HBoxModel",
          "model_module_version": "1.5.0",
          "state": {
            "_dom_classes": [],
            "_model_module": "@jupyter-widgets/controls",
            "_model_module_version": "1.5.0",
            "_model_name": "HBoxModel",
            "_view_count": null,
            "_view_module": "@jupyter-widgets/controls",
            "_view_module_version": "1.5.0",
            "_view_name": "HBoxView",
            "box_style": "",
            "children": [
              "IPY_MODEL_c95b4707352644f5aa274781577f48ce",
              "IPY_MODEL_2d7719073e844b50bae60dd71331f904",
              "IPY_MODEL_177bfd775366441aa601cf1526f9e740"
            ],
            "layout": "IPY_MODEL_4b30fdc572f941d5b20538e863f8f856"
          }
        },
        "c95b4707352644f5aa274781577f48ce": {
          "model_module": "@jupyter-widgets/controls",
          "model_name": "HTMLModel",
          "model_module_version": "1.5.0",
          "state": {
            "_dom_classes": [],
            "_model_module": "@jupyter-widgets/controls",
            "_model_module_version": "1.5.0",
            "_model_name": "HTMLModel",
            "_view_count": null,
            "_view_module": "@jupyter-widgets/controls",
            "_view_module_version": "1.5.0",
            "_view_name": "HTMLView",
            "description": "",
            "description_tooltip": null,
            "layout": "IPY_MODEL_75ec38b9122b4c7a8529d016114debbf",
            "placeholder": "​",
            "style": "IPY_MODEL_4aaf2f029bc9412e897f6095ae406e79",
            "value": "model.safetensors: 100%"
          }
        },
        "2d7719073e844b50bae60dd71331f904": {
          "model_module": "@jupyter-widgets/controls",
          "model_name": "FloatProgressModel",
          "model_module_version": "1.5.0",
          "state": {
            "_dom_classes": [],
            "_model_module": "@jupyter-widgets/controls",
            "_model_module_version": "1.5.0",
            "_model_name": "FloatProgressModel",
            "_view_count": null,
            "_view_module": "@jupyter-widgets/controls",
            "_view_module_version": "1.5.0",
            "_view_name": "ProgressView",
            "bar_style": "success",
            "description": "",
            "description_tooltip": null,
            "layout": "IPY_MODEL_9eb53670d02240df8681566f11f79526",
            "max": 1340616616,
            "min": 0,
            "orientation": "horizontal",
            "style": "IPY_MODEL_9270123298c4404e85b959cc9ef84e5c",
            "value": 1340616616
          }
        },
        "177bfd775366441aa601cf1526f9e740": {
          "model_module": "@jupyter-widgets/controls",
          "model_name": "HTMLModel",
          "model_module_version": "1.5.0",
          "state": {
            "_dom_classes": [],
            "_model_module": "@jupyter-widgets/controls",
            "_model_module_version": "1.5.0",
            "_model_name": "HTMLModel",
            "_view_count": null,
            "_view_module": "@jupyter-widgets/controls",
            "_view_module_version": "1.5.0",
            "_view_name": "HTMLView",
            "description": "",
            "description_tooltip": null,
            "layout": "IPY_MODEL_ade797b6380f4566983c37262da8a53e",
            "placeholder": "​",
            "style": "IPY_MODEL_d7abb7a080474fc3ae484230cb059a6f",
            "value": " 1.34G/1.34G [00:06&lt;00:00, 196MB/s]"
          }
        },
        "4b30fdc572f941d5b20538e863f8f856": {
          "model_module": "@jupyter-widgets/base",
          "model_name": "LayoutModel",
          "model_module_version": "1.2.0",
          "state": {
            "_model_module": "@jupyter-widgets/base",
            "_model_module_version": "1.2.0",
            "_model_name": "LayoutModel",
            "_view_count": null,
            "_view_module": "@jupyter-widgets/base",
            "_view_module_version": "1.2.0",
            "_view_name": "LayoutView",
            "align_content": null,
            "align_items": null,
            "align_self": null,
            "border": null,
            "bottom": null,
            "display": null,
            "flex": null,
            "flex_flow": null,
            "grid_area": null,
            "grid_auto_columns": null,
            "grid_auto_flow": null,
            "grid_auto_rows": null,
            "grid_column": null,
            "grid_gap": null,
            "grid_row": null,
            "grid_template_areas": null,
            "grid_template_columns": null,
            "grid_template_rows": null,
            "height": null,
            "justify_content": null,
            "justify_items": null,
            "left": null,
            "margin": null,
            "max_height": null,
            "max_width": null,
            "min_height": null,
            "min_width": null,
            "object_fit": null,
            "object_position": null,
            "order": null,
            "overflow": null,
            "overflow_x": null,
            "overflow_y": null,
            "padding": null,
            "right": null,
            "top": null,
            "visibility": null,
            "width": null
          }
        },
        "75ec38b9122b4c7a8529d016114debbf": {
          "model_module": "@jupyter-widgets/base",
          "model_name": "LayoutModel",
          "model_module_version": "1.2.0",
          "state": {
            "_model_module": "@jupyter-widgets/base",
            "_model_module_version": "1.2.0",
            "_model_name": "LayoutModel",
            "_view_count": null,
            "_view_module": "@jupyter-widgets/base",
            "_view_module_version": "1.2.0",
            "_view_name": "LayoutView",
            "align_content": null,
            "align_items": null,
            "align_self": null,
            "border": null,
            "bottom": null,
            "display": null,
            "flex": null,
            "flex_flow": null,
            "grid_area": null,
            "grid_auto_columns": null,
            "grid_auto_flow": null,
            "grid_auto_rows": null,
            "grid_column": null,
            "grid_gap": null,
            "grid_row": null,
            "grid_template_areas": null,
            "grid_template_columns": null,
            "grid_template_rows": null,
            "height": null,
            "justify_content": null,
            "justify_items": null,
            "left": null,
            "margin": null,
            "max_height": null,
            "max_width": null,
            "min_height": null,
            "min_width": null,
            "object_fit": null,
            "object_position": null,
            "order": null,
            "overflow": null,
            "overflow_x": null,
            "overflow_y": null,
            "padding": null,
            "right": null,
            "top": null,
            "visibility": null,
            "width": null
          }
        },
        "4aaf2f029bc9412e897f6095ae406e79": {
          "model_module": "@jupyter-widgets/controls",
          "model_name": "DescriptionStyleModel",
          "model_module_version": "1.5.0",
          "state": {
            "_model_module": "@jupyter-widgets/controls",
            "_model_module_version": "1.5.0",
            "_model_name": "DescriptionStyleModel",
            "_view_count": null,
            "_view_module": "@jupyter-widgets/base",
            "_view_module_version": "1.2.0",
            "_view_name": "StyleView",
            "description_width": ""
          }
        },
        "9eb53670d02240df8681566f11f79526": {
          "model_module": "@jupyter-widgets/base",
          "model_name": "LayoutModel",
          "model_module_version": "1.2.0",
          "state": {
            "_model_module": "@jupyter-widgets/base",
            "_model_module_version": "1.2.0",
            "_model_name": "LayoutModel",
            "_view_count": null,
            "_view_module": "@jupyter-widgets/base",
            "_view_module_version": "1.2.0",
            "_view_name": "LayoutView",
            "align_content": null,
            "align_items": null,
            "align_self": null,
            "border": null,
            "bottom": null,
            "display": null,
            "flex": null,
            "flex_flow": null,
            "grid_area": null,
            "grid_auto_columns": null,
            "grid_auto_flow": null,
            "grid_auto_rows": null,
            "grid_column": null,
            "grid_gap": null,
            "grid_row": null,
            "grid_template_areas": null,
            "grid_template_columns": null,
            "grid_template_rows": null,
            "height": null,
            "justify_content": null,
            "justify_items": null,
            "left": null,
            "margin": null,
            "max_height": null,
            "max_width": null,
            "min_height": null,
            "min_width": null,
            "object_fit": null,
            "object_position": null,
            "order": null,
            "overflow": null,
            "overflow_x": null,
            "overflow_y": null,
            "padding": null,
            "right": null,
            "top": null,
            "visibility": null,
            "width": null
          }
        },
        "9270123298c4404e85b959cc9ef84e5c": {
          "model_module": "@jupyter-widgets/controls",
          "model_name": "ProgressStyleModel",
          "model_module_version": "1.5.0",
          "state": {
            "_model_module": "@jupyter-widgets/controls",
            "_model_module_version": "1.5.0",
            "_model_name": "ProgressStyleModel",
            "_view_count": null,
            "_view_module": "@jupyter-widgets/base",
            "_view_module_version": "1.2.0",
            "_view_name": "StyleView",
            "bar_color": null,
            "description_width": ""
          }
        },
        "ade797b6380f4566983c37262da8a53e": {
          "model_module": "@jupyter-widgets/base",
          "model_name": "LayoutModel",
          "model_module_version": "1.2.0",
          "state": {
            "_model_module": "@jupyter-widgets/base",
            "_model_module_version": "1.2.0",
            "_model_name": "LayoutModel",
            "_view_count": null,
            "_view_module": "@jupyter-widgets/base",
            "_view_module_version": "1.2.0",
            "_view_name": "LayoutView",
            "align_content": null,
            "align_items": null,
            "align_self": null,
            "border": null,
            "bottom": null,
            "display": null,
            "flex": null,
            "flex_flow": null,
            "grid_area": null,
            "grid_auto_columns": null,
            "grid_auto_flow": null,
            "grid_auto_rows": null,
            "grid_column": null,
            "grid_gap": null,
            "grid_row": null,
            "grid_template_areas": null,
            "grid_template_columns": null,
            "grid_template_rows": null,
            "height": null,
            "justify_content": null,
            "justify_items": null,
            "left": null,
            "margin": null,
            "max_height": null,
            "max_width": null,
            "min_height": null,
            "min_width": null,
            "object_fit": null,
            "object_position": null,
            "order": null,
            "overflow": null,
            "overflow_x": null,
            "overflow_y": null,
            "padding": null,
            "right": null,
            "top": null,
            "visibility": null,
            "width": null
          }
        },
        "d7abb7a080474fc3ae484230cb059a6f": {
          "model_module": "@jupyter-widgets/controls",
          "model_name": "DescriptionStyleModel",
          "model_module_version": "1.5.0",
          "state": {
            "_model_module": "@jupyter-widgets/controls",
            "_model_module_version": "1.5.0",
            "_model_name": "DescriptionStyleModel",
            "_view_count": null,
            "_view_module": "@jupyter-widgets/base",
            "_view_module_version": "1.2.0",
            "_view_name": "StyleView",
            "description_width": ""
          }
        },
        "aadd9c90c3a94a36a2e26bb787d3aa0f": {
          "model_module": "@jupyter-widgets/controls",
          "model_name": "HBoxModel",
          "model_module_version": "1.5.0",
          "state": {
            "_dom_classes": [],
            "_model_module": "@jupyter-widgets/controls",
            "_model_module_version": "1.5.0",
            "_model_name": "HBoxModel",
            "_view_count": null,
            "_view_module": "@jupyter-widgets/controls",
            "_view_module_version": "1.5.0",
            "_view_name": "HBoxView",
            "box_style": "",
            "children": [
              "IPY_MODEL_8fa6769843c04b7c805b318c13b5afa7",
              "IPY_MODEL_28dbd87332f3467da520e147f0eeb630",
              "IPY_MODEL_0c0a38a0b42b4578ba06d31cab6e3703"
            ],
            "layout": "IPY_MODEL_5a0a0680053645b687cf57d453391134"
          }
        },
        "8fa6769843c04b7c805b318c13b5afa7": {
          "model_module": "@jupyter-widgets/controls",
          "model_name": "HTMLModel",
          "model_module_version": "1.5.0",
          "state": {
            "_dom_classes": [],
            "_model_module": "@jupyter-widgets/controls",
            "_model_module_version": "1.5.0",
            "_model_name": "HTMLModel",
            "_view_count": null,
            "_view_module": "@jupyter-widgets/controls",
            "_view_module_version": "1.5.0",
            "_view_name": "HTMLView",
            "description": "",
            "description_tooltip": null,
            "layout": "IPY_MODEL_05d2a7667a12485a8092fedfb117724e",
            "placeholder": "​",
            "style": "IPY_MODEL_cbacae7bb44e401a840f07dfcf86b65d",
            "value": "tokenizer_config.json: 100%"
          }
        },
        "28dbd87332f3467da520e147f0eeb630": {
          "model_module": "@jupyter-widgets/controls",
          "model_name": "FloatProgressModel",
          "model_module_version": "1.5.0",
          "state": {
            "_dom_classes": [],
            "_model_module": "@jupyter-widgets/controls",
            "_model_module_version": "1.5.0",
            "_model_name": "FloatProgressModel",
            "_view_count": null,
            "_view_module": "@jupyter-widgets/controls",
            "_view_module_version": "1.5.0",
            "_view_name": "ProgressView",
            "bar_style": "success",
            "description": "",
            "description_tooltip": null,
            "layout": "IPY_MODEL_a6826cc9ea544ae69aa8d1b34914bf49",
            "max": 366,
            "min": 0,
            "orientation": "horizontal",
            "style": "IPY_MODEL_90ae95ee29834f998d975812d8452caf",
            "value": 366
          }
        },
        "0c0a38a0b42b4578ba06d31cab6e3703": {
          "model_module": "@jupyter-widgets/controls",
          "model_name": "HTMLModel",
          "model_module_version": "1.5.0",
          "state": {
            "_dom_classes": [],
            "_model_module": "@jupyter-widgets/controls",
            "_model_module_version": "1.5.0",
            "_model_name": "HTMLModel",
            "_view_count": null,
            "_view_module": "@jupyter-widgets/controls",
            "_view_module_version": "1.5.0",
            "_view_name": "HTMLView",
            "description": "",
            "description_tooltip": null,
            "layout": "IPY_MODEL_f73b66766f8e4c7587c07c803e4082ab",
            "placeholder": "​",
            "style": "IPY_MODEL_881b7173c32a4e8f8b21ad8bb4826bb0",
            "value": " 366/366 [00:00&lt;00:00, 27.1kB/s]"
          }
        },
        "5a0a0680053645b687cf57d453391134": {
          "model_module": "@jupyter-widgets/base",
          "model_name": "LayoutModel",
          "model_module_version": "1.2.0",
          "state": {
            "_model_module": "@jupyter-widgets/base",
            "_model_module_version": "1.2.0",
            "_model_name": "LayoutModel",
            "_view_count": null,
            "_view_module": "@jupyter-widgets/base",
            "_view_module_version": "1.2.0",
            "_view_name": "LayoutView",
            "align_content": null,
            "align_items": null,
            "align_self": null,
            "border": null,
            "bottom": null,
            "display": null,
            "flex": null,
            "flex_flow": null,
            "grid_area": null,
            "grid_auto_columns": null,
            "grid_auto_flow": null,
            "grid_auto_rows": null,
            "grid_column": null,
            "grid_gap": null,
            "grid_row": null,
            "grid_template_areas": null,
            "grid_template_columns": null,
            "grid_template_rows": null,
            "height": null,
            "justify_content": null,
            "justify_items": null,
            "left": null,
            "margin": null,
            "max_height": null,
            "max_width": null,
            "min_height": null,
            "min_width": null,
            "object_fit": null,
            "object_position": null,
            "order": null,
            "overflow": null,
            "overflow_x": null,
            "overflow_y": null,
            "padding": null,
            "right": null,
            "top": null,
            "visibility": null,
            "width": null
          }
        },
        "05d2a7667a12485a8092fedfb117724e": {
          "model_module": "@jupyter-widgets/base",
          "model_name": "LayoutModel",
          "model_module_version": "1.2.0",
          "state": {
            "_model_module": "@jupyter-widgets/base",
            "_model_module_version": "1.2.0",
            "_model_name": "LayoutModel",
            "_view_count": null,
            "_view_module": "@jupyter-widgets/base",
            "_view_module_version": "1.2.0",
            "_view_name": "LayoutView",
            "align_content": null,
            "align_items": null,
            "align_self": null,
            "border": null,
            "bottom": null,
            "display": null,
            "flex": null,
            "flex_flow": null,
            "grid_area": null,
            "grid_auto_columns": null,
            "grid_auto_flow": null,
            "grid_auto_rows": null,
            "grid_column": null,
            "grid_gap": null,
            "grid_row": null,
            "grid_template_areas": null,
            "grid_template_columns": null,
            "grid_template_rows": null,
            "height": null,
            "justify_content": null,
            "justify_items": null,
            "left": null,
            "margin": null,
            "max_height": null,
            "max_width": null,
            "min_height": null,
            "min_width": null,
            "object_fit": null,
            "object_position": null,
            "order": null,
            "overflow": null,
            "overflow_x": null,
            "overflow_y": null,
            "padding": null,
            "right": null,
            "top": null,
            "visibility": null,
            "width": null
          }
        },
        "cbacae7bb44e401a840f07dfcf86b65d": {
          "model_module": "@jupyter-widgets/controls",
          "model_name": "DescriptionStyleModel",
          "model_module_version": "1.5.0",
          "state": {
            "_model_module": "@jupyter-widgets/controls",
            "_model_module_version": "1.5.0",
            "_model_name": "DescriptionStyleModel",
            "_view_count": null,
            "_view_module": "@jupyter-widgets/base",
            "_view_module_version": "1.2.0",
            "_view_name": "StyleView",
            "description_width": ""
          }
        },
        "a6826cc9ea544ae69aa8d1b34914bf49": {
          "model_module": "@jupyter-widgets/base",
          "model_name": "LayoutModel",
          "model_module_version": "1.2.0",
          "state": {
            "_model_module": "@jupyter-widgets/base",
            "_model_module_version": "1.2.0",
            "_model_name": "LayoutModel",
            "_view_count": null,
            "_view_module": "@jupyter-widgets/base",
            "_view_module_version": "1.2.0",
            "_view_name": "LayoutView",
            "align_content": null,
            "align_items": null,
            "align_self": null,
            "border": null,
            "bottom": null,
            "display": null,
            "flex": null,
            "flex_flow": null,
            "grid_area": null,
            "grid_auto_columns": null,
            "grid_auto_flow": null,
            "grid_auto_rows": null,
            "grid_column": null,
            "grid_gap": null,
            "grid_row": null,
            "grid_template_areas": null,
            "grid_template_columns": null,
            "grid_template_rows": null,
            "height": null,
            "justify_content": null,
            "justify_items": null,
            "left": null,
            "margin": null,
            "max_height": null,
            "max_width": null,
            "min_height": null,
            "min_width": null,
            "object_fit": null,
            "object_position": null,
            "order": null,
            "overflow": null,
            "overflow_x": null,
            "overflow_y": null,
            "padding": null,
            "right": null,
            "top": null,
            "visibility": null,
            "width": null
          }
        },
        "90ae95ee29834f998d975812d8452caf": {
          "model_module": "@jupyter-widgets/controls",
          "model_name": "ProgressStyleModel",
          "model_module_version": "1.5.0",
          "state": {
            "_model_module": "@jupyter-widgets/controls",
            "_model_module_version": "1.5.0",
            "_model_name": "ProgressStyleModel",
            "_view_count": null,
            "_view_module": "@jupyter-widgets/base",
            "_view_module_version": "1.2.0",
            "_view_name": "StyleView",
            "bar_color": null,
            "description_width": ""
          }
        },
        "f73b66766f8e4c7587c07c803e4082ab": {
          "model_module": "@jupyter-widgets/base",
          "model_name": "LayoutModel",
          "model_module_version": "1.2.0",
          "state": {
            "_model_module": "@jupyter-widgets/base",
            "_model_module_version": "1.2.0",
            "_model_name": "LayoutModel",
            "_view_count": null,
            "_view_module": "@jupyter-widgets/base",
            "_view_module_version": "1.2.0",
            "_view_name": "LayoutView",
            "align_content": null,
            "align_items": null,
            "align_self": null,
            "border": null,
            "bottom": null,
            "display": null,
            "flex": null,
            "flex_flow": null,
            "grid_area": null,
            "grid_auto_columns": null,
            "grid_auto_flow": null,
            "grid_auto_rows": null,
            "grid_column": null,
            "grid_gap": null,
            "grid_row": null,
            "grid_template_areas": null,
            "grid_template_columns": null,
            "grid_template_rows": null,
            "height": null,
            "justify_content": null,
            "justify_items": null,
            "left": null,
            "margin": null,
            "max_height": null,
            "max_width": null,
            "min_height": null,
            "min_width": null,
            "object_fit": null,
            "object_position": null,
            "order": null,
            "overflow": null,
            "overflow_x": null,
            "overflow_y": null,
            "padding": null,
            "right": null,
            "top": null,
            "visibility": null,
            "width": null
          }
        },
        "881b7173c32a4e8f8b21ad8bb4826bb0": {
          "model_module": "@jupyter-widgets/controls",
          "model_name": "DescriptionStyleModel",
          "model_module_version": "1.5.0",
          "state": {
            "_model_module": "@jupyter-widgets/controls",
            "_model_module_version": "1.5.0",
            "_model_name": "DescriptionStyleModel",
            "_view_count": null,
            "_view_module": "@jupyter-widgets/base",
            "_view_module_version": "1.2.0",
            "_view_name": "StyleView",
            "description_width": ""
          }
        },
        "cc1e00773082407e9a63c825d26f969b": {
          "model_module": "@jupyter-widgets/controls",
          "model_name": "HBoxModel",
          "model_module_version": "1.5.0",
          "state": {
            "_dom_classes": [],
            "_model_module": "@jupyter-widgets/controls",
            "_model_module_version": "1.5.0",
            "_model_name": "HBoxModel",
            "_view_count": null,
            "_view_module": "@jupyter-widgets/controls",
            "_view_module_version": "1.5.0",
            "_view_name": "HBoxView",
            "box_style": "",
            "children": [
              "IPY_MODEL_6eb24652a1434be390d8ff43800c31aa",
              "IPY_MODEL_bedab7615e1a48d0a31ff7f319fe4ba8",
              "IPY_MODEL_a563266e2d3f4e8b88a35f9d664e4e81"
            ],
            "layout": "IPY_MODEL_32db7f1782c2463abcb15eaaedd954ac"
          }
        },
        "6eb24652a1434be390d8ff43800c31aa": {
          "model_module": "@jupyter-widgets/controls",
          "model_name": "HTMLModel",
          "model_module_version": "1.5.0",
          "state": {
            "_dom_classes": [],
            "_model_module": "@jupyter-widgets/controls",
            "_model_module_version": "1.5.0",
            "_model_name": "HTMLModel",
            "_view_count": null,
            "_view_module": "@jupyter-widgets/controls",
            "_view_module_version": "1.5.0",
            "_view_name": "HTMLView",
            "description": "",
            "description_tooltip": null,
            "layout": "IPY_MODEL_d15f187672a745b48a7402d1d2f4d073",
            "placeholder": "​",
            "style": "IPY_MODEL_aa2345a2609d465ca3b3bc151e3c5b20",
            "value": "vocab.txt: 100%"
          }
        },
        "bedab7615e1a48d0a31ff7f319fe4ba8": {
          "model_module": "@jupyter-widgets/controls",
          "model_name": "FloatProgressModel",
          "model_module_version": "1.5.0",
          "state": {
            "_dom_classes": [],
            "_model_module": "@jupyter-widgets/controls",
            "_model_module_version": "1.5.0",
            "_model_name": "FloatProgressModel",
            "_view_count": null,
            "_view_module": "@jupyter-widgets/controls",
            "_view_module_version": "1.5.0",
            "_view_name": "ProgressView",
            "bar_style": "success",
            "description": "",
            "description_tooltip": null,
            "layout": "IPY_MODEL_4658664257fb4edc98edd3723787c20a",
            "max": 231508,
            "min": 0,
            "orientation": "horizontal",
            "style": "IPY_MODEL_d618371ac5a64ceea8d7d832666045b7",
            "value": 231508
          }
        },
        "a563266e2d3f4e8b88a35f9d664e4e81": {
          "model_module": "@jupyter-widgets/controls",
          "model_name": "HTMLModel",
          "model_module_version": "1.5.0",
          "state": {
            "_dom_classes": [],
            "_model_module": "@jupyter-widgets/controls",
            "_model_module_version": "1.5.0",
            "_model_name": "HTMLModel",
            "_view_count": null,
            "_view_module": "@jupyter-widgets/controls",
            "_view_module_version": "1.5.0",
            "_view_name": "HTMLView",
            "description": "",
            "description_tooltip": null,
            "layout": "IPY_MODEL_fc42c3c5682346c5bc207e5253266e4a",
            "placeholder": "​",
            "style": "IPY_MODEL_09c73660850d4490a6aef145a2164829",
            "value": " 232k/232k [00:00&lt;00:00, 15.7MB/s]"
          }
        },
        "32db7f1782c2463abcb15eaaedd954ac": {
          "model_module": "@jupyter-widgets/base",
          "model_name": "LayoutModel",
          "model_module_version": "1.2.0",
          "state": {
            "_model_module": "@jupyter-widgets/base",
            "_model_module_version": "1.2.0",
            "_model_name": "LayoutModel",
            "_view_count": null,
            "_view_module": "@jupyter-widgets/base",
            "_view_module_version": "1.2.0",
            "_view_name": "LayoutView",
            "align_content": null,
            "align_items": null,
            "align_self": null,
            "border": null,
            "bottom": null,
            "display": null,
            "flex": null,
            "flex_flow": null,
            "grid_area": null,
            "grid_auto_columns": null,
            "grid_auto_flow": null,
            "grid_auto_rows": null,
            "grid_column": null,
            "grid_gap": null,
            "grid_row": null,
            "grid_template_areas": null,
            "grid_template_columns": null,
            "grid_template_rows": null,
            "height": null,
            "justify_content": null,
            "justify_items": null,
            "left": null,
            "margin": null,
            "max_height": null,
            "max_width": null,
            "min_height": null,
            "min_width": null,
            "object_fit": null,
            "object_position": null,
            "order": null,
            "overflow": null,
            "overflow_x": null,
            "overflow_y": null,
            "padding": null,
            "right": null,
            "top": null,
            "visibility": null,
            "width": null
          }
        },
        "d15f187672a745b48a7402d1d2f4d073": {
          "model_module": "@jupyter-widgets/base",
          "model_name": "LayoutModel",
          "model_module_version": "1.2.0",
          "state": {
            "_model_module": "@jupyter-widgets/base",
            "_model_module_version": "1.2.0",
            "_model_name": "LayoutModel",
            "_view_count": null,
            "_view_module": "@jupyter-widgets/base",
            "_view_module_version": "1.2.0",
            "_view_name": "LayoutView",
            "align_content": null,
            "align_items": null,
            "align_self": null,
            "border": null,
            "bottom": null,
            "display": null,
            "flex": null,
            "flex_flow": null,
            "grid_area": null,
            "grid_auto_columns": null,
            "grid_auto_flow": null,
            "grid_auto_rows": null,
            "grid_column": null,
            "grid_gap": null,
            "grid_row": null,
            "grid_template_areas": null,
            "grid_template_columns": null,
            "grid_template_rows": null,
            "height": null,
            "justify_content": null,
            "justify_items": null,
            "left": null,
            "margin": null,
            "max_height": null,
            "max_width": null,
            "min_height": null,
            "min_width": null,
            "object_fit": null,
            "object_position": null,
            "order": null,
            "overflow": null,
            "overflow_x": null,
            "overflow_y": null,
            "padding": null,
            "right": null,
            "top": null,
            "visibility": null,
            "width": null
          }
        },
        "aa2345a2609d465ca3b3bc151e3c5b20": {
          "model_module": "@jupyter-widgets/controls",
          "model_name": "DescriptionStyleModel",
          "model_module_version": "1.5.0",
          "state": {
            "_model_module": "@jupyter-widgets/controls",
            "_model_module_version": "1.5.0",
            "_model_name": "DescriptionStyleModel",
            "_view_count": null,
            "_view_module": "@jupyter-widgets/base",
            "_view_module_version": "1.2.0",
            "_view_name": "StyleView",
            "description_width": ""
          }
        },
        "4658664257fb4edc98edd3723787c20a": {
          "model_module": "@jupyter-widgets/base",
          "model_name": "LayoutModel",
          "model_module_version": "1.2.0",
          "state": {
            "_model_module": "@jupyter-widgets/base",
            "_model_module_version": "1.2.0",
            "_model_name": "LayoutModel",
            "_view_count": null,
            "_view_module": "@jupyter-widgets/base",
            "_view_module_version": "1.2.0",
            "_view_name": "LayoutView",
            "align_content": null,
            "align_items": null,
            "align_self": null,
            "border": null,
            "bottom": null,
            "display": null,
            "flex": null,
            "flex_flow": null,
            "grid_area": null,
            "grid_auto_columns": null,
            "grid_auto_flow": null,
            "grid_auto_rows": null,
            "grid_column": null,
            "grid_gap": null,
            "grid_row": null,
            "grid_template_areas": null,
            "grid_template_columns": null,
            "grid_template_rows": null,
            "height": null,
            "justify_content": null,
            "justify_items": null,
            "left": null,
            "margin": null,
            "max_height": null,
            "max_width": null,
            "min_height": null,
            "min_width": null,
            "object_fit": null,
            "object_position": null,
            "order": null,
            "overflow": null,
            "overflow_x": null,
            "overflow_y": null,
            "padding": null,
            "right": null,
            "top": null,
            "visibility": null,
            "width": null
          }
        },
        "d618371ac5a64ceea8d7d832666045b7": {
          "model_module": "@jupyter-widgets/controls",
          "model_name": "ProgressStyleModel",
          "model_module_version": "1.5.0",
          "state": {
            "_model_module": "@jupyter-widgets/controls",
            "_model_module_version": "1.5.0",
            "_model_name": "ProgressStyleModel",
            "_view_count": null,
            "_view_module": "@jupyter-widgets/base",
            "_view_module_version": "1.2.0",
            "_view_name": "StyleView",
            "bar_color": null,
            "description_width": ""
          }
        },
        "fc42c3c5682346c5bc207e5253266e4a": {
          "model_module": "@jupyter-widgets/base",
          "model_name": "LayoutModel",
          "model_module_version": "1.2.0",
          "state": {
            "_model_module": "@jupyter-widgets/base",
            "_model_module_version": "1.2.0",
            "_model_name": "LayoutModel",
            "_view_count": null,
            "_view_module": "@jupyter-widgets/base",
            "_view_module_version": "1.2.0",
            "_view_name": "LayoutView",
            "align_content": null,
            "align_items": null,
            "align_self": null,
            "border": null,
            "bottom": null,
            "display": null,
            "flex": null,
            "flex_flow": null,
            "grid_area": null,
            "grid_auto_columns": null,
            "grid_auto_flow": null,
            "grid_auto_rows": null,
            "grid_column": null,
            "grid_gap": null,
            "grid_row": null,
            "grid_template_areas": null,
            "grid_template_columns": null,
            "grid_template_rows": null,
            "height": null,
            "justify_content": null,
            "justify_items": null,
            "left": null,
            "margin": null,
            "max_height": null,
            "max_width": null,
            "min_height": null,
            "min_width": null,
            "object_fit": null,
            "object_position": null,
            "order": null,
            "overflow": null,
            "overflow_x": null,
            "overflow_y": null,
            "padding": null,
            "right": null,
            "top": null,
            "visibility": null,
            "width": null
          }
        },
        "09c73660850d4490a6aef145a2164829": {
          "model_module": "@jupyter-widgets/controls",
          "model_name": "DescriptionStyleModel",
          "model_module_version": "1.5.0",
          "state": {
            "_model_module": "@jupyter-widgets/controls",
            "_model_module_version": "1.5.0",
            "_model_name": "DescriptionStyleModel",
            "_view_count": null,
            "_view_module": "@jupyter-widgets/base",
            "_view_module_version": "1.2.0",
            "_view_name": "StyleView",
            "description_width": ""
          }
        },
        "ad8bd6721c414d218db21cbae4f18d3b": {
          "model_module": "@jupyter-widgets/controls",
          "model_name": "HBoxModel",
          "model_module_version": "1.5.0",
          "state": {
            "_dom_classes": [],
            "_model_module": "@jupyter-widgets/controls",
            "_model_module_version": "1.5.0",
            "_model_name": "HBoxModel",
            "_view_count": null,
            "_view_module": "@jupyter-widgets/controls",
            "_view_module_version": "1.5.0",
            "_view_name": "HBoxView",
            "box_style": "",
            "children": [
              "IPY_MODEL_9dc036cf783a4461ae453eb674b62e59",
              "IPY_MODEL_0a6b3a2fcd86456285257991700fd7c8",
              "IPY_MODEL_4c26df8854ae4890a32dfca48988ebab"
            ],
            "layout": "IPY_MODEL_3110c6cc599f4258ae8396297eceb49d"
          }
        },
        "9dc036cf783a4461ae453eb674b62e59": {
          "model_module": "@jupyter-widgets/controls",
          "model_name": "HTMLModel",
          "model_module_version": "1.5.0",
          "state": {
            "_dom_classes": [],
            "_model_module": "@jupyter-widgets/controls",
            "_model_module_version": "1.5.0",
            "_model_name": "HTMLModel",
            "_view_count": null,
            "_view_module": "@jupyter-widgets/controls",
            "_view_module_version": "1.5.0",
            "_view_name": "HTMLView",
            "description": "",
            "description_tooltip": null,
            "layout": "IPY_MODEL_037750ec587046c793e61d59c167d2ab",
            "placeholder": "​",
            "style": "IPY_MODEL_07b214b3e49c419ea9564f167994107b",
            "value": "tokenizer.json: 100%"
          }
        },
        "0a6b3a2fcd86456285257991700fd7c8": {
          "model_module": "@jupyter-widgets/controls",
          "model_name": "FloatProgressModel",
          "model_module_version": "1.5.0",
          "state": {
            "_dom_classes": [],
            "_model_module": "@jupyter-widgets/controls",
            "_model_module_version": "1.5.0",
            "_model_name": "FloatProgressModel",
            "_view_count": null,
            "_view_module": "@jupyter-widgets/controls",
            "_view_module_version": "1.5.0",
            "_view_name": "ProgressView",
            "bar_style": "success",
            "description": "",
            "description_tooltip": null,
            "layout": "IPY_MODEL_c8bcc841a04f498ebead410ffd38e883",
            "max": 711396,
            "min": 0,
            "orientation": "horizontal",
            "style": "IPY_MODEL_98739132880f4ef4be59548abdf99921",
            "value": 711396
          }
        },
        "4c26df8854ae4890a32dfca48988ebab": {
          "model_module": "@jupyter-widgets/controls",
          "model_name": "HTMLModel",
          "model_module_version": "1.5.0",
          "state": {
            "_dom_classes": [],
            "_model_module": "@jupyter-widgets/controls",
            "_model_module_version": "1.5.0",
            "_model_name": "HTMLModel",
            "_view_count": null,
            "_view_module": "@jupyter-widgets/controls",
            "_view_module_version": "1.5.0",
            "_view_name": "HTMLView",
            "description": "",
            "description_tooltip": null,
            "layout": "IPY_MODEL_8afb5daf8ab0403f868a3d76095d2d09",
            "placeholder": "​",
            "style": "IPY_MODEL_3473488913ab4f9290478c852fe4118f",
            "value": " 711k/711k [00:00&lt;00:00, 29.9MB/s]"
          }
        },
        "3110c6cc599f4258ae8396297eceb49d": {
          "model_module": "@jupyter-widgets/base",
          "model_name": "LayoutModel",
          "model_module_version": "1.2.0",
          "state": {
            "_model_module": "@jupyter-widgets/base",
            "_model_module_version": "1.2.0",
            "_model_name": "LayoutModel",
            "_view_count": null,
            "_view_module": "@jupyter-widgets/base",
            "_view_module_version": "1.2.0",
            "_view_name": "LayoutView",
            "align_content": null,
            "align_items": null,
            "align_self": null,
            "border": null,
            "bottom": null,
            "display": null,
            "flex": null,
            "flex_flow": null,
            "grid_area": null,
            "grid_auto_columns": null,
            "grid_auto_flow": null,
            "grid_auto_rows": null,
            "grid_column": null,
            "grid_gap": null,
            "grid_row": null,
            "grid_template_areas": null,
            "grid_template_columns": null,
            "grid_template_rows": null,
            "height": null,
            "justify_content": null,
            "justify_items": null,
            "left": null,
            "margin": null,
            "max_height": null,
            "max_width": null,
            "min_height": null,
            "min_width": null,
            "object_fit": null,
            "object_position": null,
            "order": null,
            "overflow": null,
            "overflow_x": null,
            "overflow_y": null,
            "padding": null,
            "right": null,
            "top": null,
            "visibility": null,
            "width": null
          }
        },
        "037750ec587046c793e61d59c167d2ab": {
          "model_module": "@jupyter-widgets/base",
          "model_name": "LayoutModel",
          "model_module_version": "1.2.0",
          "state": {
            "_model_module": "@jupyter-widgets/base",
            "_model_module_version": "1.2.0",
            "_model_name": "LayoutModel",
            "_view_count": null,
            "_view_module": "@jupyter-widgets/base",
            "_view_module_version": "1.2.0",
            "_view_name": "LayoutView",
            "align_content": null,
            "align_items": null,
            "align_self": null,
            "border": null,
            "bottom": null,
            "display": null,
            "flex": null,
            "flex_flow": null,
            "grid_area": null,
            "grid_auto_columns": null,
            "grid_auto_flow": null,
            "grid_auto_rows": null,
            "grid_column": null,
            "grid_gap": null,
            "grid_row": null,
            "grid_template_areas": null,
            "grid_template_columns": null,
            "grid_template_rows": null,
            "height": null,
            "justify_content": null,
            "justify_items": null,
            "left": null,
            "margin": null,
            "max_height": null,
            "max_width": null,
            "min_height": null,
            "min_width": null,
            "object_fit": null,
            "object_position": null,
            "order": null,
            "overflow": null,
            "overflow_x": null,
            "overflow_y": null,
            "padding": null,
            "right": null,
            "top": null,
            "visibility": null,
            "width": null
          }
        },
        "07b214b3e49c419ea9564f167994107b": {
          "model_module": "@jupyter-widgets/controls",
          "model_name": "DescriptionStyleModel",
          "model_module_version": "1.5.0",
          "state": {
            "_model_module": "@jupyter-widgets/controls",
            "_model_module_version": "1.5.0",
            "_model_name": "DescriptionStyleModel",
            "_view_count": null,
            "_view_module": "@jupyter-widgets/base",
            "_view_module_version": "1.2.0",
            "_view_name": "StyleView",
            "description_width": ""
          }
        },
        "c8bcc841a04f498ebead410ffd38e883": {
          "model_module": "@jupyter-widgets/base",
          "model_name": "LayoutModel",
          "model_module_version": "1.2.0",
          "state": {
            "_model_module": "@jupyter-widgets/base",
            "_model_module_version": "1.2.0",
            "_model_name": "LayoutModel",
            "_view_count": null,
            "_view_module": "@jupyter-widgets/base",
            "_view_module_version": "1.2.0",
            "_view_name": "LayoutView",
            "align_content": null,
            "align_items": null,
            "align_self": null,
            "border": null,
            "bottom": null,
            "display": null,
            "flex": null,
            "flex_flow": null,
            "grid_area": null,
            "grid_auto_columns": null,
            "grid_auto_flow": null,
            "grid_auto_rows": null,
            "grid_column": null,
            "grid_gap": null,
            "grid_row": null,
            "grid_template_areas": null,
            "grid_template_columns": null,
            "grid_template_rows": null,
            "height": null,
            "justify_content": null,
            "justify_items": null,
            "left": null,
            "margin": null,
            "max_height": null,
            "max_width": null,
            "min_height": null,
            "min_width": null,
            "object_fit": null,
            "object_position": null,
            "order": null,
            "overflow": null,
            "overflow_x": null,
            "overflow_y": null,
            "padding": null,
            "right": null,
            "top": null,
            "visibility": null,
            "width": null
          }
        },
        "98739132880f4ef4be59548abdf99921": {
          "model_module": "@jupyter-widgets/controls",
          "model_name": "ProgressStyleModel",
          "model_module_version": "1.5.0",
          "state": {
            "_model_module": "@jupyter-widgets/controls",
            "_model_module_version": "1.5.0",
            "_model_name": "ProgressStyleModel",
            "_view_count": null,
            "_view_module": "@jupyter-widgets/base",
            "_view_module_version": "1.2.0",
            "_view_name": "StyleView",
            "bar_color": null,
            "description_width": ""
          }
        },
        "8afb5daf8ab0403f868a3d76095d2d09": {
          "model_module": "@jupyter-widgets/base",
          "model_name": "LayoutModel",
          "model_module_version": "1.2.0",
          "state": {
            "_model_module": "@jupyter-widgets/base",
            "_model_module_version": "1.2.0",
            "_model_name": "LayoutModel",
            "_view_count": null,
            "_view_module": "@jupyter-widgets/base",
            "_view_module_version": "1.2.0",
            "_view_name": "LayoutView",
            "align_content": null,
            "align_items": null,
            "align_self": null,
            "border": null,
            "bottom": null,
            "display": null,
            "flex": null,
            "flex_flow": null,
            "grid_area": null,
            "grid_auto_columns": null,
            "grid_auto_flow": null,
            "grid_auto_rows": null,
            "grid_column": null,
            "grid_gap": null,
            "grid_row": null,
            "grid_template_areas": null,
            "grid_template_columns": null,
            "grid_template_rows": null,
            "height": null,
            "justify_content": null,
            "justify_items": null,
            "left": null,
            "margin": null,
            "max_height": null,
            "max_width": null,
            "min_height": null,
            "min_width": null,
            "object_fit": null,
            "object_position": null,
            "order": null,
            "overflow": null,
            "overflow_x": null,
            "overflow_y": null,
            "padding": null,
            "right": null,
            "top": null,
            "visibility": null,
            "width": null
          }
        },
        "3473488913ab4f9290478c852fe4118f": {
          "model_module": "@jupyter-widgets/controls",
          "model_name": "DescriptionStyleModel",
          "model_module_version": "1.5.0",
          "state": {
            "_model_module": "@jupyter-widgets/controls",
            "_model_module_version": "1.5.0",
            "_model_name": "DescriptionStyleModel",
            "_view_count": null,
            "_view_module": "@jupyter-widgets/base",
            "_view_module_version": "1.2.0",
            "_view_name": "StyleView",
            "description_width": ""
          }
        },
        "250178410ac34fa0b8bba93d5847feaa": {
          "model_module": "@jupyter-widgets/controls",
          "model_name": "HBoxModel",
          "model_module_version": "1.5.0",
          "state": {
            "_dom_classes": [],
            "_model_module": "@jupyter-widgets/controls",
            "_model_module_version": "1.5.0",
            "_model_name": "HBoxModel",
            "_view_count": null,
            "_view_module": "@jupyter-widgets/controls",
            "_view_module_version": "1.5.0",
            "_view_name": "HBoxView",
            "box_style": "",
            "children": [
              "IPY_MODEL_67cb3340556c4aa0b0664db56a0295be",
              "IPY_MODEL_43c391b2344748bf8abe1511e03f4303",
              "IPY_MODEL_7e10ca9944ae4192ac31903de6b2d7f2"
            ],
            "layout": "IPY_MODEL_0940b8c2edd44b2097898281950b074a"
          }
        },
        "67cb3340556c4aa0b0664db56a0295be": {
          "model_module": "@jupyter-widgets/controls",
          "model_name": "HTMLModel",
          "model_module_version": "1.5.0",
          "state": {
            "_dom_classes": [],
            "_model_module": "@jupyter-widgets/controls",
            "_model_module_version": "1.5.0",
            "_model_name": "HTMLModel",
            "_view_count": null,
            "_view_module": "@jupyter-widgets/controls",
            "_view_module_version": "1.5.0",
            "_view_name": "HTMLView",
            "description": "",
            "description_tooltip": null,
            "layout": "IPY_MODEL_ea281286d380421fabb4675b17756491",
            "placeholder": "​",
            "style": "IPY_MODEL_55e2457c652546fabb479307e19df48b",
            "value": "special_tokens_map.json: 100%"
          }
        },
        "43c391b2344748bf8abe1511e03f4303": {
          "model_module": "@jupyter-widgets/controls",
          "model_name": "FloatProgressModel",
          "model_module_version": "1.5.0",
          "state": {
            "_dom_classes": [],
            "_model_module": "@jupyter-widgets/controls",
            "_model_module_version": "1.5.0",
            "_model_name": "FloatProgressModel",
            "_view_count": null,
            "_view_module": "@jupyter-widgets/controls",
            "_view_module_version": "1.5.0",
            "_view_name": "ProgressView",
            "bar_style": "success",
            "description": "",
            "description_tooltip": null,
            "layout": "IPY_MODEL_dc98f789f5c640a8b84a9d4c1e11e95f",
            "max": 125,
            "min": 0,
            "orientation": "horizontal",
            "style": "IPY_MODEL_ac825f09219a4863b85e5e065e69d46f",
            "value": 125
          }
        },
        "7e10ca9944ae4192ac31903de6b2d7f2": {
          "model_module": "@jupyter-widgets/controls",
          "model_name": "HTMLModel",
          "model_module_version": "1.5.0",
          "state": {
            "_dom_classes": [],
            "_model_module": "@jupyter-widgets/controls",
            "_model_module_version": "1.5.0",
            "_model_name": "HTMLModel",
            "_view_count": null,
            "_view_module": "@jupyter-widgets/controls",
            "_view_module_version": "1.5.0",
            "_view_name": "HTMLView",
            "description": "",
            "description_tooltip": null,
            "layout": "IPY_MODEL_9c8da8a46b88405e833ffc3e20f156df",
            "placeholder": "​",
            "style": "IPY_MODEL_77341dd88e05466881917de0b0690774",
            "value": " 125/125 [00:00&lt;00:00, 9.37kB/s]"
          }
        },
        "0940b8c2edd44b2097898281950b074a": {
          "model_module": "@jupyter-widgets/base",
          "model_name": "LayoutModel",
          "model_module_version": "1.2.0",
          "state": {
            "_model_module": "@jupyter-widgets/base",
            "_model_module_version": "1.2.0",
            "_model_name": "LayoutModel",
            "_view_count": null,
            "_view_module": "@jupyter-widgets/base",
            "_view_module_version": "1.2.0",
            "_view_name": "LayoutView",
            "align_content": null,
            "align_items": null,
            "align_self": null,
            "border": null,
            "bottom": null,
            "display": null,
            "flex": null,
            "flex_flow": null,
            "grid_area": null,
            "grid_auto_columns": null,
            "grid_auto_flow": null,
            "grid_auto_rows": null,
            "grid_column": null,
            "grid_gap": null,
            "grid_row": null,
            "grid_template_areas": null,
            "grid_template_columns": null,
            "grid_template_rows": null,
            "height": null,
            "justify_content": null,
            "justify_items": null,
            "left": null,
            "margin": null,
            "max_height": null,
            "max_width": null,
            "min_height": null,
            "min_width": null,
            "object_fit": null,
            "object_position": null,
            "order": null,
            "overflow": null,
            "overflow_x": null,
            "overflow_y": null,
            "padding": null,
            "right": null,
            "top": null,
            "visibility": null,
            "width": null
          }
        },
        "ea281286d380421fabb4675b17756491": {
          "model_module": "@jupyter-widgets/base",
          "model_name": "LayoutModel",
          "model_module_version": "1.2.0",
          "state": {
            "_model_module": "@jupyter-widgets/base",
            "_model_module_version": "1.2.0",
            "_model_name": "LayoutModel",
            "_view_count": null,
            "_view_module": "@jupyter-widgets/base",
            "_view_module_version": "1.2.0",
            "_view_name": "LayoutView",
            "align_content": null,
            "align_items": null,
            "align_self": null,
            "border": null,
            "bottom": null,
            "display": null,
            "flex": null,
            "flex_flow": null,
            "grid_area": null,
            "grid_auto_columns": null,
            "grid_auto_flow": null,
            "grid_auto_rows": null,
            "grid_column": null,
            "grid_gap": null,
            "grid_row": null,
            "grid_template_areas": null,
            "grid_template_columns": null,
            "grid_template_rows": null,
            "height": null,
            "justify_content": null,
            "justify_items": null,
            "left": null,
            "margin": null,
            "max_height": null,
            "max_width": null,
            "min_height": null,
            "min_width": null,
            "object_fit": null,
            "object_position": null,
            "order": null,
            "overflow": null,
            "overflow_x": null,
            "overflow_y": null,
            "padding": null,
            "right": null,
            "top": null,
            "visibility": null,
            "width": null
          }
        },
        "55e2457c652546fabb479307e19df48b": {
          "model_module": "@jupyter-widgets/controls",
          "model_name": "DescriptionStyleModel",
          "model_module_version": "1.5.0",
          "state": {
            "_model_module": "@jupyter-widgets/controls",
            "_model_module_version": "1.5.0",
            "_model_name": "DescriptionStyleModel",
            "_view_count": null,
            "_view_module": "@jupyter-widgets/base",
            "_view_module_version": "1.2.0",
            "_view_name": "StyleView",
            "description_width": ""
          }
        },
        "dc98f789f5c640a8b84a9d4c1e11e95f": {
          "model_module": "@jupyter-widgets/base",
          "model_name": "LayoutModel",
          "model_module_version": "1.2.0",
          "state": {
            "_model_module": "@jupyter-widgets/base",
            "_model_module_version": "1.2.0",
            "_model_name": "LayoutModel",
            "_view_count": null,
            "_view_module": "@jupyter-widgets/base",
            "_view_module_version": "1.2.0",
            "_view_name": "LayoutView",
            "align_content": null,
            "align_items": null,
            "align_self": null,
            "border": null,
            "bottom": null,
            "display": null,
            "flex": null,
            "flex_flow": null,
            "grid_area": null,
            "grid_auto_columns": null,
            "grid_auto_flow": null,
            "grid_auto_rows": null,
            "grid_column": null,
            "grid_gap": null,
            "grid_row": null,
            "grid_template_areas": null,
            "grid_template_columns": null,
            "grid_template_rows": null,
            "height": null,
            "justify_content": null,
            "justify_items": null,
            "left": null,
            "margin": null,
            "max_height": null,
            "max_width": null,
            "min_height": null,
            "min_width": null,
            "object_fit": null,
            "object_position": null,
            "order": null,
            "overflow": null,
            "overflow_x": null,
            "overflow_y": null,
            "padding": null,
            "right": null,
            "top": null,
            "visibility": null,
            "width": null
          }
        },
        "ac825f09219a4863b85e5e065e69d46f": {
          "model_module": "@jupyter-widgets/controls",
          "model_name": "ProgressStyleModel",
          "model_module_version": "1.5.0",
          "state": {
            "_model_module": "@jupyter-widgets/controls",
            "_model_module_version": "1.5.0",
            "_model_name": "ProgressStyleModel",
            "_view_count": null,
            "_view_module": "@jupyter-widgets/base",
            "_view_module_version": "1.2.0",
            "_view_name": "StyleView",
            "bar_color": null,
            "description_width": ""
          }
        },
        "9c8da8a46b88405e833ffc3e20f156df": {
          "model_module": "@jupyter-widgets/base",
          "model_name": "LayoutModel",
          "model_module_version": "1.2.0",
          "state": {
            "_model_module": "@jupyter-widgets/base",
            "_model_module_version": "1.2.0",
            "_model_name": "LayoutModel",
            "_view_count": null,
            "_view_module": "@jupyter-widgets/base",
            "_view_module_version": "1.2.0",
            "_view_name": "LayoutView",
            "align_content": null,
            "align_items": null,
            "align_self": null,
            "border": null,
            "bottom": null,
            "display": null,
            "flex": null,
            "flex_flow": null,
            "grid_area": null,
            "grid_auto_columns": null,
            "grid_auto_flow": null,
            "grid_auto_rows": null,
            "grid_column": null,
            "grid_gap": null,
            "grid_row": null,
            "grid_template_areas": null,
            "grid_template_columns": null,
            "grid_template_rows": null,
            "height": null,
            "justify_content": null,
            "justify_items": null,
            "left": null,
            "margin": null,
            "max_height": null,
            "max_width": null,
            "min_height": null,
            "min_width": null,
            "object_fit": null,
            "object_position": null,
            "order": null,
            "overflow": null,
            "overflow_x": null,
            "overflow_y": null,
            "padding": null,
            "right": null,
            "top": null,
            "visibility": null,
            "width": null
          }
        },
        "77341dd88e05466881917de0b0690774": {
          "model_module": "@jupyter-widgets/controls",
          "model_name": "DescriptionStyleModel",
          "model_module_version": "1.5.0",
          "state": {
            "_model_module": "@jupyter-widgets/controls",
            "_model_module_version": "1.5.0",
            "_model_name": "DescriptionStyleModel",
            "_view_count": null,
            "_view_module": "@jupyter-widgets/base",
            "_view_module_version": "1.2.0",
            "_view_name": "StyleView",
            "description_width": ""
          }
        },
        "a0eda83c3b024849a34abb1c31818907": {
          "model_module": "@jupyter-widgets/controls",
          "model_name": "HBoxModel",
          "model_module_version": "1.5.0",
          "state": {
            "_dom_classes": [],
            "_model_module": "@jupyter-widgets/controls",
            "_model_module_version": "1.5.0",
            "_model_name": "HBoxModel",
            "_view_count": null,
            "_view_module": "@jupyter-widgets/controls",
            "_view_module_version": "1.5.0",
            "_view_name": "HBoxView",
            "box_style": "",
            "children": [
              "IPY_MODEL_d28eec3fa20d4951b1963f8712015ad2",
              "IPY_MODEL_2f588842b6e548c3865e86a72b219c17",
              "IPY_MODEL_66edf96f25a64259b9d13da1902cc76c"
            ],
            "layout": "IPY_MODEL_5df15fcda6934767835e5f6f194c1ed5"
          }
        },
        "d28eec3fa20d4951b1963f8712015ad2": {
          "model_module": "@jupyter-widgets/controls",
          "model_name": "HTMLModel",
          "model_module_version": "1.5.0",
          "state": {
            "_dom_classes": [],
            "_model_module": "@jupyter-widgets/controls",
            "_model_module_version": "1.5.0",
            "_model_name": "HTMLModel",
            "_view_count": null,
            "_view_module": "@jupyter-widgets/controls",
            "_view_module_version": "1.5.0",
            "_view_name": "HTMLView",
            "description": "",
            "description_tooltip": null,
            "layout": "IPY_MODEL_adb788a90649489b83166dd0a7c2de5d",
            "placeholder": "​",
            "style": "IPY_MODEL_ad1a2129b45249129d0940aa78af382f",
            "value": "1_Pooling/config.json: 100%"
          }
        },
        "2f588842b6e548c3865e86a72b219c17": {
          "model_module": "@jupyter-widgets/controls",
          "model_name": "FloatProgressModel",
          "model_module_version": "1.5.0",
          "state": {
            "_dom_classes": [],
            "_model_module": "@jupyter-widgets/controls",
            "_model_module_version": "1.5.0",
            "_model_name": "FloatProgressModel",
            "_view_count": null,
            "_view_module": "@jupyter-widgets/controls",
            "_view_module_version": "1.5.0",
            "_view_name": "ProgressView",
            "bar_style": "success",
            "description": "",
            "description_tooltip": null,
            "layout": "IPY_MODEL_e29a2045e7f744afa3a675f2f94d2d29",
            "max": 191,
            "min": 0,
            "orientation": "horizontal",
            "style": "IPY_MODEL_1df55988cc9f491a8e45b40caa9eb627",
            "value": 191
          }
        },
        "66edf96f25a64259b9d13da1902cc76c": {
          "model_module": "@jupyter-widgets/controls",
          "model_name": "HTMLModel",
          "model_module_version": "1.5.0",
          "state": {
            "_dom_classes": [],
            "_model_module": "@jupyter-widgets/controls",
            "_model_module_version": "1.5.0",
            "_model_name": "HTMLModel",
            "_view_count": null,
            "_view_module": "@jupyter-widgets/controls",
            "_view_module_version": "1.5.0",
            "_view_name": "HTMLView",
            "description": "",
            "description_tooltip": null,
            "layout": "IPY_MODEL_8d69e9f960084440aa76366d35f04255",
            "placeholder": "​",
            "style": "IPY_MODEL_9ed5867fd9ac4949bff2146e610a3d93",
            "value": " 191/191 [00:00&lt;00:00, 14.4kB/s]"
          }
        },
        "5df15fcda6934767835e5f6f194c1ed5": {
          "model_module": "@jupyter-widgets/base",
          "model_name": "LayoutModel",
          "model_module_version": "1.2.0",
          "state": {
            "_model_module": "@jupyter-widgets/base",
            "_model_module_version": "1.2.0",
            "_model_name": "LayoutModel",
            "_view_count": null,
            "_view_module": "@jupyter-widgets/base",
            "_view_module_version": "1.2.0",
            "_view_name": "LayoutView",
            "align_content": null,
            "align_items": null,
            "align_self": null,
            "border": null,
            "bottom": null,
            "display": null,
            "flex": null,
            "flex_flow": null,
            "grid_area": null,
            "grid_auto_columns": null,
            "grid_auto_flow": null,
            "grid_auto_rows": null,
            "grid_column": null,
            "grid_gap": null,
            "grid_row": null,
            "grid_template_areas": null,
            "grid_template_columns": null,
            "grid_template_rows": null,
            "height": null,
            "justify_content": null,
            "justify_items": null,
            "left": null,
            "margin": null,
            "max_height": null,
            "max_width": null,
            "min_height": null,
            "min_width": null,
            "object_fit": null,
            "object_position": null,
            "order": null,
            "overflow": null,
            "overflow_x": null,
            "overflow_y": null,
            "padding": null,
            "right": null,
            "top": null,
            "visibility": null,
            "width": null
          }
        },
        "adb788a90649489b83166dd0a7c2de5d": {
          "model_module": "@jupyter-widgets/base",
          "model_name": "LayoutModel",
          "model_module_version": "1.2.0",
          "state": {
            "_model_module": "@jupyter-widgets/base",
            "_model_module_version": "1.2.0",
            "_model_name": "LayoutModel",
            "_view_count": null,
            "_view_module": "@jupyter-widgets/base",
            "_view_module_version": "1.2.0",
            "_view_name": "LayoutView",
            "align_content": null,
            "align_items": null,
            "align_self": null,
            "border": null,
            "bottom": null,
            "display": null,
            "flex": null,
            "flex_flow": null,
            "grid_area": null,
            "grid_auto_columns": null,
            "grid_auto_flow": null,
            "grid_auto_rows": null,
            "grid_column": null,
            "grid_gap": null,
            "grid_row": null,
            "grid_template_areas": null,
            "grid_template_columns": null,
            "grid_template_rows": null,
            "height": null,
            "justify_content": null,
            "justify_items": null,
            "left": null,
            "margin": null,
            "max_height": null,
            "max_width": null,
            "min_height": null,
            "min_width": null,
            "object_fit": null,
            "object_position": null,
            "order": null,
            "overflow": null,
            "overflow_x": null,
            "overflow_y": null,
            "padding": null,
            "right": null,
            "top": null,
            "visibility": null,
            "width": null
          }
        },
        "ad1a2129b45249129d0940aa78af382f": {
          "model_module": "@jupyter-widgets/controls",
          "model_name": "DescriptionStyleModel",
          "model_module_version": "1.5.0",
          "state": {
            "_model_module": "@jupyter-widgets/controls",
            "_model_module_version": "1.5.0",
            "_model_name": "DescriptionStyleModel",
            "_view_count": null,
            "_view_module": "@jupyter-widgets/base",
            "_view_module_version": "1.2.0",
            "_view_name": "StyleView",
            "description_width": ""
          }
        },
        "e29a2045e7f744afa3a675f2f94d2d29": {
          "model_module": "@jupyter-widgets/base",
          "model_name": "LayoutModel",
          "model_module_version": "1.2.0",
          "state": {
            "_model_module": "@jupyter-widgets/base",
            "_model_module_version": "1.2.0",
            "_model_name": "LayoutModel",
            "_view_count": null,
            "_view_module": "@jupyter-widgets/base",
            "_view_module_version": "1.2.0",
            "_view_name": "LayoutView",
            "align_content": null,
            "align_items": null,
            "align_self": null,
            "border": null,
            "bottom": null,
            "display": null,
            "flex": null,
            "flex_flow": null,
            "grid_area": null,
            "grid_auto_columns": null,
            "grid_auto_flow": null,
            "grid_auto_rows": null,
            "grid_column": null,
            "grid_gap": null,
            "grid_row": null,
            "grid_template_areas": null,
            "grid_template_columns": null,
            "grid_template_rows": null,
            "height": null,
            "justify_content": null,
            "justify_items": null,
            "left": null,
            "margin": null,
            "max_height": null,
            "max_width": null,
            "min_height": null,
            "min_width": null,
            "object_fit": null,
            "object_position": null,
            "order": null,
            "overflow": null,
            "overflow_x": null,
            "overflow_y": null,
            "padding": null,
            "right": null,
            "top": null,
            "visibility": null,
            "width": null
          }
        },
        "1df55988cc9f491a8e45b40caa9eb627": {
          "model_module": "@jupyter-widgets/controls",
          "model_name": "ProgressStyleModel",
          "model_module_version": "1.5.0",
          "state": {
            "_model_module": "@jupyter-widgets/controls",
            "_model_module_version": "1.5.0",
            "_model_name": "ProgressStyleModel",
            "_view_count": null,
            "_view_module": "@jupyter-widgets/base",
            "_view_module_version": "1.2.0",
            "_view_name": "StyleView",
            "bar_color": null,
            "description_width": ""
          }
        },
        "8d69e9f960084440aa76366d35f04255": {
          "model_module": "@jupyter-widgets/base",
          "model_name": "LayoutModel",
          "model_module_version": "1.2.0",
          "state": {
            "_model_module": "@jupyter-widgets/base",
            "_model_module_version": "1.2.0",
            "_model_name": "LayoutModel",
            "_view_count": null,
            "_view_module": "@jupyter-widgets/base",
            "_view_module_version": "1.2.0",
            "_view_name": "LayoutView",
            "align_content": null,
            "align_items": null,
            "align_self": null,
            "border": null,
            "bottom": null,
            "display": null,
            "flex": null,
            "flex_flow": null,
            "grid_area": null,
            "grid_auto_columns": null,
            "grid_auto_flow": null,
            "grid_auto_rows": null,
            "grid_column": null,
            "grid_gap": null,
            "grid_row": null,
            "grid_template_areas": null,
            "grid_template_columns": null,
            "grid_template_rows": null,
            "height": null,
            "justify_content": null,
            "justify_items": null,
            "left": null,
            "margin": null,
            "max_height": null,
            "max_width": null,
            "min_height": null,
            "min_width": null,
            "object_fit": null,
            "object_position": null,
            "order": null,
            "overflow": null,
            "overflow_x": null,
            "overflow_y": null,
            "padding": null,
            "right": null,
            "top": null,
            "visibility": null,
            "width": null
          }
        },
        "9ed5867fd9ac4949bff2146e610a3d93": {
          "model_module": "@jupyter-widgets/controls",
          "model_name": "DescriptionStyleModel",
          "model_module_version": "1.5.0",
          "state": {
            "_model_module": "@jupyter-widgets/controls",
            "_model_module_version": "1.5.0",
            "_model_name": "DescriptionStyleModel",
            "_view_count": null,
            "_view_module": "@jupyter-widgets/base",
            "_view_module_version": "1.2.0",
            "_view_name": "StyleView",
            "description_width": ""
          }
        }
      }
    }
  },
  "cells": [
    {
      "cell_type": "markdown",
      "metadata": {
        "id": "view-in-github",
        "colab_type": "text"
      },
      "source": [
        "<a href=\"https://colab.research.google.com/github/alouwyck/vives-intro-to-ai/blob/main/topic10/topic10_3_Intro_LangChain_RAG.ipynb\" target=\"_parent\"><img src=\"https://colab.research.google.com/assets/colab-badge.svg\" alt=\"Open In Colab\"/></a>"
      ]
    },
    {
      "cell_type": "markdown",
      "metadata": {
        "id": "1N1kqUSWctSM"
      },
      "source": [
        "<img src=\"data:image/png;base64,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\" align=\"right\" /><br>\n",
        "\n",
        "\n",
        "**INTRODUCTION TO ARTIFICIAL INTELLIGENCE**<br>\n",
        "VIVES BUSINESS ACADEMY<br>\n",
        "Academic Year 2024-2025<br>\n",
        "Andy Louwyck\n",
        "\n",
        "---\n",
        "\n",
        "\n",
        "\n",
        "---\n",
        "\n"
      ]
    },
    {
      "cell_type": "markdown",
      "source": [
        "# **Introduction to Retrieval-Augmented Generation with LangChain**"
      ],
      "metadata": {
        "id": "6Pmlym42oDcT"
      }
    },
    {
      "cell_type": "markdown",
      "source": [
        "[LangChain](https://www.langchain.com/) is a framework designed to simplify the creation of applications using large language models (LLMs). As a language model integration framework, LangChain's use-cases largely overlap with those of language models in general, including document analysis and summarization, chatbots, and code analysis.\n",
        "\n",
        "One of the most powerful applications enabled by LLMs is sophisticated question-answering (Q&A) chatbots. These are applications that can answer questions about specific source information. These applications use a technique known as Retrieval-Augmented Generation, or RAG.\n",
        "\n",
        "Basically, RAG is a technique for augmenting LLM knowledge with additional data. This notebook introduces some key LangChain concepts relevant to RAG and demonstrates their application in building simple RAG applications. Before diving into the code, it is explained in more detail what RAG is.\n"
      ],
      "metadata": {
        "id": "r5sj8xjzEK7x"
      }
    },
    {
      "cell_type": "markdown",
      "source": [
        "## **What is RAG?**"
      ],
      "metadata": {
        "id": "3mGxHg97VL7a"
      }
    },
    {
      "cell_type": "markdown",
      "source": [
        "LLMs can reason about wide-ranging topics, but their knowledge is limited to the public data up to a specific point in time that they were trained on. If you want to build AI applications that can reason about private data or data introduced after a model's cutoff date, you need to augment the knowledge of the model with the specific information it needs. The process of bringing the appropriate information and inserting it into the model prompt is known as Retrieval-Augmented Generation, which is abbreviated as RAG.\n",
        "\n",
        "LangChain has a number of components designed to help build Q&A applications, and RAG applications more generally. In this notebook, we focus on Q&A for unstructured data, but RAG over structured data, such as SQL data, is also possible."
      ],
      "metadata": {
        "id": "9m0upe_tWeRt"
      }
    },
    {
      "cell_type": "markdown",
      "source": [
        "A typical RAG application has two main components:\n",
        "\n",
        "- *Indexing* : a pipeline for ingesting data from a source and indexing it. This usually happens offline.\n",
        "\n",
        "- *Retrieval* and *generation* : the actual RAG chain, which takes the user query at run time and retrieves the relevant data from the index, then passes that to the model."
      ],
      "metadata": {
        "id": "b0Lnn9sOXvfh"
      }
    },
    {
      "cell_type": "markdown",
      "source": [
        "The most common full sequence from raw data to answer looks like:"
      ],
      "metadata": {
        "id": "S8Ze6GeRYCGl"
      }
    },
    {
      "cell_type": "markdown",
      "source": [
        "**Indexing**\n",
        "\n",
        "1. *Load* : First we need to load our data. This is done with document loaders.\n",
        "2. *Split* : Text splitters break large documents into smaller chunks. This is useful both for indexing data and for passing it in to a model, since large chunks are harder to search over and won't fit in a model's finite context window.\n",
        "3. *Store* : We need somewhere to store and index our splits, so that they can later be searched over. This is often done using a vector store and an embeddings model."
      ],
      "metadata": {
        "id": "xnEQBiXPYEZA"
      }
    },
    {
      "cell_type": "markdown",
      "source": [
        "![image.png](data:image/png;base64,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)"
      ],
      "metadata": {
        "id": "3wT_442DYpq-"
      }
    },
    {
      "cell_type": "markdown",
      "source": [
        "**Retrieval and generation**\n",
        "\n",
        "4. *Retrieve* : Given a user input, relevant splits are retrieved from storage using a retriever.\n",
        "5. *Generate* : A chat model or LLM produces an answer using a prompt that includes the question and the retrieved data.\n"
      ],
      "metadata": {
        "id": "QgOH8zj-YRtI"
      }
    },
    {
      "cell_type": "markdown",
      "source": [
        "![image.png](data:image/png;base64,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)"
      ],
      "metadata": {
        "id": "WQ4png4bYvuM"
      }
    },
    {
      "cell_type": "markdown",
      "source": [
        "Step 3 applies an **Embedding model**, which creates a vector representation of a piece of text. You can think of a vector as an array of numbers that captures the semantic meaning of the text. By representing the text in this way, you can perform mathematical operations that allow you to do things like search for other pieces of text that are most similar in meaning. These natural language search capabilities underpin many types of context retrieval, where we provide an LLM with the relevant data it needs to effectively respond to a query."
      ],
      "metadata": {
        "id": "tAH8AtNpflN5"
      }
    },
    {
      "cell_type": "markdown",
      "source": [
        "![image.png](data:image/png;base64,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)"
      ],
      "metadata": {
        "id": "ez8axMNjg-qr"
      }
    },
    {
      "cell_type": "markdown",
      "source": [
        "The created vectors are stored in a **vector store** or vector database. One of the most common ways to store and search over unstructured data is actually to embed it and store the resulting embedding vectors, and then at query time to embed the unstructured query and retrieve the embedding vectors that are 'most similar' to the embedded query. A vector store takes care of storing embedded data and performing vector search for you. Most vector stores can also store metadata about embedded vectors and support filtering on that metadata before similarity search, allowing you more control over returned documents.\n",
        "\n",
        "LangChain includes a suite of integrations with different vector store technologies. Some vector stores are hosted by a provider (e.g., various cloud providers) and require specific credentials to use; some (such as Postgres) run in separate infrastructure that can be run locally or via a third-party; others can run in-memory for lightweight workloads. Here we will demonstrate usage of LangChain vector stores using `Chroma`, which includes an in-memory implementation."
      ],
      "metadata": {
        "id": "DAvmf45tgJZt"
      }
    },
    {
      "cell_type": "markdown",
      "source": [
        "## **Setup**"
      ],
      "metadata": {
        "id": "harbmJ6rpwm2"
      }
    },
    {
      "cell_type": "markdown",
      "source": [
        "In this notebook, we will show how to build a simple Q&A application over a text data source. Along the way we'll go over a typical Q&A architecture. The code example is adopted and modified from the following LangChain tutorial, which requires `langchain` and `langchain-chroma`: https://python.langchain.com/v0.2/docs/tutorials/rag/."
      ],
      "metadata": {
        "id": "q5SFu1apIJrL"
      }
    },
    {
      "cell_type": "markdown",
      "source": [
        "Instead of using an embedding model by OpenAI as suggested by the tutorial, we'll apply the BGE model from HuggingFace, which is currently one of the best open-source embedding models: https://python.langchain.com/v0.2/docs/integrations/text_embedding/bge_huggingface/. That is why we also import `langchain-community` and `sentence_transformers`. To be able to load PDF-files, we need [PyMuPDF](https://pymupdf.readthedocs.io/en/latest/)."
      ],
      "metadata": {
        "id": "u1nl4Kpsp2CJ"
      }
    },
    {
      "cell_type": "markdown",
      "source": [
        "Because we'll build very simple RAG applications using [Llama3](https://en.wikipedia.org/wiki/Llama_(language_model)) from Meta AI, we also need to import `langchain-groq`. Of course, it is possible to use another LLM, such as one of OpenAI's [GPT](https://en.wikipedia.org/wiki/Generative_pre-trained_transformer), Google's [Gemini](https://en.wikipedia.org/wiki/Gemini_(language_model)), Anthropic's [Claude](https://en.wikipedia.org/wiki/Claude_(language_model)), or the latest [mistral.ai](https://mistral.ai/) chat model. To see how you can setup another chat model, check https://python.langchain.com/v0.2/docs/tutorials/llm_chain/#setup. Note that [Groq](https://en.wikipedia.org/wiki/Groq) currently hosts a variety of open-source large language models running on its LPUs for public access. So if you opt for the Groq setup, you can use Llama at no cost."
      ],
      "metadata": {
        "id": "MA5TO817Iwk6"
      }
    },
    {
      "cell_type": "code",
      "source": [
        "!pip install -q langchain langchain-community langchain-chroma langchain-groq sentence_transformers pymupdf"
      ],
      "metadata": {
        "id": "RZhd_kdlDCmV",
        "colab": {
          "base_uri": "https://localhost:8080/"
        },
        "outputId": "b046a15a-1bae-42f9-a981-06d6bc7fba0e"
      },
      "execution_count": 1,
      "outputs": [
        {
          "output_type": "stream",
          "name": "stdout",
          "text": [
            "\u001b[?25l     \u001b[90m━━━━━━━━━━━━━━━━━━━━━━━━━━━━━━━━━━━━━━━━\u001b[0m \u001b[32m0.0/67.3 kB\u001b[0m \u001b[31m?\u001b[0m eta \u001b[36m-:--:--\u001b[0m\r\u001b[2K     \u001b[90m━━━━━━━━━━━━━━━━━━━━━━━━━━━━━━━━━━━━━━━━\u001b[0m \u001b[32m67.3/67.3 kB\u001b[0m \u001b[31m2.8 MB/s\u001b[0m eta \u001b[36m0:00:00\u001b[0m\n",
            "\u001b[?25h  Installing build dependencies ... \u001b[?25l\u001b[?25hdone\n",
            "  Getting requirements to build wheel ... \u001b[?25l\u001b[?25hdone\n",
            "  Preparing metadata (pyproject.toml) ... \u001b[?25l\u001b[?25hdone\n",
            "\u001b[2K   \u001b[90m━━━━━━━━━━━━━━━━━━━━━━━━━━━━━━━━━━━━━━━━\u001b[0m \u001b[32m2.5/2.5 MB\u001b[0m \u001b[31m83.2 MB/s\u001b[0m eta \u001b[36m0:00:00\u001b[0m\n",
            "\u001b[2K   \u001b[90m━━━━━━━━━━━━━━━━━━━━━━━━━━━━━━━━━━━━━━━━\u001b[0m \u001b[32m1.0/1.0 MB\u001b[0m \u001b[31m55.6 MB/s\u001b[0m eta \u001b[36m0:00:00\u001b[0m\n",
            "\u001b[2K   \u001b[90m━━━━━━━━━━━━━━━━━━━━━━━━━━━━━━━━━━━━━━━━\u001b[0m \u001b[32m20.0/20.0 MB\u001b[0m \u001b[31m92.1 MB/s\u001b[0m eta \u001b[36m0:00:00\u001b[0m\n",
            "\u001b[2K   \u001b[90m━━━━━━━━━━━━━━━━━━━━━━━━━━━━━━━━━━━━━━━━\u001b[0m \u001b[32m628.3/628.3 kB\u001b[0m \u001b[31m40.4 MB/s\u001b[0m eta \u001b[36m0:00:00\u001b[0m\n",
            "\u001b[2K   \u001b[90m━━━━━━━━━━━━━━━━━━━━━━━━━━━━━━━━━━━━━━━━\u001b[0m \u001b[32m2.4/2.4 MB\u001b[0m \u001b[31m83.7 MB/s\u001b[0m eta \u001b[36m0:00:00\u001b[0m\n",
            "\u001b[2K   \u001b[90m━━━━━━━━━━━━━━━━━━━━━━━━━━━━━━━━━━━━━━━━\u001b[0m \u001b[32m94.8/94.8 kB\u001b[0m \u001b[31m8.5 MB/s\u001b[0m eta \u001b[36m0:00:00\u001b[0m\n",
            "\u001b[2K   \u001b[90m━━━━━━━━━━━━━━━━━━━━━━━━━━━━━━━━━━━━━━━━\u001b[0m \u001b[32m109.1/109.1 kB\u001b[0m \u001b[31m9.0 MB/s\u001b[0m eta \u001b[36m0:00:00\u001b[0m\n",
            "\u001b[2K   \u001b[90m━━━━━━━━━━━━━━━━━━━━━━━━━━━━━━━━━━━━━━━━\u001b[0m \u001b[32m411.2/411.2 kB\u001b[0m \u001b[31m22.2 MB/s\u001b[0m eta \u001b[36m0:00:00\u001b[0m\n",
            "\u001b[2K   \u001b[90m━━━━━━━━━━━━━━━━━━━━━━━━━━━━━━━━━━━━━━━━\u001b[0m \u001b[32m278.6/278.6 kB\u001b[0m \u001b[31m23.5 MB/s\u001b[0m eta \u001b[36m0:00:00\u001b[0m\n",
            "\u001b[2K   \u001b[90m━━━━━━━━━━━━━━━━━━━━━━━━━━━━━━━━━━━━━━━━\u001b[0m \u001b[32m1.9/1.9 MB\u001b[0m \u001b[31m71.0 MB/s\u001b[0m eta \u001b[36m0:00:00\u001b[0m\n",
            "\u001b[2K   \u001b[90m━━━━━━━━━━━━━━━━━━━━━━━━━━━━━━━━━━━━━━━━\u001b[0m \u001b[32m49.5/49.5 kB\u001b[0m \u001b[31m3.9 MB/s\u001b[0m eta \u001b[36m0:00:00\u001b[0m\n",
            "\u001b[2K   \u001b[90m━━━━━━━━━━━━━━━━━━━━━━━━━━━━━━━━━━━━━━━━\u001b[0m \u001b[32m93.2/93.2 kB\u001b[0m \u001b[31m8.1 MB/s\u001b[0m eta \u001b[36m0:00:00\u001b[0m\n",
            "\u001b[2K   \u001b[90m━━━━━━━━━━━━━━━━━━━━━━━━━━━━━━━━━━━━━━━━\u001b[0m \u001b[32m13.3/13.3 MB\u001b[0m \u001b[31m86.7 MB/s\u001b[0m eta \u001b[36m0:00:00\u001b[0m\n",
            "\u001b[2K   \u001b[90m━━━━━━━━━━━━━━━━━━━━━━━━━━━━━━━━━━━━━━━━\u001b[0m \u001b[32m55.8/55.8 kB\u001b[0m \u001b[31m4.2 MB/s\u001b[0m eta \u001b[36m0:00:00\u001b[0m\n",
            "\u001b[2K   \u001b[90m━━━━━━━━━━━━━━━━━━━━━━━━━━━━━━━━━━━━━━━━\u001b[0m \u001b[32m166.6/166.6 kB\u001b[0m \u001b[31m14.4 MB/s\u001b[0m eta \u001b[36m0:00:00\u001b[0m\n",
            "\u001b[2K   \u001b[90m━━━━━━━━━━━━━━━━━━━━━━━━━━━━━━━━━━━━━━━━\u001b[0m \u001b[32m64.3/64.3 kB\u001b[0m \u001b[31m5.7 MB/s\u001b[0m eta \u001b[36m0:00:00\u001b[0m\n",
            "\u001b[2K   \u001b[90m━━━━━━━━━━━━━━━━━━━━━━━━━━━━━━━━━━━━━━━━\u001b[0m \u001b[32m118.1/118.1 kB\u001b[0m \u001b[31m10.4 MB/s\u001b[0m eta \u001b[36m0:00:00\u001b[0m\n",
            "\u001b[2K   \u001b[90m━━━━━━━━━━━━━━━━━━━━━━━━━━━━━━━━━━━━━━━━\u001b[0m \u001b[32m54.8/54.8 kB\u001b[0m \u001b[31m4.6 MB/s\u001b[0m eta \u001b[36m0:00:00\u001b[0m\n",
            "\u001b[2K   \u001b[90m━━━━━━━━━━━━━━━━━━━━━━━━━━━━━━━━━━━━━━━━\u001b[0m \u001b[32m73.2/73.2 kB\u001b[0m \u001b[31m6.2 MB/s\u001b[0m eta \u001b[36m0:00:00\u001b[0m\n",
            "\u001b[2K   \u001b[90m━━━━━━━━━━━━━━━━━━━━━━━━━━━━━━━━━━━━━━━━\u001b[0m \u001b[32m62.3/62.3 kB\u001b[0m \u001b[31m5.5 MB/s\u001b[0m eta \u001b[36m0:00:00\u001b[0m\n",
            "\u001b[2K   \u001b[90m━━━━━━━━━━━━━━━━━━━━━━━━━━━━━━━━━━━━━━━━\u001b[0m \u001b[32m442.1/442.1 kB\u001b[0m \u001b[31m32.4 MB/s\u001b[0m eta \u001b[36m0:00:00\u001b[0m\n",
            "\u001b[2K   \u001b[90m━━━━━━━━━━━━━━━━━━━━━━━━━━━━━━━━━━━━━━━━\u001b[0m \u001b[32m319.7/319.7 kB\u001b[0m \u001b[31m26.0 MB/s\u001b[0m eta \u001b[36m0:00:00\u001b[0m\n",
            "\u001b[2K   \u001b[90m━━━━━━━━━━━━━━━━━━━━━━━━━━━━━━━━━━━━━━━━\u001b[0m \u001b[32m3.8/3.8 MB\u001b[0m \u001b[31m88.4 MB/s\u001b[0m eta \u001b[36m0:00:00\u001b[0m\n",
            "\u001b[2K   \u001b[90m━━━━━━━━━━━━━━━━━━━━━━━━━━━━━━━━━━━━━━━━\u001b[0m \u001b[32m443.8/443.8 kB\u001b[0m \u001b[31m33.5 MB/s\u001b[0m eta \u001b[36m0:00:00\u001b[0m\n",
            "\u001b[2K   \u001b[90m━━━━━━━━━━━━━━━━━━━━━━━━━━━━━━━━━━━━━━━━\u001b[0m \u001b[32m46.0/46.0 kB\u001b[0m \u001b[31m3.7 MB/s\u001b[0m eta \u001b[36m0:00:00\u001b[0m\n",
            "\u001b[2K   \u001b[90m━━━━━━━━━━━━━━━━━━━━━━━━━━━━━━━━━━━━━━━━\u001b[0m \u001b[32m86.8/86.8 kB\u001b[0m \u001b[31m7.1 MB/s\u001b[0m eta \u001b[36m0:00:00\u001b[0m\n",
            "\u001b[?25h  Building wheel for pypika (pyproject.toml) ... \u001b[?25l\u001b[?25hdone\n",
            "\u001b[31mERROR: pip's dependency resolver does not currently take into account all the packages that are installed. This behaviour is the source of the following dependency conflicts.\n",
            "tensorflow 2.17.1 requires protobuf!=4.21.0,!=4.21.1,!=4.21.2,!=4.21.3,!=4.21.4,!=4.21.5,<5.0.0dev,>=3.20.3, but you have protobuf 5.29.1 which is incompatible.\n",
            "tensorflow-metadata 1.13.1 requires protobuf<5,>=3.20.3, but you have protobuf 5.29.1 which is incompatible.\u001b[0m\u001b[31m\n",
            "\u001b[0m"
          ]
        }
      ]
    },
    {
      "cell_type": "markdown",
      "source": [
        "It is highly recommended to add your API tokens for LangChain and Groq to the Google Colab Secrets (left pain), and assign them to the following environment variables:"
      ],
      "metadata": {
        "id": "1IsewAxGN8WC"
      }
    },
    {
      "cell_type": "code",
      "source": [
        "import os\n",
        "from google.colab import userdata\n",
        "for key in ['LANGCHAIN_API_KEY', 'GROQ_API_KEY', \"HF_TOKEN\"]:\n",
        "    os.environ[key] = userdata.get(key)"
      ],
      "metadata": {
        "id": "V7x8EXl10ACu"
      },
      "execution_count": 2,
      "outputs": []
    },
    {
      "cell_type": "markdown",
      "source": [
        "Note that you also need a HuggingFace token in order to apply the BGE model."
      ],
      "metadata": {
        "id": "Q0i3UQ-kNk_s"
      }
    },
    {
      "cell_type": "markdown",
      "source": [
        "Llama3 is instantiated as follows:"
      ],
      "metadata": {
        "id": "hVs0M7C50n4m"
      }
    },
    {
      "cell_type": "code",
      "source": [
        "from langchain_groq import ChatGroq\n",
        "\n",
        "llm = ChatGroq(model=\"llama3-8b-8192\")"
      ],
      "metadata": {
        "id": "xrhlRWbdOvgY"
      },
      "execution_count": 3,
      "outputs": []
    },
    {
      "cell_type": "markdown",
      "source": [
        "Now you can start chatting with the LLM by calling method `invoke`:"
      ],
      "metadata": {
        "id": "Umx4SySEOx-j"
      }
    },
    {
      "cell_type": "code",
      "source": [
        "llm.invoke('How are you?').content"
      ],
      "metadata": {
        "colab": {
          "base_uri": "https://localhost:8080/",
          "height": 70
        },
        "id": "CLC49tEQ08TA",
        "outputId": "57e50c2b-dead-469c-85dd-18e0a76ea126"
      },
      "execution_count": 3,
      "outputs": [
        {
          "output_type": "execute_result",
          "data": {
            "text/plain": [
              "'I\\'m just a language model, I don\\'t have feelings or emotions like humans do, so I don\\'t have a personal experience of being \"good\" or \"bad\". I am simply a computer program designed to process and generate human-like text. I\\'m functioning properly and ready to assist you with any questions or tasks you may have!'"
            ],
            "application/vnd.google.colaboratory.intrinsic+json": {
              "type": "string"
            }
          },
          "metadata": {},
          "execution_count": 3
        }
      ]
    },
    {
      "cell_type": "markdown",
      "source": [
        "## **Build a RAG App**"
      ],
      "metadata": {
        "id": "HLXXVAQ6VlcN"
      }
    },
    {
      "cell_type": "markdown",
      "source": [
        "We are now ready to build a simple RAG application using the Llama3 LLM to generate answers to questions about the board games [Monopoly](https://en.wikipedia.org/wiki/Monopoly_(game)) and [Risk](https://en.wikipedia.org/wiki/Risk_(game)). On the internet, we find a PDF file with the rules in Dutch for each of these games. We will store these files in a Chroma vector store, which we will use as a retriever to provide specific content about the board games to the LLM. We expect the LLM to answer questions in English about the board games in Romanian."
      ],
      "metadata": {
        "id": "vEVB--AzUIa1"
      }
    },
    {
      "cell_type": "markdown",
      "source": [
        "### Step 1: Indexing - Load"
      ],
      "metadata": {
        "id": "vyi7H95UixWs"
      }
    },
    {
      "cell_type": "markdown",
      "source": [
        "First, we have to upload the two PDF-files explaining the rules of Monopoly and Risk:"
      ],
      "metadata": {
        "id": "gInGfaZwU8gS"
      }
    },
    {
      "cell_type": "markdown",
      "source": [
        "![image.png](data:image/png;base64,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)"
      ],
      "metadata": {
        "id": "k6FHy-6sVHAG"
      }
    },
    {
      "cell_type": "markdown",
      "source": [
        "We load the PDF-files using LangChain's `PyMuPDFLoader`:"
      ],
      "metadata": {
        "id": "PNABBRb6VJ3h"
      }
    },
    {
      "cell_type": "code",
      "source": [
        "from langchain_community.document_loaders import PyMuPDFLoader\n",
        "\n",
        "files = ['spelregels-monopoly.pdf',\n",
        "         'spelregels-risk.pdf']\n",
        "all_docs = []\n",
        "for file in files:\n",
        "    loader = PyMuPDFLoader(file)\n",
        "    docs = loader.load()\n",
        "    print(len(docs))\n",
        "    all_docs.extend(docs)\n",
        "print(len(all_docs))"
      ],
      "metadata": {
        "id": "s_voMjun5U33",
        "colab": {
          "base_uri": "https://localhost:8080/"
        },
        "outputId": "501cfa78-8118-460c-aa05-7ae058d73614"
      },
      "execution_count": 4,
      "outputs": [
        {
          "output_type": "stream",
          "name": "stdout",
          "text": [
            "2\n",
            "6\n",
            "8\n"
          ]
        }
      ]
    },
    {
      "cell_type": "markdown",
      "source": [
        "### Step 2: Indexing - Split"
      ],
      "metadata": {
        "id": "Qm4eX27T4RAy"
      }
    },
    {
      "cell_type": "markdown",
      "source": [
        "Because our loaded documents are too long to fit in the context window of many models, we split them using the `RecursiveCharacterTextSplitter` in chunks of maximum 1000 characters with 200 characters of overlap between the chunks. The overlap helps mitigate the possibility of separating a statement from important context related to it.\n",
        "\n",
        "Even for those models that could fit the full post in their context window, models can struggle to find information in very long inputs. This should help us retrieve only the most relevant bits of the documents."
      ],
      "metadata": {
        "id": "mft9wEboVUma"
      }
    },
    {
      "cell_type": "code",
      "source": [
        "from langchain_text_splitters import RecursiveCharacterTextSplitter\n",
        "\n",
        "text_splitter = RecursiveCharacterTextSplitter(\n",
        "    chunk_size=1000, chunk_overlap=200, add_start_index=True\n",
        ")\n",
        "all_splits = text_splitter.split_documents(all_docs)\n",
        "\n",
        "len(all_splits)"
      ],
      "metadata": {
        "colab": {
          "base_uri": "https://localhost:8080/"
        },
        "id": "urhHWxMF5C2K",
        "outputId": "e8c807e6-6a0a-4628-a87c-b11aedc3ca12"
      },
      "execution_count": 5,
      "outputs": [
        {
          "output_type": "execute_result",
          "data": {
            "text/plain": [
              "47"
            ]
          },
          "metadata": {},
          "execution_count": 5
        }
      ]
    },
    {
      "cell_type": "markdown",
      "source": [
        "So, we obtain 47 chunks. Let's check the minimum and maximum number of characters in these chunks:"
      ],
      "metadata": {
        "id": "YLPeJ0d2WruA"
      }
    },
    {
      "cell_type": "code",
      "source": [
        "print('min number of characters:', min(len(split.page_content) for split in all_splits))\n",
        "print('max number of characters:', max(len(split.page_content) for split in all_splits))"
      ],
      "metadata": {
        "colab": {
          "base_uri": "https://localhost:8080/"
        },
        "id": "n96z98Rf5M2U",
        "outputId": "3d8c9dbc-f8c9-4657-95ba-f2f5df2c1fe1"
      },
      "execution_count": 6,
      "outputs": [
        {
          "output_type": "stream",
          "name": "stdout",
          "text": [
            "min number of characters: 191\n",
            "max number of characters: 993\n"
          ]
        }
      ]
    },
    {
      "cell_type": "markdown",
      "source": [
        "As an example, we get the metadata from the last chunk:"
      ],
      "metadata": {
        "id": "xnv-2ss558ql"
      }
    },
    {
      "cell_type": "code",
      "source": [
        "all_splits[-1].metadata"
      ],
      "metadata": {
        "colab": {
          "base_uri": "https://localhost:8080/"
        },
        "id": "k4oB9nsA5PqT",
        "outputId": "ceeac420-b164-4b58-cf89-a341b7a1f100"
      },
      "execution_count": 7,
      "outputs": [
        {
          "output_type": "execute_result",
          "data": {
            "text/plain": [
              "{'source': 'spelregels-risk.pdf',\n",
              " 'file_path': 'spelregels-risk.pdf',\n",
              " 'page': 5,\n",
              " 'total_pages': 6,\n",
              " 'format': 'PDF 1.4',\n",
              " 'title': 'Microsoft Word - Spelregels RISK I.doc',\n",
              " 'author': '',\n",
              " 'subject': '',\n",
              " 'keywords': '',\n",
              " 'creator': 'PSCRIPT.DRV versie 4.0',\n",
              " 'producer': 'AFPL Ghostscript 7.04',\n",
              " 'creationDate': '10/07/02 19:49:06',\n",
              " 'modDate': '',\n",
              " 'trapped': '',\n",
              " 'start_index': 0}"
            ]
          },
          "metadata": {},
          "execution_count": 7
        }
      ]
    },
    {
      "cell_type": "markdown",
      "source": [
        "### Step 3: Indexing - Store"
      ],
      "metadata": {
        "id": "h1KqzFwI6ThF"
      }
    },
    {
      "cell_type": "markdown",
      "source": [
        "Now we need to index our 47 text chunks so that we can search over them at runtime. The most common way to do this is to embed the contents of each document split and insert these embeddings into a vector database (or vector store). When we want to search over our splits, we take a text search query, embed it, and perform some sort of “similarity” search to identify the stored splits with the most similar embeddings to our query embedding. The simplest similarity measure is cosine similarity — we measure the cosine of the angle between each pair of embeddings (which are high dimensional vectors)."
      ],
      "metadata": {
        "id": "offwHMQB6Ouq"
      }
    },
    {
      "cell_type": "markdown",
      "source": [
        "As already explained, we use the BGE model from HugginFace, which is free to use:"
      ],
      "metadata": {
        "id": "9IdsrKzfXHOB"
      }
    },
    {
      "cell_type": "code",
      "source": [
        "from langchain_community.embeddings import HuggingFaceBgeEmbeddings\n",
        "\n",
        "model_name = \"BAAI/bge-large-en\"\n",
        "model_kwargs = {'device': 'cuda'}\n",
        "encode_kwargs = {'normalize_embeddings': True}\n",
        "hf_bge = HuggingFaceBgeEmbeddings(\n",
        "    model_name=model_name,\n",
        "    model_kwargs=model_kwargs,\n",
        "    encode_kwargs=encode_kwargs\n",
        ")"
      ],
      "metadata": {
        "id": "6h1PlRMb6tik",
        "colab": {
          "base_uri": "https://localhost:8080/",
          "height": 424,
          "referenced_widgets": [
            "525eae76ba9a497884d84720853fec25",
            "9b64cc99c4df444dbe7510de7f412544",
            "401c6a2e83fc4f99a5ba2e154d4e5cef",
            "50678d3f564f401a89110177285a5074",
            "69e75f0ba6754fb78af3997b4d745d27",
            "1b6a8fda36f44c049309fa49aca31d60",
            "f8f8beb724a046a9b9f07b93bf5a79f2",
            "be2b923b86d74469888014990a53eb93",
            "7d5cdd7f95d84ce393e74926b93aca5e",
            "3fd1a312b07d46c48bbcf739690b1a5e",
            "22ca7a2f7a9144248440bb31cf3f8a27",
            "f99f115a882847fda5b901ee3b823118",
            "f403b03d5d8f4312a414560df56de086",
            "f69bebdca9f749df82250eddb93f5815",
            "83583deae3ee46528ae2b18d6582e286",
            "1b5443ea99894b47900086be20881c5a",
            "5c30f5f5792840a29de66f022a402586",
            "20e933ff364a44008d6e5a4938d5b429",
            "8cd9d46423d84c9593d64619e4f18e7b",
            "e0b2fa032a8547bba29eeb7804d9a39f",
            "68100b8014fa4e9eb58f595a49a98421",
            "debc15cd86fe409c8cde105a96a1112f",
            "54248f8a86c147cebb75f0262816d51c",
            "d8c99b4894de4f3c830db663d16fb228",
            "71a66f5ce13d47f4879907d491539fbe",
            "2fdc19be11674d59b8477d97f39fec5e",
            "441afda7b241486cad0506fb065e44ed",
            "a81e6c15ce9a45ceab77973c14708084",
            "a84c3efcf22a4356b231def3a1bc7710",
            "50b0e13a18d8479fa64a90a8a3a4b9ab",
            "dbbf97ce6c6846c283d44df6f1fa3f04",
            "c67743740e5143969c4d4d524342f5f0",
            "0538f40920fd446aac89561a01a3c6b5",
            "509104620c894f4f80c7f84243ff9152",
            "a521ff5e564646c9b8ac34814ae53dcd",
            "ee8bcab27ade4acab0c03546ab237200",
            "7bd03deaf8b343c1b508be797fd14af6",
            "5849799d43b543d8930b5bc05a245ea5",
            "d83d126d381f4a89a562e5ea28d783ba",
            "65efd4a37d414932b192338c9595561f",
            "58d43f49303b4ca5b0e343ac1b4732aa",
            "9b153582215b4c60bcd97958dbfccc29",
            "6bd09b28d9a1400f856c392921a776ad",
            "f70ecf632467417cb9653c60318d1ba1",
            "d2e63a4d8d584612b78caa717db07235",
            "2f3109893c9643538880ebfb06aa2eb9",
            "f3b4347ab0404edc99718ec597103493",
            "81469b68874b41b79d98dacebf2a1f4d",
            "23499f4ef46248eb927958859878c751",
            "d07a85232b4d496c93e9b69b3499087f",
            "793afd4731764d50a758c67d3b12a850",
            "e5019d9c4b0c4bf481a70350c03e538b",
            "06a8fb0767d54207ac87e5bef62b063e",
            "ea11c4dcdc754a95a1f528b8665c42d0",
            "acd7fda64f2e47a094ce9560a5079308",
            "6e46762d65e94ef0925b96aa129639ae",
            "c95b4707352644f5aa274781577f48ce",
            "2d7719073e844b50bae60dd71331f904",
            "177bfd775366441aa601cf1526f9e740",
            "4b30fdc572f941d5b20538e863f8f856",
            "75ec38b9122b4c7a8529d016114debbf",
            "4aaf2f029bc9412e897f6095ae406e79",
            "9eb53670d02240df8681566f11f79526",
            "9270123298c4404e85b959cc9ef84e5c",
            "ade797b6380f4566983c37262da8a53e",
            "d7abb7a080474fc3ae484230cb059a6f",
            "aadd9c90c3a94a36a2e26bb787d3aa0f",
            "8fa6769843c04b7c805b318c13b5afa7",
            "28dbd87332f3467da520e147f0eeb630",
            "0c0a38a0b42b4578ba06d31cab6e3703",
            "5a0a0680053645b687cf57d453391134",
            "05d2a7667a12485a8092fedfb117724e",
            "cbacae7bb44e401a840f07dfcf86b65d",
            "a6826cc9ea544ae69aa8d1b34914bf49",
            "90ae95ee29834f998d975812d8452caf",
            "f73b66766f8e4c7587c07c803e4082ab",
            "881b7173c32a4e8f8b21ad8bb4826bb0",
            "cc1e00773082407e9a63c825d26f969b",
            "6eb24652a1434be390d8ff43800c31aa",
            "bedab7615e1a48d0a31ff7f319fe4ba8",
            "a563266e2d3f4e8b88a35f9d664e4e81",
            "32db7f1782c2463abcb15eaaedd954ac",
            "d15f187672a745b48a7402d1d2f4d073",
            "aa2345a2609d465ca3b3bc151e3c5b20",
            "4658664257fb4edc98edd3723787c20a",
            "d618371ac5a64ceea8d7d832666045b7",
            "fc42c3c5682346c5bc207e5253266e4a",
            "09c73660850d4490a6aef145a2164829",
            "ad8bd6721c414d218db21cbae4f18d3b",
            "9dc036cf783a4461ae453eb674b62e59",
            "0a6b3a2fcd86456285257991700fd7c8",
            "4c26df8854ae4890a32dfca48988ebab",
            "3110c6cc599f4258ae8396297eceb49d",
            "037750ec587046c793e61d59c167d2ab",
            "07b214b3e49c419ea9564f167994107b",
            "c8bcc841a04f498ebead410ffd38e883",
            "98739132880f4ef4be59548abdf99921",
            "8afb5daf8ab0403f868a3d76095d2d09",
            "3473488913ab4f9290478c852fe4118f",
            "250178410ac34fa0b8bba93d5847feaa",
            "67cb3340556c4aa0b0664db56a0295be",
            "43c391b2344748bf8abe1511e03f4303",
            "7e10ca9944ae4192ac31903de6b2d7f2",
            "0940b8c2edd44b2097898281950b074a",
            "ea281286d380421fabb4675b17756491",
            "55e2457c652546fabb479307e19df48b",
            "dc98f789f5c640a8b84a9d4c1e11e95f",
            "ac825f09219a4863b85e5e065e69d46f",
            "9c8da8a46b88405e833ffc3e20f156df",
            "77341dd88e05466881917de0b0690774",
            "a0eda83c3b024849a34abb1c31818907",
            "d28eec3fa20d4951b1963f8712015ad2",
            "2f588842b6e548c3865e86a72b219c17",
            "66edf96f25a64259b9d13da1902cc76c",
            "5df15fcda6934767835e5f6f194c1ed5",
            "adb788a90649489b83166dd0a7c2de5d",
            "ad1a2129b45249129d0940aa78af382f",
            "e29a2045e7f744afa3a675f2f94d2d29",
            "1df55988cc9f491a8e45b40caa9eb627",
            "8d69e9f960084440aa76366d35f04255",
            "9ed5867fd9ac4949bff2146e610a3d93"
          ]
        },
        "outputId": "63a328be-d8de-41da-a771-7f7237a40aab"
      },
      "execution_count": 8,
      "outputs": [
        {
          "output_type": "stream",
          "name": "stderr",
          "text": [
            "/usr/local/lib/python3.10/dist-packages/sentence_transformers/cross_encoder/CrossEncoder.py:13: TqdmExperimentalWarning: Using `tqdm.autonotebook.tqdm` in notebook mode. Use `tqdm.tqdm` instead to force console mode (e.g. in jupyter console)\n",
            "  from tqdm.autonotebook import tqdm, trange\n"
          ]
        },
        {
          "output_type": "display_data",
          "data": {
            "text/plain": [
              "modules.json:   0%|          | 0.00/349 [00:00<?, ?B/s]"
            ],
            "application/vnd.jupyter.widget-view+json": {
              "version_major": 2,
              "version_minor": 0,
              "model_id": "525eae76ba9a497884d84720853fec25"
            }
          },
          "metadata": {}
        },
        {
          "output_type": "display_data",
          "data": {
            "text/plain": [
              "config_sentence_transformers.json:   0%|          | 0.00/124 [00:00<?, ?B/s]"
            ],
            "application/vnd.jupyter.widget-view+json": {
              "version_major": 2,
              "version_minor": 0,
              "model_id": "f99f115a882847fda5b901ee3b823118"
            }
          },
          "metadata": {}
        },
        {
          "output_type": "display_data",
          "data": {
            "text/plain": [
              "README.md:   0%|          | 0.00/90.3k [00:00<?, ?B/s]"
            ],
            "application/vnd.jupyter.widget-view+json": {
              "version_major": 2,
              "version_minor": 0,
              "model_id": "54248f8a86c147cebb75f0262816d51c"
            }
          },
          "metadata": {}
        },
        {
          "output_type": "display_data",
          "data": {
            "text/plain": [
              "sentence_bert_config.json:   0%|          | 0.00/52.0 [00:00<?, ?B/s]"
            ],
            "application/vnd.jupyter.widget-view+json": {
              "version_major": 2,
              "version_minor": 0,
              "model_id": "509104620c894f4f80c7f84243ff9152"
            }
          },
          "metadata": {}
        },
        {
          "output_type": "display_data",
          "data": {
            "text/plain": [
              "config.json:   0%|          | 0.00/720 [00:00<?, ?B/s]"
            ],
            "application/vnd.jupyter.widget-view+json": {
              "version_major": 2,
              "version_minor": 0,
              "model_id": "d2e63a4d8d584612b78caa717db07235"
            }
          },
          "metadata": {}
        },
        {
          "output_type": "display_data",
          "data": {
            "text/plain": [
              "model.safetensors:   0%|          | 0.00/1.34G [00:00<?, ?B/s]"
            ],
            "application/vnd.jupyter.widget-view+json": {
              "version_major": 2,
              "version_minor": 0,
              "model_id": "6e46762d65e94ef0925b96aa129639ae"
            }
          },
          "metadata": {}
        },
        {
          "output_type": "display_data",
          "data": {
            "text/plain": [
              "tokenizer_config.json:   0%|          | 0.00/366 [00:00<?, ?B/s]"
            ],
            "application/vnd.jupyter.widget-view+json": {
              "version_major": 2,
              "version_minor": 0,
              "model_id": "aadd9c90c3a94a36a2e26bb787d3aa0f"
            }
          },
          "metadata": {}
        },
        {
          "output_type": "display_data",
          "data": {
            "text/plain": [
              "vocab.txt:   0%|          | 0.00/232k [00:00<?, ?B/s]"
            ],
            "application/vnd.jupyter.widget-view+json": {
              "version_major": 2,
              "version_minor": 0,
              "model_id": "cc1e00773082407e9a63c825d26f969b"
            }
          },
          "metadata": {}
        },
        {
          "output_type": "display_data",
          "data": {
            "text/plain": [
              "tokenizer.json:   0%|          | 0.00/711k [00:00<?, ?B/s]"
            ],
            "application/vnd.jupyter.widget-view+json": {
              "version_major": 2,
              "version_minor": 0,
              "model_id": "ad8bd6721c414d218db21cbae4f18d3b"
            }
          },
          "metadata": {}
        },
        {
          "output_type": "display_data",
          "data": {
            "text/plain": [
              "special_tokens_map.json:   0%|          | 0.00/125 [00:00<?, ?B/s]"
            ],
            "application/vnd.jupyter.widget-view+json": {
              "version_major": 2,
              "version_minor": 0,
              "model_id": "250178410ac34fa0b8bba93d5847feaa"
            }
          },
          "metadata": {}
        },
        {
          "output_type": "display_data",
          "data": {
            "text/plain": [
              "1_Pooling/config.json:   0%|          | 0.00/191 [00:00<?, ?B/s]"
            ],
            "application/vnd.jupyter.widget-view+json": {
              "version_major": 2,
              "version_minor": 0,
              "model_id": "a0eda83c3b024849a34abb1c31818907"
            }
          },
          "metadata": {}
        }
      ]
    },
    {
      "cell_type": "markdown",
      "source": [
        "Now, we can embed and store all of our document splits in a single command using the Chroma vector store and the BGE model. It is recommended to use GPU, especially when you have to embed a lot of text!"
      ],
      "metadata": {
        "id": "IKUoAlrc63uB"
      }
    },
    {
      "cell_type": "code",
      "source": [
        "from langchain_chroma import Chroma\n",
        "\n",
        "vectorstore = Chroma.from_documents(persist_directory='./chroma',\n",
        "                                    documents=all_splits, embedding=hf_bge)"
      ],
      "metadata": {
        "id": "1G73CXPI6kRx"
      },
      "execution_count": 9,
      "outputs": []
    },
    {
      "cell_type": "markdown",
      "source": [
        "### Step 4: Retrieval and Generation - Retrieve"
      ],
      "metadata": {
        "id": "vFQ6vXgV7vZ0"
      }
    },
    {
      "cell_type": "markdown",
      "source": [
        "Now let's write the actual application logic. We want to create a simple application that takes a user question, searches for documents relevant to that question, passes the retrieved documents and initial question to a model, and returns an answer.\n",
        "\n",
        "First we need to define our logic for searching over documents. LangChain defines a `Retriever` interface which wraps an index that can return relevant `Document` objects given a string query.\n",
        "\n",
        "The most common type of `Retriever` is the `VectorStoreRetriever`, which uses the similarity search capabilities of a vector store to facilitate retrieval. Any `VectorStore` can easily be turned into a `Retriever` with `VectorStore.as_retriever()`:"
      ],
      "metadata": {
        "id": "zZi-6mB779im"
      }
    },
    {
      "cell_type": "code",
      "source": [
        "retriever = vectorstore.as_retriever(search_type=\"similarity\", search_kwargs={\"k\": 6})\n",
        "retrieved_docs = retriever.invoke(\"What is monopoly?\")\n",
        "len(retrieved_docs)"
      ],
      "metadata": {
        "colab": {
          "base_uri": "https://localhost:8080/"
        },
        "id": "W2wVBaQP8kad",
        "outputId": "c0c4294c-23fb-4c34-883c-80fce6bc1e6c"
      },
      "execution_count": 10,
      "outputs": [
        {
          "output_type": "execute_result",
          "data": {
            "text/plain": [
              "6"
            ]
          },
          "metadata": {},
          "execution_count": 10
        }
      ]
    },
    {
      "cell_type": "markdown",
      "source": [
        "As expected, 6 documents are retrieved, because we've set `\"k\"` to 6, meaning we want the 6 most similar documents.\n",
        "\n",
        "Let's read the first retrieved document:"
      ],
      "metadata": {
        "id": "XyGJ3hwB8qna"
      }
    },
    {
      "cell_type": "code",
      "source": [
        "print(retrieved_docs[0].page_content)"
      ],
      "metadata": {
        "colab": {
          "base_uri": "https://localhost:8080/"
        },
        "id": "UAL4FXh_8rhf",
        "outputId": "852f66cb-9148-4853-b909-cacfc9c8ea0e"
      },
      "execution_count": 11,
      "outputs": [
        {
          "output_type": "stream",
          "name": "stdout",
          "text": [
            "090100009104\n",
            "090100009104\n",
            "STANDARD MONOPOLY Instructions (NL) 3rd Mechanicals\n",
            "6\n",
            "7\n",
            "HET BEROEMDE GEZELSCHAPSSPEL\n",
            "HET SPEL IN HET KORT \n",
            "MONOPOLY is het spel waarbij onroerend goed zo gunstig mogelijk\n",
            "gekocht, gehuurd of verkocht moet worden, zodat het bezit van de\n",
            "spelers toeneemt – degene die het rijkst is, wordt uiteindelijk de\n",
            "winnaar. De spelers beginnen bij “START” en verplaatsen hun pion als\n",
            "ze aan de beurt zijn zoveel vakjes over het speelbord als ze gegooid\n",
            "hebben met de dobbelstenen. Als u terecht komt op een stuk grond\n",
            "dat nog niet verkocht is, kunt u het kopen van de bank. Als u besluit\n",
            "het niet te kopen, verkoopt de bank de grond meteen bij opbod aan\n",
            "de hoogste bieder. Spelers die grond bezitten, ontvangen huur van\n",
            "andere spelers die erop terecht komen. De huur wordt steeds hoger\n",
            "naarmate er meer huizen en hotels worden gebouwd, dus het is\n",
            "verstandig zoveel mogelijk te bouwen. Om aan geld te komen, kunt\n",
            "u op straten hypotheek verlenen aan de bank. U moet de aanwijzingen\n"
          ]
        }
      ]
    },
    {
      "cell_type": "markdown",
      "source": [
        "### Step 5: Retrieval and Generation - Generate"
      ],
      "metadata": {
        "id": "tUAi-5uS70I8"
      }
    },
    {
      "cell_type": "markdown",
      "source": [
        "Finally, we create the RAG chain. First, we have to write the system prompt with general instructions for the LLM. The system prompt always precedes the user prompt and contains the context retrieved from the vector store. We use LangChain's `ChatPromptTemplate`:"
      ],
      "metadata": {
        "id": "zTxWfKh1Y2xE"
      }
    },
    {
      "cell_type": "code",
      "source": [
        "from langchain_core.prompts import ChatPromptTemplate\n",
        "\n",
        "system_prompt = (\n",
        "    \"You are an assistant for question-answering tasks. \"\n",
        "    \"Use the following pieces of retrieved context to answer \"\n",
        "    \"the question. If you don't know the answer, say that you \"\n",
        "    \"don't know. Use three sentences maximum and keep the \"\n",
        "    \"answer concise. Questions will be asked in English. \"\n",
        "    \"You have to answer in Romanian.\"\n",
        "    \"\\n\\n\"\n",
        "    \"{context}\"\n",
        ")\n",
        "\n",
        "prompt = ChatPromptTemplate.from_messages(\n",
        "    [\n",
        "        (\"system\", system_prompt),\n",
        "        (\"human\", \"{input}\"),\n",
        "    ]\n",
        ")"
      ],
      "metadata": {
        "id": "5Tgc0ZIgY1jQ"
      },
      "execution_count": 12,
      "outputs": []
    },
    {
      "cell_type": "markdown",
      "source": [
        "LangChain includes convenience functions to implement the RAG chain. We compose two functions:\n",
        "\n",
        "- `create_stuff_documents_chain` specifies how retrieved context is fed into a prompt and LLM. In this case, we will \"stuff\" the contents into the prompt - i.e., we will include all retrieved context without any summarization or other processing.\n",
        "- `create_retrieval_chain` adds the retrieval step and propagates the retrieved context through the chain, providing it alongside the final answer. It has input key `input`, and includes `input`, `context`, and `answer` in its output."
      ],
      "metadata": {
        "id": "QGLCv9vnB7Ev"
      }
    },
    {
      "cell_type": "code",
      "source": [
        "from langchain.chains import create_retrieval_chain\n",
        "from langchain.chains.combine_documents import create_stuff_documents_chain\n",
        "\n",
        "question_answer_chain = create_stuff_documents_chain(llm, prompt)\n",
        "rag_chain = create_retrieval_chain(retriever, question_answer_chain)"
      ],
      "metadata": {
        "id": "Mec0OaBIZv0s"
      },
      "execution_count": 13,
      "outputs": []
    },
    {
      "cell_type": "markdown",
      "source": [
        "Ok, we're ready to ask questions now!"
      ],
      "metadata": {
        "id": "FO7VG6PqZ5GA"
      }
    },
    {
      "cell_type": "code",
      "source": [
        "response = rag_chain.invoke({\"input\": \"What is monopoly?\"})\n",
        "print(response[\"answer\"])"
      ],
      "metadata": {
        "colab": {
          "base_uri": "https://localhost:8080/"
        },
        "id": "dQoYliCRCtVr",
        "outputId": "5a2712af-9e08-486b-eb44-0520d7ff8ae8"
      },
      "execution_count": 14,
      "outputs": [
        {
          "output_type": "stream",
          "name": "stdout",
          "text": [
            "Monopoly este jocul în care se încearcă să cumpărați, să închiriați sau să vărsați imobiliare pentru a crește bogăția și a deveni cel mai bogat jucător.\n"
          ]
        }
      ]
    },
    {
      "cell_type": "markdown",
      "source": [
        "Let's find out which chunks of text it received from the vector store:"
      ],
      "metadata": {
        "id": "L8WYVTeXaBWQ"
      }
    },
    {
      "cell_type": "code",
      "source": [
        "for document in response[\"context\"]:\n",
        "    print(document)\n",
        "    print()"
      ],
      "metadata": {
        "colab": {
          "base_uri": "https://localhost:8080/"
        },
        "id": "LwwjVIBsC4g2",
        "outputId": "2b71dd16-737a-407f-8316-a3f54c6d0046"
      },
      "execution_count": 15,
      "outputs": [
        {
          "output_type": "stream",
          "name": "stdout",
          "text": [
            "page_content='090100009104\n",
            "090100009104\n",
            "STANDARD MONOPOLY Instructions (NL) 3rd Mechanicals\n",
            "6\n",
            "7\n",
            "HET BEROEMDE GEZELSCHAPSSPEL\n",
            "HET SPEL IN HET KORT \n",
            "MONOPOLY is het spel waarbij onroerend goed zo gunstig mogelijk\n",
            "gekocht, gehuurd of verkocht moet worden, zodat het bezit van de\n",
            "spelers toeneemt – degene die het rijkst is, wordt uiteindelijk de\n",
            "winnaar. De spelers beginnen bij “START” en verplaatsen hun pion als\n",
            "ze aan de beurt zijn zoveel vakjes over het speelbord als ze gegooid\n",
            "hebben met de dobbelstenen. Als u terecht komt op een stuk grond\n",
            "dat nog niet verkocht is, kunt u het kopen van de bank. Als u besluit\n",
            "het niet te kopen, verkoopt de bank de grond meteen bij opbod aan\n",
            "de hoogste bieder. Spelers die grond bezitten, ontvangen huur van\n",
            "andere spelers die erop terecht komen. De huur wordt steeds hoger\n",
            "naarmate er meer huizen en hotels worden gebouwd, dus het is\n",
            "verstandig zoveel mogelijk te bouwen. Om aan geld te komen, kunt\n",
            "u op straten hypotheek verlenen aan de bank. U moet de aanwijzingen' metadata={'author': 'marshad', 'creationDate': 'D:20010911180558', 'creator': 'QuarkXPressª 4.11: AdobePS 8.7.2 (104)', 'file_path': 'spelregels-monopoly.pdf', 'format': 'PDF 1.2', 'keywords': '', 'modDate': '', 'page': 0, 'producer': 'Acrobat Distiller 3.01 for Power Macintosh', 'source': 'spelregels-monopoly.pdf', 'start_index': 0, 'subject': '', 'title': '00009i04', 'total_pages': 2, 'trapped': ''}\n",
            "\n",
            "page_content='090100009104\n",
            "STANDARD MONOPOLY Instructions (NL) 3rd Mechanicals\n",
            "2\n",
            "3\n",
            "4\n",
            "5\n",
            "4. De bankier en de bank\n",
            "Kies welke speler de bank gaat beheren. Als er meer dan vijf spelers\n",
            "zijn, dan kan deze speler ook uitsluitend als bankier meespelen.\n",
            "De bank geeft elke speler E 1500 in de volgende biljetten:\n",
            "2 van E 500\n",
            "4 van E 100\n",
            "1 van E 50\n",
            "1 van E 20\n",
            "2 van E 10\n",
            "1 van E 5\n",
            "5 van E 1\n",
            "Behalve het geld, beheert de bank ook de eigendomsbewijzen,\n",
            "de huizen en de hotels tot deze door de spelers gekocht worden.\n",
            "De bank betaalt tevens salarissen en premies uit, leent de spelers\n",
            "indien nodig geld voor hypotheken en int alle belastingen, boetes,\n",
            "aﬂossing van leningen en rente. Bij het veilen (bij opbod verkopen)\n",
            "van grond, fungeert de bank als veilingmeester. De bank kan nooit\n",
            "“failliet gaan” en mag daarom indien nodig geld uitbetalen in de\n",
            "vorm van schuldbekentenissen die gewoon op een papiertje\n",
            "geschreven worden.\n",
            "5. De spelers gooien om de beurt de dobbelstenen. Wie het hoogst' metadata={'author': 'marshad', 'creationDate': 'D:20010911180558', 'creator': 'QuarkXPressª 4.11: AdobePS 8.7.2 (104)', 'file_path': 'spelregels-monopoly.pdf', 'format': 'PDF 1.2', 'keywords': '', 'modDate': '', 'page': 1, 'producer': 'Acrobat Distiller 3.01 for Power Macintosh', 'source': 'spelregels-monopoly.pdf', 'start_index': 0, 'subject': '', 'title': '00009i04', 'total_pages': 2, 'trapped': ''}\n",
            "\n",
            "page_content='ruil daarvoor ontvangt u het eigendomsbewijs van het betreffende\n",
            "vakje. Dit kaartje legt u met de goede kant omhoog voor u neer. Als u\n",
            "besluit niet te kopen, moet de bank de betreffende grond direct bij\n",
            "opbod te koop aanbieden, te beginnen bij een prijs die een van de\n",
            "spelers ervoor geven wil. De speler die afzag van zijn kooprecht mag\n",
            "ook meebieden.\n",
            "Verkochte grond\n",
            "Als een speler terecht komt op verkochte grond, dan heeft de eigenaar\n",
            "daarvan recht op huur. Het is gunstig om alle straten van één kleur\n",
            "(een stad) in handen te krijgen – m.a.w. een “monopolie”. U mag\n",
            "alleen bouwen op straten waarvan u de complete stad bezit.\n",
            "Huur\n",
            "Als u terecht komt op grond van een andere speler, dan heeft de\n",
            "eigenaar van de grond het recht u om huur te vragen. De grondeigenaar\n",
            "moet huur vragen voordat de volgende speler de dobbelstenen gooit.\n",
            "Het te betalen bedrag staat aangegeven op het eigendomsbewijs van\n",
            "de betreffende grond en is afhankelijk van de hoeveelheid bebouwing.' metadata={'author': 'marshad', 'creationDate': 'D:20010911180558', 'creator': 'QuarkXPressª 4.11: AdobePS 8.7.2 (104)', 'file_path': 'spelregels-monopoly.pdf', 'format': 'PDF 1.2', 'keywords': '', 'modDate': '', 'page': 1, 'producer': 'Acrobat Distiller 3.01 for Power Macintosh', 'source': 'spelregels-monopoly.pdf', 'start_index': 2479, 'subject': '', 'title': '00009i04', 'total_pages': 2, 'trapped': ''}\n",
            "\n",
            "page_content='© 2001 Hasbro Inc. Alle rechten voorbehouden.\n",
            "Gedistribueerd in Nederland door Hasbro B.V., \n",
            "Postbus 3010, 3502 GA Utrecht. \n",
            "Hasbro consumentenservice:\n",
            "Antwoordnummer 2605, \n",
            "9500 XJ TER APEL. \n",
            "E-mail:\n",
            "consumentenservice@hasbro.co.uk.\n",
            "00009i04  11/09/2001  05:32 pm  Page 1' metadata={'author': 'marshad', 'creationDate': 'D:20010911180558', 'creator': 'QuarkXPressª 4.11: AdobePS 8.7.2 (104)', 'file_path': 'spelregels-monopoly.pdf', 'format': 'PDF 1.2', 'keywords': '', 'modDate': '', 'page': 0, 'producer': 'Acrobat Distiller 3.01 for Power Macintosh', 'source': 'spelregels-monopoly.pdf', 'start_index': 8012, 'subject': '', 'title': '00009i04', 'total_pages': 2, 'trapped': ''}\n",
            "\n",
            "page_content='het hotel naar de bank en u ontvangt 4 huizen én geld voor het hotel\n",
            "(d.w.z. de halve koopprijs). Bezit waar hypotheek op rust, mag\n",
            "alleen aan andere spelers verkocht worden en niet aan de bank.\n",
            "Hypotheek\n",
            "Als u geen geld meer hebt en u moet een schuld betalen, dan kunt u\n",
            "aan geld komen door één of meer van uw bezittingen met hypotheek\n",
            "te bezwaren. Verkoop eerst alle eventuele bebouwing. Draai nu het\n",
            "eigendomsbewijs om en de bank betaalt u de hypotheekwaarde die\n",
            "op de achterkant van de kaart staat. Wanneer u de hypotheek wilt\n",
            "aﬂossen, moet u het geleende bedrag plus 10% hypotheekrente aan\n",
            "de bank betalen. Een stuk grond dat met hypotheek bezwaard is,\n",
            "blijft in het bezit van de eigenaar. Andere spelers kunnen de grond\n",
            "niet overnemen door de hypotheek bij de bank af te lossen. Er mag\n",
            "geen huur geïnd worden voor grond waar hypotheek op rust, wél\n",
            "voor eventuele andere straten van dezelfde stad. U mag grond die\n",
            "met hypotheek bezwaard is wel tegen een overeengekomen prijs' metadata={'author': 'marshad', 'creationDate': 'D:20010911180558', 'creator': 'QuarkXPressª 4.11: AdobePS 8.7.2 (104)', 'file_path': 'spelregels-monopoly.pdf', 'format': 'PDF 1.2', 'keywords': '', 'modDate': '', 'page': 0, 'producer': 'Acrobat Distiller 3.01 for Power Macintosh', 'source': 'spelregels-monopoly.pdf', 'start_index': 3180, 'subject': '', 'title': '00009i04', 'total_pages': 2, 'trapped': ''}\n",
            "\n",
            "page_content='Het te betalen bedrag staat aangegeven op het eigendomsbewijs van\n",
            "de betreffende grond en is afhankelijk van de hoeveelheid bebouwing.\n",
            "Als een speler alle straten van één stad in zijn/haar bezit heeft, dan\n",
            "mag hij/zij – zolang de straten onbebouwd zijn – de dubbele huur\n",
            "vragen. Wanneer een van de straten met hypotheek bezwaard is,\n",
            "mag er geen dubbele huur geïnd worden. Als er huizen of hotels op\n",
            "een straat staan, is de huur hoger dan bij onbebouwde grond (zie\n",
            "eigendomsbewijs). Voor straten die met hypotheek bezwaard zijn,\n",
            "mag geen huur gevraagd worden.\n",
            "Nutsbedrijven\n",
            "Als u op een Nutsbedrijf terecht komt mag u het, als dat nog kan,\n",
            "kopen. Net als bij de andere grond betaalt u de bank het bedrag dat\n",
            "op het vakje staat aangegeven. Als een andere speler de grond al in\n",
            "bezit heeft, heeft hij/zij recht op huur. De huur wordt berekend aan\n",
            "de hand van wat u zojuist gegooid heeft. Heeft de eigenaar één\n",
            "Nutsbedrijf, dan bedraagt de huur 4 maal het aantal ogen van de' metadata={'author': 'marshad', 'creationDate': 'D:20010911180558', 'creator': 'QuarkXPressª 4.11: AdobePS 8.7.2 (104)', 'file_path': 'spelregels-monopoly.pdf', 'format': 'PDF 1.2', 'keywords': '', 'modDate': '', 'page': 1, 'producer': 'Acrobat Distiller 3.01 for Power Macintosh', 'source': 'spelregels-monopoly.pdf', 'start_index': 3315, 'subject': '', 'title': '00009i04', 'total_pages': 2, 'trapped': ''}\n",
            "\n"
          ]
        }
      ]
    },
    {
      "cell_type": "markdown",
      "source": [
        "Let's define a function to make asking questions to the RAG app easier and to wrap up the answer:"
      ],
      "metadata": {
        "id": "8O3H_LIvaRML"
      }
    },
    {
      "cell_type": "code",
      "source": [
        "import textwrap\n",
        "\n",
        "def ask_question(question, print_sources=False):\n",
        "    response = rag_chain.invoke({\"input\": question})\n",
        "\n",
        "    # Wrap the answer to fit the window width\n",
        "    wrapped_answer = textwrap.fill(response[\"answer\"], width=80)\n",
        "    print(wrapped_answer)\n",
        "\n",
        "    if print_sources:\n",
        "        print('\\n\\nSOURCES:\\n')\n",
        "        for document in response[\"context\"]:\n",
        "            # Wrap the document content to fit the window width\n",
        "            wrapped_doc = textwrap.fill(document.page_content, width=80)\n",
        "            print(wrapped_doc)\n",
        "            print()"
      ],
      "metadata": {
        "id": "ssPhkDO-lJJq"
      },
      "execution_count": 16,
      "outputs": []
    },
    {
      "cell_type": "code",
      "source": [
        "ask_question(\"What is Risk?\")"
      ],
      "metadata": {
        "id": "jOGZGYNZsJY3",
        "colab": {
          "base_uri": "https://localhost:8080/"
        },
        "outputId": "9b0b77e9-c4ea-4a80-d768-6dceae06b1a0"
      },
      "execution_count": 17,
      "outputs": [
        {
          "output_type": "stream",
          "name": "stdout",
          "text": [
            "RISK este un joc strategiei, care se joacă pe o hartă a lumii, împărțită în 42\n",
            "de zone, și scopul este să ajungi primul jucător să îndeplinească misiunea\n",
            "primită la începutul jocului.\n"
          ]
        }
      ]
    },
    {
      "cell_type": "code",
      "source": [
        "ask_question(\"Playing Risk, how do I conquer a zone?\", print_sources=True)"
      ],
      "metadata": {
        "colab": {
          "base_uri": "https://localhost:8080/"
        },
        "id": "0aDvui2_7sCC",
        "outputId": "affb93c7-031b-444f-d391-9fe7bd967683"
      },
      "execution_count": 18,
      "outputs": [
        {
          "output_type": "stream",
          "name": "stdout",
          "text": [
            "În jocul Risk, pentru a învinge o zonă, ajungeți să aveți mai mulți soldați\n",
            "decât adversarul în acel teritoriu și apoi înlocuiți soldații adversarului cu\n",
            "cei ai dvs. Dacă aveți doar un soldat și adversarul are doi, de pildă, atunci nu\n",
            "puteți să învingeți zona, deoarece aveți mai puțini soldați.\n",
            "\n",
            "\n",
            "SOURCES:\n",
            "\n",
            "RISK-CLUB RISK ENTERPRISE    1  RISK      Consumentenservice    Wij besteden de\n",
            "grootste zorg aan de fabricage van onze spellen en speelgoed. Mocht er ondanks\n",
            "dat iets  niet in orde zijn op het moment dat u het ontvangt, Iaat het ons dan\n",
            "weten. Beschrijf het probleem en stuur  uw brief met vermelding van uw naam,\n",
            "adres en datum van aankoop naar:   Voor Nederland: Kenner Parker, Koninginneweg\n",
            "6, 1075 c x Amsterdam.   Voor België: Kenner Parker, Jetse Steenweg 518 1090\n",
            "Brussel.    INHOUD    1 speelbord voorstellende de wereldkaart verdeeld in 42\n",
            "gebieden, welke weer ondergebracht zijn in 6  continenten:    NOORD-AMERIKA\n",
            "ZUID-AMERIKA   EUROPA   AFRIKA   AZIE   AUSTRALIE    6 dozen met legers\n",
            "uitgevoerd in verschillende kleuren    Een      = 1 leger; een   = 5 legers; een\n",
            "= 10 legers.    Het is mogelijk, dat dit spel nog niet de 5-legerstukken bevat.\n",
            "Dit heeft geen invloed op het spelverloop.\n",
            "\n",
            "aanvaller, wanneer deze er in is geslaagd één of meer gebieden tijdens zijn\n",
            "speelbeurt te veroveren.    DE SPELER DIE HET EERST ZIJN OPDRACHT HEEFT VERVULD\n",
            "IS WINNAAR.      Samenvatting:  RISK is een strategisch spel, dat op een\n",
            "wereldkaart wordt gespeeld, die verdeeld is in 42 gebieden.  Het doel is om als\n",
            "eerste speler zijn bij het begin van het spel gekregen opdracht te volbrengen.\n",
            "Het is raadzaam de eerste beurten van het spel te gebruiken om strategische\n",
            "stellingen op te bouwen,  alvorens men besluit in de aanval te gaan.    Tijdens\n",
            "zijn beurt heeft iedere speler de volgende mogelijkheden:    1. Het plaatsen van\n",
            "nieuwe legers op door hem bezette gebieden.  Het aantal nieuwe legers hangt van\n",
            "het aantal eigendomsgebieden af .    2. Het openen van de aanval op gebieden van\n",
            "één of meer van zijn tegenspelers.    3. Na een succesvolle aanval het nieuwe\n",
            "veroverde gebied bezetten en/of aan het einde van zijn beurt het\n",
            "\n",
            "RISK-CLUB RISK ENTERPRISE    3  EXTRA legers krijgt men voor het inleveren van 3\n",
            "symboolkaarten, en wel:  3 ARTILLERIEKAARTEN   - 4 EXTRA LEGERS   3\n",
            "INFANTERIEKAARTEN   - 6 EXTRA LEGERS   3 CAVALERIEKAARTEN   - 8 EXTRA LEGERS   1\n",
            "ARTILLERIE + 1 INFANTERIE   + 1 CAVALERIEKAART   - 10 EXTRA LEGERS    Een\n",
            "jokerkaart mag bij elke combinatie als 3e kaart gebruikt worden (b.v. 2 inf.\n",
            "kaarten + 1 joker of 2 cav.  kaarten + 1 joker of 2 art. kaarten + 1 joker of 2\n",
            "verschillende kaarten + 1 joker). Een speler mag zelf  bepalen wanneer hij een\n",
            "combinatie van kaarten inwisselt voor extra legers. Hij mag echter niet meer dan\n",
            "vijf kaarten in zijn bezit hebben. Een speler die dus 5 kaarten heeft, moet een\n",
            "combinatie van 3 kaarten  inwisselen bij zijn volgende beurt.\n",
            "(Speelmogelijkheid 2)   AANVAL EN VERDEDIGING    Wanneer een speler besluit om\n",
            "zijn speelbeurt te gebruiken voor één of meer aanvallen, dan heeft hij geen\n",
            "\n",
            "RISK-CLUB RISK ENTERPRISE    2      HET DOEL VAN HET SPEL    Iedere speler\n",
            "krijgt aan het begin van het spel een opdrachtkaart. De speler, die als eerste\n",
            "deze opdracht  heeft vervuld is de winnaar van het spel. Hij draait zijn\n",
            "opdrachtkaart dan om, zodat alle medespelers zijn  opdracht kunnen controleren.\n",
            "HET SPELVERLOOP    Nadat de voorbereidingen door de spelleider zijn gedaan,\n",
            "neemt iedere speler uit de doos een aantal legers  waarmee gestart wordt.  Bij 3\n",
            "deelnemers wordt gestart met 35 legers.  Bij 4 deelnemers wordt gestart met 30\n",
            "legers.   Bij 5 deelnemers wordt gestart met 25 legers.   Bij 6 deelnemers wordt\n",
            "gestart met 20 legers.    Vervolgens plaatst iedere deelnemer zijn legers\n",
            "gelijkmatig over de gebieden die staan afgebeeld op de  kaarten, die hij van de\n",
            "spelleider tijdens de voorbereiding heeft ontvangen. Ieder gebied moet minstens\n",
            "1  leger en mag bij het begin van het spel hoogstens 4 legers bezitten. De\n",
            "symbolen die op de kaarten staan\n",
            "\n",
            "RISK-CLUB RISK ENTERPRISE    6        Onderstaande voorbeelden geven een\n",
            "duidelijk beeld van de regels tijdens het spel.    De aanvaller valt met 3\n",
            "legers aan. Hij gooit met de dobbelstenen 6, 1 , 1 . De verdediger gooit met 1\n",
            "dobbelsteen 3. Hij verliest 1 leger .    De aanvaller valt met 3legers aan. De\n",
            "verdediger gebruikt 2 legers. Beide spelers verliezen 1 leger.    West-Europa.\n",
            "dat een gemeenschappelijke grens heeft met Zuid-Europa, kan dit aanvallen. Zuid-\n",
            "Europa  kan Egypte aanvallen, want de verbinding wordt gevormd door de\n",
            "stippellijn.    Bij gelijk puntenaantal wint de verdediger . De aanvaller, met 3\n",
            "legers tegen 2 legers, verliest in dit geval 2  legers.    Ondanks 2 legers\n",
            "tegen 1 verliest de verdediger hier 1 leger.    In dit geval van 2 tegen 2\n",
            "verliest de aanvaller 2 legers, aangezien de gelijke punten een winst zijn voor\n",
            "de  verdediger .    Met 4 legers kan AlberIa Ontario aanvallen met l, 2 of 3\n",
            "dobbelstenen.  Ontario kan zich verdedigen met 1 of 2 dobbelstenen.\n",
            "\n",
            "RISK-CLUB RISK ENTERPRISE    4  Zijn de dobbelstenen in waarde even hoog, dan\n",
            "betekent dit altijd een overwinning voor de verdediger. In dit  geval verliest\n",
            "de aanvaller altijd een leger .  Wanneer een verdediger al zijn legers in een\n",
            "gebied heeft verloren brengt de aanvaller zijn legers naar dit  gebied over. Het\n",
            "aantallegers moet minstens gelijk zijn aan het aantal door de aanvaller geworpen\n",
            "stenen.  De aanvaller mag tijdens zijn beurt meer dan 1 aanval doen. Wanneer hij\n",
            "zijn speelbeurt wil beëindigen mag  hij maximaal 7 legers van het ene door hem\n",
            "bezette gebied naar het andere overbrengen, mits deze beide  gebieden aan elkaar\n",
            "grenzen. Dit overbrengen van legers naar een aangrenzend gebied mag tijdens een\n",
            "speelbeurt maar één keer gedaan worden. De spelleider geeft tot besluit een\n",
            "kaart van de stapel aan de  aanvaller, wanneer deze er in is geslaagd één of\n",
            "meer gebieden tijdens zijn speelbeurt te veroveren.    DE SPELER DIE HET EERST\n",
            "ZIJN OPDRACHT HEEFT VERVULD IS WINNAAR.\n",
            "\n"
          ]
        }
      ]
    },
    {
      "cell_type": "markdown",
      "source": [
        "---\n",
        "\n",
        "## Sources\n",
        "\n",
        "- [Generative AI with LangChain](https://www.packtpub.com/en-us/product/generative-ai-with-langchain-9781835083468) by Ben Auffrath (2023), textbook published by Packt Publishing.\n",
        "- [LangChain v0.2 documentation](https://python.langchain.com/v0.2/docs/introduction/)\n",
        "- Gemini integrated into Google Colab was applied to generate additional explanations about some of the Python syntax used in the examples."
      ],
      "metadata": {
        "id": "ozcXX56ByL--"
      }
    },
    {
      "cell_type": "markdown",
      "source": [
        "---"
      ],
      "metadata": {
        "id": "a9_8npvLGKC9"
      }
    }
  ]
}