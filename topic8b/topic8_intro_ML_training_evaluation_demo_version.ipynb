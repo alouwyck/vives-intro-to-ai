{
  "cells": [
    {
      "cell_type": "markdown",
      "metadata": {
        "id": "view-in-github",
        "colab_type": "text"
      },
      "source": [
        "<a href=\"https://colab.research.google.com/github/alouwyck/vives-intro-to-ai/blob/main/topic8b/topic8_intro_ML_training_evaluation_demo_version.ipynb\" target=\"_parent\"><img src=\"https://colab.research.google.com/assets/colab-badge.svg\" alt=\"Open In Colab\"/></a>"
      ]
    },
    {
      "cell_type": "markdown",
      "metadata": {
        "id": "1N1kqUSWctSM"
      },
      "source": [
        "<img src=\"data:image/png;base64,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\" align=\"right\" /><br>\n",
        "\n",
        "\n",
        "**INTRODUCTION TO ARTIFICIAL INTELLIGENCE**<br>\n",
        "VIVES BUSINESS ACADEMY<br>\n",
        "Academic Year 2023-2024<br>\n",
        "Andy Louwyck\n",
        "\n",
        "---\n",
        "\n",
        "\n",
        "\n",
        "---\n",
        "\n"
      ]
    },
    {
      "cell_type": "markdown",
      "metadata": {
        "id": "H-KkWI-G73CE"
      },
      "source": [
        "# **INTRODUCTION TO MACHINE LEARNING: TRAINING AND EVALUATION**"
      ]
    },
    {
      "cell_type": "markdown",
      "source": [
        "## **Python libraries**"
      ],
      "metadata": {
        "id": "vUZNY65q76E0"
      }
    },
    {
      "cell_type": "code",
      "execution_count": null,
      "metadata": {
        "id": "8_1dJHyy8jHr"
      },
      "outputs": [],
      "source": [
        "import numpy as np  # numeric python\n",
        "import pandas as pd  # python data analysis library\n",
        "import matplotlib.pyplot as plt  # python library for visualizations"
      ]
    },
    {
      "cell_type": "markdown",
      "source": [
        "## **Classification**"
      ],
      "metadata": {
        "id": "z532EdkhoXFp"
      }
    },
    {
      "cell_type": "markdown",
      "metadata": {
        "id": "vbCuiG0SK5sn"
      },
      "source": [
        "### K Nearest Neighbors"
      ]
    },
    {
      "cell_type": "code",
      "execution_count": null,
      "metadata": {
        "id": "yP4Vs8c365dI"
      },
      "outputs": [],
      "source": [
        "from sklearn.neighbors import KNeighborsClassifier"
      ]
    },
    {
      "cell_type": "markdown",
      "metadata": {
        "id": "rFVRHDtI5QVN"
      },
      "source": [
        "#### Example 1"
      ]
    },
    {
      "cell_type": "markdown",
      "source": [
        "##### *Data exploration*"
      ],
      "metadata": {
        "id": "mFy_TSqElTr1"
      }
    },
    {
      "cell_type": "code",
      "execution_count": null,
      "metadata": {
        "id": "ROT30d1-4Gl6"
      },
      "outputs": [],
      "source": [
        "df = pd.read_csv(\"height_weight_sex.csv\")\n",
        "df.head()"
      ]
    },
    {
      "cell_type": "code",
      "source": [
        "len(df)  # length of dataframe = number of rows!"
      ],
      "metadata": {
        "id": "2he-jXL1iGTG"
      },
      "execution_count": null,
      "outputs": []
    },
    {
      "cell_type": "code",
      "execution_count": null,
      "metadata": {
        "id": "pGEV6tslli1e"
      },
      "outputs": [],
      "source": [
        "df.sex.unique()  # method 'unique' returns unique values"
      ]
    },
    {
      "cell_type": "code",
      "source": [
        "df.info()"
      ],
      "metadata": {
        "id": "mqdHJpDugjKV"
      },
      "execution_count": null,
      "outputs": []
    },
    {
      "cell_type": "code",
      "execution_count": null,
      "metadata": {
        "id": "s7zkt0QgleAZ"
      },
      "outputs": [],
      "source": [
        "df.describe()"
      ]
    },
    {
      "cell_type": "code",
      "execution_count": null,
      "metadata": {
        "id": "yVleX77I54oA"
      },
      "outputs": [],
      "source": [
        "# group by sex\n",
        "df.groupby('sex').mean()  # method mean calculates the average"
      ]
    },
    {
      "cell_type": "code",
      "execution_count": null,
      "metadata": {
        "id": "n8D6n1TZ4Q08"
      },
      "outputs": [],
      "source": [
        "# scatter plot\n",
        "def scatter_plot(df):\n",
        "    _, ax = plt.subplots()\n",
        "    df.loc[df.sex=='m', :].plot.scatter(x='height', y='weight', c='y', ax=ax);  # men: yellow\n",
        "    df.loc[df.sex=='f', :].plot.scatter(x='height', y='weight', c='g', ax=ax);  # women: green\n",
        "    plt.grid()\n",
        "    return ax\n",
        "\n",
        "scatter_plot(df);"
      ]
    },
    {
      "cell_type": "code",
      "execution_count": null,
      "metadata": {
        "id": "Dr4T3wm24x4I"
      },
      "outputs": [],
      "source": [
        "X = df[['height', 'weight']].values  # put features height and weight into matrix X\n",
        "y = (df.sex==\"f\").values.astype(int)  # convert column df.sex containing the labels to boolean vector y"
      ]
    },
    {
      "cell_type": "markdown",
      "source": [
        "##### *Model training*"
      ],
      "metadata": {
        "id": "ONVvvS7Blarw"
      }
    },
    {
      "cell_type": "code",
      "execution_count": null,
      "metadata": {
        "id": "TLWNdXFR4sMj"
      },
      "outputs": [],
      "source": [
        "model = KNeighborsClassifier(n_neighbors=5)  # K = 5\n",
        "model.fit(X, y)"
      ]
    },
    {
      "cell_type": "markdown",
      "source": [
        "##### *Model evaluation*"
      ],
      "metadata": {
        "id": "XHVIqeSflfEC"
      }
    },
    {
      "cell_type": "code",
      "execution_count": null,
      "metadata": {
        "id": "-OFFuyvp-buv"
      },
      "outputs": [],
      "source": [
        "model.score(X, y)  # calculates the accuracy"
      ]
    },
    {
      "cell_type": "code",
      "source": [
        "# confusion matrix\n",
        "from sklearn.metrics import ConfusionMatrixDisplay\n",
        "\n",
        "ConfusionMatrixDisplay.from_estimator(model, X, y,\n",
        "                                      display_labels=('m', 'f'),  # labels for 0 and 1\n",
        "                                      colorbar=False);  # no colorbar"
      ],
      "metadata": {
        "id": "UuQ8CJeUxRSz"
      },
      "execution_count": null,
      "outputs": []
    },
    {
      "cell_type": "code",
      "source": [
        "# classification report\n",
        "from sklearn.metrics import classification_report\n",
        "\n",
        "y_pred = model.predict(X)  # predictions\n",
        "\n",
        "print(classification_report(y_true=y, y_pred=y_pred))"
      ],
      "metadata": {
        "id": "WeGmhzXgjFd6"
      },
      "execution_count": null,
      "outputs": []
    },
    {
      "cell_type": "markdown",
      "source": [
        "##### *Making predictions*"
      ],
      "metadata": {
        "id": "d9KOjzfhljjJ"
      }
    },
    {
      "cell_type": "code",
      "execution_count": null,
      "metadata": {
        "id": "PCLoEif15Zjf"
      },
      "outputs": [],
      "source": [
        "X_new = np.array([[165, 55],   # person of 165cm and 55kg\n",
        "                  [185, 70],   # person of 185cm and 70kg\n",
        "                  [175, 65]])  # person of 175cm and 65kg\n",
        "model.predict(X_new)"
      ]
    },
    {
      "cell_type": "code",
      "execution_count": null,
      "metadata": {
        "id": "Ima6vuHz5m4D"
      },
      "outputs": [],
      "source": [
        "scatter_plot(df)\n",
        "plt.plot(X_new[:, 0], X_new[:, 1], 'ro');  # new points are red"
      ]
    },
    {
      "cell_type": "markdown",
      "source": [
        "##### *The optimal K value*"
      ],
      "metadata": {
        "id": "lQVFizvnlnUQ"
      }
    },
    {
      "cell_type": "code",
      "source": [
        "# determine optimal K using a validation set\n",
        "\n",
        "from sklearn.model_selection import train_test_split\n",
        "\n",
        "X_train, X_val, y_train, y_val = train_test_split(X, y, train_size=0.5, random_state=1)\n",
        "\n",
        "print('training set:')\n",
        "print(X_train.shape)\n",
        "print(y_train.shape)\n",
        "\n",
        "print('validation set:')\n",
        "print(X_val.shape)\n",
        "print(y_val.shape)"
      ],
      "metadata": {
        "id": "X8FCqnoVm67K"
      },
      "execution_count": null,
      "outputs": []
    },
    {
      "cell_type": "code",
      "source": [
        "# looping over odd K values between 1 and 21\n",
        "\n",
        "Ks = np.arange(start=1, stop=23, step=2)  # 23 is not included!\n",
        "\n",
        "acc_train = np.zeros(len(Ks))\n",
        "acc_val = np.zeros(len(Ks))\n",
        "for i, K in enumerate(Ks):\n",
        "    model = KNeighborsClassifier(K)\n",
        "    model.fit(X_train, y_train)\n",
        "    acc_train[i] = model.score(X_train, y_train)\n",
        "    acc_val[i] = model.score(X_val, y_val)"
      ],
      "metadata": {
        "id": "fsr8ICmSm0JX"
      },
      "execution_count": null,
      "outputs": []
    },
    {
      "cell_type": "code",
      "source": [
        "# plot result\n",
        "plt.plot(Ks, acc_train, 'b.-',\n",
        "         Ks, acc_val, 'r.-');\n",
        "plt.grid();\n",
        "plt.xlabel('K');\n",
        "plt.ylabel('accuracy');\n",
        "plt.legend(['training set', 'validation set']);"
      ],
      "metadata": {
        "id": "CisyrDUJnucA"
      },
      "execution_count": null,
      "outputs": []
    },
    {
      "cell_type": "code",
      "source": [
        "# optimal K\n",
        "K_opt = Ks[np.argmax(acc_val)]\n",
        "print(\"optimal K:\", K_opt)"
      ],
      "metadata": {
        "id": "00H2biEfoBmY"
      },
      "execution_count": null,
      "outputs": []
    },
    {
      "cell_type": "markdown",
      "metadata": {
        "id": "H7DEA5a75N6R"
      },
      "source": [
        "#### Example 2"
      ]
    },
    {
      "cell_type": "code",
      "source": [
        "# try it yourself!"
      ],
      "metadata": {
        "id": "4OXO60yMGgsE"
      },
      "execution_count": null,
      "outputs": []
    },
    {
      "cell_type": "markdown",
      "source": [
        "### Logistic Regression"
      ],
      "metadata": {
        "id": "VjAdZDDzmAHB"
      }
    },
    {
      "cell_type": "code",
      "source": [
        "from sklearn.linear_model import LogisticRegression  # linear model for binary classification"
      ],
      "metadata": {
        "id": "FFThRUuTnSIp"
      },
      "execution_count": null,
      "outputs": []
    },
    {
      "cell_type": "markdown",
      "source": [
        "#### Example 1"
      ],
      "metadata": {
        "id": "L2dHluIRnxDS"
      }
    },
    {
      "cell_type": "code",
      "source": [
        "# thermostat dataset\n",
        "temperature = [17.1, 15.6, 23.1, 19.8, 12.9, 20.3, 14.7, 16.2]\n",
        "heating = ['off', 'on', 'off', 'off', 'on', 'off', 'on', 'on']\n",
        "table = pd.DataFrame(dict(temperature=temperature, heating=heating))\n",
        "table"
      ],
      "metadata": {
        "id": "s4kaLBnakclf"
      },
      "execution_count": null,
      "outputs": []
    },
    {
      "cell_type": "code",
      "source": [
        "# plot the data\n",
        "def plot_temperature_heating(table):\n",
        "    '''\n",
        "    plots heating vs temperature\n",
        "    table: Pandas DataFrame with columns 'temperature' and 'heating'\n",
        "    returns: axes\n",
        "    '''\n",
        "    _, ax = plt.subplots(1, 1, figsize=(8, 2))\n",
        "    on = table.heating == 'on'\n",
        "    off = ~on\n",
        "    plt.plot(table[on].temperature, np.ones(on.sum()), 'go');\n",
        "    plt.plot(table[off].temperature, np.zeros(off.sum()), 'ro');\n",
        "    plt.xlabel('temperature');\n",
        "    plt.ylabel('heating');\n",
        "    plt.yticks((0, 1));\n",
        "    ax.set_yticklabels(('off', 'on'))\n",
        "    plt.grid();\n",
        "    return ax\n",
        "\n",
        "plot_temperature_heating(table);"
      ],
      "metadata": {
        "id": "ALGDSwrqUx8h"
      },
      "execution_count": null,
      "outputs": []
    },
    {
      "cell_type": "code",
      "source": [
        "# training the model\n",
        "X, y = table[['temperature']].values, (table.heating=='on').values  # feature, labels\n",
        "model = LogisticRegression(penalty=None)  # instantiate\n",
        "model.fit(X, y)  # fit data"
      ],
      "metadata": {
        "id": "sl61DnSC7ZPk"
      },
      "execution_count": null,
      "outputs": []
    },
    {
      "cell_type": "code",
      "source": [
        "# evaluate model\n",
        "model.score(X, y)  # accuracy"
      ],
      "metadata": {
        "id": "wxaYstt8d-Ia"
      },
      "execution_count": null,
      "outputs": []
    },
    {
      "cell_type": "code",
      "source": [
        "# make prediction\n",
        "new_temperature = 17\n",
        "model.predict([[new_temperature]]).item()  # predict label for new temperature value"
      ],
      "metadata": {
        "id": "PwO6ek4WUoXP"
      },
      "execution_count": null,
      "outputs": []
    },
    {
      "cell_type": "code",
      "source": [
        "# determine threshold\n",
        "threshold = -model.intercept_.item() / model.coef_.item()\n",
        "print(f'threshold is {threshold}°C')"
      ],
      "metadata": {
        "id": "g5hmowUdUYS-"
      },
      "execution_count": null,
      "outputs": []
    },
    {
      "cell_type": "markdown",
      "source": [
        "> $f = aT + b$\n",
        "\n",
        "> $p = \\sigma(f) = \\frac{1}{1+\\exp(-f)}$\n",
        "\n",
        "The threshold is found by evaluating $f=0$, which yields $-b/a$."
      ],
      "metadata": {
        "id": "wEZ9cZDXhAjR"
      }
    },
    {
      "cell_type": "code",
      "source": [
        "# plot\n",
        "ax = plot_temperature_heating(table);\n",
        "sigmoid = lambda f: 1 / (1 + np.exp(-f))\n",
        "f = lambda x: model.coef_.item() * x + model.intercept_.item()\n",
        "x = np.linspace(12, 24, 1000)\n",
        "xl, yl = ax.get_xlim(), ax.get_ylim()\n",
        "ax.plot(x, sigmoid(f(x)), 'k--');\n",
        "ax.plot(threshold * np.ones(2), [-1, 2], 'b-');\n",
        "ax.plot(new_temperature, 0, 'bo');  # new data point\n",
        "ax.set_xlim(xl); ax.set_ylim(yl);"
      ],
      "metadata": {
        "id": "lnyL5TD0aK4T"
      },
      "execution_count": null,
      "outputs": []
    },
    {
      "cell_type": "markdown",
      "source": [
        "#### Example 2"
      ],
      "metadata": {
        "id": "_yT9xXb7q9HG"
      }
    },
    {
      "cell_type": "code",
      "source": [
        "df = pd.read_csv(\"height_weight_sex.csv\")\n",
        "X = df[['height', 'weight']].values  # put features height and weight into matrix X\n",
        "y = (df.sex==\"f\").values.astype(int)  # convert column df.sex containing the labels to boolean vector y"
      ],
      "metadata": {
        "id": "0KPSZfklnFRu"
      },
      "execution_count": null,
      "outputs": []
    },
    {
      "cell_type": "code",
      "source": [
        "model = LogisticRegression(penalty=None)\n",
        "model.fit(X, y)"
      ],
      "metadata": {
        "id": "pOZNdAAXnadA"
      },
      "execution_count": null,
      "outputs": []
    },
    {
      "cell_type": "code",
      "source": [
        "model.score(X, y)"
      ],
      "metadata": {
        "id": "GVAzeI7Unh8n"
      },
      "execution_count": null,
      "outputs": []
    },
    {
      "cell_type": "code",
      "source": [
        "from sklearn.metrics import ConfusionMatrixDisplay\n",
        "\n",
        "ConfusionMatrixDisplay.from_estimator(model, X, y,\n",
        "                                      display_labels=('m', 'f'),  # labels for 0 and 1\n",
        "                                      colorbar=False);  # no colorbar"
      ],
      "metadata": {
        "id": "ZOw9DAP5nzdn"
      },
      "execution_count": null,
      "outputs": []
    },
    {
      "cell_type": "code",
      "source": [
        "X_new = np.array([[165, 55],   # person of 165cm and 55kg\n",
        "                  [185, 70],   # person of 185cm and 70kg\n",
        "                  [175, 65]])  # person of 175cm and 65kg\n",
        "model.predict(X_new)"
      ],
      "metadata": {
        "id": "veU-1ORdnqeB"
      },
      "execution_count": null,
      "outputs": []
    },
    {
      "cell_type": "code",
      "source": [
        "p = model.predict_proba(X_new)  # returns the probabilities\n",
        "np.round(p, 2)  # round to two decimals"
      ],
      "metadata": {
        "id": "T8enEQgPRlR3"
      },
      "execution_count": null,
      "outputs": []
    },
    {
      "cell_type": "code",
      "source": [
        "w, b = model.coef_[0].flatten(), model.intercept_.item()  # weights w and bias b\n",
        "w, b"
      ],
      "metadata": {
        "id": "hIToewRwoQan"
      },
      "execution_count": null,
      "outputs": []
    },
    {
      "cell_type": "markdown",
      "source": [
        "> $f = w_1X_1+w_2X_2+b$\n",
        "\n",
        "The separating straight-line is found easily by evaluating $f=0$, which gives:\n",
        "\n",
        "> $X_2 = -\\dfrac{w_1X_1+b}{w_2}$\n"
      ],
      "metadata": {
        "id": "kGoY4Rvdt23A"
      }
    },
    {
      "cell_type": "code",
      "source": [
        "_, ax = plt.subplots()\n",
        "df.loc[df.sex=='m', :].plot.scatter(x='height', y='weight', c='y', ax=ax);  # men: yellow\n",
        "df.loc[df.sex=='f', :].plot.scatter(x='height', y='weight', c='g', ax=ax);  # women: green\n",
        "plt.plot(X_new[:, 0], X_new[:, 1], 'ro')  # new points are red\n",
        "\n",
        "# adding the separating straight line in red\n",
        "xline = np.linspace(150, 200, 2)\n",
        "yline = -(xline * w[0] + b) / w[1]\n",
        "plt.plot(xline, yline, 'r-');\n",
        "\n",
        "plt.ylim((50, 90))\n",
        "plt.grid()"
      ],
      "metadata": {
        "id": "eJRpGUhypLJb"
      },
      "execution_count": null,
      "outputs": []
    },
    {
      "cell_type": "markdown",
      "source": [
        "#### Example 3"
      ],
      "metadata": {
        "id": "yNxqSZBIu5py"
      }
    },
    {
      "cell_type": "code",
      "source": [
        "# try it yourself\n",
        "\n",
        "# feature scaling: salary / 1000"
      ],
      "metadata": {
        "id": "yoMH3mM6xBAK"
      },
      "execution_count": null,
      "outputs": []
    },
    {
      "cell_type": "markdown",
      "source": [
        "### Decision trees"
      ],
      "metadata": {
        "id": "mIzOmGmHmSgv"
      }
    },
    {
      "cell_type": "code",
      "source": [
        "from sklearn.tree import DecisionTreeClassifier, plot_tree\n",
        "from sklearn.preprocessing import OrdinalEncoder"
      ],
      "metadata": {
        "id": "fucVUZvkG2Yj"
      },
      "execution_count": null,
      "outputs": []
    },
    {
      "cell_type": "markdown",
      "source": [
        "#### Example"
      ],
      "metadata": {
        "id": "9ARFST-bSNdm"
      }
    },
    {
      "cell_type": "code",
      "source": [
        "df = pd.read_csv('play.txt', sep=' ').iloc[:, :-1]  # last column is empty, so we don't need it...\n",
        "df"
      ],
      "metadata": {
        "id": "LWK1asxwGeH4"
      },
      "execution_count": null,
      "outputs": []
    },
    {
      "cell_type": "code",
      "source": [
        "features = df[['Outlook', 'Temperature', 'Humidity', 'Wind']]\n",
        "labels = df['Play']"
      ],
      "metadata": {
        "id": "zHbCTyO2HbGn"
      },
      "execution_count": null,
      "outputs": []
    },
    {
      "cell_type": "code",
      "source": [
        "# feature encoding\n",
        "feature_encoder = OrdinalEncoder()\n",
        "feature_encoder.fit(features)\n",
        "X = feature_encoder.transform(features)\n",
        "print(X)"
      ],
      "metadata": {
        "id": "BJurGsQDHqW4"
      },
      "execution_count": null,
      "outputs": []
    },
    {
      "cell_type": "code",
      "source": [
        "def get_feature_value(encoder, feature, id):\n",
        "    icol = np.where(encoder.feature_names_in_ == feature)[0][0]\n",
        "    return encoder.categories_[icol][id]"
      ],
      "metadata": {
        "id": "SOpA_lKgeu4W"
      },
      "execution_count": null,
      "outputs": []
    },
    {
      "cell_type": "code",
      "source": [
        "get_feature_value(feature_encoder, \"Temperature\", 2)"
      ],
      "metadata": {
        "id": "Nq8SIeRTgoFk"
      },
      "execution_count": null,
      "outputs": []
    },
    {
      "cell_type": "code",
      "source": [
        "# label encoding\n",
        "from sklearn.preprocessing import LabelEncoder\n",
        "\n",
        "label_encoder = LabelEncoder()\n",
        "label_encoder.fit(labels)\n",
        "y = label_encoder.transform(labels)\n",
        "\n",
        "print(\"0 is\", label_encoder.classes_[0])\n",
        "print(\"1 is\", label_encoder.classes_[1])"
      ],
      "metadata": {
        "id": "qTmZVTQQH3jB"
      },
      "execution_count": null,
      "outputs": []
    },
    {
      "cell_type": "code",
      "source": [
        "# training the model\n",
        "model = DecisionTreeClassifier()\n",
        "model.fit(X, y)\n",
        "model.score(X, y)"
      ],
      "metadata": {
        "id": "EeGMmIOPi_Kc"
      },
      "execution_count": null,
      "outputs": []
    },
    {
      "cell_type": "code",
      "source": [
        "plot_tree(model,\n",
        "          feature_names=feature_encoder.feature_names_in_,\n",
        "          class_names=label_encoder.classes_,\n",
        "          impurity=False, filled=True, fontsize=8, rounded=True);"
      ],
      "metadata": {
        "id": "ONbP09jEjjcV"
      },
      "execution_count": null,
      "outputs": []
    },
    {
      "cell_type": "markdown",
      "source": [
        "Overfitting!"
      ],
      "metadata": {
        "id": "KPU8nw6UaA32"
      }
    },
    {
      "cell_type": "code",
      "source": [
        "model = DecisionTreeClassifier(max_depth=2)  # limit the depth of the tree by setting max_depth to 2\n",
        "model.fit(X, y)\n",
        "model.score(X, y)"
      ],
      "metadata": {
        "id": "mjVHbsoQIHEC"
      },
      "execution_count": null,
      "outputs": []
    },
    {
      "cell_type": "code",
      "source": [
        "from sklearn.metrics import ConfusionMatrixDisplay\n",
        "\n",
        "ConfusionMatrixDisplay.from_estimator(model, X, y,\n",
        "                                      display_labels=('No', 'Yes'),  # labels for 0 and 1\n",
        "                                      colorbar=False);  # no colorbar"
      ],
      "metadata": {
        "id": "gEkOFKoxk8DV"
      },
      "execution_count": null,
      "outputs": []
    },
    {
      "cell_type": "code",
      "source": [
        "out = plot_tree(model,\n",
        "                feature_names=feature_encoder.feature_names_in_,\n",
        "                class_names=label_encoder.classes_,\n",
        "                impurity=False, filled=True, fontsize=8, rounded=True);\n",
        "\n",
        "# convert the integers back to strings - this for loop only works for this tree!\n",
        "for i in [0, 2]:\n",
        "    out[i].set_text(out[i].get_text().replace(\"<= 0.5\", feature_encoder.categories_[i][0]))"
      ],
      "metadata": {
        "id": "q3dp_7lHNbWk"
      },
      "execution_count": null,
      "outputs": []
    },
    {
      "cell_type": "code",
      "source": [
        "# new data point\n",
        "new = pd.DataFrame(dict(Outlook=['Overcast'],\n",
        "                        Temperature=['Cool'],\n",
        "                        Humidity=['High'],\n",
        "                        Wind=['Strong'],\n",
        "                        Play=['????']))\n",
        "new"
      ],
      "metadata": {
        "id": "UF-nyhMrYrtA"
      },
      "execution_count": null,
      "outputs": []
    },
    {
      "cell_type": "code",
      "source": [
        "# encode the features of new data point!!\n",
        "Xnew = feature_encoder.transform(new[['Outlook', 'Temperature', 'Humidity', 'Wind']])"
      ],
      "metadata": {
        "id": "aKH2-Q6nZbER"
      },
      "execution_count": null,
      "outputs": []
    },
    {
      "cell_type": "code",
      "source": [
        "model.predict(Xnew).item()"
      ],
      "metadata": {
        "id": "9yBHCdheZjVj"
      },
      "execution_count": null,
      "outputs": []
    },
    {
      "cell_type": "markdown",
      "source": [
        "![image.png](data:image/png;base64,iVBORw0KGgoAAAANSUhEUgAAAgUAAAEICAYAAADP6odOAAAgAElEQVR4AeydCbxN1RfHr6EQMs/zUDJEk78iJUSJTE0olOZBExHJEKlMpdKolMrUpJShORVShoREKvNQkVKRrP/nu699nXfffc+9791z37nnrvX5vHfvPcM+e//2Pnv/9lprrx0QFUVAEVAEFAFFQBFQBEQkoCgoAoqAIqAIKAKKgCIAAkoKtB0oAoqAIqAIKAKKgEFASYE2BEVAEVAEFAFFQBEwCCgp0IagCCgCioAioAgoAgYBJQXaEBQBRUARUAQUAUXAIKCkQBuCIqAIKAKKgCKgCBgElBRoQ1AEokBgxgyRfv1E7r5b/1IFgwEDRH76KYrGoZcoAj5CQEmBjypTi+IeAt26igQC+pdqGMyf716b0pQVAS8ioKTAi7WiefIcAlf2DBKCWrVE7rhD5Lbb9c+PGFC33XuIHH20SN68Ip9/7rmmqBlSBFxFQEmBq/Bq4n5BwJKCLl38UiItR0YIrP1BpFAhkdx5lBRkhJEe9y8CSgr8W7dasjgiYEnBJZfEMVFNypMIrFylpMCTFaOZSggCSgoSArM+JNkRUFKQ7DUYff6VFESPlV7pPwSUFPivTrVELiCgpMAFUD2apJICj1aMZishCCgpSAjM+pBkR0BJQbLXYPT5V1IQPVZ6pf8QUFLgvzrVErmAgJICF0D1aJJKCjxaMZqthCCgpCAhMOtDkh0BJQXJXoPR519JQfRY6ZX+Q0BJgf/qVEvkAgJKClwA1aNJKinwaMVothKCgJKChMCsD0l2BJQUJHsNRp9/JQXRY6VX+g8BJQX+q1MtkQsIKClwAVSPJqmkwKMVo9lKCAJKChICsz4k2RFQUpDsNRh9/pUURI+VXuk/BJQU+K9OtUQuIKCkwAVQPZqkkgKPVoxmKyEIKClICMz6kGRHIFlIwcGDB5Md6hzPv5KCHK8CzUAOIqCkIAfB10cnDwJZJQV//vmn7NixQ3bv3u16YSdPnixNmjSR9957z9Vn/fbbb3LBBRfI1VdfLQcOHHD1WTmRuJKCnEBdn+kVBJQUeKUmNB+eRiBWUvD2229L586dpWbNmlKqVCmpXLmynHPOOfLEE0/IX3/9la2yog2IpBG4++67JRAIyFNPPZWt9I9084YNG+Too4+W4447Tvbt23eky5PuvJKCpKsyzXAcEVBSEEcwNSn/IhAtKWDmfMedd5jBmQEaUtC0aVOpXbt26Fi7du2yrDn4+++/5ZJLLpGOHTsKWginDBo0yDzj2WefdR6O+/eNGzdK4cKFpW7dukoK4o6uJqgI5CwCSgpyFn99epIgEC0peOaZZ8zAXKBAfnn88cdDAzeD+Ztvvilly5Y155nVZ0X+/fdfKVeunBQrVkz27t2bJgklBWngyPIP1RRkGTq90QcIKCnwQSVqEdxHIBpSwMzdagRGjXooYqYmTpxoSAED+86dO801mzZtkkmTJsmyZcvS3LNr1y554YUXZP78+eb4mjVrhPtLliwpRYoUETQCL7/8cui+jEiBJSTDhw+Xe++9V5577jnZvHlzmmfZHxCN119/Xbh28ODBJl9bt261p81nRpqC2bNny8TnJkr49WluToIfSgqSoJI0i64hoKTANWg1YT8hEA0pWLRokeTOnVvKlSsr27Ztj1j8X3/9VSpVqmSIwUcffWSueemll8zvm2++Oc09CxcuNMdbtWpljt9zzz3mN2YJ599VV11lzkciBd9//720aNEizfXcW6NGDZkzZ06a561evVrOPvvsdNfiO/Dhhx+GrnWSgv3795vj48aNM/cVLFhQVq1aFbo2Gb8oKUjGWtM8xwsBJQXxQlLT8TUC0ZACZvUMuC1btswUi+YtmpvrmLEjr7zyivl92223pbkPkkF6ePojOPjNmDHDOC4WLVpUpk6dKrNmzZK1a9ea8+GkACfAZs2amTTat28vkJDPPvtMevXqZY5VrFgxNKtHm9C4cWNz/KKLLpJPPvlEPv30U+nevbs5Vq1aNbOKggc5SQG/WfWQK1cuKVGihHzwwQcmL8n8T0lBMtee5j27CCgpyC6Cen9KIBANKbCz5UsvvTRTTBh0GewfffRRc120pICLGeirVKlifBOO5GiIJoDnNGjQIOTbQBqsXLDagwkTJpg8zJw501zbsGFDgSBYwXESR0nSsSTGkoKTTz5ZXnvtNTnmmGN8Qwgot5ICW/v6mYoIKClIxVrXMseMQDSk4OGHHzaDZ6dOnTJNn9UHDLJPPvmkuS4WUrBnzx6zvLFMmTKCKcIp4ZqCkSNHmudwPFzGPzrenLvlllvMqSFDhpjfI0aMCL9URo0aZc716dPHnIMU4Oh47LHHmr9ChQqlMS+kSyDJDigpSLIK0+zGFQElBXGFUxPzKwLRkIIXX3zRDJ5nnXVWhjD8999/8r///c9cx2oExC1ScMMNN5jnWPLhzBQOihCTrl27msP4JfD7+eefd15mvqMh4NyVV15pfltSABkoUKCA5MuXz6ysSHdjkh5QUpCkFafZjgsCSgriAqMm4ncEoiEF1tEQe/+PP/4YEZIVK1aYgZTBdN26deaaKVOmmEG3d+/grN3euGTJEnPc+hRwPBZNwYABA8z9aAzChSBKDPTWj+HOO+80v8eOHRt+qVizSL9+/cw5az445ZRTZPz4oMaBpZYrV65Md28yHlBSkIy1pnmOFwJKCuKFpKbjawSiIQUs57NLEvv3758ODzz1u3TpYgbf888/X9AaIHPnzjXH2rZtm+aeMWPGmONOUoAfAT4FEA/CDTsl3HzArJ+BH/+BcLnwwgvNOeIqIGgTuJZ8hUvr1q3NORwKEUsK6tWrZ8IcX3vtteb8GWecIb///nv47Un3W0lB0lWZZjiOCCgpiCOYmpR/EYiGFFB6q2rPnTuP9O7dWxYsWGC0Bh9//LGJQsjAi9qd41ZYPYDmgD8GXlYZ3H///cajn+udZAEnwfr165tzmCvQNrCUEAknBVu2bJHy5cubAfuuu+6SH374weTFXle9enX55ZdfzL0///yzlC5d2qTL0sf169ebP8gNeahVq1aIhFhSQERDHBHZ1wEHRa67/vrrI4ZgtmVNhk8lBclQS5pHtxBQUuAWspqurxCIlhQwaBP4p3DhQmaQZKDMkydP6HvVqlUFT/9wQY3PtfzlzZvXfLJXAkv9wmf61imQaznPxkSIHcCdPgTTpk0zKwNsPmzaaBvCN04iXgIOhDYPNt/ENLAxFXgOpIVzHLd7HyxfvlyKFy9u7rXah/AyJstvJQXJUlOaTzcQUFLgBqqapu8QiJYU2IJ/8803gi0f5zyc+ZhBPzvxWdm+fZu9JM0nM27iHOAc2LNnT+N8yAx86NChRnvgvPiff/4xGyvhHIjqntgDCAN33759QxEO7T3ffvutDBw40OSDuAOsMEAzEEkY3CEXmDm4ljIQcdEpf/zxh0BMWFJpTSCcnzdvnrBCgYiIySxKCpK59jTv2UVASUF2EdT7UwKBWElBSoDi00IqKfBpxWqxokJASUFUMOlFqY6AkoLUaQFKClKnrrWk6RFQUpAeEz2iCKRDQElBOkh8e0BJgW+rVgsWBQJKCqIASS9RBJQUpE4bUFKQOnWtJU2PgJKC9JjoEUUgHQJKCtJB4tsDSgp8W7VasCgQUFIQBUh6iSKgpCB12oCSgtSpay1pegSUFKTHRI8oAukQUFKQDhLfHlBS4Nuq1YJFgYCSgihA0ksUASUFqdMGlBSkTl1rSdMjoKQgPSZ6RBFIh4CSgnSQ+PaAkgLfVq0WLAoElBREAZJeoggoKUidNqCkIHXqWkuaHgElBekx0SOKQDoElBSkg8S3B5QU+LZqtWBRIKCkIAqQ9BJFQElB6rSBVatFChUSyZ1H5PPPU6fcWlJFAASUFGg7UASiQMBJCg4eFNE//2Lw7UolBVG8EnqJTxFQUuDTitVixRcBSwpKlhQ5/XSRRqny1+g3adRogzRqdCAlykzd1m8gkjevSN6jVFMQ37dIU0sGBJQUJEMtaR5zHIFuXUUCgVT6+0ECgUESCNSQQKCsBALnSCAwQwKBv1IKh/nzc7zpaQYUgYQioKQgoXDrw5IVgTffFBkyRGTYMP/93Tdc5MGHRO6/X6RTp6+kQIFrJG/eitLsnLOkZ88BUrx4Gena7WqpWrWaBAINpEaNx+TWW3fKQ9wzUmTYff7DhHq+7z6RDRuStcVqvhWBrCGgpCBruOldioCPEPhXPvl0jlxySTupXLmUXHrZhfL++3PkwIEDsmLFN1K5cmX57bffZMeO7TJ+/Chp2LCu1K1bXYYPHyibt/zgIxy0KIqAIqCkQNuAIpCiCOzZs0deeOEFadKkiVSsWFGuueYa+frrr9Og8eWXX0qlSpVk69atoePcN3nyZDnzzDOlQoUK0qtXL/nqq69C5/WLIqAIJC8CSgqSt+4054pAlhDYsmWLPPTQQ1KnTh2pXr26DLp3kPzwQ+QZfyRSYB+KJmHevHnSvn17KV26tFx44YUye/Zs2b9/v71EPxUBRSDJEFBSkGQVptlVBLKKwKpVq+T222+XSpUryUknnSSPP/64/PLLL5kmt2jRonSagkg3oGG49tprjcahcePGRgOBRkFFEVAEkgsBJQXJVV+aW0UgZgTmz58v3bp1k/Lly0uLFi3k1Vdflb/++iuqdCwp2LZtW1TXr1+/XgYPHmw0ELVr1zYaiU2bNkV1r16kCCgCOY+AkoKcrwPNgSIQdwT+/vtveeONN6Rly5ZGtX/ZZZfJp59+KgeJuhSDxEoKbNK//vqrTJgwQU455RTjqIiGAk2FiiKgCHgbASUF3q4fzZ0iEBMCDMZPPPGEnHbaaVKlShW59dZbZeXKlTGl4bw4q6TApoFG4rXXXjPkpGzZstKlSxdBc6GiCCgC3kRASYE360VzpQjEhMBPP/0kQ4YMkZo1a8oJJ5wgDzzwgGzcuDGmNCJdvHDhQuNTsH379kinYzqGpgJSADlAg/H6669HbcaI6UF6sSKgCGQZASUFWYZOb1QEch6BpUuXynXXXWeWBjZq1Eief/55iaeDXzxJgUULzcVtt91mzAonn3yyMTMQB0FFEVAEch4BJQU5XweaA0UgJgT+++8/sxSwY8eOZtbdtm1beffdd11ZCrhg4QKjKdixY0dMeYzm4s2bN8uDDz5oNBtoOHBQxFFRRRFQBHIOASUFOYe9PlkRiAmBP/74Q15++WUTNAgV/FVXXSXEEXBTFixwjxTYfP/+++8yadIkYSkjQZTQfKABUVEEFIHEI6CkIPGY6xMVgZgQYDngmDFjpF69emap39133y3r1q2LKY2sXpwIUmDzRtAjgh+h+ShVqpR06NBB3nvvPRNu2V6jn4qAIuAuAkoK3MVXU1cEsozAmjVr5K677jKrCOrXry/jx4+XeDj8xZIhSwp27twZy23Zvnbx4sXS6+pexleCcMovvfRSXH0lsp1BTUAR8CkCSgp8WrFarORFgIG4e/fuUq5cOTnnnHNk2rRpOeal/8UXXxifgkSTAlt7aEQGDhxoNCR169aV0aNHS7SBlGwa+qkIKALRI6CkIHqs9EpFwDUE9u3bJ2+99Za0bt1aypQpIxdffLF89NFHglNhTsrnn3+eo6TAlh1S8uijjwoaE3Zt7NOnj6xevdqe1k9FQBGIEwJKCuIEpCajCGQFAYINPfPMM9KwYUMz+N50003yzTffZCUpV+6BFOD8d6Q9Elx5eIRECYY0ffp0ad68uZSvUF6uuOIKQZuhoggoAvFBQElBfHDUVBSBmBAgsNDIkSON8yDBhoYPHy4bNm6IKY1EXAwpIDKiV0iBLTMalI8//thoVDCz4Jw4a9YsIbyziiKgCGQdASUFWcdO71QEYkYAe/g777xj1uTfe++95vvu3btjTidRN7ClMqsd/vzzz0Q9Mubn4JD51FNPGadMTAxfffWVkoOYUdQbFIEgAkoKtCUoAglAgKA8OAyOGjXKeNJ///33CXhq9h+BRuORRx7JMUfHWEpAHAdCKbNKgz80CV4mXLGUTa9VBBKFgJKCRCGtz0k5BPbu3WuCDfXo0cOQAXYtjMd+BIkE8ueff5axY8cmBSmwuPzzzz+yZMkSefrpp81qBcwKW7dutaf1UxFQBDJBQElBJuDoKUUgKwgQS+Dhhx82nvJVq1aVESNGSLLG9k9GUmDr7MCBA4JpgRgHaGimTp1qwijHun20TU8/FYFUQEBJQSrUspYxIQisXbtW+vfvb9bUn3jiiWaGnexr6i0pSHYHvk2bNwmamoceeshsGrVixQphGaiKIqAIpEVASUFaPPSXIhAzAosWLZIrr7zSbE5E9L1XXnnF0455sRTQL6TAlplVFIROHjdunDz++ONCoCgvO1HafOunIpAoBJQUJAppfY6vECBOP6sILrjgAhN5sHPnzvL+++/neLCheIPsN1Jg8YEIQAggBhAEiILXll3avOqnIpBIBJQUJBJtl57Fmm0cqTZs2CA4Wam4hwDe7M8//7z873//k/Lly8uNN97o6x39/EoKbAuB3GFKeO6554xTIp+QBa8IfhH//vuv+YtHdEv6CXbWZKWGiiIQCQElBZFQSaJjEydOlNNOO02KFSsmhQoVktq1a5tAOER+U4kfAps2bZL7779fCDR0/PHHy9ChQ+Wnn36K3wM8mhJlZPXB3//4OygQzoeUlb0V2Jb6vPPOk7ffflsgDTklzz77rNStV1dq1aolNWvWNJ/shTFq9CjZtWtXlrLVrl07CQQCZslmlhLQm3yPgJKCJK7ixx57zLzgRx11lImZjyq7ZMmS5tjXX3+dxCXzTtZXfLtCevfubUIQn3rqqSZIDqGJ3RSc+tgIiDpctWpVjq61t6QglTRQy5cvNxogwjs3Ov10gXhndRDOTju54YYbzLtMRMnTTz9d2BAqV65c5thZZ52VpTzh+1K8eHF54YUXspM1vdfHCCgpSNLKxXO6Tp06kjt3bnnttddCpWBGC1nQddkhSGL+YkLofvKxXHLJJWZzolatWsmbb77purc62h2WzrFyIV++fKbzz5Mnj9kA6NZbb5XNmzfHXJbs3pBoUoCqnCWdXljtgOlk2LBhRjPEbJ2lpbxfiZJbbrnFtAGiNaLJABPCTrMhFLN9TB2xCm17z549sd6m16cQAkoKkrSyGfRLlSol+fPnz5QAYAMnuhvLsZyCWhT15KRJkwS7JUJn8cj4R2T+/PlmdjphwgS5+eabjaqc9d5OIV3W4mN/ZQ0+RIRr77vvPmFpnhV2/hs3bqxs2bLFHgp9kiecvLwSdY5Od8aMGWazHeLpX3755aYTDmXYxS/YeNu3b286e4hemzZtzGy1Q4cOUrBgQXP8pJNOSnjwo0STgrlz50qFChXMYOwi3DElTft++pmnBU0R2gMG60RsWmVJARtmOQXNFaTgjjvuCB1mkjBv3jwZMmSIXH/99Wa76dmzZxsyEbpIxGweRX8A4UEIsIWzJU6ytEGexXMJwY2vhRXOY0Yi7HW4UGec27Z9W/gp/Z2ECCgpSMJKI8t0AqgT6RzoJDJS7/Jicw278DmDttDR4YNQokSJ0JKs7777zlyLj8LJJ59svnMvf3TURImzYtNtdHojE6THXscn6k7bobCLHcfoZJwCSShSpIgcffTRCZ19OfNgv+/YscOQGgZdZmF39rkz4dvy4qMATtiz6WSdgjrb1nWvXr2cp1z/Tj3R4WfUvuKdAUgkOKAZ8ZqAARoj/A0gjWiSCKX838GDrmTVkgLMF07p0qWLwQjNBQKZvfDCC80xsOOd4pM/4mY43/vrrrvOHIf8IpADSCjaKUwU9j4+S5cuHSLFd955pzmHScMpv//+uzGtcf3KlSudp/R7kiKgpCBJK45sM5O3LzHr45l5hztGffvtt4IKmvPOzgFSgKaBwd6u00YbYGeldHpTpkyRxYsXm2V3PKdbt24htEjXqrgrVapktrPFqxlVO9fawWvuvLnGDkqn41QJT5482Vx38cUXh9JM9Bf2Ixg4cKDUqFHDDLqo7nPC7IKPAhiC20svTY4Iw8yZM815HEpRr3/yySdCR/3hhx+mux5ScceddwhkwgrbC6PJQRvRvUd3E3453JsdMxSbH6Eif+CBB4RlltyDNgdhlkjwH4geWhTan7W10+5Y1keeOnXqZAbM+0feH1FDRJviOrQgPXv2NG2HARdtk9WWMCtnQLvnnntynDRaDJ2fqPHBoEyZMtKsWTNThng791pSgIMr4bFXr14tI0YMl7x58xpCbYk3mjYcEPv16yfLli0z1zLoH3vssUaTiLbHCvVJO7MmR1Ys0aY4xgQBzSG+LLyXHINsIGwyxXNpp7/t+s0mJ2gjuK7ZOc18txw3VMgU+6KkIIkrnE6dzWpg9LyY/J199tkhdk/RYiUFmCNwVnRqBRhccGasV69eiHSQLp0EM1vbOfE8OnxICJoGSAgdJSsicJBisxorHTp2MPl99dVX7aGEfdLBXX311Wa217hxY4Gg5KSdldkmdQc5YeYVSSBuxx13nLkOHCFs3NO0adM0nTGmILRCnEOdjDDYUq8cgwRSl3yHuDlJZNeuXc3xRo0amU+u4b7xj4435IMlmBxjJkrd8x0zB/U8aNCg0D2QTUsY69evL86ojuSpcOHC5trq1auHvn+x4AujnidN+0eb4TleWiIYXjdo1/r07WO0Yw0aNBB2aUTzFA+xpID3CbLOjB5sWAFj69Y+B1+McOnYsaO5nvZlJRIpQGMHgfjss8/sZcYEeMwxx0i1atWMiYF2xbvC852myGuvvdYce/LJJ0P36pfkRkBJQXLXn8k9MzhmCXblAcyfmQwSKymgEz7jjDPSoIJWAY9lBgVskDZdOghmSU6hQ6TTJ+a/DSNrBwyrEt64cYOZ6TBAkXYihE5zzpw5wpIsiEz7Du2Nmt76UyQiDxk9A98OsDz//PMzusQcP/fcc811xElgdggZZNBmhYIVS+BwjEMzA2ErUKCAIQMMDpALBjJMROEd/FVXXWWOcfy2224zgzHPYqZa78R65hymKlTOdktl8gQ5xZbNOWztECy0MBBU0nLaxNEOcAwyCGHEeZKNi9DQYKrAT4XzzMLRXLGbpJO42HJ67ZO8s5wR4gzZGTBggMEgO/m0pICVBhA2SwohbZHem507dxpzBoSRQbpJk+Ag/u6774ayEYkUQDggbwflsBmE9xz/iaLFioaehS8CdYP5AkFLxDUQCjQOKv5AQEmBP+rRlILOnqA6vLh0vkhWSAG2RafQyTP7w6Tw594/Q+nyHDp+p9BZFS1a1NjmrR2agYrZJUSBYyyH4l4cotwWnKdQiUJ0IDXXXHONUY+6/dxY0mcwAQ86/szkoosuMtfhGIZgBuA+zB5WsDNzDNU70rdvX/M7fCZnbffgYcWSAtvpc5wofz179jBp4Ndg69Tek1kQHDYicuYFjYIlNhlpiLDZc48lkPY5yfIJ6aLcTRo3Nu8L2hjMalkRSwogZghmppYtWkTEB22XNUFB7PEXQsMAlqj4rWRECjDvOckXhB7fILQIdgkuZggIAGYG3nNrOsDMpOIfBJQU+KcuTUmYDdMRwPyZwWGHDM7+0w70dOaRfAq4Nt6kgHxg8yRf5I9OhO8ffPCBa+hjF3/woQeN6QK1/KB7B2V75uZWZjEBgYclchk9B00C19mZN1sC8xu1LhqPA//+a0ghdYgZB7EOaK1btzYmEwYpTCc2iE3zFs1Dj2MNO+k5BxFmwJgIOM59mQmDB3nCXIHmwNazc4CHnJAWGg4ICb4OToEscJ4BMZmFukDFjwofMt22bVuDayQ1f0bltKQATYqVLxctMuYfNHd2do4PANogBnDaBpojfBAuvfTSdPWZHVJAHqyvAdoIG0dh+vTpNnv66QMElBQkaSWiukNFGy5sD0unalcb0KmjHixfvkIaezUzMuy+eNs7HQ3dIAXkkY6NfGEDp0PDzyDejlk8hw7x9ttvlypVq8gpp5xillt5Paa99Q+AjEGgIgkzN4geGEKsEPwPsPniI4CWCO9vZofUvR180JBwD/WMSYFojPxhl8YGjiOflYxIgZ3d9+nTx16a7hN7NFH3eBYDPloZNEb8xhRhhfKh6YCocY6/Hj16hHw6/EIKbHn5xD8H2zvkgPpAc5WR74jzvkikAPxatmxpcGNVCEIcA3DkGU657LLLzHEnycsuKXj99ddNmmgkMf9Rz1aT4Hy2fk9eBJQUJGndvfzyy8Z2zywMr29suXQ2VoU4ZswYUzLUvSy1o9Ogk2HweOKJJwQnIo6hIkwEKcB2bH0eeK5zMMpuFaCWJrYC6nfs7M2bNzfe1W6QjuzmNdL9eIxDxpjtOZ02ndcy6DLgM9A6A+jcduttph7Hjhsro0ePMt+d5gRrw8euDFGAXNg/p7qYZ1lS4LRBU282DVYdRBIGOEge9Tpy5Ejjc4DPw4svvmiOOUmBvd+eh9Rwn13hgNc8v/FP8Jv8+OOPMnjwYEOeIGUPPvhgpgGpIpECMJn0wiSDEe81dWo1Rvzm/caxk6BL1jExnqSAerN1Rj2xxFHFXwgoKUjS+sROX7FiBdM58HLav9y5cpkXlY7fCuo9u9TQXoeDIEw/UpwCVg44BZ8CbJQMSNangMGLtMJNDdga0UBgmgi3P7P8jHs471zd4HxWLN9xpGPmwkyWGQu2cOcKh1jSyslrqSvr8c+s2c7ybZ6279guOJuBXfjADBmi82dAQJNQoEB++W7Nd/ZWYXbPfWhPjiSRSAEExPoaQCBxZrMCqcBMgXYGUoMjnFOsqcBJCsLLxjbT5O/a64KzXOtTQF78KmiuIOZosiDx4ON0FrXlxucGbLjWKdSBXXHEklScAq15Dt8d7P52tRD3Qxqs2DgFVuWP0yirPKg7J0mkTbLckvTCNQG2TdHuCGqk4i8ElBQkcX3isY3THi8pMytmafMdy/6cRWM1ArMHNAtoFEZX6xUAACAASURBVJhFY2qg47YdNTM+nN447hQ6Czom1JT2WswXrFkPdxijM8GmjEd9uCrcOp41adIklI7zOdF+p5MiP5AXOlXKhENlMguzczpgOnGC4zDLxucCzFHzcxwTgDNaJOWFGNnzXEOcCCfuCxcuDC0hZJYKGYPQsU6duBPOpW2RSAGzWzQPkD+bPjNP4iZAxvC05xq80CF7hN5lxQD1w+DEPZYUQBhxTKXdoNlCQ0JMA66xqnCWH/KbegWTKVOnpNGMJHMdh+fdklrMAayIQdMFqUXzhaAdIl4EfkHhwmZNvO9oBhDeR0x07NoJAYQsco778S+wwgoUjlFnCISCFR+0N/tcjtOGeId5l50TDM5ZvyW0Q3Y1kklM//kCASUFvqjG5CgEy8zo8OmEsiJW/Yo9mg6JTjEn9gPISt6juQcyZu3y4OT8Q7OzdOnSiMlA9uy1keLh0+GjFbLX2E8GcaepwNbPO++8E3oOfisMDGgE8FC399pPVNwMINSpjX+A1oDz1vaNHRthALGmLHs/nxAZ6/cBWbX32Wvs8tpQpnz4xZq/8Dto0aKFIW3OQdpLRYZ0UDcE/lLxHwJKCvxXp54sEevaiV+AGYPvsQizW9SezEZx1GKJVjSOWrE8wyvXohpmFo5PCPEBGJAZMKyGJlI+f/31FxOACYfFjJYIspyMcLmsCiBd1PbM6J3CwA+BcAbfgRTYWTx5Q8tEGpAAtBBOWbRokfENYP8LNBD4qvAcNAJWSHvatGmG0KGVgoCEm5nQKLDEDo3CK1NeSanZKFoBBl00JZgXiBrpNNlYHHPqk2iaEBf8W75eojux5lQ9uPlcJQVuoqtphxDAdAAhCLeJhy4I+8IgyMCCkxv+CWwLjdraafcMu0V/uoCAJQX7/93vQuqaZEYIoAHDEZGdUNGMsXeIVflndE8ijs+eM9u8x7yPmRHVRORFn+EOAkoK3MFVUw1DgJk9Ns6MZrL28j/+/MMEf2GvBlTe2Qn+YtPUz6wjgFYHTYEOAFnHMDt38t7gN4SGjBk6yw6JS5BTgvaH95hVCCr+REBJgT/rNelKhdMkKnOi5hH5EHtluFNd0hXKBxlWUuCNSkRDhqaMYFQ4JaJBY+MrJWveqB8/5UJJgZ9qMwnLwqyD1RMsd8OLnvjqTpt2EhbJV1lWUuC96sT3o1fYhl5H0sB5rxSaI68ioKTAqzXj83wR3hZvd1SirLHG+UyXN3mv0kOk4ED6Xfi8l9vUyhF1g0aNZaFsxITjJhFMVRSB7CCgpCA76Om9MSGAlzme9cThJzAKcdQ/+uijNOujY0pQL3YdAUsKvLCbpOuFTdIHoFljy2bidqBxQ/OGBk5FEcgKAkoKsoKa3hMTAjglEViF7XpZasXadoLXqHgfAUgBIYiVFHi/rojxQJhoYlpAutHEpUKMB+/XTHLlUElBctVXUuWWtfGsWSeEKpvwsK2vM7paUhUmRTOLsydqaSUFydMA/jt4UIhcyC6JmOfQzBE+OjweRPKUSHOaSASUFCQS7RR5FvsyEG61YqWKJqY/QXMIw6qSfAhg3jn11FM1PkTyVZ3JMSGtCYFO4C/qkbDZBIdSUQQyQkBJQUbI6PGYECDULbH6O3XuZDZrIX7/27PeThc3PaZE9eIcR4BlcMSLCI9/n+MZ0wzEhMDGTRtNJEu2z0ZzN3ToUEGTp6IIhCOgpCAcEf0dEwIEMyG8LhvdsFMhOyGGh7+NKUG92FMIzJkz22zEpJEkPVUtWc4MGruJzz1nNrhCe3DDDTcImj0VRcAioKTAIqGfMSGAxzMOaGySw/7q/fr1kzVr1sSUhl7sfQTenf2ukgLvV1PMOYTkse/E+eefb5wSO3fubLZBVt+RmKH03Q1KCnxXpe4WiIG/f//+Juoga6PZGIdNUlT8iQC7KLJls2oK/Fm/lArNHttmo+lr2rSp0fyhAVRJTQSUFKRmvcdcanbAwzSAfRlTASYD7ThihjHpboAUsPZdSUHSVV3MGWbXTEv40QCiCdy2bVvM6egNyY2AkoLkrj9Xc49z2axZs6RNmzZmp8KOHTsaZ0JVMboKu6cSR8WspMBTVeJ6ZtD8oQGEGLAPiZoGXYfcUw9QUuCp6vBGZgg29Nxzz5nlhDgjsbxw2bJl3sic5iKhCMx6Z5YZGFRTkFDYPfEwNIFTp041mkE2YerevbssWrjQE3nTTLiHgJIC97BNupQ3bdpkAgzpsqWkqzrXMoymiNmikgLXIPZ8wiw3/vDDDwVnRMgBmsO339blxp6vuCxmUElBFoHz022EHCb0sAY48VOtxqcsxJpgdYmSgvjgmeypoDE0gckqVpSGDRsKgcnQLKr4BwElBf6py5hKcvBQKNRLLrlEQ6HGhFxqXcyMsGo11RSkVq0fubQbNmyQYcOGmUBIaBYJYf7zzz8f+Ua9wvMIKCnwfBXFN4NsTzx9+nRp3ry5WZ/crVs3WbBgQXwfoqn5BoG33npLNQW+qc34F4SQyc8884zRGuhmZ/HHNydSVFKQE6jnwDN37txptldt0KCBsRGzverq1atzICf6yGRCQElBMtVWzuWVlUoz33rLbL5UunRpueiii8y26PgjqCQXAkoKkqu+Ys7tunXrZODAgWa2V6dOHbPj3ZYtW2JOR29ITQRmzpwp1atXl3///Tc1AdBSx4zAF198IVdccYUxS6KRnDZtmqChVEkOBJQUJEc9xZzLxYsXS69evUyUsjPPPFMmT54sf/zxR8zp6A2pjQBb7iopSO02kNXSo4ns27ev0UzWr19fxo8fL2gsVbyNgJICb9dPTLljNjd37mxp166tlCtXRjp26iDvvTdX/jt4IKZ09GJFwCLwxsyZUq1GDflX1cAWEv2MEYGdO7fLuHFj5MQT60rNmtXlnnsGyLp1a2NMRS9PFAK+IAUHDoj8/ZfI33+n5t8vv+yWl1+eJM2aNZZSpcpL9+7XyhdfLJH9+0UOHhTZ948/caHeVVxCgIZz4IDMnDFD6kAK/vpLRImBS2AHk923z5/vKf0QsmPHHpn47EvSsGFTo8G88cZe8vXXi4Wmlap9N+XmVfOS+IIUPP+8SNUqIjVrpN5f9erPSrlytSQQqCmBwL1y7LHrpW4dkTq1RY6r6U88alQXqV5NZM5cL71KSZQXeumNG0UWLxaZNk1k2DCRm28W6dlT5JJLRNq0EWnWTKRhQ/mjcmX56aij5GD9E0XOOEOkZUuR9u1FunYVueYakdtvF3n0UZG5c0VWrxL59dckAsJbWb3ySn/3Y7WOF6lXV6Ra1QOSO/d7Egi0lwIFSkvVqm2lZo01Kdd/04eBh9dWcvqCFIwdKxIIpOrf4xIIjJNA4JeUw+DVV73VqXs2Nzt2iMybJ3L//SKdO4vUry9SsmT8X5ijjxapWlXkzCYiN94o8uyzIsuXB6eBngXHOxlr1Tr+VeL9fvFrCQRuk0BgVcr1X9RN/vwi69Z5pw2SE1+QgocfDr5MlSqJTJgg8swzIk8/rX9+w4B6HTVKpGjRYH2//rq3XiZP5ea770SeeEKkQweR8uUjjzZ5couUKiXSoIHI+eeJXHyxCNPVW24R6d9fZPhwEV4uXiqAHzxY5M47Ra6/XuTyy4Npn322SI0aIoUKRX5GvnwiJ50kcuutIu++K/LLL56CyUuZOb9NEMKW54pMnKj9l9/6L1seuHK/fsG6LlhQ5IcfvNQKfUYK6HtU/I3Arl0iFSoEXyglBWF1zZTjkUdEmjcXKVw47SB91FEitWoFB/777hOZPl2ETa5YnophMzuya7fIjz+KfPKJyFNPidx2mwhkoWzZtHlgalS5ctBM8dZbIr//np2n+u5eSwr69PFd0bRAYQhgueN1UFIQBky8flpNAVrRf/6JV6qajhcRYAyzE18lBRL0sJ05U6RzJ5GiRdIOwqVLibRrKzL+kSABwKMrkbJ1q8js2SKMcqedKoJ5wanPPu64oEZixYpE5sqzz7KkAE6l4m8EPvtMSYGrNaykwFV4PZW4koJD1fHnn0Gb/SmnpB1oy5YJOgFOnSayebN36g7X+q+/Dvo1nH66CJoLSxAwPXTrJvLlIu/kNwdyoqQgB0DPoUcqKXAZeCUFLgPsoeSVFEjQ0/9//zs8qObOHVTXY6zc4iEikFG7YS3pokXBlQs4AllyUCC/yE03eYvMZFQGF44rKXABVI8mqaTA5YpRUuAywB5KPqVJwdYtItddd3iWnStXcHngBx+YmAIeqqbos7JtW9CZkfWzlhxUry7y0kvRp+GTK5UU+KQioyiGkoIoQMrOJUoKsoNect2bsqQAz/3jjz88cGI2ePut5Kq8zHLLssmBA9M6SPboIYJfQoqIkoIUqWgRUVLgcl0rKXAZYA8ln3KkAFX70CGHtQPY31kauGePh2oljlnBLbtli8Pkp25dkc8/j+MDvJuUkgLv1k28c6akIN6IhqWnpCAMEB//TClSwJI9HPCsWv2001JjgGQJ0ciRwfValJ3AFFOm+LhVB4umpMD3VRwqoJKCEBTufFFS4A6uXkw1ZUjBb7+JtDn/MCFAlZ5qIYQ/eF8E/wKIAcsZiV7lY1FS4OPKDSuakoIwQOL9U0lBvBH1bnopQQqIJ8D+AlZDMGhQ6m5GtGaNyKmnBrFgGeOUV7zbOLOZMyUF2QQwiW5XUuByZSkpcBlgDyWfEqSAUMKWELBZUarLhg0iNh5DsWIiX33lS0SUFPiyWiMWSklBRFjid1BJQfyw9HpKvicF77wjkjdvkBRcf53XqyNx+UNjUPFQfOtGjUT++CNxz07Qk5QUJAhoDzxGSYHLlZCKpOC///6Tf1IwprOvScHu3cG9VNESEBaY3yqHESCutSVMDzxw+LhPvvmFFOzfv1/+/fdfn9SKO8VQUuAOrqFUoyUFNNRdu3bJAZZ5RZC9e/fK7zm4ScuPP/4on376qfwRxSxo5MiRcvLJJ8vChQtNSfbt2ydffPGFrF69OkLJ/HPI16Rg9OighoD9VD/9NMuVRjv/7bffhDYRSTjO+Yzeg0j3eOYYuzhCmsqUEcGs4CM5Eik4ePCg6Z/2ZLAclYlCZvXOYG3rnbSWLFkiX331lXBfvOSvv/6S888/3/zxXSUyAkoKIuMSt6PRkoLx48dL5cqVZfLkyemeTUdJY65Vq5b8/PPP6c67fYAX86yzzpJAICDPROFl3aNHD3PtW+w2J+xK+675XbNmTYHcWPn777/lT+Lk+0R8SwrQCrAFMQMeKw2yIR999JFUqFBBWrZsmaYtkCTaJdp5xYoV5fNkXP/PTpDFiwdxGjo0Gyh579YjkYJff/1VTjvtNDn++OPlp59/SleARx99VCpVqiRXQpwiyE033WTOf/LJJ6aPy58/vxx11FGyDkzjJLt375bixYtLsWLFhO8qkRFQUhAZl7gdjZYU9OnTxwyc48aNS/dsBs/atWtLnjx5ZA32ywQLzL179+5Srlw5efPNN4/49F69epmyzJo1y1yLloCOvlWrVmnMCl26dJH69evLpk2bjphmMlzgW1IwY0ZwoMuXL9uOdAweNWrUMO3jxRdfTFOtr776qjkO+UVrlpRyww1BrGqfIOIjwnskUoAG6PTTTzf19/LLL6epOvoP3n0mFSVLlpTt27enOY8GFMJA/4Y2kfN169Y1fd7mOG6cxXPKli0rZcqUyVGta5rCe/CHkgKXKyVaUnDXXXeZl+YR9pwPE0jBiSeeKPny5ZPvv/8+7GzifkbrJxBOCsgh6kE6B6cws6CjUFLgRMWD37t3Dw50TZvGZfnhhCcmmHo/9dRTQySR9tGkSRNz/NmJz3oQhCizNH++SJ48Iuz9QO/qEzkSKaCYQ4YMMfV3zTXXpCn1jh07zEDMu87fOzisOoRJQ65cuYT2YO39mI/ibUJCK6mkwAF8Bl+VFGQATLwOu0UKeHmeeuopwewAaXDK1KlTBbs+NjoE9f+TTz5pTBO8GNx39dVXS79+/eRrtowVMTOzhx9+WK666ioZMGCArF271hy3/9577z2T5saNG+0h88nvhx56yNx35513ytKlS+W6664zL7/VFDDrGzVqlEyfPt3c891338mDDz4Ymh30799fHnjgAZk9e7agXh4+fLisiLCP/Zw5c8y5nDChpCl0Bj98qSnAYbROnSApGBYflTgzNrQBDBAz0EKICG2F33Xq1An5rWBqmjjxWdOeIJpjx45NN8vkXtombRmzFQPTNyu+yaCGEnAYm7o1tYwZnYAHJuYR0ZACfI4Y3NFqOvsk6id37txy7LHHmjpGK+oU+gbqnjpEbN9Gn2V9T/ABGDNmjGCSpP089thjQpugz/nyyy+dyYW+f/bZZ9K3b19jshgzdoysXbfWaCxVUxCCKOIXJQURYYnfwVhJwYQJEyI+vEGDBmk0BTj0oM4vVKhQuo6yUaNG5iWzAysvFHZcXoamTZuac7yE/JUoUUImTZokDRs2THO8evXqaex5Xbt2NeedLJ/BHRuiTYtP8lO1alVzzJKCb7/91vz+H1vqishzzz2X5h57/0UXXWQIBr8vvfTSNDhQhuOOO87chwOSF8WXpAAflhIlgqTgjTfiBrvVFpx99tmm42/durWp24kTJ5pnQPyaNWtmjhUoUMC0K9oFGrOVK1eG8gGZZCBC9Uz75hqIBZqHHJPzzgvide21OZaFeD84GlLAYM27jy/AsqVLQ1kYPHiwqZd+/fuZc2gEnFqANm3amPOQB4R0MDMULVo0NLHBjHD00Ueb/ob7bZ/BJ9fZe+1DaUf4JTivq1atmhQsWFDKly+v5gMLVIRPJQURQInnoVhJAQPj448/bpgwbJi/0aNHS6lSpeSYY44JmQ8gBQzcHA+30VmnQAZjhAH1hBNOMC8ILwUvDIShQ4cOoZeGdGbMmG5m+nTUvEx33313CIqePXuaY8zmEetnwHXYCxd/tVhg5o0bNw6laUkBnTgdN4QEIe+LFy82dsO8efPKG2+8YX7z4mMeoZyQFac98eOPPzbpQnisitEk5qF/viQFDMD4EqAOj6Pz3+97gtoC6v++++4zHT52ZFa3oNnq1q2bqe+bb75Z0EZt27ZNrImtY8eOpv3hn1C6dGlDjpctX2a0XbTBhx95OM2gk/AmYlchdO6c8Ee79cBoSAHPvvzyy0290Ych9BOQO/qdVatWGS0Cg7X1jdq5c2eoDqlPBFKAjwGTHqvt3LJli+nr6G/oq1555RVDDm2/RB9kiQZthYGfPgdCwuTl+eefN06G3I9/E89QiYyAkoLIuMTtaKykgEab0V/hwoWzTApQ18LgGYCtLFm6RHLnyS2ki+rPCgM/eTiPGc8hsS+fJQUM2EWKFDF/69evt5eJ9ULm/oxIgb2YAZ48Oc0BdCJ25oBGwcptt91m8oQK0aviS1KAGYfY/rlziyxaFFfon3jiCVOnEAPai9USfL/2e9Mu6tWrl+55aKZor3T8DBRWMxVOjNPdmMgD2NRZqdGhQyKf6uqzoiUFOI9Sl0xuEOqJfgItIe825knOPz9pkjn/wQcfmN+dHQQqI1LAygFMEJ9/cXhnyg0bNphjzoHe5oGVLE55/4MPBK2TagqcqKT/rqQgPSZxPRIrKeClee211wRPbP74DitmuSIN2joaxqopQPXOS2WZN4WkUy1StIjRIljbHcdh9Ly4eBNbCScFixYtMteglQiXa6+91pzLjBTQQdBRRFp2xLJMnm9favwgWM6IBiHc1yH82Tn525ekAMfWwoWCg9wh9W68MKbzr1O3jqlrzGN2eapdwoomDO0ANmj+sA9XqFDeXI8vDBqFdu3amd+0b5x0ndqleOUz5nQuvjiI1+WXx3yrV2+IlhT88MMPRivAII1fwbx580z99L2rrykaKxN4t6+44grz+9577zW/n37m6VDRMyIFkAv8FZyaQpyfMQtADnFoRAYNGmTSDF/JhY8K2gf1KQhBHfGLkoKIsMTvYKykIBafgljMB5YUOGdUW7duNWp6tAjO+AGo245ECvAt4BpUueESvvog3HzA9ZmRAlSKeAlDAlAds3bZSRLCn+eV374kBTirVq4cHOSefDLuUOPUSt2i5rVifU5QOeMLw8zO/mGzPumkk4TBB4EE4GDIyhzS4XqnhsmmmbBPouXZTZIGDEjYY91+ULSkAKLW5JAJERPhsGHDTL3YmCXUG+919erVjKkI0wITA/ocK5mRAsygTidGCAITBtrK9h3BpY6sfqAtvPDCCzZJ80m6uvogDSQRfygpiAhL/A7GSgqiXZKI7ZWXgdk/KjqnWActp09BvEkB5gZePOsn4Hy+fSmj1RTYDt6ZhtU2oGK2MRxwiPSy+JIUAHjLlq7NfO2gcf/994eq9u233zZtq3379sYfBq2Y8y/S0liIJyYmTBEQBNv2Q4km6gvBdgoXDuJ1aGVFoh7t5nOiJQXkwToWjhgxQs4991wzYG/aHIxFAmk444wzjGPo9BnTzaTEuRSR+7NLCtAo0TexWsUp+FYpKXAiEvm7koLIuMTtqFukgJfr5JNONi+X0xt/2bJlRj3GEiDbMVrPfQhEvDQFhD2GneP5y3cr2Pjw/ualzIwUcD3mCZyBrNORTYPPDz/80CxjqnfiicZ0gjcymg0vi29JwYMPBge5cuVEwgLPZLc+hg4datoKA4gVBnjaLyazWIMYERCLtvc6exHkhDz6aBArIhuGLd/NiezE65mxkAK7NJGJCNEDmTjQX1kZOHCgqSPIAXVllyLa89klBSy5Jt0LLrjAJmk+Z7w6wxBG9SlIA0u6H0oK0kES3wNukQJySchQGn+LFi0EGz/xCWjwHGPG5CYp4CW39tw2F7QRyAhOiNj8eD5/RyIF9n7iFKBqJEaBFVSERDu0aVkbpD3vxU/fkgJUu4UO+RVECK6VnbqIRArwbznnnHNM3bdt29bsm/HTTz+ZFTM4mmKHRhh8OE+7w1mV9eqWkDqJcnbyF9O9xAs56aQgKQhbUhtTOh68OBZSwKCOnd++u5iInGKdCznPpIDfTskuKaCt4H9A2pBNTBO0G2ticjolOp+r34MIKClwuSVESwruuOMO8xKFq7zIHgMkrJuXyDmrZtB3vnycRxVnw4064xSwxAdHRaepAUdD7HtVqlRJ41NAqFHSYlMjK5HiFHzzzTfp4hRg87WDvbUjkk/Ss3EKbJrTpk0zmg7O8cdadaegUrbnUCl7XXxLCgC+a9fgYFe9usghh6541Id1CoMcOIU26IypwRp12xYuvPBCc+kXC74ItR/b4XNN79690zijOdN19Tv7grDqgN0SP/zQ1UclOvFYSAF5s0tKqQ+CjjmFFUo4/HHOuezQXgMpCI9TQF9FG6B/CfcpYJBHs7Rt+2EzKtoCZ5vgWZgy6EdZwcAzVCIjoKQgMi5xOxotKWBmQ3TCSDsJMisnGiANPXyXQpYDEsuAmAJEAGOjjwULFggbkNhNP7gfr18csJz2WF4uloFNmTIltMaXgmO/fezxx9Lsc4CzH/nj5XQKrJyIZHiJj3t4nHH8YhMTrrXhi3kByaMlCc77CTpCFDr+Fixc4Dxl4h7wMkN8kuEl9jUpIBhNoYLBQa937zT1lJ0faJhoK5bAOtPC7IX2i7bNQA9JRPtk2wLOqrw3RNTE74RImO+//75xYnWmk5Dv7IpYqVIQH5YiOtTlCXm+yw+JlRQweaFe6V/sqhJnFiEK+E/NnTvXedh8x3mQZYU4CtogVPRVbMZGe3CaImgD9F+cc/ZtJESfhVaJ9jN12lQTJIuVLcQscK5gSJeBFD+gpMDlBhAtKXA5G0mZvLU94kCWDOJrUkAFEIaWmfBRR4k44l0kQ924mkdWHEAEwKZIEZFvcjDMsksFjZUUuJQNTTYBCCgpcBlkJQVZAxgVY9WqVYyKMVm20fU9Kfh99+HldmXLiixenLXK9dtdRP6EEPAXYZdTPxRXSYEfajG6MigpiA6nLF+lpCBr0BGuFs9l/AycgZWyllpi7vI9KQBGzAhlygQHwGrVsr2VcmJqxsWnDB1ymBAQrAitgQ9FSYEPKzWDIikpyACYeB1WUpA1JLEP/vjTj8a/IWspJP6ulCAFwIoduFjR4GBYvrxI2Fa4iUc+B564d6/IzTcfJgRt2rDAPgcykphHKilIDM5eeIqSApdrQUmBywB7KPmUIQVg/t48kbKHNAYFCog88IDIvn0eqg0Xs7LmO5Fzzz1MCDp3Etm928UH5nzSSgpyvg4SlQMlBS4jraTAZYA9lHxKkQJwX/K1SIP6hwdHgsUc2pnTQ9USv6ywouD550TQjuA/kCsgghMs8Ql8LkoKfF7BjuIpKXCA4cZXJQVuoOrNNFOOFFANRDhkcxvraFeihMhDD4n8+ac3KymrufpmuUj7Cw+XE7+KsNj6WU06Ge5TUpAMtRSfPCopiA+OGaaipCBDaHx3IiVJga1Ftrm2M2gIQsOGIq+9JrJ/v70iOT+JP8DqAutDQdnwH1i1MjnLk8VcKynIInBJeJuSApcrTUmBywB7KPmUJgXUAzsXXnG5SK5ch2fUTZqIPP+8yM6dHqqpKLLCKos77hBh6aXVglSsKMJOkQcORJGAvy5RUuCv+sysNEoKMkMnDueUFMQBxCRJIuVJga2nWbNEzmp6eDBlUGX75RtuEHn/fUJm2iu99bl+vcjTTwWdCAvkP5z/YsVEbu0t8vPP3spvAnOjpCCBYOfwo5QUuFwBSgpcBthDySspcFQG6/UhB0T6K3goPLKdcdeqJXL99SJvvimyebPjpgR/xbRB9MHx40XOP1+Ewd/mkU/iMPTvL8KGUCkuSgpSpwEoKXC5ri0pwEnbp3FNXEYweZLH586a1XNq515PosWKhGFDRU45RSR37rQDLw572OjvHyHCxjlsw/3HH/EvxsGDwY2cli8XefFFkVtuEWHDr/wOjQBEgC2PO3YUmTpV5Lff4p+PJE3RkoLbb0/SAmi2KYmPIQAAIABJREFUo0bgiy+CryhcHouglyTgpcxkNS+WFNStK7Jtm8iuXfrnVwxWrxYpVy74QikpiPDG/POPCJtesfXx6aeLEN/AOTPnO1s0164t0qpVUJswdqzI9GlBrQM7Dy5cGJzdr1snsnWryC87RXAGZDa/ZIkI05x584JaCAb/QYNEunQROeMMEXwC2MEw/Jnly4l07iwycWKQlETIeqofsqQAC5Bf318tV7Bu4ea8IkoKXHrrLSnIly/os4TfUmr87ZIyZZZJ2bJ7U6S8IqVLHx5zlBQc4YVCbbZyZdBx79JLg0QgEkkIH8Dz5AnO7gsXDs7qS5YUKVo02IMdfXRaJ8fwe+1vKgqSgCMhJg5UPCqZImBJAZwtNfovW84tUqbMmpQqM6uK8RWmrlVTkOlrkbWTo0enn5jYvsm/nwskEDhZAoHyEgicLYHAsnSTM/+WPVjfM2Zkrb2k7F2EDf5+jci774rw0uBz0Lq1yPHHBdUv9FT0Ugz8GTUeTBMQC3YqLFUqqBk49VSRSy4J7vCIJgDdaE76MSRpBbdomTHsGVVH8h9/XwKBWhIIlJZAYLAEAgcybHrJX9b09YtSDYWcl8QX5oPvvxeZPl3k1Vf9/cdOuq+/flBatXpM8uQpITfd1FtmzFgpV17ZQ3LnLi3Nmo2VqVP3Gd8yP2MBGeBv0yYvvUpJnBeiBf76a2QTwcyZwVgI78wSwbSwaJHIihXB6Q2mBfYiUEeeuFT+/Pmp0Y8RWoNm1a7dU5InTzG5664h8vTTs6RKlYpSqVJXmThxt+/7MPpn+jD6dK/FIPMFKYjLG5kEifzxxw65+upuUq1aOZky5aU0OZ427RU54YSq0qFDa1m/PrWCvqQBQn8oAoqAxxHYL/fe21fKly8uL730Qiiv3323Who3PlXOOecM2bhxbei4fkksAkoKEot3lp/2+eefS7169aRx48bybQax73/66Se55JJLpGzZsjJhwgT5jzjyKoqAIqAIeASBnTt3SseOHaVKlSry6fxP0+Xql19+kc6dO0u1atXk448/TndeD7iPgJIC9zHO1hMY2MePHy+lSpWSW2+99YjbHB88eFCef/55KV+uvFx44YWydq0y7mxVgN6sCCgCcUFg5cqVcsopp8iZZ54pP2TiXbdv3z7p16+fFC9e3PRlcXm4JhI1AkoKooYq8Rdu27ZNunTpIuXLl5dXXnklpgxABi644AKpUKGCvlgxIacXKwKKQLwRmDt3rlSsWFG6Xd5NdrEuMQp59tlnpWjRojJgwAA5kIJhr6OAyJVLlBS4Amv2E50/f74xF8CqMzIXHOkpvEiPP/64MSdcfPHF8nMKh5A9ElZ6XhFQBNxB4IknnjCD+5AhQ2Ie3D/44ANDJi699FL5FWdYFdcRUFLgOsSxPYCBfNy4ccZccPvtt8sfcYg8h9ru3HPPlcqVK8tUosipKAKKgCLgMgL//POP0IeVKFFCXn755Sw/7fvvv5dGjRqZvzUsqVVxFQElBa7CG1vimAtgxJgL4j14//vvvzJ69GhDNnr27Clb2ERARRFQBBQBFxCgL8OnqUaNGvIZETCzKWgJcKJmYoP2QMU9BJQUuIdtTCljLqhTp46cffbZsmrVqpjujeXir7/+2jzjuOOOkzdYJKsSEwJ//fVXzCrQmB6gFysCSY7At9+ukJNPPlnOOuss+ZF9NuIkTGzwL8ABEX8DFXcQUFLgDq4xpfrMM89I6dKl5Y477pA/ExDJgoHtvvvuM2q966+/XlgmFA/Zt39fhssgWRXBc5N5meSyZcuMnwcdk4oigKlv06ZNsn79etlLtEgVeffdd6VcubLSo0cP+Z3AVi4Iq6twQOzfr5/sZxdOlbgioKQgrnDGlthvv/0mvXr1kjJlyshLL6UNRhRbSlm7euHChXLaaadJnbp1ZM7cOVlL5NBd2AxrnVDLLDn66KOP0qX14YcfCtqJMWPGpDuXLAcoQyAQkE6dOiVLljWfLiHw3HPPmbZ+7LHHSv78+Y2aHLLo9AFiZpsIku9SEWNO9tFHHzWDNROOgy7HSCGGQdWqVU1MA2IbqMQPASUF8cMyppQWL14sp556qjRs2FBQ6eeU0InRmREHAaegaJcLhecXLQcDJn8NGjRI1xm++uqr5hyxFpJV6IgoH7ZNldRF4KmnnjLt4KijjpI2bdoYkogfEG3DaT+/9957jUlwEaGhfSxoAHmvS5YsKVOmTElYSXFAPOOMM0wfuprtU1XigoCSgrjAGFsiTz/9tNEOXHvttYK2wAvCgIcdkAE9K5HE7rrrrlBHSefIrMEpr7/+ujkPeUhWUVKQrDUXv3wz++c9yZUrVxpn4O3btwvvNeYEK927dzdtPpLmzF6T7J84FBIP5fjjj5cFbNmdYGESQywXYiC89957CX66Px+npCCB9Yqa68orrzRxA7CLeU12795t/BpswBCnKvRIebWkoGvXrpI3b17jJUxHaSUzUvDpp5/KPffcI9dcc43ceeedglYh3PcAU8eDDz4opDlt2jTBF2L0mNFCJ/3WW2/Jo489anwW3nzzTbn55pulT58+grofwfaLeeOGG26Qvnf1FbQ04YJfxeTJk035Memwpjr8OiUF4ail3m+84BmAaOOEFY8ktFGikGKagyDTVseOHWsCkNl2/eKLL8oLL75g/Hnuv/9+c80777wTSm7Hjh3C+n7asmnro0cZ34XQBSKybPky805s3bpVli9fLnfffbdcd9118tjjj6UxY9h7Nm/ebM7dcsst5v14+OGH5ZFHHjF/GzdutJdF/YmPzYkn1pNmzZpliEXUiWXjQt5vtDL0W2hxVLKHgJKC7OEX9d2oEJlh/O9//5MlS5ZEfV9OXDhnzhypW7eunH766fIF2+BGIZYUsJSyXbt2pjN0OuRFIgU4CQ0YOMB0sHSezj/inztNGf379zfnW7duHbrumGOOEYjW+eefL3ny5JG2bduGzpHW0UcfbYI3XXbZZWmOFytWLI02ZM2aNYbEcA/p5MuXz1xfqFAheY0t3Q6JkgKLROp+MgDZwR7yGIk4s5LI2Zbtd3xqWLsPMahVq5bxokf9bc/z3iC8c7x/9rj9JDrp22+/HQL/oYceMte0b99eCh5TMM31zN6dzo/ffPON8XsgraJFi6S5lmNOQhJ6QCZfyAe+UFdddVVEDDK51bVTEC1WJvTt28fg7NqDXE54z549JswzRNKSSJcfmSZ5T5ACGu+ECY/LjBkzBC91vwmMn9UFzFSZjSeDMHMmv9gJhw0bdsSXzJICZupffvmlYG9l8MXuh0QiBThX0iEx80I7wPIlvJdPOOEEc3zQoEEhqPhuO0c6TzoxZv9///23dOjQIXTunkH3CB1g7969Q8cY6HFwZDZ1xRVXmOOsobZtDcLGRlPPTnzWzHiYUVFmngeJsy+mkoJQdaT0FwYf2xYhCIQgx65uhTb51VdfGbLKdczGaWPW7o12iz0AbBpopXhv5s2bZ/oHliZzDi0B0UxXrFghzO45VqlSJUFljxDkzKYBCeAZs2fPNu8Tx3mnrECyOfbAAw8IWgjeUTYlwkkSTZsz//aejD7RMDArHzlyZOgdyujaRB/Hp6NGjeqmT8hsVRXvPppHYrbYenHmdd26dYbwoMGMtMIB7Sb3urGsGw1U7ty5jWN2pGc78+nG9wxJActJYKKTJk0KdYrODCxdutR0nKh1rfCyEJYXNWwswuYY2OjYBRAm7hdhFsvSHBg1OCajzJw5U2rWrGnqNTMNhyUFNugSZgQ6IcwlSDgpoGNEExHeeXEtwUkYyOm0rPe2JQXMrGDSTmGAJ53hI4aHDuOrwW6RtCunSpGXHQ1D9RrVQ2lbchC6WcR0BOXKlTOBpGx4VSUFToRS+zvr5CGztDv+iLj3/vvvpwGFQYNz1oxlTzpJwcCBA+1h80nfyT0tWrRIc5w2SgwTztm+xJKCC9peYMixvWH48OHmOps2ky7eYdqzfZ+4Fsdi0ps1a5a9NdNP0rnppptMf8YEzqvCeMI4dNJJJ2UaIp5VRJR/xIgR6YpisaX/YJIRLnZywWw+3kI4+oIFC8qJJ54YkZDE+3nh6WVICgigA2DM2lB5hQssi/Ooda1cfvnl5pgdCOzxI32yzhfGCnv2CymALNEoGfiWLV9+JAg8fR6bJU5TaDuIisguZuESTgoIrcxyLVTxzNCZ2dNerKMhsx1WPECYwpcU0XERuaxAgQKhXR5h7NyPM1e4WHOFcxUHHS/mGtqV0/YLocBTnNCrTvMEabKJFGpR4kaMGjXKlJcy2+iPSgrCkU/t39jhmeXblQd05E5iYB0N2QzIKbRNHHppm+H7kfTt29e0c2bj4cLMnHfAmuXswMWnU159LbjSB00fwvta78R6UqRIkTR+CZgdSI92fSThHTjvvPOM2QMtg9cFjSzjESaXcPxt3idOnGjK36pVq3QaD7Z3Bhv+nnzySXuL+YQc4ViJX0kkwpDm4iz88CwpoFNntsbAFokUoI4FMKeKF4BQlcW6gY/fSAGbEDHowKrDZ7VZaCOeuYXlRqwNbtmyZbo6DicFZBpnP9oIS/hQj/LdkgLs+LSv2rVrp7F9ch+dWP369Y0KDY0UYkkB68PDxZICp9aKjpflnnS8zu2jIRzM8JykgOexpAoNAnmEjBQuXNhoGZhdQYoQJQXhyOtvEMDshbMdbYc9RqwciRTQ3jZs2GAvN5940pNOpF1RMUNyDsdDxJICCKxTILZcd93114UOW7LBMmg0wDZvzEZ3/565SRMNIZNDtBdZcUgMZSLBXzD7DR061JAh+uRwoV/gXacvsO841zBZQEsJhvyxmZxT6JPs2OicIKHN4dybb7xpiAhmyEjChOiTTz4x/kp8Wk2kvTYjUkA7W7J0SRptj70nnp8ZagqyQgqohD1/7Ek322f2z2wNwHgJAIHZoR0wLSmgwSLYgrDJOTvzeBbarbTIN2olBpJYTShu5Sne6dJg2Z+BWT4vmtXsRCIFvBTMotAW4BXNC2ZJAUu38DlAxR/+UjBww/Bx9LOdpiUFsPtwyS4pYPkkeUOzgF2Xlw8VJHHbKaftMJQUhCOvvy0C2JhpQzgTMpNE7MBLm3KK1RRACsI1BdYXhtUL4UJQIJ6BvwuSESnAR4DrLClgUseAzvuGTwIDGmQZAoMWLzOBzPOOXn3N1aFyZXa9F8/he4TGD3MJ/h5W6LusCdPpaImjJ2YDMMOnir7IqVV87LHHDL633XabTcqQJeu3Afb80Xc4JzHUAytEICH2Gj4x7Ti1GZFIAXWKHwd96dJlwYlS6OFx/nJEUkBHSSMOF9sgnZoC1K5k3KluQaXbvHlz43gGALwIgIUqq2nTpsZfgU4YxoZKDbMEKmWu5Rh2ObfCZYaXKTu/aUio6HBYwzHI74Jdkxk39nwInx20rU+BLb/VKFGX1KklBbyc+JBwLNxZhxcURxu0BZaJ2/TdIAXMBMiH004KMUEroqTA1qR+ggCDg3WedSJifWacbRYzKu0q3GafGSmYMGGCuYdVNk7hHjuAMVAjtg8O1xSEkwImV+QDNTlmACZ8mzYfjqfgfI79zqwXU2HRYkWNZsEeT9bPzz//3Ay+9FfOpdK2X0GTYsWu6sAR2q52csaauOiiiwyelkjQRzHGgTG+VKxYQmMOoYCA2XuZ4LA6Aq3ShCcmmDgX+JxxHxpT+hzESQr4jfMk4ypp4R8VyQfK5j0en0ckBXTcNCRmc84/bGkUxkkK7ADAwI7g7EVhuQ77Fo0YksFvPGxpdAikAPszhebcOeecE/J85zfP8rIw04T94SFstR9ezm+88obTXvv2F0r16tWNlz51NX369DTJg4f1puY8bN0K9c8x/AeIPUBny8DMb447YznYl9cNUgBR4XnM7NBu4E9jVzSo+cDWln6CAIM/BJeYGgz2aD8hyFbdjN3fil1Gy0DBjJzgOsxO+WMCFElTgAaNmTntkf6E9NGa2sGD1TB2pUC0pIB+GzMB/SvvapMmTYwJEFMFaYQHUCN9NHvkg/L6RZi8sEkTWNiJmw1djqnRrjJiJQf+AphKiCFBXdgxiAkqmgP6e1ZxINY0CuFwCn0a9+LbgLCSgJUO4YO6rZvvvvvOXGdJAStbMN3wPDQXkfypnM+L1/dMSQGNH3CYudNA7B8dpZ35OUlBeCPlJXCCQqbpcLmXyrGC+eDYYwub2SFLyqxm4rXXXzPHcEC0x+w9XvikUXTr1s2YC1BRpaLQwT3x5BOG1FHXTnWZxYOBnkbNefwMrMCMbWfHOftHm0PNZrUEXN+vXz9zPtKLwQyIe50xFWgvzNo47pzZ8UxeaDpkqxKkg7BEBJMFnWeFihWM6QPfAutoaDsQCINKaiJAx42617ZV+0n7vubqq9O0WZYI0p7sNQzIqJAZfIhTkCsQSOMEaxFlILbOi/ZePiEETnU/GgKOO4kIadhB6qpeV5kkeUfpp7iWSR4reHg3cIzkGD5C1uQBKeF3nTq1DRmxefLLJ5MU+hzwZfkz9YFJhf6AySnn0Q6CD4O3jTlhxys0DtQ1TppW6KvAkQkPs3pMSdyHXwgaTwZ36sApOELyPLQ21h/F+kRBCpgkM84ed1xNE28lkbtCHpEUABaFokHCpvjju+1EMyMFOKYBFtGmrOBLgCqExmk7fUgBRIEZpRM8rkXdQgVGChJi08yJTxoHAUZ4wWJ1rMyJ/Lr9TBxm8E6mXUSKf47zExoVy4ad+UENx/IpbHQ4Bjnjx9vrvlz8pYk14Bzg7TnuZ2mQc10yLzRaC57pbDu0LzQQmLqca4DxIUDThXMoS7p4YfEkxxRm7ZA4CHFNuI3Y5kM/UwMB+iXMZKwCIAIngzODQCSho6dNQ2pZ3mtnibwj+OTYwTj83nU/rDNtmncCfx3abLgZFTJLewz3gEdNzXEGJ4T3g4EM3xveBfJA38vgY014DE5EKISs4GuwZUtkJ7nwfCbjb8rPO46PBZMMS5iI68DKCsasG24Mrtxg8IY0MEjTv1jtptNxER8r7uHPTn7sbz7xlbN9zYIFC0w98GzGPAKsQRyI6+IkBZxncsT9PJu6SZRkSgqYMaHudw7UNmNWK5AZKWCwhCnjfIMKDIctOn8K2u3ybjYps0wGxxfAsyocTqLGghAwszuSh2woMZe/0KCwF0FWcApyDjguP9rzydPwGZzRLKGKtzNsz2dcM6gI+BgBqwKHnDgFQtKgQX0pUCC/GSTpa1nZkBFRcd7rh++o9ykz4xNjEuYayBTfOWfl0ksvMcfeePMNY1ZksHZOBK22E40B2kQ05PaPiQUrrRBMB9Y0hK8chISJC2MsZMJJCtDicNwGreJ7uEO2zV+8P49ICmJZkmiJgnV8QRWFCgSQ+bPqKtZ4wkyt2NUH4XEKQqSgpDdIAeaCy7pcZio20mzYlifVP7GDohJDzeonm2Sq16uWPzkRYGBigsfEiwGM/pkBDL8G+mWOMzN1IxCP1xFjILbaEj4JesQMHn8pK2gVwQmzISQC04Kd+XONjX46ePBge0vET+vAaONH2Ius/1IkUoB2qHmLoBMjvgmRJug2nXh9ukoKLOvC5gVhQEvwwgsvpGM8yUAKUGnjNMnqAvwiVDJHAFsdMxQ6G3aDtE45md+lZxUBRcANBPB5ou9CFc1MF894VtegtmagY8VCqgpmlONrHW8GfmbsRKd0Dr7095jRIVaQA0xGTiECK8fxRcCMaoVJLcuYrVbBTpp79OxhLzH+H/SRpB1OCnBARFg9grMhzxg7Lv4RFEOZOfTFVVKAaYGCsOSLRokDDKwVW5j1JyAfXiYFmAuoTPwgsO+limotvKFk9TfOVrxkECoce1QUAUUgZxDANIv2Fi98bOesQkA763RezJmc5fxT8Q9hrOIP06dT0ApYrQrn2V/CKRAIfJE4h38AZnA0pdWqVTPHbFwJyAFL8bkO7LkmT948RjPBMesoTf1AEtCoW40E/igcy50nt+s+TRmSAgpARnGmY9YXLlYVYkNuct46YbDpBoJTGIyUdML/iFFgnc5w8qLAMCMnQ4Npwb6OLXJsjvgU4FhGND5MIOHr78Px0N8ZI4DfBUsKqUsiB4Yvgcr4Tj2jCCgC8UaAZW706+wuqn4/QXRx5MNRmlUG9PdMBJ3y9DNPm1gELC+NtKkdk0cmvqzcYDDHYZMxjomxMwokMQtYuUCESEzz+KexpJX7bLA+HFlZ3njjjTem8bEjTxAJgie5KRmSAryvGaQvuviiiMsBAYCCE3rTij1mo/lBElBVsR4WNQrOFwyudotbu36ThglADMBOR0PICEEhmpzZRP7cGwzsYJ/l9ieeu5QPG5MlL24/0+/pgykOM9jubEAPv5dZy6cIeAkBHOgg5+zAaFfVeCl/XsgLqxDACNs/E9NYhXuOdB/nnRPgWJ/h5vUZkgIeioo/o/gAMCMaFZ9WnMe4FzaELYYZt1NQV6E5aNr0zNDhjJ6F+sSqUEIXu/gFUoIvBCseCGqj5oL4go3jDLiCL85OqRTsKb5IamqKQGwIsBsg9mtmpyqZI8BquVon2OWZWzK/2GdnMyUF2SkrZALbCoM/jRHVCBoBbFk2Vv2gQfdk5xFxv5f84f+A4014ZL64PyzFEyTWNxoDYl4Q80FFEVAE3EEA4s0SuHLlyqYLuezOE/2RKmp/NNWYWpw7sPqjdBmXwjVSwCOJaW/XZRKkAc9X61vA5hG7du/KOGcJPoN5A80GNiU1FyQGfGxn2M2YvbCGWtWZicFdn5I6COBZT58GAf9mxTepU/A4lRRNsQ35HL5HS5we4blkXCUFlJboWixDxNEMp0QCNuBl6TQ75CQqaDRYt4s6m00x1FyQ+Nog2iExDXDMQW2noggoAtlHAA0cgXnatWubzoSb/dRTJwXGqtGjR5nJi43B4+fSu04KvAwe5gJ2vGINKM4lKjmHAH4n7CpHNERWtjiXrOZcrvTJikByIkBwNbYLZrWPauDiU4doCuifiLvi58ljypICwlHWqnW82ZExUjz9+DQjTSVWBPDlYOMYbHk26Eesaej1ikCqIsCslnXxmGrdXrqWihiznBMHRJYQEvPBj5JypIBlIGztjLmATUqOtHTEj5Xu9TJhcmIZKzOdxx57NMMVMF4vh+ZPEUgkAqyfv+KKK4zmMzzATiLz4fdnsb1669atpfYJJxjHeb+VN6VIAZXZqVMns5OfxuT3flMmqAc7lBHXwm4q4v1caw4VgcQjQAA4fHIanNTARIxNfA5S64mYD3CSxpzgN9NzypACwivjdNOiRYtQ5KjUasbJWVo2JunYsaOZ/SRyT/HkREtznYoIsC8LJjci5e3YuSMVIcixMo8bO9aELiaKr1ec57MLhu9JAYGPRj4w0oRbJliOmguy22QSfz8BpZ566ikTfpSlrETbVFEEFAERoscSSp5NetShMGdaBKunWHrfq1cvIaR7souvScGGjRulQ6dOUqVaNXkzhXcBS/ZGavO/+rvvpFXr1lK5alV56ZVX7GH9VARSDgF8owYPHSpFiheXJ59+OuXK77UCL1u+XOrWry/ntGwpP/38s9eyF1N+kp8U/PefCBs2wdB++01k+3aRLVtk3uzZclydOnLuGWfI2m80aEdMrcLDF+/fu1fGjRghZUqUkG5XXSUbV68S2bpVZMcOkV27RP78k/jcIo7w2x4ujmZNEcgcgX//FSH+/u+/i/zyi8i2bfLrunXStWdPqViqlLz3xhsi9IH8qeQoAtvWr5cLzj5batWrJwvZQjlJ+6XkIAV79oisWiUyd44IGzDddptIp04irVuLnHmmyCmniJxwgkilSiLFi8trhQtLydy5ZWAgIH9XrRo8f/rpIs2bi7RrJ9Kju8j994tMny6yaGGw8g4cyNEGpQ8/hMD+/US8EvnsM5GXXhIZPFika1eRCy4QadZMpFEjU5/Ljj1WmgUCUqtAfvnh2GNFSpYUqVJFpE4dkdNOEznrLJHzzxe5+GKR/v1Fnn9e5KOPRNatE/n7b4VbEfAGAvQ7DB6LFonMmCEycqRIz57Bfor+in6rfn2RGjVEypWVfUWKSNtjjpFTAgFZVbSoyIknBvs3+kH6Q/rFW3uLTJggMmeOyMqVIvSfKtlDgH5p40YRQrKjpRwyRKTboX7pnHNE/vc/kQYN5K8qleWWQEDK5c0ry539Uu3aafuliy4SuesukYkTRT78UGTt2iD5y14u43K3N0kBL8nbb4vc3V/kvNYiDOwFC4oEAlH9rQkEZF6U10quXCKlS4uceqrIVVcFSQeaBWabKu4jwMz+yy9Fxo0V6dZNpF49kRIloqrnvwIBmRYIyK5o65rrihQROf74YOc5fLjIxx8FNUzul1SfoAiIMLh8+63IU0+JXH11cKAoU0Ykd+6o2vzBQEDmBAKyLdo2f8wxQbLcqpVIv34iM2eKbNmsNXEkBPbuFSG6KptHXXFFkJgx8YgS93cCAfklymtNmvRLxx0n0qGDCP3S/Pkiu3cfKZeunPcGKUDVixr48ceDDLls2cjgFy4sUq2ayNlni3TvLtK7t8jAgSIPPCDCHtMvvCDy2msic+cGSQWMDnvbmDEiQ4eK9O0jcv31IhdeeLiS8x6V/llHHy1y8kkid94p8v77QdWdK/CnaKKoQfHxuOF6ERh0pA4xXz4R2gFkrXNnkRtvDHZq990n8vDDIs8+KzJtmsi77wZnRMyy0AaMHy8yYoTI3XeL3HKzSJcuImecIVKxoggdZKQXlTZ1+eUiL78cnA2kaLVosV1CANPmhx+I3NU3OKunbYe3w7x5g9ouZv5oM6+/TqRPn2C/Rf9FP0Z/xmSJ/u3114P9HX0m/d8994jceqtIjx5BjVr16iL0l+HP4XeZ0kHN26OPBjUJanoIVvyvv4q8M0vkpptE6tYVyZMnPX7UHSQO7TRamRtvCM746ZfGjQv2S1OnirzzTrBfIlJmbaDOAAAgAElEQVSu7ZfQTg+gX7pFpGsXkcaNg9rtjPoltEM9ewT7uc2JI3I5Swp++EFk/CMiqF/CNQH584ucdFJQlcaAP2+eCNejCotHI0aFjP8Bs1QqkUHk3HNFypVL3xCYWTLAoH5W1XPWek5sonRoqEYx84R3VmiD6AyHDQt2eMuWifCSxkNjg10W1o0JijyMekjkkktEatVKT0iYDXTsKPLS5GD7yFpp9a5UR4B2i10ZVT7tLLy9ly0j0rJl0LQ1ZUrQfMAW8/HoX+gf/9gjsn69yHvvBU0JV10pcsrJIgUKpM0LAxKTLAY0TGupJhA2Jha9egU1KuH1VLlykEBhLmCAX7o06NuBH1t2xfZL330nMmuWyOjRIpdeGjSFo8F25gUihymUsWrnzuw+OdP7E08KUJ9h66Lw2MScBUeNT4f85JNBBhuPASHT4kc4uW1rkOXht4AtL5wtnnpKUPPg0xCXERDJ3qHvvw/6BeDz4axrSN/pjYKaHmxqEIBECx0CtlxmWi1aiGADdOYR7cLNN4ssXpzonOnzkhUBTJ9osho2TNuW0IZhGkO7CTHlukQLfS8a2aefCmrfwjWyqLAZeJjl5kTfm0g8mGDeNyzog+R859EEUHeYrtES/+LuAByxyPRLX3whMmJ4UOsTrvHBd+r220WYOLkgiSMFsFdU+02bpn1ZSpUKEgQYUAJVJFFhCRtk0Bh8b9Cc4Gw8aBRwYMMpTiU9At+tDppqihc7XN8QLFT5Dz4ogt+G15w7134v8sQEEeyvTpUeBIbOcsGC9OXUI4oACDBJQIVfocLh9k5/0aB+8DhtJx5agHiiDTHB7IYjLypxZ//WpHHQEdtr72h2y88kBaLv9FuiX8KBGfU+Ay0zeC8JmgRMPTie0hfZekK7jrNjnHeWTQwpWLZUpF3bw4WhUHhrYhZIlkGVF/qDD4Lq72KOgQ5VOCsi9qtjonmPYLk4yjhfOmYkvIh0jF574TJ6+VesELn33qDXt30JeSGxN+bELC+jfOrxnEWA9ox/C+Yv206YceOchuqe5YTJIJAa+jFIuy0Hn6zgifOgkyNw4DjIZARttC0f3/EJYKUTWhSvC753kBa0GM72Bjm44464mRXcJQUMpCPvD3p824pAU/Dmm8HYAl6vhIzyB9tEfVPEoW5uda7IcnfUORllw3PHsaHCuG1dQwbwEUhmUwuxL+gsT3DYhWvWDDr/eK4CNEMJRYBVBG3aHG7vhQoFzQOrVyc0G3F9GGYDzBss/7XvMeprVO0MrMkoqOKbNDlcHrTTEP4NSRxkCGdt/PFwRrT1hNM2cSuyKe6RAl4Y7LQ2wzhs4EEbDweNbBY6brdDAlhCYstYvHhwBUWqBc6B/A0dcljljif1lT2Djk5xAzuHE8K5B4Zu7Xu5AsElZbycKqmHAH2Zc4kamtCvv/YPDsycn3su7YwUh0SX7NiuAIf2lkkpZI0+Gr8OVhkRE8Avgg8cWgJr7sQUglaWQG5ZFHdIwaszTKANUxF4UTJAJHnoxwzxhQC8+KIIpMeSA5YF7fotw1t8dYKAHm0dpiGcqfCk9avgdOicReF4unSJX0ur5QpHgFU011x9+F2vWCE4eMZjRVT4s7zwGy3fNdccXqXDLDsZQoxj4sNp3fbJODrHYRbthSqJmAeCKuEHYsuLGYiJeRYk/qRg9CiRow6t/ccZLxkaUBaAS3cLm/R0dGgNmp7pXyJkC798edCj2jZEOkvCDftd0IwQadGuN8dMwrImFX8jsHlT0NnLtnfI8DofzTozqz2iv7Iah7LnzRN0ysvs+pw8x9JjlrPbemKSlgp+QASC699PBE0tZcffjZVdMUp8SQEqZFsRLDfLIlOJsQzeuRyVG+tZbaXQMFn64kdZ8rVI1SrB+sbRZcLjfixl5mXC9mrjWmBWwFdGxZ8IoOkkfDb9W57cwaW0fjKFRlNr+EoQTtn28QMHeG+PEVY14fNDHnEMfniciByMpnT+uYYVJda0hVM8IQBikPiRAsC3jQXnm1SYMWYENPGs7dIR1rz6DQuIjnVwwY+CwTFVZckSkeMOdULE3fj441RFwr/lJoaGdVQj2ilxVFJVwKJ9+8N9/YMPeAcJiJuNh8IKEJbAp6qw0ot4BozJEASW1kcp8SEFLL3Jfyh0J2u8cyhmc5RlTsxlL0wSoQOhUi67zHtr8rOKwl97D9vUCfYze3ZWU/LPfWw6U+3QkjTCy+JnoeIPBPAVYAM13mM0gM88449yZacULDu2S8wxFRPsKKcFrU3rVsF6QnPJHg+pLji+li8fxKRO7agnp9knBXhl1z4UrY4d6rZsSfWqOFx+1utb7cnEZw8fT+ZvLDGkTHjy4p2sEkTg008Or0xgvwW/Op6lWn1Pnixm0zTa/KBBqVb6jMuL9rNBg2BfgLqeEM05KQ89FMwLju3sEKkSRADTgQ1tzQZcUUj2SQE7b/HCsCSCdeoqhxHAx4DgH+BDpDOvRWw8nNPovn274vDAx46SKmkRsB0ThGmm+hekBScJf7E3ilXBtmjur+XU8agOVNR2uR+bMeWUrFkjYgPKEZ1RJS0CQwYHxyA0XWj1jyDZIwVUBrYbBr077zjCo458et++fbJ9+3b5A/VUBNm7d69s3rxZ9idD9Cmbf1TLdo8HCFQyC2t8qWuWX2ZDI7Rnzx754YcfhM9IQhv48ccfk6ueKQgqTOuIhS9JqjmiRarMZD5GeHPae+FCwY1wslkW2jtt+98Monr++uuv5vzBZIpzwkZyYAQ5yCnHcrtEFKffbAQk2rVrl+mX/sogCuWWLVvkp59+kgPJFvqZVQns6kg9EWviCONn9khB377BB1EZ2Rgk7Lt24403SvHixeX4WsfL8ghBMkaMGCHFihWTmclmL2ILVCqE+OJxwMnildBPyE3BQ1sPs+FLNuTFF1+UggULynnnnZdu4N+4caPUqFFDSpYsaV7QbDwmZ25lW1u7iVaytdOcQcybT8UsapfgEQwmm/LLL7/IyaecbPq3Cy+8UJjghEvTpk2lcuXKsiOZHJN3bD8co6X3LeFFcv83gYhsZNmRI7P1vNFjRkuhQoWka9euEk7MVq5cKeXKlZOqVavKTpd3KcxWITK6ma22Ma2gxTyCtiDrpOD33SLsQ89gxz7hcZDmzZtLIBAwf23atJH/wuyyd911lzn3MvveJ5MQFtnuwJesjkostaSu6Siz+VKg7Slbtqypy1lhgY4GDx5sjnfo0CH5GDltklmg9VRnEyWV5EQAXwLaO05rEOJsyvr1682AY/u3x9j3JUxOOOEEyZcvnzAjTSrB1wKsKlVM/G6n7GfAs+Mw4Vr93WopXLiw5M2bVxZgGnHIDTfcYPqla665Jh1hcFzm3a9oLdk6G6yuvDLTfGadFBAUAeaBh/2XX2b6kGhPtmrVSnLlyiX58+eX3Llzy1tvvZXm1v79+5uKmcL+48kmbS8IVkinTsmW8+BA1/jQRilEN4uDDB8+3NRly5YtQ4P/tm3bpHz58nLUUUfJF8QrT1Z55JFgXaNByyaBSlYIkj7f2KbpQFu2jMtafMxhRYoUMYM+fRsaAUwJTqlbt64cc8wxsjXZAu2g1WUJNuNBIlcjocZn50DqiQ2o4iC9e/c2/VIXnIUPydq1a03dQRhWJ/O+FvePCGLFZJ7InBlI1kmBZWi1asVtowwGCAgBbAxGfdppp4nTvpMRKUAVN378eLnooouENKjQyZMnhwabDMqe2MNjxgQrBE/dDHwmEpuhGJ5GqFO7BfK0qTHcmPGlEIAKFSpI7jy55QN2nxSRBx54wNR7586dQ2wc3wM0RJga0B4NGjQoXaf5559/CjOviy++WM4991y56aabZOnSpRk/3O0zLAWCLKOq+/RTt5+m6ccbASJW2vXuI0bEJXVIAQN+w4YNTRulfxswYECatDMiBQxK9H1t27aV1q1bC7NWT5Hmff+I1Ksb7N+GDU1TJld/YGaxWz5PmhSXR1kCwDhk+5A77rjD9EvXX3996Bnffvut3HrrrcJEtl27doJpG58Ep2CCePvtt6VHzx6hcen1119PpwF33uPqd3aDxLSJw2Em+3RknRT0uirYCAj1GSdhQM+TJ48sXLhQ6tevbyriGYe6PRIpwAZ91llnmWtR+5QoUcJ856Xr1q2b/M0L7gWZNy+I1//bO/8YqaorjqfQkviHlGgBtSFW3RXRRRZRQF0jGMEi0fpzQS0/RCvRgkUhwvqDSGnUyC5KUURYqugCQqGQViiCWvBHohWRHxbBoAKiaY1BsTaxbZrbfO6ds/P2zezM25k778fMvcnkzY837913zr3nnnvO95wDIOfAgTj0KHgf3nrLDCZikknWY6mJteCaa65RR48eVaeeeqq2EojpbsuWLapXr16anyeffLL26cFXhOf+/ft1LwCdogTyPS6JPn366PdDhw611MsCLkOCF8l02NJSwAXcXyKlAEqwoNl91spC+4VScMwxx6i6ujrFuO7SpYvGR32IazHVsikF69ev19Yzxjc71a5du+rxzbWeonpnXNq11xr5Bhg5rLZrp0mpj4WiA8l58nVPrAUoX+A7WFPAGoiVAEybrDOnnHKK6t69u+bJ4MGD22xY4A+Wb3hVU1Oj+cf7yCxBWKBkXOeoA1G4UiCDYOzYfDQO/DtKAYOf3eGqVav0exYKQDo0v1KAJjZhwgR9Hlr0vn379OKyadMmbZ7jWr+LSyw9LhbMXOwgScWZpLY5pdAQaWIxbbO4CxB2kydP1nxEQaCx+6+trdVupObmZvXdd99p3orWfmsq5haNnYk3aNAgramjJGzfvj1aMCr+u96nG37Pn58kTru+QgFy50vVuddft0ITUQqwFCC32LAgn272+Hf9SgGANhYdzkOBZr7gcmhqatJ+b0DX7Gxj0SZONON95OXhdQcrHDKVOHyLZn2xFvTs2VNhHYD+YiVASQBsiCVh9erVWi6xPo0fP16fJ9YfIunY2AKofvfdd3XEyeHDh1VLS0u70XUlJxwug5+kkqzlWBcLVwoQ3jCEYhOWmigFID0J20GrhiG/JmFOFqWA8BCITsTCoUOH2vSChYT/cs1YNKrriVJAIaEkNbFyoBR8/LHVnou1AF6xexIrAYod311NpTNPw0RHZALKIorCjh079Hn9+vXL8NF6/hbuW8ypuNXgt1MKwqW9jbv9zaMUvGFfKaCLe/bs0TtHgIVvp3a5fqVg6dKlemzjNvM35gXzA7dpLBqmdcb75SPC6w55cbgnCtwHe63eV6wF0BjrjFgJALnznSgJclOUPhQFXN6ELCKbsFpiGcAyFIuGUiDBAaTib6cVrhSMH2cYQh5sS02UAnZ/tM2bN2uNmEUALRl/MgwRoCHE5nO2hX/v3r36v2eeeWbW8B9LXQ5+GfzmMoAtL6zBO1HgmZTlxD9OVcAsoaIFXlX/Db4CuoKP9fXXt2IJ5s+fr7+rrq7W7oFRo0YpXuBGEKT4Z4liYPINGTJEn4uLYfbs2Qqkd6Tt669Msir4/dzSSLvibl4ABdhgSP6VDXZS+HotBRJVNXXqVD1uR44cqRcSTMxeoOH06dP1749nCQFGGWDO4NeORRs1ysg3UrqH1cAN4R9HNm3bZvWuWAtYd6AxGCVpsgb17dtXjR49Wssk5BLRUpyLCxNXKE0iqeDpxIkTWzc8cq3QjwBbjz/e8GnN6nZvX7hSMHu2uXhNjbUkLX6lADMbiwDExnUwa9Ys/V6UgjVr1ujPAMz8jYUBLQ3z29dxqMXwxHxDLzKkxaE/foLl+gwGQoRkDl9Urkvk+m3MmDGaj95Q05kzZ+rviA3u37+/diXgTuCFq6C+vr518hHCxaQD3c1Y6dGjh3rmmWdy3bK0v+EeEjR2AaVLS9s5d/W8FCCHgFTaa2zMe3qQE7IpBSi1jG+iETZs2KB3mV6lQEzSz2YB0S1ZskSP9VtuuSXI7Ut7DmG4/VPhbvffX9p7ea+Oj1wWueXLvb9YeQ+4GXmC1VIacobvwDp55RLvkUvwA9cBjQ0Lrh5xAYGXmzRpkv5erhfqEYuUKFE5MBiFKwWEnrATQvhZ8pH7lQIIhnkYFwFgDlCeMESUgq1bt+rPFxIX7mv4lfE148OLRQaq664z9MLnlqSMZdCVDFgDBpj+l2Bngl8Vvr7wQjqyYeHChfq7KVOmaM6yu/K+fOzWH1EE2V0x+VAQAKFG0gDHMjeoTpa08LJICBbDm4p79IorrHQum1LAhVk0GPu4Snv37q0BbQJEa2ho0L+BbPc3cbs9SP6QqBv+fPI5MObDLB/uzQly223WqQBODd5IdBQ3wJXNdw+nEiV5ZZJYgPwdYVOKEocCyH/BIkTSHktVMibXDGDodlrhSgHx1+TzZyBYCkPJphTQb7QriEl0AUdRCsARIPyxCLyDz97TxDTn9/14TgnvLeZIqW/923nh3dfmne65x/CaHVSOGNdCbik7IuEr13j11Vc1rwHrZMv+JvdBK/dPRjLDMU78Y0L+U9IjCbeGDzO0IjInaQpgSYmToIs//bThISnKP/6o6I63pxRgasbFyXjFYtCtW7dWdDqgNL4fOHBgm9BsQLjsTPnNn/yr6I4WcoFHUwmEevQIXwmemUpFTer1HAtdIY+FWwcav/zyy61/FwD8xRdfnCF3Wk9S1EP7X4ZFQBS5R6mREnZDgaq70IxpXD05WuFKARcVcAnlYo8cyXGbYD+1pxQcPHhQm4RhEK/lHlORKAzVVdXaZIxWN23aNG0lYIIJQCRYD0p0lrhaCAf55JMS3aTEl8VnJ6WgcyBXC+lFNqWA+heAduA3kxPzKos8IVrkscBfRyO6hF3WypUrddQBghRFkZAh8AqhN5IuCZ084zT0frgbFkcBwhK7/8gI0fvuK+5aimlvQhKxXPqVWAGvMdYZu5LREFCthNiSGplkboTDjRgxQs8LMsCKqbroDhZ6ATYIZ6RAtZ5IikIv1+H/YaWWSJEnn+zw33P9IZtSQPRBVVWVpj+YAhQG5NLatWsVbtDH2I0rpSPhAD/zmd9Zl0Sekbsg9IZig+uATXye9OvFKQUAPaQs429mF/2cAhgToKH3gvPmzdOMYOKQAEIaYTvkquZ77wuA2p/DzK4lHfIf8cefcIJhhif5hf+02H9mx3vlleY5+vSxiosQTIFX2YMeILTJN+Dlq7y/LyWo2SkRtSDfc0SwRhKKipUApDgTjzLiSUtSFftBGHIHp/zK8BIrXyovRqE9QCnArQUmxq8UEEYrrlEiqby59YlMqO1f22Z8M8ZZsLhm5G3OHEMjQMh/fTua7tTXmz6cdprVDKIkioLWAN69jUUe641X5vAe/opSAF6E0EX/OViuwRqE2nD/DhliaIQbuJ2CT9Kn4pQCroIvByHILrhIZDoTYN26dVnNxUwkog3YKWarrvfaa6+pBQsW6BAdTDx//0cEu0ShqhxZSG+6ydDnuOOUiktMsfSvo0fygYMhgd8Uw7LUdu/erRU9f9pXLs8E2rhxo0IpbGxs1FaiXbt2tRGsWIMI3wKljaUgsthtLCgkUoE+LurA0uiI8DIsupjE4ed112ITLrgzjGMU2DfIKpelHTlyRP/+5ptvtkbgyGlYDNb+Ya2eA8g4dqexqBRLTQhxi1rMVyPPHfhIdj6xFky2V5Rp27Z3tFzyZyqkX1gy2fGjBMydO1dbKv1WaSyVgOGRXYTIk5QvkkZYNGMY2RQAz1C8UoC/XKqJnX++dX9zJES0dVPxS8KQORH4kWw9h/c6AA15HkzklrK9eS+f2PeYMWUB+elP85YnTexzVlrHwQAx3nnFJSdAHHhAOV7K8EIXLKFRhwHPmG76QtbV36+KA4Xi0QeS5oGLgU+AZwOUfS5eKeDRV640saLc+Oc3KZUKyYgHVSLqBa6LY481zAB4Fpd0y8WSA+xIv35pYeADeBZ7+UT+H/9zbYomKAYWs6slkh7l1On//FupkaliZuxGnSJsCqRNuNnIAGT+c89Fz3GwDQMHmj5hvSC3SqU3FDWp4cHGPaDiZkcpgPgNM9KDBMBJlnrhFcOj9evTBYSqqwMzIzH0wVwnu2LyLkRlFosDwTAxDxpkxj5+1TVr4tAr1webFMAaCo6GBZB8HevW2rx6sq7F5kZSGkOPu++OT/93705HxP34pMouRrZvn1K1tWbMosxu2BCYT/aUAkIebk+lumSwEN/72WeBO1I2Jy5apBRFj6ABC6bFAkKxohEJPcBJ8JwoCCVIahSr583WGUxzsliA7MVd5Fp5UgD3EFFWjHeErGWkeyKIRjSP5G+ADiROAsQWp0ZKYdmwkNgIK3alNep1ALqER2xUnn++QxSwpxRwWxSDqXebztAhENiVktENs/ov71Dqeyn/I4tFkcDLDnEyipPhreSqAGNAmGAeZGsU3SzJPVH+pOIYSmCUGRRL8oDuohkUAFjXt29avt32C6to94z7xekLig+dfXb62QH0xU0hEHoB5iRvAWsQynpDAxXW5NfyPQJsB1QobutuP1TKkxAu6IPbVQrkrgByZLeMVk3qy6Sl9pVnCXIkZEXSfDIQL7tMqYMHg/wz+eewgxJfHs9+yVClyhlngF/uhtFp4UjVsZdeSj4f3RMEo8Bnh9MYA8Y7SkIcQp+D9b7jZ33zjVJkTfTK86am+CflotIlmW7hEa+LLlKK6KlybbgLpHIxz3v66UoVWIipNEoBhN/yl7ZaNYsmvvZyagDMKJYB4hVGsFu+997yARUG5RWZxCamQlOhA5oqiqCFhFZBu1Dy84gtxmQslhGeEwDaR/tLfmt3g5hRACA1VjFMs4wDdqOEZpfbRgBl99xz0wsr1k9fzH7MONO2O2xEJ01Kg+DZoM6YodSXX7Y9L8mfsMzOnatUz55pPuHiOVT4prR0SgGEJhWyd9Hs3FkpUizmKMaQCP7wXDBCTFQIBhD5nsIZiXgO253Efyd+V2iC+4jY/SQn8cElBuKcnQbPxAt082NzlQKZ7lrlUgD3mdQEYVygMJLClmp0SW5kL73xxnQGPOQ24MI45H4phK4ku2PnLPOXsuaLnk52+DyKKaDmwSmQM89GaOiCBYHCDnORsbRKgdwZjfO889JMQcOm5DIoXsxTSWn4FB94oO3C17Vr+e2Ki+EH5lUyN8ouisHat8bkafio+BzyxXStQ//9/HOlFi9S6oLz0+OWZ7n6aqUYB645CkABdqOzHkzHgjNGcClhMXx/d3JohOL+pz8aIKEkKONZzjmnPCy8FCa78850Bl6ejU3LIw8nK6kc1mkWfq/LlqREbLY//NDKeAtHKaCr//rWJP9AS4Mh8uLztGlKgZiMYxgjIWfNzUqNGJGuBEbfMUWRrZBUz65lUmDrVqUoCCT5tqEZSTTwe61YHn7hlMweZn6DG4S85ITUnnhieozSd/yT7DhcgaNMurlvTKXYceMyZQT4IqJSAsaIh0pKTM/E80+fbhZIkckcq6uMNTRJm7YgxON5r7oq7fLlWQkzRdlvaYlnxBzuDjbQY8ekIyuEV6QvfvHFIE8e+JzwlALpEn5mFtmL6touGGg7Z52lFKhWHjKKYjb0kThc4vBxD1w2PI0wFybgMrhrSvlHFgi/ij2CBJ4wIXMwY+piIiIw2XlHgWQmbS1K3/JlSo0ba3Z4wmeOYCMQICgKLiFXsSOhMv5PrPy0qZljCYV42KVKNTYaIG5UUTq4NohZpyR5TU06LTfjHTfBBReYOVlOfvdsIw/QITgQqUsj855wxp9daXbj778fzbxHLlFrg6RQbDy9bmr6iRJz/fVKbdxoIv6yPV8R34WvFEhnSbcIY5hAfc5ouyvjwQFOUFxm5gOmqhOTzTZwDfAYiwILFyYZFi/QxFLlTgYK8a4sDmiSX3whT+COHaEAwJennlJq2LA0klnoi9UF99Idd5jQPjAnmMnw59tq7PARiOSNeGGFGXekaSVsR/rBEd6TjIh66SCYXXMUKIQCLKorVhhzvNQHkHHGGKs5S6nx45V64gljJcWSYLtQzldfKcXChlsAYCTAWL8FjD5hrb3rLmM1sDnnCqFb2P9BzuAmxKKDK1h4xJFif2BGbr9dqSVLTJK2Tz9V6r8WczOIXMLiDCaLEvXIJQkrlP7gjsVa2TjHmpugPVJHpxR4e/TtP034BGascweki+4IQThCFDSmwYOVuuEGM8jnzTNWByYfYLBXXjGMI0yO3T6xtYQLUQRi6VKz8FPVC/Dj8OEmBaQk4PHei/eAhqi+9eyzRSE5vY/p3qcoQPgMShgJrrp3bzsRhQ98DxYBQYbAIgxq4UKTiAMzPjgVXE5Mpp07laJkMcjodeuUWrbMTHTKmII2Bo2Lb/Skk8xuSO4hRzTvoUOVeuQRpd7bblcZcUx3FGAhYdc3erRSvXplH+/kvCAlLUozixC1UpgjyC3kF3IMeYZcQ76RRRR5h9xD/rFoEQoOvgGQIHKS5GlefICMd2Qp84GiZlwjyUBgm6OL3TkyBrybJEASmskRuYRCx4YVa0tTYwfl0mKlHn9cqXsbjCsVPrDWYKWRe8iRMXHppUqxZsHzIgpydYRM8VAKvD3GjLxrp9lVMrhJ1ejX4IRo2Y64ISBwp06ZRM52Pt+JwsGEBCC06aXKSUripX0U79HUWciZYGjI7GQkxLM9fnm/h9fZJpT3HO/7Tp2VwvJD8S7Mh8taii6LGwXZ3D0TSgEsCCivhOyyMWHhRv54x2iu98i1zt9va/bPdT6/seskOor8GoTVklQtCnddklgG0BiFi2R8bBjYUJRULnUyGWKxUiKXSDoUEQ4lfkqBf+Dg4yf+l7wHzYtNdirAaph1wCBUVZkqjWhwDH4x/TN5MEujbbHQgAhGE2dywGS0cfx77Doxsdl2Tfifw33OTwFMaYR7shtiUjz0kHHp1NWZbGqEFSFEcS3ho2UXhBKI4EOwsuNHw8eiRM0JXEGDBpoiXeygSOml0zIAAAHJSURBVPeJywokcqWZSfNT350RBQXExE+acKxhuNAuucTIKeQVcgv5hUUTeSabnS4/MPIOuUexG9LaIg8HnGMsY1jIMIsTNon8jArDEAVNS3FPlDmskqtWGdfirbeaMGWyPOJ+QS6BT0Au4XbIJpewEiGXwHIQPcCmF7cOZdaxdKKIxEBZi79SkIvB+OCojoWfHxMd5h9AazAPcwtm6gMHzCLAok90Q4DSkblu6X6LiAIs4qQqJUKAyQMWZO9e4zrY8Z5SH+wxmjX1NlAsQE3HYIJFRC1326RTADmFvEJuocQix5BnyDVcXMg55B1yD/mHHLSNSUg6DcPofz65BC6JHT8WUZFLMQctJ1spCIPp7h6OAo4CjgKOAo4CFUIBpxRUCKPdYzoKOAo4CjgKOArko4BTCvJRyP3uKOAo4CjgKOAoUCEUcEpBhTDaPaajgKOAo4CjgKNAPgo4pSAfhdzvjgKOAo4CjgKOAhVCAacUVAij3WM6CjgKOAo4CjgK5KOAUwryUcj97ijgKOAo4CjgKJCFAk1Njeoo4aBl1JxSUEbMdI/iKOAo4CjgKBAeBZqbFzulIDxyuzs5CjgKOAo4CjgKOAqESYH/AzBCBdWReGIMAAAAAElFTkSuQmCC)"
      ],
      "metadata": {
        "id": "OgzFYr7RrnZr"
      }
    },
    {
      "cell_type": "markdown",
      "source": [
        "## **Regression**"
      ],
      "metadata": {
        "id": "D4zVeTl2v4un"
      }
    },
    {
      "cell_type": "markdown",
      "metadata": {
        "id": "ovKTLLil8f4N"
      },
      "source": [
        "### Linear Regression"
      ]
    },
    {
      "cell_type": "code",
      "execution_count": null,
      "metadata": {
        "id": "ZjZ0_rixI-It"
      },
      "outputs": [],
      "source": [
        "from sklearn.linear_model import LinearRegression"
      ]
    },
    {
      "cell_type": "markdown",
      "metadata": {
        "id": "sYKDztOkEmzu"
      },
      "source": [
        "\n",
        "Simple linear regression: finding the best fitting straight-line:\n",
        "\n",
        "> $y=ax+b$\n",
        "\n",
        "Minimizing the loss function:\n",
        "\n",
        "> $L = \\sum_{i=1}^n (y_i - \\hat{y}_i)^2$\n",
        "\n"
      ]
    },
    {
      "cell_type": "markdown",
      "metadata": {
        "id": "iyLqRQN4W8bF"
      },
      "source": [
        "#### Example 1"
      ]
    },
    {
      "cell_type": "code",
      "execution_count": null,
      "metadata": {
        "id": "X_7j_V4LGwR0"
      },
      "outputs": [],
      "source": [
        "df = pd.read_excel('age_couple.xlsx')\n",
        "df.head()"
      ]
    },
    {
      "cell_type": "code",
      "execution_count": null,
      "metadata": {
        "id": "IzUCjScILd4i"
      },
      "outputs": [],
      "source": [
        "len(df)  # length of dataframe = number of rows!"
      ]
    },
    {
      "cell_type": "code",
      "execution_count": null,
      "metadata": {
        "id": "S3itxZT6G91e"
      },
      "outputs": [],
      "source": [
        "# intuitive regression line: y = x\n",
        "\n",
        "husband, wife = tuple(df.columns[1:])  # assign column names to variables\n",
        "df.plot.scatter(x=husband, y=wife)  # make scatter plot using method plot.scatter\n",
        "y = x = np.linspace(0, 100, 100)\n",
        "plt.plot(x, y, 'k--')  # diagonal y = x\n",
        "plt.grid()  # add grid"
      ]
    },
    {
      "cell_type": "code",
      "execution_count": null,
      "metadata": {
        "id": "FfEMhCtAXr2E"
      },
      "outputs": [],
      "source": [
        "X = df[husband].values.reshape(-1, 1)  # feature X - must be 2D!\n",
        "y = df[wife].values  # target y"
      ]
    },
    {
      "cell_type": "code",
      "execution_count": null,
      "metadata": {
        "id": "6qxJzAp-HLTV"
      },
      "outputs": [],
      "source": [
        "# train model\n",
        "model = LinearRegression()  # instantiate LinearRegression object\n",
        "model.fit(X, y)  # training the model = fitting the data points"
      ]
    },
    {
      "cell_type": "code",
      "execution_count": null,
      "metadata": {
        "id": "ZKeXh-unSQG0"
      },
      "outputs": [],
      "source": [
        "# evaluate model\n",
        "model.score(X, y)  # calculates the R² score"
      ]
    },
    {
      "cell_type": "code",
      "source": [
        "# other metrics\n",
        "from sklearn.metrics import mean_absolute_error, mean_squared_error\n",
        "\n",
        "# first get predictions...\n",
        "yp = model.predict(X)\n",
        "\n",
        "# ...so we can calculate the scores\n",
        "print('MAE is', mean_absolute_error(y_true=y, y_pred=yp))\n",
        "print('MSE is', mean_squared_error(y_true=y, y_pred=yp))\n",
        "print('RMSE is', mean_squared_error(y_true=y, y_pred=yp, squared=False))  # set squared to False to get RMSE"
      ],
      "metadata": {
        "id": "OWOMFdj6evli"
      },
      "execution_count": null,
      "outputs": []
    },
    {
      "cell_type": "code",
      "execution_count": null,
      "metadata": {
        "id": "5qBMEUgtHZTs"
      },
      "outputs": [],
      "source": [
        "# get parameters\n",
        "a, b = model.coef_[0], model.intercept_  # slope a and intercept b\n",
        "print(f'slope a is {a:.3f}, intercept b is {b:.3f}')"
      ]
    },
    {
      "cell_type": "code",
      "execution_count": null,
      "metadata": {
        "id": "MuBJeXkQXyFb"
      },
      "outputs": [],
      "source": [
        "# plot result\n",
        "X_line = np.linspace(0, 100, 100)  # create 100 equally spaced points between 0 and 100\n",
        "y_line = a * X_line + b  # line of best fit derived by the regression model\n",
        "df.plot.scatter(x=husband, y=wife)\n",
        "plt.plot(X_line, X_line, 'k--', X_line, y_line, 'r-')\n",
        "plt.legend(['data', 'intuitive', 'ML model'])\n",
        "plt.grid()"
      ]
    },
    {
      "cell_type": "code",
      "execution_count": null,
      "metadata": {
        "id": "d9DNBjLRYNaj"
      },
      "outputs": [],
      "source": [
        "# make predictions\n",
        "X_new = np.array([[40],   # husband of age 40\n",
        "                  [80]])  # husband of age 80\n",
        "np.round(model.predict(X_new))"
      ]
    },
    {
      "cell_type": "markdown",
      "metadata": {
        "id": "ppciq38cXyzK"
      },
      "source": [
        "#### Example 2"
      ]
    },
    {
      "cell_type": "code",
      "execution_count": null,
      "metadata": {
        "id": "S7o5bIYa92iM"
      },
      "outputs": [],
      "source": [
        "# try it yourself"
      ]
    },
    {
      "cell_type": "markdown",
      "source": [
        "### Polynomial Regression"
      ],
      "metadata": {
        "id": "yZlm9lSIpQHZ"
      }
    },
    {
      "cell_type": "markdown",
      "source": [
        "\n",
        "> $y = b + a_1x + a_2x^2 + ... + a_nx^n = b + \\sum_{j=1}^{n}a_jx^j$\n"
      ],
      "metadata": {
        "id": "s-lgb6UjGNZu"
      }
    },
    {
      "cell_type": "markdown",
      "source": [
        "#### Example"
      ],
      "metadata": {
        "id": "DnjybTzyBpb0"
      }
    },
    {
      "cell_type": "code",
      "source": [
        "happy = pd.read_json('wage_vs_happiness.json', orient='table');\n",
        "happy.head()"
      ],
      "metadata": {
        "id": "ZgexAFWZ_eDH"
      },
      "execution_count": null,
      "outputs": []
    },
    {
      "cell_type": "code",
      "source": [
        "happy.info()"
      ],
      "metadata": {
        "id": "VUT7zdrlDIRx"
      },
      "execution_count": null,
      "outputs": []
    },
    {
      "cell_type": "code",
      "source": [
        "happy.describe().T"
      ],
      "metadata": {
        "id": "5xatFo1hDPMw"
      },
      "execution_count": null,
      "outputs": []
    },
    {
      "cell_type": "code",
      "source": [
        "happy.plot.scatter('wage', 'happiness');\n",
        "plt.grid();"
      ],
      "metadata": {
        "id": "Qx3-glJ9CSW4"
      },
      "execution_count": null,
      "outputs": []
    },
    {
      "cell_type": "code",
      "source": [
        "# simple linear regression\n",
        "\n",
        "X, y = happy[['wage']].values, happy['happiness'].values  # feature, target\n",
        "\n",
        "linreg = LinearRegression()\n",
        "linreg.fit(X, y)\n",
        "linreg.score(X, y)  # R²"
      ],
      "metadata": {
        "id": "guf9UrMnE1rP"
      },
      "execution_count": null,
      "outputs": []
    },
    {
      "cell_type": "code",
      "source": [
        "# plot result\n",
        "happy.plot.scatter('wage', 'happiness');\n",
        "plt.grid();\n",
        "Xline = np.array([[0], [20]])\n",
        "plt.plot(Xline, linreg.predict(Xline), 'r-');"
      ],
      "metadata": {
        "id": "mz1LsuZTFH-m"
      },
      "execution_count": null,
      "outputs": []
    },
    {
      "cell_type": "code",
      "source": [
        "# try non-linear polynomial fit\n",
        "\n",
        "X = X.flatten()               # polyfit wants 1D array!\n",
        "a = np.polyfit(X, y, deg=15)  # polynomial fit of degree 15"
      ],
      "metadata": {
        "id": "-1S0z4MIEzn4"
      },
      "execution_count": null,
      "outputs": []
    },
    {
      "cell_type": "code",
      "source": [
        "# evaluate\n",
        "\n",
        "from sklearn.metrics import r2_score  # import function to calculate R² score\n",
        "\n",
        "yp = np.polyval(a, X)          # predictions\n",
        "r2_score(y_true=y, y_pred=yp)  # R² score"
      ],
      "metadata": {
        "id": "3cBEwa9DKCwc"
      },
      "execution_count": null,
      "outputs": []
    },
    {
      "cell_type": "code",
      "source": [
        "# plot result\n",
        "happy.plot.scatter('wage', 'happiness');\n",
        "plt.grid();\n",
        "yl = plt.ylim()\n",
        "Xcurve = np.linspace(0, 20, 100)\n",
        "plt.plot(Xcurve, np.polyval(a, Xcurve), 'r-');\n",
        "plt.ylim(yl);"
      ],
      "metadata": {
        "id": "p1RG3HOELm3y"
      },
      "execution_count": null,
      "outputs": []
    },
    {
      "cell_type": "markdown",
      "source": [
        "#### Underfitting and Overfitting"
      ],
      "metadata": {
        "id": "5YAoVbnHpVJ2"
      }
    },
    {
      "cell_type": "markdown",
      "source": [
        "![image.png](data:image/png;base64,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)"
      ],
      "metadata": {
        "id": "rxsRb8cRf5Bf"
      }
    },
    {
      "cell_type": "code",
      "source": [
        "# split into training and validation set\n",
        "\n",
        "from sklearn.model_selection import train_test_split\n",
        "\n",
        "X, y = happy[['wage']].values, happy['happiness'].values  # feature, target\n",
        "\n",
        "X_train, X_val, y_train, y_val = train_test_split(X, y,\n",
        "                                                  test_size=0.5,   # 50% is used for validation\n",
        "                                                  random_state=0)  # set random seed"
      ],
      "metadata": {
        "id": "JA90Cp9N1Jbn"
      },
      "execution_count": null,
      "outputs": []
    },
    {
      "cell_type": "code",
      "source": [
        "plt.plot(X_train.flatten(), y_train, 'b.', label='training set');\n",
        "plt.plot(X_val.flatten(), y_val, 'r.', label='validation set');\n",
        "plt.legend();\n",
        "plt.xlabel('wage');\n",
        "plt.ylabel('happiness');\n",
        "plt.grid();"
      ],
      "metadata": {
        "id": "E7n-R8nP1ye0"
      },
      "execution_count": null,
      "outputs": []
    },
    {
      "cell_type": "code",
      "source": [
        "# simple linear regression\n",
        "\n",
        "linreg = LinearRegression()\n",
        "linreg.fit(X_train, y_train)\n",
        "print(f\"training: {linreg.score(X_train, y_train)}\")\n",
        "print(f\"validation: {linreg.score(X_val, y_val)}\")"
      ],
      "metadata": {
        "id": "08ikovEuzLpD"
      },
      "execution_count": null,
      "outputs": []
    },
    {
      "cell_type": "code",
      "source": [
        "# 15 degree polynomial fit\n",
        "\n",
        "a = np.polyfit(X_train.flatten(), y_train, deg=15)  # polynomial fit of degree 15\n",
        "print(f\"training: {r2_score(y_true=y_train, y_pred=np.polyval(a, X_train.flatten()))}\")\n",
        "print(f\"validation: {r2_score(y_true=y_val, y_pred=np.polyval(a, X_val.flatten()))}\")"
      ],
      "metadata": {
        "id": "YSZfe4X2Rfs6"
      },
      "execution_count": null,
      "outputs": []
    },
    {
      "cell_type": "code",
      "source": [
        "# loop over range of degrees between 1 and 20\n",
        "\n",
        "from sklearn.metrics import mean_absolute_error as MAE  # import MAE function\n",
        "\n",
        "mae_train = []  # list of MAEs of training data\n",
        "mae_val = []    # list of MAEs of validation data\n",
        "coef = []       # list of coefficients\n",
        "degrees = range(1, 21)  # range of degrees of polynomial function\n",
        "\n",
        "for degree in degrees:  # loop through degrees\n",
        "\n",
        "    a = np.polyfit(X_train.flatten(), y_train, degree)  # polynomial fit of training data\n",
        "    yp_train = np.polyval(a, X_train.flatten())         # predictions of training data\n",
        "    yp_val = np.polyval(a, X_val.flatten())             # predictions of validation data\n",
        "\n",
        "    coef.append(a)  # coefficients\n",
        "    mae_train.append(MAE(y_true=y_train, y_pred=yp_train))  # MAE of training data\n",
        "    mae_val.append(MAE(y_true=y_val, y_pred=yp_val))        # MAE of validation data"
      ],
      "metadata": {
        "id": "3oKqzfsa3AEn"
      },
      "execution_count": null,
      "outputs": []
    },
    {
      "cell_type": "code",
      "source": [
        "# plot result\n",
        "\n",
        "from matplotlib.animation import FuncAnimation\n",
        "from matplotlib import rc\n",
        "rc('animation', html='jshtml')\n",
        "\n",
        "# initialization\n",
        "fig, (ax1, ax2) = plt.subplots(1, 2, figsize=(12, 5))  # figure containing 2 axes\n",
        "ax1.plot(X_train.flatten(), y_train, 'b.', label='training set');\n",
        "ax1.plot(X_val.flatten(), y_val, 'r.', label='validation set');\n",
        "ax1.legend();\n",
        "xl, yl = ax1.get_xlim(), ax1.get_ylim()\n",
        "Xcurve = np.linspace(0, 20, 1000)\n",
        "regression_line = ax1.plot(Xcurve, np.polyval(coef[0], Xcurve),'k-')\n",
        "ax1.set_title('degree = 1');\n",
        "ax1.set_xlabel('wage');\n",
        "ax1.set_ylabel('happiness');\n",
        "ax1.set_xlim(xl);\n",
        "ax1.set_ylim(yl);\n",
        "ax1.grid();\n",
        "ax2.yaxis.set_label_position(\"right\");\n",
        "ax2.yaxis.tick_right();\n",
        "mae_train_line = ax2.plot(degrees[0], mae_train[0], 'b.-', label='training');\n",
        "mae_val_line = ax2.plot(degrees[0], mae_val[0], 'r.-', label='validation');\n",
        "ax2.legend();\n",
        "ax2.set_xlabel('Degree');\n",
        "ax2.set_ylabel('MAE');\n",
        "ax2.set_xlim((0, 21));\n",
        "ax2.set_ylim((0.74, 0.99));\n",
        "ax2.grid();\n",
        "\n",
        "# update function for animation\n",
        "def update(degree):\n",
        "    yplot = np.polyval(coef[degree-1], xplot)\n",
        "    regression_line[0].set_ydata(yplot)\n",
        "    ax1.set_title('degree = ' + str(degree));\n",
        "    mae_train_line[0].set_xdata(degrees[:degree])\n",
        "    mae_train_line[0].set_ydata(mae_train[:degree])\n",
        "    mae_val_line[0].set_xdata(degrees[:degree])\n",
        "    mae_val_line[0].set_ydata(mae_val[:degree])\n",
        "\n",
        "# create animation\n",
        "ani = FuncAnimation(fig, update, frames=degrees, blit=False, repeat=True)\n",
        "plt.close()\n",
        "ani"
      ],
      "metadata": {
        "id": "Dq3LcUTElINn"
      },
      "execution_count": null,
      "outputs": []
    },
    {
      "cell_type": "code",
      "source": [
        "# model complexity graph\n",
        "\n",
        "plt.plot(degrees, mae_train, 'b.-', label='training');\n",
        "plt.plot(degrees, mae_val, 'r.-', label='validation');\n",
        "plt.legend();\n",
        "plt.xlabel('Degree');\n",
        "plt.ylabel('MAE');\n",
        "plt.grid();"
      ],
      "metadata": {
        "id": "KonpP2uMxGF7"
      },
      "execution_count": null,
      "outputs": []
    },
    {
      "cell_type": "code",
      "source": [
        "# lowest validation MAE = optimal degree = 5\n",
        "\n",
        "a = np.polyfit(X.flatten(), y, deg=5)\n",
        "yp = np.polyval(a, X.flatten())\n",
        "MAE(y_true=y, y_pred=yp)"
      ],
      "metadata": {
        "id": "4L2L1Ut_3kHZ"
      },
      "execution_count": null,
      "outputs": []
    },
    {
      "cell_type": "code",
      "source": [
        "# plot result\n",
        "happy.plot.scatter(x='wage', y='happiness');\n",
        "Xcurve = np.linspace(0, 20, 100)\n",
        "plt.plot(Xcurve, np.polyval(a, Xcurve), 'r-');\n",
        "plt.grid();"
      ],
      "metadata": {
        "id": "uUiNFuNk32CW"
      },
      "execution_count": null,
      "outputs": []
    },
    {
      "cell_type": "markdown",
      "source": [
        "It is common practice to create a third dataset, the **test set**"
      ],
      "metadata": {
        "id": "9WSK70ImcGGD"
      }
    },
    {
      "cell_type": "markdown",
      "source": [
        "#### Regularization"
      ],
      "metadata": {
        "id": "YfGRnMFa3jJ4"
      }
    },
    {
      "cell_type": "code",
      "source": [
        "# LASSO regression\n",
        "\n",
        "from sklearn.linear_model import Ridge, Lasso\n",
        "from sklearn.preprocessing import PolynomialFeatures\n",
        "from sklearn.pipeline import make_pipeline\n",
        "\n",
        "degree = 10\n",
        "\n",
        "lasso = make_pipeline(\n",
        "    PolynomialFeatures(degree, include_bias=False),\n",
        "    Lasso(alpha=0.01, tol=0.001)\n",
        ")\n",
        "\n",
        "lasso.fit(X, y);\n",
        "\n",
        "MAE(y_true=y, y_pred=lasso.predict(X))"
      ],
      "metadata": {
        "id": "yusIlgjlekho"
      },
      "execution_count": null,
      "outputs": []
    },
    {
      "cell_type": "code",
      "source": [
        "# plot result\n",
        "happy.plot.scatter(x='wage', y='happiness');\n",
        "xplot = np.linspace(0, 20, 100).reshape(-1, 1)\n",
        "plt.plot(xplot, lasso.predict(xplot), 'r-');\n",
        "plt.grid();"
      ],
      "metadata": {
        "id": "NFeOnrsWexQV"
      },
      "execution_count": null,
      "outputs": []
    },
    {
      "cell_type": "markdown",
      "source": [
        "## **Clustering**"
      ],
      "metadata": {
        "id": "CtUvORFNdAVO"
      }
    },
    {
      "cell_type": "markdown",
      "metadata": {
        "id": "KjYW1qafLA6y"
      },
      "source": [
        "### K-Means Clustering"
      ]
    },
    {
      "cell_type": "code",
      "execution_count": null,
      "metadata": {
        "id": "xi3BqHAjYfar"
      },
      "outputs": [],
      "source": [
        "from sklearn.cluster import KMeans"
      ]
    },
    {
      "cell_type": "markdown",
      "metadata": {
        "id": "4Wn8SidEBXd1"
      },
      "source": [
        "#### Example 1"
      ]
    },
    {
      "cell_type": "code",
      "execution_count": null,
      "metadata": {
        "id": "Aqlg-VqELDz1"
      },
      "outputs": [],
      "source": [
        "df = pd.read_csv(\"height_weight_sex.csv\")\n",
        "df.plot.scatter(x='height', y='weight')\n",
        "plt.grid()"
      ]
    },
    {
      "cell_type": "code",
      "execution_count": null,
      "metadata": {
        "id": "k9wd2Wa2-vgi"
      },
      "outputs": [],
      "source": [
        "X = df[['height', 'weight']].values"
      ]
    },
    {
      "cell_type": "code",
      "execution_count": null,
      "metadata": {
        "id": "EU7djSbQ-wpj"
      },
      "outputs": [],
      "source": [
        "model = KMeans(n_clusters=2, random_state=20)  # K = 2\n",
        "model.fit(X)  # only pass X! Unsupervised learning!"
      ]
    },
    {
      "cell_type": "code",
      "execution_count": null,
      "metadata": {
        "id": "tV70lwxrd_vb"
      },
      "outputs": [],
      "source": [
        "yp = model.predict(X)  # predicted labels"
      ]
    },
    {
      "cell_type": "code",
      "execution_count": null,
      "metadata": {
        "id": "Wm7JGgPh-4oG"
      },
      "outputs": [],
      "source": [
        "y = (df.sex==\"f\").values.astype(int)  # de real labels\n",
        "(y == yp).sum() / len(y)  # accuracy = number of correct predictions divided by total number of data points"
      ]
    },
    {
      "cell_type": "markdown",
      "metadata": {
        "id": "wbH-c2kAe6ZU"
      },
      "source": [
        "Sometimes we have to flip the labels as follows:\n",
        "\n",
        "```python\n",
        "b = yp == 1\n",
        "yp[b] = 0\n",
        "yp[~b] = 1\n",
        "```"
      ]
    },
    {
      "cell_type": "code",
      "execution_count": null,
      "metadata": {
        "id": "O4VYBK_tA_ZK"
      },
      "outputs": [],
      "source": [
        "X_new = np.array([[165, 55],   # person of 165cm and 55kg\n",
        "                  [185, 70],   # person of 185cm and 70kg\n",
        "                  [175, 65]])  # person of 175cm and 65kg\n",
        "model.predict(X_new)"
      ]
    },
    {
      "cell_type": "code",
      "execution_count": null,
      "metadata": {
        "id": "BZDgTPR__4cF"
      },
      "outputs": [],
      "source": [
        "df['prediction'] = np.array(['m', 'f'])[yp]  # 'm' is 0 and 'f' is 1\n",
        "df.head()"
      ]
    },
    {
      "cell_type": "code",
      "execution_count": null,
      "metadata": {
        "id": "f6NQcO3H_d5u"
      },
      "outputs": [],
      "source": [
        "_, (ax1, ax2) = plt.subplots(nrows=1, ncols=2, sharey=True)\n",
        "df.loc[df.sex=='f', :].plot.scatter(x='height', y='weight', c='g', ax=ax1)\n",
        "df.loc[df.sex=='m', :].plot.scatter(x='height', y='weight', c='y', ax=ax1)\n",
        "ax1.plot(X_new[:, 0], X_new[:, 1], 'ro')\n",
        "ax1.set_title(\"true labels\")\n",
        "ax1.grid()\n",
        "df.loc[df.prediction=='f', :].plot.scatter(x='height', y='weight', c='g', ax=ax2)\n",
        "df.loc[df.prediction=='m', :].plot.scatter(x='height', y='weight', c='y', ax=ax2)\n",
        "ax2.plot(X_new[:, 0], X_new[:, 1], 'ro')\n",
        "ax2.set_title(\"cluster labels\")\n",
        "ax2.grid()"
      ]
    },
    {
      "cell_type": "markdown",
      "metadata": {
        "id": "h0tLGg9CBcfj"
      },
      "source": [
        "#### Example 2"
      ]
    },
    {
      "cell_type": "code",
      "execution_count": null,
      "metadata": {
        "id": "Ibzd5JiOBcfj"
      },
      "outputs": [],
      "source": [
        "# try it yourself"
      ]
    },
    {
      "cell_type": "markdown",
      "source": [
        "---"
      ],
      "metadata": {
        "id": "ANRhfoGSlX0y"
      }
    }
  ],
  "metadata": {
    "colab": {
      "provenance": [],
      "gpuType": "T4",
      "toc_visible": true,
      "include_colab_link": true
    },
    "kernelspec": {
      "display_name": "Python 3 (ipykernel)",
      "language": "python",
      "name": "python3"
    },
    "language_info": {
      "codemirror_mode": {
        "name": "ipython",
        "version": 3
      },
      "file_extension": ".py",
      "mimetype": "text/x-python",
      "name": "python",
      "nbconvert_exporter": "python",
      "pygments_lexer": "ipython3",
      "version": "3.10.4"
    },
    "gpuClass": "standard"
  },
  "nbformat": 4,
  "nbformat_minor": 0
}