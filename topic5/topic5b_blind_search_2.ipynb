{
  "nbformat": 4,
  "nbformat_minor": 0,
  "metadata": {
    "colab": {
      "provenance": [],
      "include_colab_link": true
    },
    "kernelspec": {
      "name": "python3",
      "display_name": "Python 3"
    },
    "language_info": {
      "name": "python"
    }
  },
  "cells": [
    {
      "cell_type": "markdown",
      "metadata": {
        "id": "view-in-github",
        "colab_type": "text"
      },
      "source": [
        "<a href=\"https://colab.research.google.com/github/alouwyck/vives-intro-to-ai/blob/main/topic5/topic5b_blind_search_2.ipynb\" target=\"_parent\"><img src=\"https://colab.research.google.com/assets/colab-badge.svg\" alt=\"Open In Colab\"/></a>"
      ]
    },
    {
      "cell_type": "markdown",
      "metadata": {
        "id": "knnaND_IlnLX"
      },
      "source": [
        "<img src=\"data:image/png;base64,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\" align=\"right\" /><br>\n",
        "\n",
        "\n",
        "**INTRODUCTION TO ARTIFICIAL INTELLIGENCE**<br>\n",
        "VIVES BUSINESS ACADEMY<br>\n",
        "Academic Year 2023-2024<br>\n",
        "Andy Louwyck\n",
        "\n",
        "---\n",
        "\n",
        "\n",
        "\n",
        "---\n",
        "\n"
      ]
    },
    {
      "cell_type": "markdown",
      "source": [
        "# **BLIND SEARCH 2**"
      ],
      "metadata": {
        "id": "-Z6HVXBB88Si"
      }
    },
    {
      "cell_type": "markdown",
      "source": [
        "This notebook demonstrates how to apply **non-deterministic search** (NDS) and **iterative deepening search** (IDS) to solve the problem of **finding a path**. These algorithms also blindly traverse the search tree without using any \"intelligence\", just like depth-first search (DFS) and breadth-first search (BFS); hence, the name **blind search**. This also explains why these algorithms are not considered as artificial intelligence. The use of more advanced search algorithms will be covered in the next topics."
      ],
      "metadata": {
        "id": "gW1DrxwHApWx"
      }
    },
    {
      "cell_type": "markdown",
      "source": [
        "## `SearchExerciser`"
      ],
      "metadata": {
        "id": "z-7HPhob_N5_"
      }
    },
    {
      "cell_type": "markdown",
      "source": [
        "To illustrate the basic concepts discussed in the topics about search algorithms, we will use the `SearchExerciser` package developed by Stefaan Haspeslagh and Andy Louwyck at Vives University of Applied Sciences. The package can be downloaded or cloned from the following GitHub repository: https://github.com/alouwyck/SearchExerciser.\n",
        "\n",
        "To clone the repository, we execute the statements in the cell below. Note that [Google Colab](https://colab.research.google.com/) is used as environment to run the notebooks, although this is not required."
      ],
      "metadata": {
        "id": "wWxyM9yc_TDH"
      }
    },
    {
      "cell_type": "code",
      "execution_count": null,
      "metadata": {
        "colab": {
          "base_uri": "https://localhost:8080/"
        },
        "id": "OCzEFi9QqZ0R",
        "outputId": "bef2dc64-072f-4d63-ba32-24d837026c5b"
      },
      "outputs": [
        {
          "output_type": "stream",
          "name": "stdout",
          "text": [
            "Cloning into 'SearchExerciser'...\n",
            "remote: Enumerating objects: 281, done.\u001b[K\n",
            "remote: Counting objects: 100% (33/33), done.\u001b[K\n",
            "remote: Compressing objects: 100% (21/21), done.\u001b[K\n",
            "remote: Total 281 (delta 20), reused 25 (delta 12), pack-reused 248\u001b[K\n",
            "Receiving objects: 100% (281/281), 349.00 KiB | 10.58 MiB/s, done.\n",
            "Resolving deltas: 100% (168/168), done.\n"
          ]
        }
      ],
      "source": [
        "import os, shutil\n",
        "\n",
        "# remove directory 'SearchExerciser' first if it already exists\n",
        "path = \"SearchExerciser\"\n",
        "if os.path.exists(path):\n",
        "    shutil.rmtree(path)\n",
        "\n",
        "# clone SearchExerciser repository from Github\n",
        "!git clone https://github.com/alouwyck/SearchExerciser\n",
        "\n",
        "# put SearchExerciser package directory in the current working directory\n",
        "os.rename(path, 'temp')\n",
        "shutil.copytree(os.path.join('temp', path), path);\n",
        "shutil.rmtree('temp')"
      ]
    },
    {
      "cell_type": "markdown",
      "source": [
        "Once the package is cloned into our environment, we import the following classes:"
      ],
      "metadata": {
        "id": "mGwYf5XmBA_g"
      }
    },
    {
      "cell_type": "code",
      "source": [
        "from SearchExerciser.graph import Graph\n",
        "from SearchExerciser.maze import Maze\n",
        "from SearchExerciser.search.blind import NDS, IDS"
      ],
      "metadata": {
        "id": "FJHXayI-qnzu"
      },
      "execution_count": null,
      "outputs": []
    },
    {
      "cell_type": "markdown",
      "source": [
        "We are already familiar with classes `Graph` and `Maze`. How to use classes `NDS` and `IDS` will be explained in the sections below."
      ],
      "metadata": {
        "id": "3y3p9hr1BoxA"
      }
    },
    {
      "cell_type": "markdown",
      "source": [
        "## The running example"
      ],
      "metadata": {
        "id": "C3qHCsX-B2pa"
      }
    },
    {
      "cell_type": "markdown",
      "source": [
        "The `Graph` object created in the cell below defines the graph from the running example used in the slides:"
      ],
      "metadata": {
        "id": "rDbF-5yjhh9Q"
      }
    },
    {
      "cell_type": "code",
      "source": [
        "graph = Graph.create(edges=[(\"S\", \"A\"), (\"S\", \"D\"), (\"A\", \"D\"), (\"A\", \"B\"), (\"D\", \"E\"),\n",
        "                            (\"B\", \"E\"), (\"B\", \"C\"), (\"E\", \"F\"), (\"F\", \"G\")])"
      ],
      "metadata": {
        "id": "9kXqJsl5qvom"
      },
      "execution_count": null,
      "outputs": []
    },
    {
      "cell_type": "markdown",
      "source": [
        "As we've already seen, calling method `plot` on object `graph` visualizes the graph:"
      ],
      "metadata": {
        "id": "TdcXSI26jfPy"
      }
    },
    {
      "cell_type": "code",
      "source": [
        "coordinates = dict(S=[0, 0.5],\n",
        "                   A=[1, 1],\n",
        "                   D=[2, 0],\n",
        "                   E=[3.5, 0],\n",
        "                   B=[4.5, 1],\n",
        "                   F=[7, 0],\n",
        "                   C=[8, 1],\n",
        "                   G=[9, 0.5])\n",
        "graph.plot(coordinates)"
      ],
      "metadata": {
        "colab": {
          "base_uri": "https://localhost:8080/",
          "height": 516
        },
        "id": "tZ-2YgKugxjM",
        "outputId": "2850bd97-bdab-4200-f043-01da4a841c6d"
      },
      "execution_count": null,
      "outputs": [
        {
          "output_type": "display_data",
          "data": {
            "text/plain": [
              "<Figure size 640x480 with 1 Axes>"
            ],
            "image/png": "[encoded data removed]"
          },
          "metadata": {}
        }
      ]
    },
    {
      "cell_type": "markdown",
      "source": [
        "## Non-deterministic search"
      ],
      "metadata": {
        "id": "2NpllkHkl1Pa"
      }
    },
    {
      "cell_type": "markdown",
      "source": [
        "Applying depth-first search and breadth-first search, we are not searching the tree in an intelligent way, but at least, we are going through the nodes in a very systematic way. Non-deterministic search doesn't do neither of the two, as it searches the tree **randomly**! The term 'non-deterministic' actually indicates that the result is not determined beforehand. So, everytime you perform the algorithm, it will give another result (at least, if there are many solutions).\n",
        "\n",
        "At first sight, that doesn't sound like a good idea, but in fact, adding some randomness to the algorithm may enhance its performance. Especially if the problem to solve is so large it is very hard or even impossible to find an exact optimal solution. In that case, we may decide to use a non-determistic algorithm that is very fast and gives us a solution that is probably suboptimal yet good enough for the problem at hand.\n",
        "\n",
        "A well-known and frequently applied algorithm that uses randomness is **stochastic gradient descent** (SGD). The term 'stochastic' means 'having a random probability distribution'. Thus SGD is also non-determinstic. Why is SGD an important algorithm in AI? Well, SGD and its variants are used to train neural networks, which are indeed too large to solve exactly in most cases!"
      ],
      "metadata": {
        "id": "Ps56IjO1mOXE"
      }
    },
    {
      "cell_type": "markdown",
      "source": [
        "But how do we include \"randomness\" in these algorithms? Indeed, by using **random numbers**. Programming languages have **random number generators** available for that purpose. In Python, for instance, the random functions are implemented in module `random`. Or if you use NumPy, then there is the equivalent module `numpy.random`.\n",
        "\n",
        "But these random numbers are not actually random. No, they are **pseudo random**. As a consequence, we can initialize the **seed** of the random generator in order to get the same sequence of \"random\" numbers over and over again. This is very useful when we are debugging an algorithm, or if we are illustrating how an algorithm works. By setting the seed, we are sure the code always gives the same result. However, if we are solving real-life problems and training machine learning models, we may never set the random seed!"
      ],
      "metadata": {
        "id": "p641DAzfIS5f"
      }
    },
    {
      "cell_type": "markdown",
      "source": [
        "An example to illustrate how `random` works in Python. Suppose we want to generate a random number between 1 and 10, then we may use function `random.randint`:"
      ],
      "metadata": {
        "id": "m_9n0bHTK0U4"
      }
    },
    {
      "cell_type": "code",
      "source": [
        "import random\n",
        "\n",
        "for _ in range(10):\n",
        "    n = random.randint(1, 10)  # bounds 1 and 10 are included!\n",
        "    print(n, end=' ')"
      ],
      "metadata": {
        "colab": {
          "base_uri": "https://localhost:8080/"
        },
        "id": "coa3dP3NLDgj",
        "outputId": "f88d3e6a-0689-4b96-f4ed-829015434bfd"
      },
      "execution_count": null,
      "outputs": [
        {
          "output_type": "stream",
          "name": "stdout",
          "text": [
            "7 6 10 4 9 8 8 9 5 1 "
          ]
        }
      ]
    },
    {
      "cell_type": "markdown",
      "source": [
        "If we want to get the same sequence everytime we run the code, then we need to set the `seed`:"
      ],
      "metadata": {
        "id": "hjFzRBX9Laok"
      }
    },
    {
      "cell_type": "code",
      "source": [
        "random.seed(0)  # setting seed will always generate the same sequence\n",
        "for _ in range(10):\n",
        "    n = random.randint(1, 10)\n",
        "    print(n, end=' ')"
      ],
      "metadata": {
        "colab": {
          "base_uri": "https://localhost:8080/"
        },
        "id": "bdYbE54nLmAQ",
        "outputId": "07d624b1-781e-4c1f-c8ea-ff35aa994d1a"
      },
      "execution_count": null,
      "outputs": [
        {
          "output_type": "stream",
          "name": "stdout",
          "text": [
            "7 7 1 5 9 8 7 5 8 6 "
          ]
        }
      ]
    },
    {
      "cell_type": "markdown",
      "source": [
        "Re-run both cells several times and you'll see the output of the first cell is never the same, while the output of the second is always the same!"
      ],
      "metadata": {
        "id": "qCpcITKRLteV"
      }
    },
    {
      "cell_type": "markdown",
      "source": [
        "To find a path for our graph problem using non-deterministic search, we simply pass class `NDS` to method `search`:"
      ],
      "metadata": {
        "id": "hveMPuooMXzk"
      }
    },
    {
      "cell_type": "code",
      "source": [
        "path = graph.search(NDS)  # NDS is the class implementing non-deterministic search\n",
        "print('Path found:', path)"
      ],
      "metadata": {
        "colab": {
          "base_uri": "https://localhost:8080/"
        },
        "id": "n1WpIGbBmhR3",
        "outputId": "b80b14de-411a-424d-9898-1616e681614c"
      },
      "execution_count": null,
      "outputs": [
        {
          "output_type": "stream",
          "name": "stdout",
          "text": [
            "ALGORITHM: Non-deterministic search\n",
            "RESULT: SUCCES\n",
            "Elapsed time: 0.00116729736328125 seconds\n",
            "Number of iterations: 8\n",
            "Maximum length of queue: 7\n",
            "Path found: SADEFG\n"
          ]
        }
      ]
    },
    {
      "cell_type": "markdown",
      "source": [
        "If you re-run the code, you'll notice the number of iterations changes each time, although it is possible the solution remains the same. That is because there are only a limited number of solutions.\n",
        "\n",
        "Do you want to get the same result over and over again? Well, as class `NDS` makes use of module `random`, you have to initialize `random.seed`!"
      ],
      "metadata": {
        "id": "sFlxMxFYNZAs"
      }
    },
    {
      "cell_type": "code",
      "source": [
        "random.seed(0)\n",
        "path = graph.search(NDS)  # NDS is the class implementing non-deterministic search\n",
        "print('Path found:', path)"
      ],
      "metadata": {
        "colab": {
          "base_uri": "https://localhost:8080/"
        },
        "id": "rWDdzV8ZOGC7",
        "outputId": "7ce3f3a1-a2a4-49ad-895c-d4d4ff37a916"
      },
      "execution_count": null,
      "outputs": [
        {
          "output_type": "stream",
          "name": "stdout",
          "text": [
            "ALGORITHM: Non-deterministic search\n",
            "RESULT: SUCCES\n",
            "Elapsed time: 0.0019042491912841797 seconds\n",
            "Number of iterations: 11\n",
            "Maximum length of queue: 7\n",
            "Path found: SDEFG\n"
          ]
        }
      ]
    },
    {
      "cell_type": "markdown",
      "source": [
        "Is it advantageous to use non-determinstic search? As explained at the beginning of this section, it could be if the search tree of the problem is huge. By searching this tree randomly, we may be lucky and find a path very quickly... and who knows, maybe we are so lucky it is the shortest path! But as we will see in the subsequent topics, there are more intelligent ways to search the tree... By the way, the algorithm discussed in the next section is also a better choice in most cases."
      ],
      "metadata": {
        "id": "__BHwA-RrWX9"
      }
    },
    {
      "cell_type": "markdown",
      "source": [
        "## Iterative deepening search"
      ],
      "metadata": {
        "id": "qf9ziHKzsFTv"
      }
    },
    {
      "cell_type": "markdown",
      "source": [
        "Iterative deepening combines depth-first search and breadth-first search in a way it adopts the advantages of both. Recall that depth-first search is the better choice looking at memory usage, while breadth-first search is the better choice in terms of speed. Moreover, breadth-first search always finds the shortest path.\n",
        "\n",
        "As its name suggests, iterative deepening iteratively applies depth-first search, while limiting the depth of the search. In the first iteration, it applies depth-first search and limits the depth to level 1, in the second iteration, the depth is limited to level 2, etc. In this way, it searches the tree level-by-level, just like breadth-first search does. Therefore, iterative deepening will always find the shortest path, and its speed is similar to that of breadth-first search. Actually, there is a little overhead due to the iterations it goes through, but that is amply compensated by its more efficient memory usage, which is similar to that of depth-first search!"
      ],
      "metadata": {
        "id": "0l3ay_Z1sOJu"
      }
    },
    {
      "cell_type": "markdown",
      "source": [
        "To find the shortest path using iterative deeping for the graph we created, we need to pass class `NDS` to the `search` method. In this case, it is very interesting to display the intermediate results and see how the algorithm indeed applies DFS iteratively:"
      ],
      "metadata": {
        "id": "IWo0hx1-Txv5"
      }
    },
    {
      "cell_type": "code",
      "source": [
        "path = graph.search(IDS, print_queue=True)  # class NDS implements iterative deepening search\n",
        "print('Path found:', path)"
      ],
      "metadata": {
        "colab": {
          "base_uri": "https://localhost:8080/"
        },
        "id": "CXhTn2C5sWZ1",
        "outputId": "154c1531-4dd4-4370-c9c8-4d88c1d189eb"
      },
      "execution_count": null,
      "outputs": [
        {
          "output_type": "stream",
          "name": "stdout",
          "text": [
            "--> DEPTH: 1\n",
            "Initial queue:\n",
            "[S]\n",
            "\n",
            "ALGORITHM: Depth-first search\n",
            "RESULT: FAILURE\n",
            "Elapsed time: 0.0006973743438720703 seconds\n",
            "Number of iterations: 1\n",
            "Maximum length of queue: 1\n",
            "\n",
            "--> DEPTH: 2\n",
            "Initial queue:\n",
            "[S]\n",
            "\n",
            "Iteration 1\n",
            "Path removed from queue:\n",
            "S\n",
            "New paths:\n",
            "[SA,SD]\n",
            "Paths in queue:\n",
            "[SA,SD]\n",
            "\n",
            "ALGORITHM: Depth-first search\n",
            "RESULT: FAILURE\n",
            "Elapsed time: 0.009885549545288086 seconds\n",
            "Number of iterations: 3\n",
            "Maximum length of queue: 2\n",
            "\n",
            "--> DEPTH: 3\n",
            "Initial queue:\n",
            "[S]\n",
            "\n",
            "Iteration 1\n",
            "Path removed from queue:\n",
            "S\n",
            "New paths:\n",
            "[SA,SD]\n",
            "Paths in queue:\n",
            "[SA,SD]\n",
            "\n",
            "Iteration 2\n",
            "Path removed from queue:\n",
            "SA\n",
            "New paths:\n",
            "[SAB,SAD]\n",
            "Paths in queue:\n",
            "[SAB,SAD,SD]\n",
            "\n",
            "Iteration 5\n",
            "Path removed from queue:\n",
            "SD\n",
            "New paths:\n",
            "[SDA,SDE]\n",
            "Paths in queue:\n",
            "[SDA,SDE]\n",
            "\n",
            "ALGORITHM: Depth-first search\n",
            "RESULT: FAILURE\n",
            "Elapsed time: 0.003409147262573242 seconds\n",
            "Number of iterations: 7\n",
            "Maximum length of queue: 3\n",
            "\n",
            "--> DEPTH: 4\n",
            "Initial queue:\n",
            "[S]\n",
            "\n",
            "Iteration 1\n",
            "Path removed from queue:\n",
            "S\n",
            "New paths:\n",
            "[SA,SD]\n",
            "Paths in queue:\n",
            "[SA,SD]\n",
            "\n",
            "Iteration 2\n",
            "Path removed from queue:\n",
            "SA\n",
            "New paths:\n",
            "[SAB,SAD]\n",
            "Paths in queue:\n",
            "[SAB,SAD,SD]\n",
            "\n",
            "Iteration 3\n",
            "Path removed from queue:\n",
            "SAB\n",
            "New paths:\n",
            "[SABC,SABE]\n",
            "Paths in queue:\n",
            "[SABC,SABE,SAD,SD]\n",
            "\n",
            "Iteration 6\n",
            "Path removed from queue:\n",
            "SAD\n",
            "New paths:\n",
            "[SADE]\n",
            "Paths in queue:\n",
            "[SADE,SD]\n",
            "\n",
            "Iteration 8\n",
            "Path removed from queue:\n",
            "SD\n",
            "New paths:\n",
            "[SDA,SDE]\n",
            "Paths in queue:\n",
            "[SDA,SDE]\n",
            "\n",
            "Iteration 9\n",
            "Path removed from queue:\n",
            "SDA\n",
            "New paths:\n",
            "[SDAB]\n",
            "Paths in queue:\n",
            "[SDAB,SDE]\n",
            "\n",
            "Iteration 11\n",
            "Path removed from queue:\n",
            "SDE\n",
            "New paths:\n",
            "[SDEB,SDEF]\n",
            "Paths in queue:\n",
            "[SDEB,SDEF]\n",
            "\n",
            "ALGORITHM: Depth-first search\n",
            "RESULT: FAILURE\n",
            "Elapsed time: 0.02051258087158203 seconds\n",
            "Number of iterations: 13\n",
            "Maximum length of queue: 4\n",
            "\n",
            "--> DEPTH: 5\n",
            "Initial queue:\n",
            "[S]\n",
            "\n",
            "Iteration 1\n",
            "Path removed from queue:\n",
            "S\n",
            "New paths:\n",
            "[SA,SD]\n",
            "Paths in queue:\n",
            "[SA,SD]\n",
            "\n",
            "Iteration 2\n",
            "Path removed from queue:\n",
            "SA\n",
            "New paths:\n",
            "[SAB,SAD]\n",
            "Paths in queue:\n",
            "[SAB,SAD,SD]\n",
            "\n",
            "Iteration 3\n",
            "Path removed from queue:\n",
            "SAB\n",
            "New paths:\n",
            "[SABC,SABE]\n",
            "Paths in queue:\n",
            "[SABC,SABE,SAD,SD]\n",
            "\n",
            "Iteration 4\n",
            "Path removed from queue:\n",
            "SABC\n",
            "New paths:\n",
            "[]\n",
            "Paths in queue:\n",
            "[SABE,SAD,SD]\n",
            "\n",
            "Iteration 5\n",
            "Path removed from queue:\n",
            "SABE\n",
            "New paths:\n",
            "[SABED,SABEF]\n",
            "Paths in queue:\n",
            "[SABED,SABEF,SAD,SD]\n",
            "\n",
            "Iteration 8\n",
            "Path removed from queue:\n",
            "SAD\n",
            "New paths:\n",
            "[SADE]\n",
            "Paths in queue:\n",
            "[SADE,SD]\n",
            "\n",
            "Iteration 9\n",
            "Path removed from queue:\n",
            "SADE\n",
            "New paths:\n",
            "[SADEB,SADEF]\n",
            "Paths in queue:\n",
            "[SADEB,SADEF,SD]\n",
            "\n",
            "Iteration 12\n",
            "Path removed from queue:\n",
            "SD\n",
            "New paths:\n",
            "[SDA,SDE]\n",
            "Paths in queue:\n",
            "[SDA,SDE]\n",
            "\n",
            "Iteration 13\n",
            "Path removed from queue:\n",
            "SDA\n",
            "New paths:\n",
            "[SDAB]\n",
            "Paths in queue:\n",
            "[SDAB,SDE]\n",
            "\n",
            "Iteration 14\n",
            "Path removed from queue:\n",
            "SDAB\n",
            "New paths:\n",
            "[SDABC,SDABE]\n",
            "Paths in queue:\n",
            "[SDABC,SDABE,SDE]\n",
            "\n",
            "Iteration 17\n",
            "Path removed from queue:\n",
            "SDE\n",
            "New paths:\n",
            "[SDEB,SDEF]\n",
            "Paths in queue:\n",
            "[SDEB,SDEF]\n",
            "\n",
            "Iteration 18\n",
            "Path removed from queue:\n",
            "SDEB\n",
            "New paths:\n",
            "[SDEBA,SDEBC]\n",
            "Paths in queue:\n",
            "[SDEBA,SDEBC,SDEF]\n",
            "\n",
            "Iteration 21\n",
            "Path removed from queue:\n",
            "SDEF\n",
            "New paths:\n",
            "[SDEFG]\n",
            "Paths in queue:\n",
            "[SDEFG]\n",
            "\n",
            "Path to goal found in new paths:\n",
            "SDEFG\n",
            "\n",
            "ALGORITHM: Depth-first search\n",
            "RESULT: SUCCES\n",
            "Elapsed time: 0.006651401519775391 seconds\n",
            "Number of iterations: 21\n",
            "Maximum length of queue: 4\n",
            "\n",
            "--> FINAL RESULT\n",
            "ALGORITHM: Iterative deepening search\n",
            "RESULT: SUCCES\n",
            "Elapsed time: 0.043851613998413086 seconds\n",
            "Number of iterations: 45\n",
            "Maximum length of queue: 4\n",
            "Path found: SDEFG\n"
          ]
        }
      ]
    },
    {
      "cell_type": "markdown",
      "source": [
        "Ok, it finds the shortest path, indeed. But it doesn't seem like a more efficient algorithm than the other blind search algorithms. Well, for this unrealistically small example, it is not indeed. Nevertheless, iterative deepening is the best choice in most cases, and it actually is the only blind search algorithm that can be applied efficiently to solve some real-life problems."
      ],
      "metadata": {
        "id": "u2Mye0MLspp2"
      }
    },
    {
      "cell_type": "markdown",
      "source": [
        "## Maze"
      ],
      "metadata": {
        "id": "XN-8kNFqwVmE"
      }
    },
    {
      "cell_type": "markdown",
      "source": [
        "Of course NDS and IDS can also be applied to find a path in a maze. Let's try this out on the simple 3x3 maze we've discussed previously:"
      ],
      "metadata": {
        "id": "T0L06tHfwX0H"
      }
    },
    {
      "cell_type": "code",
      "source": [
        "maze = Maze.create([\"*..\",\n",
        "                    \".#.\",\n",
        "                    \"..o\"])\n",
        "maze"
      ],
      "metadata": {
        "colab": {
          "base_uri": "https://localhost:8080/"
        },
        "id": "Ksza7Xlb0OWc",
        "outputId": "19e1d405-6be2-4566-bbe2-8e86e85d5f4e"
      },
      "execution_count": null,
      "outputs": [
        {
          "output_type": "execute_result",
          "data": {
            "text/plain": [
              "*..\n",
              ".#.\n",
              "..o"
            ]
          },
          "metadata": {},
          "execution_count": 36
        }
      ]
    },
    {
      "cell_type": "markdown",
      "source": [
        "Recall that the maze is visualized calling method `plot`:"
      ],
      "metadata": {
        "id": "6aF5ecJt250V"
      }
    },
    {
      "cell_type": "code",
      "source": [
        "maze.plot()"
      ],
      "metadata": {
        "colab": {
          "base_uri": "https://localhost:8080/",
          "height": 409
        },
        "id": "nQRofPBe3BAa",
        "outputId": "4f301e88-b06d-4209-da86-484b2e9b1232"
      },
      "execution_count": null,
      "outputs": [
        {
          "output_type": "display_data",
          "data": {
            "text/plain": [
              "<Figure size 480x480 with 1 Axes>"
            ],
            "image/png": "[encoded data removed]"
          },
          "metadata": {}
        }
      ]
    },
    {
      "cell_type": "markdown",
      "source": [
        "As you already know, class `Maze` also has a `search` method. Let's try NDS first:"
      ],
      "metadata": {
        "id": "mg4Row_Q0RjH"
      }
    },
    {
      "cell_type": "code",
      "source": [
        "path = maze.search(NDS)"
      ],
      "metadata": {
        "colab": {
          "base_uri": "https://localhost:8080/"
        },
        "id": "RRNlXU7k0gMx",
        "outputId": "aefec4a4-43c8-4075-c33b-3cf36aa2877a"
      },
      "execution_count": null,
      "outputs": [
        {
          "output_type": "stream",
          "name": "stdout",
          "text": [
            "ALGORITHM: Non-deterministic search\n",
            "RESULT: SUCCES\n",
            "Elapsed time: 0.001893758773803711 seconds\n",
            "Number of iterations: 5\n",
            "Maximum length of queue: 2\n"
          ]
        }
      ]
    },
    {
      "cell_type": "markdown",
      "source": [
        "Recall that we can visualize the maze and the found path by calling method `plot` on the `Path` object:"
      ],
      "metadata": {
        "id": "JPy0G9Py1FKC"
      }
    },
    {
      "cell_type": "code",
      "source": [
        "path.plot()"
      ],
      "metadata": {
        "colab": {
          "base_uri": "https://localhost:8080/",
          "height": 409
        },
        "id": "mJIVXnPO1TU5",
        "outputId": "0ec06740-52be-4983-d3b6-d1e83aaaed24"
      },
      "execution_count": null,
      "outputs": [
        {
          "output_type": "display_data",
          "data": {
            "text/plain": [
              "<Figure size 480x480 with 1 Axes>"
            ],
            "image/png": "[encoded data removed]"
          },
          "metadata": {}
        }
      ]
    },
    {
      "cell_type": "markdown",
      "source": [
        "Now let's apply iterative deepening:"
      ],
      "metadata": {
        "id": "87F8fvtJ1YfT"
      }
    },
    {
      "cell_type": "code",
      "source": [
        "path = maze.search(IDS, print_queue=True)"
      ],
      "metadata": {
        "colab": {
          "base_uri": "https://localhost:8080/"
        },
        "id": "P0ruYiOR1krR",
        "outputId": "ea38ed00-1762-40a1-8e46-072e15287a92"
      },
      "execution_count": null,
      "outputs": [
        {
          "output_type": "stream",
          "name": "stdout",
          "text": [
            "--> DEPTH: 1\n",
            "Initial queue:\n",
            "x..  \n",
            ".#.  \n",
            "..o  \n",
            "\n",
            "ALGORITHM: Depth-first search\n",
            "RESULT: FAILURE\n",
            "Elapsed time: 0.0017309188842773438 seconds\n",
            "Number of iterations: 1\n",
            "Maximum length of queue: 1\n",
            "\n",
            "--> DEPTH: 2\n",
            "Initial queue:\n",
            "x..  \n",
            ".#.  \n",
            "..o  \n",
            "\n",
            "Iteration 1\n",
            "Path removed from queue:\n",
            "x..\n",
            ".#.\n",
            "..o\n",
            "New paths:\n",
            "xx.  x..  \n",
            ".#.  x#.  \n",
            "..o  ..o  \n",
            "Paths in queue:\n",
            "xx.  x..  \n",
            ".#.  x#.  \n",
            "..o  ..o  \n",
            "\n",
            "ALGORITHM: Depth-first search\n",
            "RESULT: FAILURE\n",
            "Elapsed time: 0.001214742660522461 seconds\n",
            "Number of iterations: 3\n",
            "Maximum length of queue: 2\n",
            "\n",
            "--> DEPTH: 3\n",
            "Initial queue:\n",
            "x..  \n",
            ".#.  \n",
            "..o  \n",
            "\n",
            "Iteration 1\n",
            "Path removed from queue:\n",
            "x..\n",
            ".#.\n",
            "..o\n",
            "New paths:\n",
            "xx.  x..  \n",
            ".#.  x#.  \n",
            "..o  ..o  \n",
            "Paths in queue:\n",
            "xx.  x..  \n",
            ".#.  x#.  \n",
            "..o  ..o  \n",
            "\n",
            "Iteration 2\n",
            "Path removed from queue:\n",
            "xx.\n",
            ".#.\n",
            "..o\n",
            "New paths:\n",
            "xxx  \n",
            ".#.  \n",
            "..o  \n",
            "Paths in queue:\n",
            "xxx  x..  \n",
            ".#.  x#.  \n",
            "..o  ..o  \n",
            "\n",
            "Iteration 4\n",
            "Path removed from queue:\n",
            "x..\n",
            "x#.\n",
            "..o\n",
            "New paths:\n",
            "x..  \n",
            "x#.  \n",
            "x.o  \n",
            "Paths in queue:\n",
            "x..  \n",
            "x#.  \n",
            "x.o  \n",
            "\n",
            "ALGORITHM: Depth-first search\n",
            "RESULT: FAILURE\n",
            "Elapsed time: 0.0026428699493408203 seconds\n",
            "Number of iterations: 5\n",
            "Maximum length of queue: 2\n",
            "\n",
            "--> DEPTH: 4\n",
            "Initial queue:\n",
            "x..  \n",
            ".#.  \n",
            "..o  \n",
            "\n",
            "Iteration 1\n",
            "Path removed from queue:\n",
            "x..\n",
            ".#.\n",
            "..o\n",
            "New paths:\n",
            "xx.  x..  \n",
            ".#.  x#.  \n",
            "..o  ..o  \n",
            "Paths in queue:\n",
            "xx.  x..  \n",
            ".#.  x#.  \n",
            "..o  ..o  \n",
            "\n",
            "Iteration 2\n",
            "Path removed from queue:\n",
            "xx.\n",
            ".#.\n",
            "..o\n",
            "New paths:\n",
            "xxx  \n",
            ".#.  \n",
            "..o  \n",
            "Paths in queue:\n",
            "xxx  x..  \n",
            ".#.  x#.  \n",
            "..o  ..o  \n",
            "\n",
            "Iteration 3\n",
            "Path removed from queue:\n",
            "xxx\n",
            ".#.\n",
            "..o\n",
            "New paths:\n",
            "xxx  \n",
            ".#x  \n",
            "..o  \n",
            "Paths in queue:\n",
            "xxx  x..  \n",
            ".#x  x#.  \n",
            "..o  ..o  \n",
            "\n",
            "Iteration 5\n",
            "Path removed from queue:\n",
            "x..\n",
            "x#.\n",
            "..o\n",
            "New paths:\n",
            "x..  \n",
            "x#.  \n",
            "x.o  \n",
            "Paths in queue:\n",
            "x..  \n",
            "x#.  \n",
            "x.o  \n",
            "\n",
            "Iteration 6\n",
            "Path removed from queue:\n",
            "x..\n",
            "x#.\n",
            "x.o\n",
            "New paths:\n",
            "x..  \n",
            "x#.  \n",
            "xxo  \n",
            "Paths in queue:\n",
            "x..  \n",
            "x#.  \n",
            "xxo  \n",
            "\n",
            "ALGORITHM: Depth-first search\n",
            "RESULT: FAILURE\n",
            "Elapsed time: 0.018939733505249023 seconds\n",
            "Number of iterations: 7\n",
            "Maximum length of queue: 2\n",
            "\n",
            "--> DEPTH: 5\n",
            "Initial queue:\n",
            "x..  \n",
            ".#.  \n",
            "..o  \n",
            "\n",
            "Iteration 1\n",
            "Path removed from queue:\n",
            "x..\n",
            ".#.\n",
            "..o\n",
            "New paths:\n",
            "xx.  x..  \n",
            ".#.  x#.  \n",
            "..o  ..o  \n",
            "Paths in queue:\n",
            "xx.  x..  \n",
            ".#.  x#.  \n",
            "..o  ..o  \n",
            "\n",
            "Iteration 2\n",
            "Path removed from queue:\n",
            "xx.\n",
            ".#.\n",
            "..o\n",
            "New paths:\n",
            "xxx  \n",
            ".#.  \n",
            "..o  \n",
            "Paths in queue:\n",
            "xxx  x..  \n",
            ".#.  x#.  \n",
            "..o  ..o  \n",
            "\n",
            "Iteration 3\n",
            "Path removed from queue:\n",
            "xxx\n",
            ".#.\n",
            "..o\n",
            "New paths:\n",
            "xxx  \n",
            ".#x  \n",
            "..o  \n",
            "Paths in queue:\n",
            "xxx  x..  \n",
            ".#x  x#.  \n",
            "..o  ..o  \n",
            "\n",
            "Iteration 4\n",
            "Path removed from queue:\n",
            "xxx\n",
            ".#x\n",
            "..o\n",
            "New paths:\n",
            "xxx  \n",
            ".#x  \n",
            "..x  \n",
            "Paths in queue:\n",
            "xxx  x..  \n",
            ".#x  x#.  \n",
            "..x  ..o  \n",
            "\n",
            "Path to goal found in new paths:\n",
            "xxx\n",
            ".#x\n",
            "..x\n",
            "\n",
            "ALGORITHM: Depth-first search\n",
            "RESULT: SUCCES\n",
            "Elapsed time: 0.0036127567291259766 seconds\n",
            "Number of iterations: 4\n",
            "Maximum length of queue: 2\n",
            "\n",
            "--> FINAL RESULT\n",
            "ALGORITHM: Iterative deepening search\n",
            "RESULT: SUCCES\n",
            "Elapsed time: 0.049397945404052734 seconds\n",
            "Number of iterations: 20\n",
            "Maximum length of queue: 2\n"
          ]
        }
      ]
    },
    {
      "cell_type": "code",
      "source": [
        "path.plot()"
      ],
      "metadata": {
        "colab": {
          "base_uri": "https://localhost:8080/",
          "height": 409
        },
        "id": "RNal3ryfXxPB",
        "outputId": "089abad0-98eb-4b4e-af44-ef15ec4d6388"
      },
      "execution_count": null,
      "outputs": [
        {
          "output_type": "display_data",
          "data": {
            "text/plain": [
              "<Figure size 480x480 with 1 Axes>"
            ],
            "image/png": "[encoded data removed]"
          },
          "metadata": {}
        }
      ]
    },
    {
      "cell_type": "markdown",
      "source": [
        "## Exercise"
      ],
      "metadata": {
        "id": "2VizLsc3pdbO"
      }
    },
    {
      "cell_type": "markdown",
      "source": [
        "Recall that we can create a random maze using static method `create_random` of the `Maze` class:"
      ],
      "metadata": {
        "id": "6IEKGfIKpzJb"
      }
    },
    {
      "cell_type": "code",
      "source": [
        "maze = Maze.create_random(size=5,         # number of rows = number of columns\n",
        "                          num_of_walls=6, # number of 'forbidden' barriers or walls\n",
        "                          seed=0)         # random seed\n",
        "maze.plot()"
      ],
      "metadata": {
        "colab": {
          "base_uri": "https://localhost:8080/",
          "height": 409
        },
        "id": "AaDsdR02tAEn",
        "outputId": "28b31247-109a-4978-e052-21d5664a7c3f"
      },
      "execution_count": null,
      "outputs": [
        {
          "output_type": "display_data",
          "data": {
            "text/plain": [
              "<Figure size 480x480 with 1 Axes>"
            ],
            "image/png": "[encoded data removed]"
          },
          "metadata": {}
        }
      ]
    },
    {
      "cell_type": "markdown",
      "source": [
        "Try to predict the path that NDS and IDS will find for this maze applying the convential production rules.\n",
        "\n",
        "Check your solution using method `maze.search`..."
      ],
      "metadata": {
        "id": "VFwnU-1R30Pa"
      }
    },
    {
      "cell_type": "markdown",
      "source": [
        "---"
      ],
      "metadata": {
        "id": "g6aG7LbMr2cI"
      }
    }
  ]
}