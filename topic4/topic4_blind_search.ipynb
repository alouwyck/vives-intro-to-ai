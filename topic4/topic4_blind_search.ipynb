{
  "nbformat": 4,
  "nbformat_minor": 0,
  "metadata": {
    "colab": {
      "provenance": [],
      "toc_visible": true,
      "include_colab_link": true
    },
    "kernelspec": {
      "name": "python3",
      "display_name": "Python 3"
    },
    "language_info": {
      "name": "python"
    }
  },
  "cells": [
    {
      "cell_type": "markdown",
      "metadata": {
        "id": "view-in-github",
        "colab_type": "text"
      },
      "source": [
        "<a href=\"https://colab.research.google.com/github/alouwyck/vives-intro-to-ai/blob/main/topic4/topic4_blind_search.ipynb\" target=\"_parent\"><img src=\"https://colab.research.google.com/assets/colab-badge.svg\" alt=\"Open In Colab\"/></a>"
      ]
    },
    {
      "cell_type": "markdown",
      "metadata": {
        "id": "WG8a_HvBZsnP"
      },
      "source": [
        "<img src=\"data:image/png;base64,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\" align=\"right\" /><br>\n",
        "\n",
        "\n",
        "**INTRODUCTION TO ARTIFICIAL INTELLIGENCE**<br>\n",
        "VIVES BUSINESS ACADEMY<br>\n",
        "Academic Year 2023-2024<br>\n",
        "Andy Louwyck\n",
        "\n",
        "---\n",
        "\n",
        "\n",
        "\n",
        "---\n",
        "\n"
      ]
    },
    {
      "cell_type": "markdown",
      "source": [
        "# **BLIND SEARCH**"
      ],
      "metadata": {
        "id": "-Z6HVXBB88Si"
      }
    },
    {
      "cell_type": "markdown",
      "source": [
        "This notebook demonstrates how to apply **depth-first search** (DFS) and **breadth-first search** (BFS) to solve the problem of **finding a path**. These algorithms blindly traverse the search tree without using any \"intelligence\"; hence, the name **blind search**. This also explains why these algorithms are also not considered as artificial intelligence. The use of more advanced search algorithms will be covered in the next topics."
      ],
      "metadata": {
        "id": "gW1DrxwHApWx"
      }
    },
    {
      "cell_type": "markdown",
      "source": [
        "## `SearchExerciser`"
      ],
      "metadata": {
        "id": "z-7HPhob_N5_"
      }
    },
    {
      "cell_type": "markdown",
      "source": [
        "To illustrate the basic concepts discussed in the topics about search algorithms, we will use the `SearchExerciser` package developed by Stefaan Haspeslagh and Andy Louwyck at Vives University of Applied Sciences. The package can be downloaded or cloned from the following GitHub repository: https://github.com/alouwyck/SearchExerciser.\n",
        "\n",
        "To clone the repository, we execute the statements in the cell below. Note that [Google Colab](https://colab.research.google.com/) is used as environment to run the notebooks, although this is not required."
      ],
      "metadata": {
        "id": "wWxyM9yc_TDH"
      }
    },
    {
      "cell_type": "code",
      "execution_count": 1,
      "metadata": {
        "colab": {
          "base_uri": "https://localhost:8080/"
        },
        "id": "OCzEFi9QqZ0R",
        "outputId": "bc530835-8a26-402c-9946-49ec73bb5945"
      },
      "outputs": [
        {
          "output_type": "stream",
          "name": "stdout",
          "text": [
            "Cloning into 'SearchExerciser'...\n",
            "remote: Enumerating objects: 281, done.\u001b[K\n",
            "remote: Counting objects: 100% (33/33), done.\u001b[K\n",
            "remote: Compressing objects: 100% (21/21), done.\u001b[K\n",
            "remote: Total 281 (delta 20), reused 25 (delta 12), pack-reused 248\u001b[K\n",
            "Receiving objects: 100% (281/281), 349.00 KiB | 6.58 MiB/s, done.\n",
            "Resolving deltas: 100% (168/168), done.\n"
          ]
        }
      ],
      "source": [
        "import os, shutil\n",
        "\n",
        "# remove directory 'SearchExerciser' first if it already exists\n",
        "path = \"SearchExerciser\"\n",
        "if os.path.exists(path):\n",
        "    shutil.rmtree(path)\n",
        "\n",
        "# clone SearchExerciser repository from Github\n",
        "!git clone https://github.com/alouwyck/SearchExerciser\n",
        "\n",
        "# put SearchExerciser package directory in the current working directory\n",
        "os.rename(path, 'temp')\n",
        "shutil.copytree(os.path.join('temp', path), path);\n",
        "shutil.rmtree('temp')"
      ]
    },
    {
      "cell_type": "markdown",
      "source": [
        "Once the package is cloned into our environment, we import the following classes:"
      ],
      "metadata": {
        "id": "mGwYf5XmBA_g"
      }
    },
    {
      "cell_type": "code",
      "source": [
        "from SearchExerciser.graph import Graph, ProductionRule\n",
        "from SearchExerciser.maze import Maze, Down, Up, Right, Left\n",
        "from SearchExerciser.search.blind import DFS, BFS"
      ],
      "metadata": {
        "id": "FJHXayI-qnzu"
      },
      "execution_count": 3,
      "outputs": []
    },
    {
      "cell_type": "markdown",
      "source": [
        "The meaning and the purpose of these classes will be explained in the sections below."
      ],
      "metadata": {
        "id": "3y3p9hr1BoxA"
      }
    },
    {
      "cell_type": "markdown",
      "source": [
        "## The running example"
      ],
      "metadata": {
        "id": "C3qHCsX-B2pa"
      }
    },
    {
      "cell_type": "markdown",
      "source": [
        "Using class `Graph` from `SearchExerciser` module `graph`, it is very easy to implement the **graph** used as running example throughout the slides of topic 4. As we known, a graph consists of **nodes** (or vertices) that can be connected through **edges** (or arcs).\n",
        "\n",
        "Just like the `Maze` class, the `Graph` class has a static method `create` that is used to create a `Graph` object. Of course, we need to define the nodes and edges, which is done by passing a list of edges, where each edge is defined by a pair of nodes, represented by a Python tuple. The name of the nodes are Python strings.\n",
        "\n",
        "The `Graph` object created in the cell below defines the graph from the running example:"
      ],
      "metadata": {
        "id": "rDbF-5yjhh9Q"
      }
    },
    {
      "cell_type": "code",
      "source": [
        "graph = Graph.create(edges=[(\"S\", \"A\"), (\"S\", \"D\"), (\"A\", \"D\"), (\"A\", \"B\"), (\"D\", \"E\"),\n",
        "                            (\"B\", \"E\"), (\"B\", \"C\"), (\"E\", \"F\"), (\"F\", \"G\")])"
      ],
      "metadata": {
        "id": "9kXqJsl5qvom"
      },
      "execution_count": null,
      "outputs": []
    },
    {
      "cell_type": "markdown",
      "source": [
        "Calling method `plot` on object `graph` visualizes the graph:"
      ],
      "metadata": {
        "id": "TdcXSI26jfPy"
      }
    },
    {
      "cell_type": "code",
      "source": [
        "graph.plot()"
      ],
      "metadata": {
        "colab": {
          "base_uri": "https://localhost:8080/",
          "height": 516
        },
        "id": "-_KMc1ZKjj7q",
        "outputId": "502b92f2-a9c8-49b7-8055-66c212e6482f"
      },
      "execution_count": null,
      "outputs": [
        {
          "output_type": "display_data",
          "data": {
            "text/plain": [
              "<Figure size 640x480 with 1 Axes>"
            ],
            "image/png": "[encoded data removed]"
          },
          "metadata": {}
        }
      ]
    },
    {
      "cell_type": "markdown",
      "source": [
        "If we want the graph to look the same way as in the slides, then we need to pass the coordinates of the nodes. This is done using a Python dictionary, where the keys represent the name of the nodes and the values are the corresponding (x,y) coordinates defined as a two-element list or tuple:"
      ],
      "metadata": {
        "id": "1bugUASCjm0J"
      }
    },
    {
      "cell_type": "code",
      "source": [
        "coordinates = dict(S=[0, 0.5],\n",
        "                   A=[1, 1],\n",
        "                   D=[2, 0],\n",
        "                   E=[3.5, 0],\n",
        "                   B=[4.5, 1],\n",
        "                   F=[7, 0],\n",
        "                   C=[8, 1],\n",
        "                   G=[9, 0.5])\n",
        "graph.plot(coordinates)"
      ],
      "metadata": {
        "colab": {
          "base_uri": "https://localhost:8080/",
          "height": 516
        },
        "id": "tZ-2YgKugxjM",
        "outputId": "15f44859-ea8d-4325-e206-58392e3b2f1f"
      },
      "execution_count": null,
      "outputs": [
        {
          "output_type": "display_data",
          "data": {
            "text/plain": [
              "<Figure size 640x480 with 1 Axes>"
            ],
            "image/png": "[encoded data removed]"
          },
          "metadata": {}
        }
      ]
    },
    {
      "cell_type": "markdown",
      "source": [
        "That looks familiar indeed!"
      ],
      "metadata": {
        "id": "sbOyaKq9kE5h"
      }
    },
    {
      "cell_type": "markdown",
      "source": [
        "By default, the start node is `'S'`, and the goal node `'G'`:"
      ],
      "metadata": {
        "id": "iECpQUQKkMQP"
      }
    },
    {
      "cell_type": "code",
      "source": [
        "print('start:', graph.start)\n",
        "print('goal:', graph.goal)"
      ],
      "metadata": {
        "colab": {
          "base_uri": "https://localhost:8080/"
        },
        "id": "9hq9AapggxZM",
        "outputId": "b8cc3f01-c717-4481-d9dd-eddbd45b1e15"
      },
      "execution_count": null,
      "outputs": [
        {
          "output_type": "stream",
          "name": "stdout",
          "text": [
            "start: S\n",
            "goal: G\n"
          ]
        }
      ]
    },
    {
      "cell_type": "markdown",
      "source": [
        "The nodes are stored in attribute `vertices`:"
      ],
      "metadata": {
        "id": "FpvF80KNkcEp"
      }
    },
    {
      "cell_type": "code",
      "source": [
        "graph.vertices"
      ],
      "metadata": {
        "colab": {
          "base_uri": "https://localhost:8080/"
        },
        "id": "taUWlIVkkegC",
        "outputId": "8def30c8-8353-4a9c-f37d-07e1cfedce03"
      },
      "execution_count": null,
      "outputs": [
        {
          "output_type": "execute_result",
          "data": {
            "text/plain": [
              "NodeView(('A', 'G', 'B', 'D', 'F', 'C', 'S', 'E'))"
            ]
          },
          "metadata": {},
          "execution_count": 7
        }
      ]
    },
    {
      "cell_type": "markdown",
      "source": [
        "The edges in attribute `edges`:"
      ],
      "metadata": {
        "id": "kkjUr3O8kjZ0"
      }
    },
    {
      "cell_type": "code",
      "source": [
        "graph.edges"
      ],
      "metadata": {
        "colab": {
          "base_uri": "https://localhost:8080/"
        },
        "id": "NFCpgtn_kmmM",
        "outputId": "ed8e6daf-3c41-43ab-ddff-79257c116313"
      },
      "execution_count": null,
      "outputs": [
        {
          "output_type": "execute_result",
          "data": {
            "text/plain": [
              "EdgeView([('A', 'S'), ('A', 'D'), ('A', 'B'), ('G', 'F'), ('B', 'E'), ('B', 'C'), ('D', 'S'), ('D', 'E'), ('F', 'E')])"
            ]
          },
          "metadata": {},
          "execution_count": 8
        }
      ]
    },
    {
      "cell_type": "markdown",
      "source": [
        "These `NodeView` and `EdgeView` objects are datatypes that are used in Python package [networkx](https://networkx.org/). The `Graph` class actually is a wrapper around the networkx' `Graph` class:"
      ],
      "metadata": {
        "id": "4-c4zpu5kp8j"
      }
    },
    {
      "cell_type": "code",
      "source": [
        "graph.graph"
      ],
      "metadata": {
        "colab": {
          "base_uri": "https://localhost:8080/"
        },
        "id": "WndGx-v9k-cs",
        "outputId": "c769f72c-63c8-4570-8934-e99786b1c767"
      },
      "execution_count": null,
      "outputs": [
        {
          "output_type": "execute_result",
          "data": {
            "text/plain": [
              "<networkx.classes.graph.Graph at 0x784c35e851b0>"
            ]
          },
          "metadata": {},
          "execution_count": 9
        }
      ]
    },
    {
      "cell_type": "markdown",
      "source": [
        "## Depth-first search"
      ],
      "metadata": {
        "id": "2NpllkHkl1Pa"
      }
    },
    {
      "cell_type": "markdown",
      "source": [
        "To apply a search algorithm in order to find a path from start node `'S'` to goal node `'G'`, we simply invoke method `search` on the `Graph` object and pass the class of the algorithm we want to use. In this case, we want to apply depth-first search, so we pass class `DFS`:"
      ],
      "metadata": {
        "id": "Ps56IjO1mOXE"
      }
    },
    {
      "cell_type": "code",
      "source": [
        "path = graph.search(DFS)  # DFS is the class implementing depth-first search\n",
        "print('Path found:', path)"
      ],
      "metadata": {
        "colab": {
          "base_uri": "https://localhost:8080/"
        },
        "id": "n1WpIGbBmhR3",
        "outputId": "ba1d881d-6809-4ec4-b670-dc3f8162942a"
      },
      "execution_count": null,
      "outputs": [
        {
          "output_type": "stream",
          "name": "stdout",
          "text": [
            "ALGORITHM: Depth-first search\n",
            "RESULT: SUCCES\n",
            "Elapsed time: 0.0014729499816894531 seconds\n",
            "Number of iterations: 7\n",
            "Maximum length of queue: 4\n",
            "Path found: SABEFG\n"
          ]
        }
      ]
    },
    {
      "cell_type": "markdown",
      "source": [
        "We see that DFS has succesfully found the path `SABEFG`. Why has it found this specific path? First, we need to check the production rules, in this case, the order in which the nodes are selected:"
      ],
      "metadata": {
        "id": "3HpFnN_emr2q"
      }
    },
    {
      "cell_type": "code",
      "source": [
        "graph.rules"
      ],
      "metadata": {
        "colab": {
          "base_uri": "https://localhost:8080/"
        },
        "id": "V4l6seHvnsVv",
        "outputId": "47b77dd3-3b5d-4bea-f695-c6f8b8cb7ae7"
      },
      "execution_count": null,
      "outputs": [
        {
          "output_type": "execute_result",
          "data": {
            "text/plain": [
              "[A, B, C, D, E, F, G, S]"
            ]
          },
          "metadata": {},
          "execution_count": 11
        }
      ]
    },
    {
      "cell_type": "markdown",
      "source": [
        "It is clear that the nodes are sorted alphabetically. Suppose we want to reverse the order, then we can use static method `create_all` from class `ProductionRule`:"
      ],
      "metadata": {
        "id": "OA75oOv0nxTC"
      }
    },
    {
      "cell_type": "code",
      "source": [
        "graph.rules = ProductionRule.create_all(graph, reverse=True)  # set reverse to True to sort in descending order\n",
        "graph.rules"
      ],
      "metadata": {
        "colab": {
          "base_uri": "https://localhost:8080/"
        },
        "id": "CvOcleFCoWs4",
        "outputId": "1ed51c9a-1cab-48fa-82c7-20e47daf3efa"
      },
      "execution_count": null,
      "outputs": [
        {
          "output_type": "execute_result",
          "data": {
            "text/plain": [
              "[S, G, F, E, D, C, B, A]"
            ]
          },
          "metadata": {},
          "execution_count": 12
        }
      ]
    },
    {
      "cell_type": "markdown",
      "source": [
        "Let's search again applying these new rules:"
      ],
      "metadata": {
        "id": "fJT6z6-_odF3"
      }
    },
    {
      "cell_type": "code",
      "source": [
        "graph.search(DFS)"
      ],
      "metadata": {
        "colab": {
          "base_uri": "https://localhost:8080/"
        },
        "id": "aZe-swX-oiO4",
        "outputId": "d1d9dacd-55e2-4ade-b2c6-ad250f820332"
      },
      "execution_count": null,
      "outputs": [
        {
          "output_type": "stream",
          "name": "stdout",
          "text": [
            "ALGORITHM: Depth-first search\n",
            "RESULT: SUCCES\n",
            "Elapsed time: 0.0012059211730957031 seconds\n",
            "Number of iterations: 4\n",
            "Maximum length of queue: 4\n"
          ]
        },
        {
          "output_type": "execute_result",
          "data": {
            "text/plain": [
              "SDEFG"
            ]
          },
          "metadata": {},
          "execution_count": 13
        }
      ]
    },
    {
      "cell_type": "markdown",
      "source": [
        "This gives a different path indeed. Do you understand why? In trying to understand how the algorithm works, it may be useful to print the queue for each iteration, in a similar way as is done in the slides:"
      ],
      "metadata": {
        "id": "yYk72CNRol_D"
      }
    },
    {
      "cell_type": "code",
      "source": [
        "path = graph.search(DFS, print_queue=True)  # set print_queue to True\n",
        "print('Path found:', path)"
      ],
      "metadata": {
        "colab": {
          "base_uri": "https://localhost:8080/"
        },
        "id": "H7D3HDsappXp",
        "outputId": "a3e0f1da-4060-4786-8d60-0c070517e710"
      },
      "execution_count": null,
      "outputs": [
        {
          "output_type": "stream",
          "name": "stdout",
          "text": [
            "Initial queue:\n",
            "[S]\n",
            "\n",
            "Iteration 1\n",
            "Path removed from queue:\n",
            "S\n",
            "New paths:\n",
            "[SD,SA]\n",
            "Paths in queue:\n",
            "[SD,SA]\n",
            "\n",
            "Iteration 2\n",
            "Path removed from queue:\n",
            "SD\n",
            "New paths:\n",
            "[SDE,SDA]\n",
            "Paths in queue:\n",
            "[SDE,SDA,SA]\n",
            "\n",
            "Iteration 3\n",
            "Path removed from queue:\n",
            "SDE\n",
            "New paths:\n",
            "[SDEF,SDEB]\n",
            "Paths in queue:\n",
            "[SDEF,SDEB,SDA,SA]\n",
            "\n",
            "Iteration 4\n",
            "Path removed from queue:\n",
            "SDEF\n",
            "New paths:\n",
            "[SDEFG]\n",
            "Paths in queue:\n",
            "[SDEFG,SDEB,SDA,SA]\n",
            "\n",
            "Path to goal found in new paths:\n",
            "SDEFG\n",
            "\n",
            "ALGORITHM: Depth-first search\n",
            "RESULT: SUCCES\n",
            "Elapsed time: 0.004836559295654297 seconds\n",
            "Number of iterations: 4\n",
            "Maximum length of queue: 4\n",
            "Path found: SDEFG\n"
          ]
        }
      ]
    },
    {
      "cell_type": "markdown",
      "source": [
        "We see that the algorithm indeed selects the nodes in descending alphabetical order. We also see that the algorithm applies the **last in first out** (LIFO) principle: the new paths that are last added to the queue are removed first!"
      ],
      "metadata": {
        "id": "aKMIXjegp1om"
      }
    },
    {
      "cell_type": "markdown",
      "source": [
        "Resetting the `rules` to the default ascending alphabetical order:"
      ],
      "metadata": {
        "id": "RYZKwmyLqchs"
      }
    },
    {
      "cell_type": "code",
      "source": [
        "graph.rules = ProductionRule.create_all(graph)  # default is ascending alphabetical order\n",
        "graph.rules"
      ],
      "metadata": {
        "colab": {
          "base_uri": "https://localhost:8080/"
        },
        "id": "oTSA_6IeqdBV",
        "outputId": "4d62ccc4-cd39-4b23-f97c-3dbb11ba4bb4"
      },
      "execution_count": null,
      "outputs": [
        {
          "output_type": "execute_result",
          "data": {
            "text/plain": [
              "[A, B, C, D, E, F, G, S]"
            ]
          },
          "metadata": {},
          "execution_count": 15
        }
      ]
    },
    {
      "cell_type": "markdown",
      "source": [
        "Searching again while displaying the intermediate queues:"
      ],
      "metadata": {
        "id": "k638ypAHqqLS"
      }
    },
    {
      "cell_type": "code",
      "source": [
        "path = graph.search(DFS, print_queue=True)\n",
        "print('Path found:', path)"
      ],
      "metadata": {
        "colab": {
          "base_uri": "https://localhost:8080/"
        },
        "id": "IV0CKGcpq0Wc",
        "outputId": "80f09892-5f1e-4eb5-906e-bac36c1b3650"
      },
      "execution_count": null,
      "outputs": [
        {
          "output_type": "stream",
          "name": "stdout",
          "text": [
            "Initial queue:\n",
            "[S]\n",
            "\n",
            "Iteration 1\n",
            "Path removed from queue:\n",
            "S\n",
            "New paths:\n",
            "[SA,SD]\n",
            "Paths in queue:\n",
            "[SA,SD]\n",
            "\n",
            "Iteration 2\n",
            "Path removed from queue:\n",
            "SA\n",
            "New paths:\n",
            "[SAB,SAD]\n",
            "Paths in queue:\n",
            "[SAB,SAD,SD]\n",
            "\n",
            "Iteration 3\n",
            "Path removed from queue:\n",
            "SAB\n",
            "New paths:\n",
            "[SABC,SABE]\n",
            "Paths in queue:\n",
            "[SABC,SABE,SAD,SD]\n",
            "\n",
            "Iteration 4\n",
            "Path removed from queue:\n",
            "SABC\n",
            "New paths:\n",
            "[]\n",
            "Paths in queue:\n",
            "[SABE,SAD,SD]\n",
            "\n",
            "Iteration 5\n",
            "Path removed from queue:\n",
            "SABE\n",
            "New paths:\n",
            "[SABED,SABEF]\n",
            "Paths in queue:\n",
            "[SABED,SABEF,SAD,SD]\n",
            "\n",
            "Iteration 6\n",
            "Path removed from queue:\n",
            "SABED\n",
            "New paths:\n",
            "[]\n",
            "Paths in queue:\n",
            "[SABEF,SAD,SD]\n",
            "\n",
            "Iteration 7\n",
            "Path removed from queue:\n",
            "SABEF\n",
            "New paths:\n",
            "[SABEFG]\n",
            "Paths in queue:\n",
            "[SABEFG,SAD,SD]\n",
            "\n",
            "Path to goal found in new paths:\n",
            "SABEFG\n",
            "\n",
            "ALGORITHM: Depth-first search\n",
            "RESULT: SUCCES\n",
            "Elapsed time: 0.00489354133605957 seconds\n",
            "Number of iterations: 7\n",
            "Maximum length of queue: 4\n",
            "Path found: SABEFG\n"
          ]
        }
      ]
    },
    {
      "cell_type": "markdown",
      "source": [
        "This result is exactly the same as for the DFS example discussed in the slides!"
      ],
      "metadata": {
        "id": "__BHwA-RrWX9"
      }
    },
    {
      "cell_type": "markdown",
      "source": [
        "## Breadth-first search"
      ],
      "metadata": {
        "id": "qf9ziHKzsFTv"
      }
    },
    {
      "cell_type": "markdown",
      "source": [
        "If we want to apply breadth-first search, then we need to pass class `BFS` to method `search`:"
      ],
      "metadata": {
        "id": "0l3ay_Z1sOJu"
      }
    },
    {
      "cell_type": "code",
      "source": [
        "path = graph.search(BFS)  # class BFS implements breadth-first search\n",
        "print('Path found:', path)"
      ],
      "metadata": {
        "colab": {
          "base_uri": "https://localhost:8080/"
        },
        "id": "CXhTn2C5sWZ1",
        "outputId": "6be16386-fd33-4d1f-ee86-d109e07042d1"
      },
      "execution_count": null,
      "outputs": [
        {
          "output_type": "stream",
          "name": "stdout",
          "text": [
            "ALGORITHM: Breadth-first search\n",
            "RESULT: SUCCES\n",
            "Elapsed time: 0.0021300315856933594 seconds\n",
            "Number of iterations: 13\n",
            "Maximum length of queue: 9\n",
            "Path found: SDEFG\n"
          ]
        }
      ]
    },
    {
      "cell_type": "markdown",
      "source": [
        "Nice! BFS finds the **shortest path**, which has the minimum number of nodes! Is that always the case? Yes! Next topic will explain why!"
      ],
      "metadata": {
        "id": "u2Mye0MLspp2"
      }
    },
    {
      "cell_type": "markdown",
      "source": [
        "Re-running the algorithm and this time printing the intermediate queues gives us the entire solution (from which the slides only show the first steps and the final step):"
      ],
      "metadata": {
        "id": "_Fh_L3oStI8y"
      }
    },
    {
      "cell_type": "code",
      "source": [
        "path = graph.search(BFS, print_queue=True)\n",
        "print('Path found:', path)"
      ],
      "metadata": {
        "colab": {
          "base_uri": "https://localhost:8080/"
        },
        "id": "OIi70NHWtQQs",
        "outputId": "d9555153-ce83-4001-8eb1-02df415412b5"
      },
      "execution_count": null,
      "outputs": [
        {
          "output_type": "stream",
          "name": "stdout",
          "text": [
            "Initial queue:\n",
            "[S]\n",
            "\n",
            "Iteration 1\n",
            "Path removed from queue:\n",
            "S\n",
            "New paths:\n",
            "[SA,SD]\n",
            "Paths in queue:\n",
            "[SA,SD]\n",
            "\n",
            "Iteration 2\n",
            "Path removed from queue:\n",
            "SA\n",
            "New paths:\n",
            "[SAB,SAD]\n",
            "Paths in queue:\n",
            "[SD,SAB,SAD]\n",
            "\n",
            "Iteration 3\n",
            "Path removed from queue:\n",
            "SD\n",
            "New paths:\n",
            "[SDA,SDE]\n",
            "Paths in queue:\n",
            "[SAB,SAD,SDA,SDE]\n",
            "\n",
            "Iteration 4\n",
            "Path removed from queue:\n",
            "SAB\n",
            "New paths:\n",
            "[SABC,SABE]\n",
            "Paths in queue:\n",
            "[SAD,SDA,SDE,SABC,SABE]\n",
            "\n",
            "Iteration 5\n",
            "Path removed from queue:\n",
            "SAD\n",
            "New paths:\n",
            "[SADE]\n",
            "Paths in queue:\n",
            "[SDA,SDE,SABC,SABE,SADE]\n",
            "\n",
            "Iteration 6\n",
            "Path removed from queue:\n",
            "SDA\n",
            "New paths:\n",
            "[SDAB]\n",
            "Paths in queue:\n",
            "[SDE,SABC,SABE,SADE,SDAB]\n",
            "\n",
            "Iteration 7\n",
            "Path removed from queue:\n",
            "SDE\n",
            "New paths:\n",
            "[SDEB,SDEF]\n",
            "Paths in queue:\n",
            "[SABC,SABE,SADE,SDAB,SDEB,SDEF]\n",
            "\n",
            "Iteration 8\n",
            "Path removed from queue:\n",
            "SABC\n",
            "New paths:\n",
            "[]\n",
            "Paths in queue:\n",
            "[SABE,SADE,SDAB,SDEB,SDEF]\n",
            "\n",
            "Iteration 9\n",
            "Path removed from queue:\n",
            "SABE\n",
            "New paths:\n",
            "[SABED,SABEF]\n",
            "Paths in queue:\n",
            "[SADE,SDAB,SDEB,SDEF,SABED,SABEF]\n",
            "\n",
            "Iteration 10\n",
            "Path removed from queue:\n",
            "SADE\n",
            "New paths:\n",
            "[SADEB,SADEF]\n",
            "Paths in queue:\n",
            "[SDAB,SDEB,SDEF,SABED,SABEF,SADEB,SADEF]\n",
            "\n",
            "Iteration 11\n",
            "Path removed from queue:\n",
            "SDAB\n",
            "New paths:\n",
            "[SDABC,SDABE]\n",
            "Paths in queue:\n",
            "[SDEB,SDEF,SABED,SABEF,SADEB,SADEF,SDABC,SDABE]\n",
            "\n",
            "Iteration 12\n",
            "Path removed from queue:\n",
            "SDEB\n",
            "New paths:\n",
            "[SDEBA,SDEBC]\n",
            "Paths in queue:\n",
            "[SDEF,SABED,SABEF,SADEB,SADEF,SDABC,SDABE,SDEBA,SDEBC]\n",
            "\n",
            "Iteration 13\n",
            "Path removed from queue:\n",
            "SDEF\n",
            "New paths:\n",
            "[SDEFG]\n",
            "Paths in queue:\n",
            "[SABED,SABEF,SADEB,SADEF,SDABC,SDABE,SDEBA,SDEBC,SDEFG]\n",
            "\n",
            "Path to goal found in new paths:\n",
            "SDEFG\n",
            "\n",
            "ALGORITHM: Breadth-first search\n",
            "RESULT: SUCCES\n",
            "Elapsed time: 0.01707291603088379 seconds\n",
            "Number of iterations: 13\n",
            "Maximum length of queue: 9\n",
            "Path found: SDEFG\n"
          ]
        }
      ]
    },
    {
      "cell_type": "markdown",
      "source": [
        "What we see here is that BFS applies the principle of **first in first out** (FIFO): the paths that are removed first from the queue were added first!"
      ],
      "metadata": {
        "id": "LgmuK04BvxNd"
      }
    },
    {
      "cell_type": "markdown",
      "source": [
        "If you are not convinced that BFS always finds the shortest path, just do the test! Shuffle the nodes in `rules `randomly, re-run BFS, and you'll see!"
      ],
      "metadata": {
        "id": "RJsh3l75uHlA"
      }
    },
    {
      "cell_type": "code",
      "source": [
        "from random import shuffle\n",
        "\n",
        "shuffle(graph.rules)  # shuffle list randomly\n",
        "graph.rules"
      ],
      "metadata": {
        "colab": {
          "base_uri": "https://localhost:8080/"
        },
        "id": "EQxXvD1luG8c",
        "outputId": "c21fa805-1b9b-4e71-9625-70d2e6ff26c2"
      },
      "execution_count": null,
      "outputs": [
        {
          "output_type": "execute_result",
          "data": {
            "text/plain": [
              "[E, B, G, D, S, F, C, A]"
            ]
          },
          "metadata": {},
          "execution_count": 35
        }
      ]
    },
    {
      "cell_type": "code",
      "source": [
        "path = graph.search(BFS)\n",
        "print('Path found:', path)"
      ],
      "metadata": {
        "colab": {
          "base_uri": "https://localhost:8080/"
        },
        "id": "-ktcS0W0uk5K",
        "outputId": "b895d61c-01d5-4c14-c70d-08ca49889c24"
      },
      "execution_count": null,
      "outputs": [
        {
          "output_type": "stream",
          "name": "stdout",
          "text": [
            "ALGORITHM: Breadth-first search\n",
            "RESULT: SUCCES\n",
            "Elapsed time: 0.0014102458953857422 seconds\n",
            "Number of iterations: 9\n",
            "Maximum length of queue: 7\n",
            "Path found: SDEFG\n"
          ]
        }
      ]
    },
    {
      "cell_type": "markdown",
      "source": [
        "## Maze"
      ],
      "metadata": {
        "id": "XN-8kNFqwVmE"
      }
    },
    {
      "cell_type": "markdown",
      "source": [
        "Of course DFS and BFS can also be applied to find a path in a maze! Let's try this out on the simple 3x3 maze we've been using to explain the concepts of the state space representation:"
      ],
      "metadata": {
        "id": "T0L06tHfwX0H"
      }
    },
    {
      "cell_type": "code",
      "source": [
        "maze = Maze.create([\"*..\",\n",
        "                    \".#.\",\n",
        "                    \"..o\"])\n",
        "maze"
      ],
      "metadata": {
        "colab": {
          "base_uri": "https://localhost:8080/"
        },
        "id": "Ksza7Xlb0OWc",
        "outputId": "1ad0184d-db75-4643-df23-ff54cde1134d"
      },
      "execution_count": null,
      "outputs": [
        {
          "output_type": "execute_result",
          "data": {
            "text/plain": [
              "*..\n",
              ".#.\n",
              "..o"
            ]
          },
          "metadata": {},
          "execution_count": 19
        }
      ]
    },
    {
      "cell_type": "markdown",
      "source": [
        "Recall that the maze is visualized calling method `plot`:"
      ],
      "metadata": {
        "id": "6aF5ecJt250V"
      }
    },
    {
      "cell_type": "code",
      "source": [
        "maze.plot()"
      ],
      "metadata": {
        "colab": {
          "base_uri": "https://localhost:8080/",
          "height": 409
        },
        "id": "nQRofPBe3BAa",
        "outputId": "077e2808-984b-41d7-ef2c-2a524a454a66"
      },
      "execution_count": null,
      "outputs": [
        {
          "output_type": "display_data",
          "data": {
            "text/plain": [
              "<Figure size 480x480 with 1 Axes>"
            ],
            "image/png": "[encoded data removed]"
          },
          "metadata": {}
        }
      ]
    },
    {
      "cell_type": "markdown",
      "source": [
        "Like class `Graph`, class `Maze` also has a `search` method (which they both inherit from a common superclass):"
      ],
      "metadata": {
        "id": "mg4Row_Q0RjH"
      }
    },
    {
      "cell_type": "code",
      "source": [
        "path = maze.search(DFS, print_queue=True)"
      ],
      "metadata": {
        "colab": {
          "base_uri": "https://localhost:8080/"
        },
        "id": "RRNlXU7k0gMx",
        "outputId": "fb33b126-b2a7-40aa-e543-b6cee8188d41"
      },
      "execution_count": null,
      "outputs": [
        {
          "output_type": "stream",
          "name": "stdout",
          "text": [
            "Initial queue:\n",
            "x..  \n",
            ".#.  \n",
            "..o  \n",
            "\n",
            "Iteration 1\n",
            "Path removed from queue:\n",
            "x..\n",
            ".#.\n",
            "..o\n",
            "New paths:\n",
            "xx.  x..  \n",
            ".#.  x#.  \n",
            "..o  ..o  \n",
            "Paths in queue:\n",
            "xx.  x..  \n",
            ".#.  x#.  \n",
            "..o  ..o  \n",
            "\n",
            "Iteration 2\n",
            "Path removed from queue:\n",
            "xx.\n",
            ".#.\n",
            "..o\n",
            "New paths:\n",
            "xxx  \n",
            ".#.  \n",
            "..o  \n",
            "Paths in queue:\n",
            "xxx  x..  \n",
            ".#.  x#.  \n",
            "..o  ..o  \n",
            "\n",
            "Iteration 3\n",
            "Path removed from queue:\n",
            "xxx\n",
            ".#.\n",
            "..o\n",
            "New paths:\n",
            "xxx  \n",
            ".#x  \n",
            "..o  \n",
            "Paths in queue:\n",
            "xxx  x..  \n",
            ".#x  x#.  \n",
            "..o  ..o  \n",
            "\n",
            "Iteration 4\n",
            "Path removed from queue:\n",
            "xxx\n",
            ".#x\n",
            "..o\n",
            "New paths:\n",
            "xxx  \n",
            ".#x  \n",
            "..x  \n",
            "Paths in queue:\n",
            "xxx  x..  \n",
            ".#x  x#.  \n",
            "..x  ..o  \n",
            "\n",
            "Path to goal found in new paths:\n",
            "xxx\n",
            ".#x\n",
            "..x\n",
            "\n",
            "ALGORITHM: Depth-first search\n",
            "RESULT: SUCCES\n",
            "Elapsed time: 0.011952877044677734 seconds\n",
            "Number of iterations: 4\n",
            "Maximum length of queue: 2\n"
          ]
        }
      ]
    },
    {
      "cell_type": "markdown",
      "source": [
        "Recall that we can visualize the maze and the found path by calling method `plot` on the `Path` object:"
      ],
      "metadata": {
        "id": "JPy0G9Py1FKC"
      }
    },
    {
      "cell_type": "code",
      "source": [
        "path.plot()"
      ],
      "metadata": {
        "colab": {
          "base_uri": "https://localhost:8080/",
          "height": 409
        },
        "id": "mJIVXnPO1TU5",
        "outputId": "ac58751c-797c-4b79-e893-0948f7a0c649"
      },
      "execution_count": null,
      "outputs": [
        {
          "output_type": "display_data",
          "data": {
            "text/plain": [
              "<Figure size 480x480 with 1 Axes>"
            ],
            "image/png": "[encoded data removed]"
          },
          "metadata": {}
        }
      ]
    },
    {
      "cell_type": "markdown",
      "source": [
        "Does BFS find the same path? Or will it choose the path that first goes down?"
      ],
      "metadata": {
        "id": "87F8fvtJ1YfT"
      }
    },
    {
      "cell_type": "code",
      "source": [
        "maze.search(BFS).plot()"
      ],
      "metadata": {
        "colab": {
          "base_uri": "https://localhost:8080/",
          "height": 499
        },
        "id": "P0ruYiOR1krR",
        "outputId": "54530514-a081-435e-b040-7551aca2c991"
      },
      "execution_count": null,
      "outputs": [
        {
          "output_type": "stream",
          "name": "stdout",
          "text": [
            "ALGORITHM: Breadth-first search\n",
            "RESULT: SUCCES\n",
            "Elapsed time: 0.0010294914245605469 seconds\n",
            "Number of iterations: 6\n",
            "Maximum length of queue: 2\n"
          ]
        },
        {
          "output_type": "display_data",
          "data": {
            "text/plain": [
              "<Figure size 480x480 with 1 Axes>"
            ],
            "image/png": "[encoded data removed]"
          },
          "metadata": {}
        }
      ]
    },
    {
      "cell_type": "markdown",
      "source": [
        "It finds the same path! Check the intermediate results to understand why!"
      ],
      "metadata": {
        "id": "fJFRpQFJ1sWT"
      }
    },
    {
      "cell_type": "markdown",
      "source": [
        "Suppose now that we want to find the other path going down first, then we need to change the production rules. Recall that these `rules` are the conventional \"left, right, up, down\" by default:"
      ],
      "metadata": {
        "id": "pkJI0FoU16NF"
      }
    },
    {
      "cell_type": "code",
      "source": [
        "maze.rules  # Left, Right, Up, Down by convention!"
      ],
      "metadata": {
        "colab": {
          "base_uri": "https://localhost:8080/"
        },
        "id": "ayhDPzxK2CD3",
        "outputId": "e61cb3e9-1111-441b-ce2c-7f632caa055b"
      },
      "execution_count": null,
      "outputs": [
        {
          "output_type": "execute_result",
          "data": {
            "text/plain": [
              "[L, R, U, D]"
            ]
          },
          "metadata": {},
          "execution_count": 24
        }
      ]
    },
    {
      "cell_type": "markdown",
      "source": [
        "Changing these `rules` and setting `Up()` in front will do the job:"
      ],
      "metadata": {
        "id": "EQlwcGNw2P0b"
      }
    },
    {
      "cell_type": "code",
      "source": [
        "maze.rules = [Down(), Right(), Up(), Left()]  # contains instances, not classes!\n",
        "maze.search(BFS).plot()"
      ],
      "metadata": {
        "colab": {
          "base_uri": "https://localhost:8080/",
          "height": 499
        },
        "id": "rWYp1AGI2Jnb",
        "outputId": "922b9b01-9d8c-4b0a-95a0-1ab4d0e11ea2"
      },
      "execution_count": null,
      "outputs": [
        {
          "output_type": "stream",
          "name": "stdout",
          "text": [
            "ALGORITHM: Breadth-first search\n",
            "RESULT: SUCCES\n",
            "Elapsed time: 0.002185344696044922 seconds\n",
            "Number of iterations: 6\n",
            "Maximum length of queue: 2\n"
          ]
        },
        {
          "output_type": "display_data",
          "data": {
            "text/plain": [
              "<Figure size 480x480 with 1 Axes>"
            ],
            "image/png": "[encoded data removed]"
          },
          "metadata": {}
        }
      ]
    },
    {
      "cell_type": "markdown",
      "source": [
        "Of course the same path is found applying DFS:"
      ],
      "metadata": {
        "id": "YNQzi-wC2ukU"
      }
    },
    {
      "cell_type": "code",
      "source": [
        "maze.search(DFS).plot()"
      ],
      "metadata": {
        "colab": {
          "base_uri": "https://localhost:8080/",
          "height": 499
        },
        "id": "ysCfRxFF2aJU",
        "outputId": "657c6513-d8dd-48c6-c968-cb9a2e1899b4"
      },
      "execution_count": null,
      "outputs": [
        {
          "output_type": "stream",
          "name": "stdout",
          "text": [
            "ALGORITHM: Depth-first search\n",
            "RESULT: SUCCES\n",
            "Elapsed time: 0.0008230209350585938 seconds\n",
            "Number of iterations: 4\n",
            "Maximum length of queue: 2\n"
          ]
        },
        {
          "output_type": "display_data",
          "data": {
            "text/plain": [
              "<Figure size 480x480 with 1 Axes>"
            ],
            "image/png": "[encoded data removed]"
          },
          "metadata": {}
        }
      ]
    },
    {
      "cell_type": "markdown",
      "source": [
        "## Exercises"
      ],
      "metadata": {
        "id": "2VizLsc3pdbO"
      }
    },
    {
      "cell_type": "markdown",
      "source": [
        "Two exercises on finding the path in a maze by applying DFS and BFS."
      ],
      "metadata": {
        "id": "Ip_igr6LiB4c"
      }
    },
    {
      "cell_type": "markdown",
      "source": [
        "### Exercise 1"
      ],
      "metadata": {
        "id": "BFYE6kqOhFVX"
      }
    },
    {
      "cell_type": "markdown",
      "source": [
        "Can you predict which path DFS and BFS will find, respectively?\n",
        "\n",
        "Recall that the conventional order for applying the production rules is left, right, up, and down!"
      ],
      "metadata": {
        "id": "3CuksfY3hhtR"
      }
    },
    {
      "cell_type": "markdown",
      "source": [
        "![image.png](data:image/png;base64,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)"
      ],
      "metadata": {
        "id": "bLjDY-HdbaxC"
      }
    },
    {
      "cell_type": "markdown",
      "source": [
        "Check your solution by implementing the following maze and by applying DFS and BFS to this maze:"
      ],
      "metadata": {
        "id": "Tzdv0aDRbHoH"
      }
    },
    {
      "cell_type": "code",
      "source": [
        "maze = Maze.create([\n",
        "    \"....#...o\",\n",
        "    \".........\",\n",
        "    \"#........\",\n",
        "    \".#...#...\",\n",
        "    \"..#......\",\n",
        "    \".........\",\n",
        "    \".........\",\n",
        "    \"......#..\",\n",
        "    \"*......#.\"\n",
        "    ])\n",
        "maze"
      ],
      "metadata": {
        "colab": {
          "base_uri": "https://localhost:8080/"
        },
        "id": "2nP8UAm5a850",
        "outputId": "5b697998-7d6d-4252-9f29-08a33074b102"
      },
      "execution_count": 6,
      "outputs": [
        {
          "output_type": "execute_result",
          "data": {
            "text/plain": [
              "....#...o\n",
              ".........\n",
              "#........\n",
              ".#...#...\n",
              "..#......\n",
              ".........\n",
              ".........\n",
              "......#..\n",
              "*......#."
            ]
          },
          "metadata": {},
          "execution_count": 6
        }
      ]
    },
    {
      "cell_type": "code",
      "source": [
        "maze.plot()"
      ],
      "metadata": {
        "colab": {
          "base_uri": "https://localhost:8080/",
          "height": 409
        },
        "id": "5tt5ymzWcYeW",
        "outputId": "0754b217-beb5-41e8-ceb5-e92f0aec24d3"
      },
      "execution_count": 7,
      "outputs": [
        {
          "output_type": "display_data",
          "data": {
            "text/plain": [
              "<Figure size 480x480 with 1 Axes>"
            ],
            "image/png": "[encoded data removed]"
          },
          "metadata": {}
        }
      ]
    },
    {
      "cell_type": "code",
      "source": [
        "maze.search(DFS).plot_live()"
      ],
      "metadata": {
        "colab": {
          "base_uri": "https://localhost:8080/",
          "height": 409
        },
        "id": "AK1W5SpTcfUF",
        "outputId": "2bb6d918-0ef7-4b3a-f412-5697929cf506"
      },
      "execution_count": 12,
      "outputs": [
        {
          "output_type": "display_data",
          "data": {
            "text/plain": [
              "<Figure size 480x480 with 1 Axes>"
            ],
            "image/png": "[encoded data removed]"
          },
          "metadata": {}
        }
      ]
    },
    {
      "cell_type": "code",
      "source": [
        "maze.search(BFS).plot()"
      ],
      "metadata": {
        "colab": {
          "base_uri": "https://localhost:8080/",
          "height": 496
        },
        "id": "_HqHD3oucxGD",
        "outputId": "75e960ec-aff1-4764-c0c7-150e11af8dc7"
      },
      "execution_count": 11,
      "outputs": [
        {
          "output_type": "stream",
          "name": "stdout",
          "text": [
            "ALGORITHM: Breadth-first search\n",
            "RESULT: SUCCES\n",
            "Elapsed time: 307.5809254646301 seconds\n",
            "Number of iterations: 115109\n",
            "Maximum length of queue: 131094\n"
          ]
        },
        {
          "output_type": "display_data",
          "data": {
            "text/plain": [
              "<Figure size 480x480 with 1 Axes>"
            ],
            "image/png": "[encoded data removed]"
          },
          "metadata": {}
        }
      ]
    },
    {
      "cell_type": "markdown",
      "source": [
        "### Exercise 2"
      ],
      "metadata": {
        "id": "eRV2QeiahTJe"
      }
    },
    {
      "cell_type": "markdown",
      "source": [
        "Recall that we can create a random maze using static method `create_random` of the `Maze` class:"
      ],
      "metadata": {
        "id": "6IEKGfIKpzJb"
      }
    },
    {
      "cell_type": "code",
      "source": [
        "maze = Maze.create_random(size=5,         # number of rows = number of columns\n",
        "                          num_of_walls=6, # number of 'forbidden' barriers or walls\n",
        "                          seed=0)         # random seed\n",
        "maze.plot()"
      ],
      "metadata": {
        "colab": {
          "base_uri": "https://localhost:8080/",
          "height": 409
        },
        "id": "AaDsdR02tAEn",
        "outputId": "4f9b5691-68f8-40e7-be1a-7c90fdee74f4"
      },
      "execution_count": null,
      "outputs": [
        {
          "output_type": "display_data",
          "data": {
            "text/plain": [
              "<Figure size 480x480 with 1 Axes>"
            ],
            "image/png": "[encoded data removed]"
          },
          "metadata": {}
        }
      ]
    },
    {
      "cell_type": "markdown",
      "source": [
        "Try to predict the path that DFS and BFS will find for this maze applying the convential production rules.\n",
        "\n",
        "Check your solution using method `maze.search`..."
      ],
      "metadata": {
        "id": "VFwnU-1R30Pa"
      }
    },
    {
      "cell_type": "code",
      "source": [
        "maze.search(BFS).plot()"
      ],
      "metadata": {
        "id": "52sbqfFOfXNx",
        "colab": {
          "base_uri": "https://localhost:8080/",
          "height": 499
        },
        "outputId": "9f0ea0a7-1eff-49b3-8b83-beddf697aa96"
      },
      "execution_count": null,
      "outputs": [
        {
          "output_type": "stream",
          "name": "stdout",
          "text": [
            "ALGORITHM: Breadth-first search\n",
            "RESULT: SUCCES\n",
            "Elapsed time: 0.005235433578491211 seconds\n",
            "Number of iterations: 32\n",
            "Maximum length of queue: 18\n"
          ]
        },
        {
          "output_type": "display_data",
          "data": {
            "text/plain": [
              "<Figure size 480x480 with 1 Axes>"
            ],
            "image/png": "[encoded data removed]"
          },
          "metadata": {}
        }
      ]
    },
    {
      "cell_type": "code",
      "source": [
        "maze.search(DFS).plot_live()"
      ],
      "metadata": {
        "colab": {
          "base_uri": "https://localhost:8080/",
          "height": 409
        },
        "id": "ULOC1UNoJguU",
        "outputId": "10fa7d40-7231-47c6-be60-caba11bb6db1"
      },
      "execution_count": null,
      "outputs": [
        {
          "output_type": "display_data",
          "data": {
            "text/plain": [
              "<Figure size 480x480 with 1 Axes>"
            ],
            "image/png": "[encoded data removed]"
          },
          "metadata": {}
        }
      ]
    },
    {
      "cell_type": "markdown",
      "source": [
        "---"
      ],
      "metadata": {
        "id": "g6aG7LbMr2cI"
      }
    }
  ]
}