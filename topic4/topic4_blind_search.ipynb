{
  "nbformat": 4,
  "nbformat_minor": 0,
  "metadata": {
    "colab": {
      "provenance": [],
      "include_colab_link": true
    },
    "kernelspec": {
      "name": "python3",
      "display_name": "Python 3"
    },
    "language_info": {
      "name": "python"
    }
  },
  "cells": [
    {
      "cell_type": "markdown",
      "metadata": {
        "id": "view-in-github",
        "colab_type": "text"
      },
      "source": [
        "<a href=\"https://colab.research.google.com/github/alouwyck/vives-intro-to-ai/blob/main/topic4/topic4_blind_search.ipynb\" target=\"_parent\"><img src=\"https://colab.research.google.com/assets/colab-badge.svg\" alt=\"Open In Colab\"/></a>"
      ]
    },
    {
      "cell_type": "markdown",
      "metadata": {
        "id": "WG8a_HvBZsnP"
      },
      "source": [
        "<img src=\"data:image/png;base64,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\" align=\"right\" /><br>\n",
        "\n",
        "\n",
        "**INTRODUCTION TO ARTIFICIAL INTELLIGENCE**<br>\n",
        "VIVES BUSINESS ACADEMY<br>\n",
        "Academic Year 2023-2024<br>\n",
        "Andy Louwyck\n",
        "\n",
        "---\n",
        "\n",
        "\n",
        "\n",
        "---\n",
        "\n"
      ]
    },
    {
      "cell_type": "markdown",
      "source": [
        "# **BLIND SEARCH**"
      ],
      "metadata": {
        "id": "-Z6HVXBB88Si"
      }
    },
    {
      "cell_type": "markdown",
      "source": [
        "This notebook demonstrates how to apply **depth-first search** (DFS) and **breadth-first search** (BFS) to solve the problem of **finding a path**. These algorithms blindly traverse the search tree without using any \"intelligence\"; hence, the name **blind search**. This also explains why these algorithms are also not considered as artificial intelligence. The use of more advanced search algorithms will be covered in the next topics."
      ],
      "metadata": {
        "id": "gW1DrxwHApWx"
      }
    },
    {
      "cell_type": "markdown",
      "source": [
        "## `SearchExerciser`"
      ],
      "metadata": {
        "id": "z-7HPhob_N5_"
      }
    },
    {
      "cell_type": "markdown",
      "source": [
        "To illustrate the basic concepts discussed in the topics about search algorithms, we will use the `SearchExerciser` package developed by Stefaan Haspeslagh and Andy Louwyck at Vives University of Applied Sciences. The package can be downloaded or cloned from the following GitHub repository: https://github.com/alouwyck/SearchExerciser.\n",
        "\n",
        "To clone the repository, we execute the statements in the cell below. Note that [Google Colab](https://colab.research.google.com/) is used as environment to run the notebooks, although this is not required."
      ],
      "metadata": {
        "id": "wWxyM9yc_TDH"
      }
    },
    {
      "cell_type": "code",
      "execution_count": null,
      "metadata": {
        "colab": {
          "base_uri": "https://localhost:8080/"
        },
        "id": "OCzEFi9QqZ0R",
        "outputId": "8fa22835-0a92-4f96-bb76-e142b39c5ff1"
      },
      "outputs": [
        {
          "output_type": "stream",
          "name": "stdout",
          "text": [
            "Cloning into 'SearchExerciser'...\n",
            "remote: Enumerating objects: 281, done.\u001b[K\n",
            "remote: Counting objects: 100% (33/33), done.\u001b[K\n",
            "remote: Compressing objects: 100% (21/21), done.\u001b[K\n",
            "remote: Total 281 (delta 20), reused 25 (delta 12), pack-reused 248\u001b[K\n",
            "Receiving objects: 100% (281/281), 349.00 KiB | 17.45 MiB/s, done.\n",
            "Resolving deltas: 100% (168/168), done.\n"
          ]
        }
      ],
      "source": [
        "import os, shutil\n",
        "\n",
        "# remove directory 'SearchExerciser' first if it already exists\n",
        "path = \"SearchExerciser\"\n",
        "if os.path.exists(path):\n",
        "    shutil.rmtree(path)\n",
        "\n",
        "# clone SearchExerciser repository from Github\n",
        "!git clone https://github.com/alouwyck/SearchExerciser\n",
        "\n",
        "# put SearchExerciser package directory in the current working directory\n",
        "os.rename(path, 'temp')\n",
        "shutil.copytree(os.path.join('temp', path), path);\n",
        "shutil.rmtree('temp')"
      ]
    },
    {
      "cell_type": "markdown",
      "source": [
        "Once the package is cloned into our environment, we import the following classes:"
      ],
      "metadata": {
        "id": "mGwYf5XmBA_g"
      }
    },
    {
      "cell_type": "code",
      "source": [
        "from SearchExerciser.graph import Graph, ProductionRule\n",
        "from SearchExerciser.maze import Maze, Down, Up, Right, Left\n",
        "from SearchExerciser.search.blind import DFS, BFS"
      ],
      "metadata": {
        "id": "FJHXayI-qnzu"
      },
      "execution_count": null,
      "outputs": []
    },
    {
      "cell_type": "markdown",
      "source": [
        "The meaning and the purpose of these classes will be explained in the sections below."
      ],
      "metadata": {
        "id": "3y3p9hr1BoxA"
      }
    },
    {
      "cell_type": "markdown",
      "source": [
        "## The running example"
      ],
      "metadata": {
        "id": "C3qHCsX-B2pa"
      }
    },
    {
      "cell_type": "markdown",
      "source": [
        "Using class `Graph` from `SearchExerciser` module `graph`, it is very easy to implement the **graph** used as running example throughout the slides of topic 4. As we known, a graph consists of **nodes** (or vertices) that can be connected through **edges** (or arcs).\n",
        "\n",
        "Just like the `Maze` class, the `Graph` class has a static method `create` that is used to create a `Graph` object. Of course, we need to define the nodes and edges, which is done by passing a list of edges, where each edge is defined by a pair of nodes, represented by a Python tuple. The name of the nodes are Python strings.\n",
        "\n",
        "The `Graph` object created in the cell below defines the graph from the running example:"
      ],
      "metadata": {
        "id": "rDbF-5yjhh9Q"
      }
    },
    {
      "cell_type": "code",
      "source": [
        "graph = Graph.create(edges=[(\"S\", \"A\"), (\"S\", \"D\"), (\"A\", \"D\"), (\"A\", \"B\"), (\"D\", \"E\"),\n",
        "                            (\"B\", \"E\"), (\"B\", \"C\"), (\"E\", \"F\"), (\"F\", \"G\")])"
      ],
      "metadata": {
        "id": "9kXqJsl5qvom"
      },
      "execution_count": null,
      "outputs": []
    },
    {
      "cell_type": "markdown",
      "source": [
        "Calling method `plot` on object `graph` visualizes the graph:"
      ],
      "metadata": {
        "id": "TdcXSI26jfPy"
      }
    },
    {
      "cell_type": "code",
      "source": [
        "graph.plot()"
      ],
      "metadata": {
        "colab": {
          "base_uri": "https://localhost:8080/",
          "height": 516
        },
        "id": "-_KMc1ZKjj7q",
        "outputId": "ac01d0b1-0b02-423f-9be6-e324d6e2789b"
      },
      "execution_count": null,
      "outputs": [
        {
          "output_type": "display_data",
          "data": {
            "text/plain": [
              "<Figure size 640x480 with 1 Axes>"
            ],
            "image/png": "[encoded data removed]"
          },
          "metadata": {}
        }
      ]
    },
    {
      "cell_type": "markdown",
      "source": [
        "If we want the graph to look the same way as in the slides, then we need to pass the coordinates of the nodes. This is done using a Python dictionary, where the keys represent the name of the nodes and the values are the corresponding (x,y) coordinates defined as a two-element list or tuple:"
      ],
      "metadata": {
        "id": "1bugUASCjm0J"
      }
    },
    {
      "cell_type": "code",
      "source": [
        "coordinates = dict(S=[0, 0.5],\n",
        "                   A=[1, 1],\n",
        "                   D=[2, 0],\n",
        "                   E=[3.5, 0],\n",
        "                   B=[4.5, 1],\n",
        "                   F=[7, 0],\n",
        "                   C=[8, 1],\n",
        "                   G=[9, 0.5])\n",
        "graph.plot(coordinates)"
      ],
      "metadata": {
        "colab": {
          "base_uri": "https://localhost:8080/",
          "height": 516
        },
        "id": "tZ-2YgKugxjM",
        "outputId": "8d6198e3-eec8-4aec-fb4c-8a089af779bf"
      },
      "execution_count": null,
      "outputs": [
        {
          "output_type": "display_data",
          "data": {
            "text/plain": [
              "<Figure size 640x480 with 1 Axes>"
            ],
            "image/png": "[encoded data removed]"
          },
          "metadata": {}
        }
      ]
    },
    {
      "cell_type": "markdown",
      "source": [
        "That looks familiar indeed!"
      ],
      "metadata": {
        "id": "sbOyaKq9kE5h"
      }
    },
    {
      "cell_type": "markdown",
      "source": [
        "By default, the start node is `'S'`, and the goal node `'G'`:"
      ],
      "metadata": {
        "id": "iECpQUQKkMQP"
      }
    },
    {
      "cell_type": "code",
      "source": [
        "print('start:', graph.start)\n",
        "print('goal:', graph.goal)"
      ],
      "metadata": {
        "colab": {
          "base_uri": "https://localhost:8080/"
        },
        "id": "9hq9AapggxZM",
        "outputId": "ae3c624c-8eaa-4e09-e897-8d210174e156"
      },
      "execution_count": null,
      "outputs": [
        {
          "output_type": "stream",
          "name": "stdout",
          "text": [
            "start: S\n",
            "goal: G\n"
          ]
        }
      ]
    },
    {
      "cell_type": "markdown",
      "source": [
        "The nodes are stored in attribute `vertices`:"
      ],
      "metadata": {
        "id": "FpvF80KNkcEp"
      }
    },
    {
      "cell_type": "code",
      "source": [
        "graph.vertices"
      ],
      "metadata": {
        "colab": {
          "base_uri": "https://localhost:8080/"
        },
        "id": "taUWlIVkkegC",
        "outputId": "22c7c1f9-7fa7-47b2-9f0e-b222e4dd1e35"
      },
      "execution_count": null,
      "outputs": [
        {
          "output_type": "execute_result",
          "data": {
            "text/plain": [
              "NodeView(('B', 'E', 'F', 'C', 'A', 'D', 'G', 'S'))"
            ]
          },
          "metadata": {},
          "execution_count": 11
        }
      ]
    },
    {
      "cell_type": "markdown",
      "source": [
        "The edges in attribute `edges`:"
      ],
      "metadata": {
        "id": "kkjUr3O8kjZ0"
      }
    },
    {
      "cell_type": "code",
      "source": [
        "graph.edges"
      ],
      "metadata": {
        "colab": {
          "base_uri": "https://localhost:8080/"
        },
        "id": "NFCpgtn_kmmM",
        "outputId": "5184efae-858d-4ef8-9a98-c51c7b8eecba"
      },
      "execution_count": null,
      "outputs": [
        {
          "output_type": "execute_result",
          "data": {
            "text/plain": [
              "EdgeView([('B', 'A'), ('B', 'E'), ('B', 'C'), ('E', 'D'), ('E', 'F'), ('F', 'G'), ('A', 'S'), ('A', 'D'), ('D', 'S')])"
            ]
          },
          "metadata": {},
          "execution_count": 12
        }
      ]
    },
    {
      "cell_type": "markdown",
      "source": [
        "These `NodeView` and `EdgeView` objects are datatypes that are used in Python package [networkx](https://networkx.org/). The `Graph` class actually is a wrapper around the networkx' `Graph` class:"
      ],
      "metadata": {
        "id": "4-c4zpu5kp8j"
      }
    },
    {
      "cell_type": "code",
      "source": [
        "graph.graph"
      ],
      "metadata": {
        "colab": {
          "base_uri": "https://localhost:8080/"
        },
        "id": "WndGx-v9k-cs",
        "outputId": "91d888cf-7010-429f-b574-e74a8bc24be8"
      },
      "execution_count": null,
      "outputs": [
        {
          "output_type": "execute_result",
          "data": {
            "text/plain": [
              "<networkx.classes.graph.Graph at 0x7fe4847aac40>"
            ]
          },
          "metadata": {},
          "execution_count": 14
        }
      ]
    },
    {
      "cell_type": "markdown",
      "source": [
        "## Depth-first search"
      ],
      "metadata": {
        "id": "2NpllkHkl1Pa"
      }
    },
    {
      "cell_type": "markdown",
      "source": [
        "To apply a search algorithm in order to find a path from start node `'S'` to goal node `'G'`, we simply invoke method `search` on the `Graph` object and pass the class of the algorithm we want to use. In this case, we want to apply depth-first search, so we pass class `DFS`:"
      ],
      "metadata": {
        "id": "Ps56IjO1mOXE"
      }
    },
    {
      "cell_type": "code",
      "source": [
        "path = graph.search(DFS)  # DFS is the class implementing depth-first search\n",
        "print('Path found:', path)"
      ],
      "metadata": {
        "colab": {
          "base_uri": "https://localhost:8080/"
        },
        "id": "n1WpIGbBmhR3",
        "outputId": "8cf5aa93-7d9a-443d-f389-b0e9f4695f5a"
      },
      "execution_count": null,
      "outputs": [
        {
          "output_type": "stream",
          "name": "stdout",
          "text": [
            "ALGORITHM: Depth-first search\n",
            "RESULT: SUCCES\n",
            "Elapsed time: 0.0013539791107177734 seconds\n",
            "Number of iterations: 7\n",
            "Maximum length of queue: 4\n",
            "Path found: SABEFG\n"
          ]
        }
      ]
    },
    {
      "cell_type": "markdown",
      "source": [
        "We see that DFS has succesfully found the path `SABEFG`. Why has it found this specific path? First, we need to check the production rules, in this case, the order in which the nodes are selected:"
      ],
      "metadata": {
        "id": "3HpFnN_emr2q"
      }
    },
    {
      "cell_type": "code",
      "source": [
        "graph.rules"
      ],
      "metadata": {
        "colab": {
          "base_uri": "https://localhost:8080/"
        },
        "id": "V4l6seHvnsVv",
        "outputId": "a3a45516-53e1-4d1c-b2ce-43053a4567d4"
      },
      "execution_count": null,
      "outputs": [
        {
          "output_type": "execute_result",
          "data": {
            "text/plain": [
              "[A, B, C, D, E, F, G, S]"
            ]
          },
          "metadata": {},
          "execution_count": 26
        }
      ]
    },
    {
      "cell_type": "markdown",
      "source": [
        "It is clear that the nodes are sorted alphabetically. Suppose we want to reverse the order, then we can use static method `create_all` from class `ProductionRule`:"
      ],
      "metadata": {
        "id": "OA75oOv0nxTC"
      }
    },
    {
      "cell_type": "code",
      "source": [
        "graph.rules = ProductionRule.create_all(graph, reverse=True)  # set reverse to True to sort in descending order\n",
        "graph.rules"
      ],
      "metadata": {
        "colab": {
          "base_uri": "https://localhost:8080/"
        },
        "id": "CvOcleFCoWs4",
        "outputId": "fe117930-c456-4fa4-fb7a-7e9753ccf2ca"
      },
      "execution_count": null,
      "outputs": [
        {
          "output_type": "execute_result",
          "data": {
            "text/plain": [
              "[S, G, F, E, D, C, B, A]"
            ]
          },
          "metadata": {},
          "execution_count": 27
        }
      ]
    },
    {
      "cell_type": "markdown",
      "source": [
        "Let's search again applying these new rules:"
      ],
      "metadata": {
        "id": "fJT6z6-_odF3"
      }
    },
    {
      "cell_type": "code",
      "source": [
        "graph.search(DFS)"
      ],
      "metadata": {
        "colab": {
          "base_uri": "https://localhost:8080/"
        },
        "id": "aZe-swX-oiO4",
        "outputId": "2c6a9468-8bea-4769-ea4b-0b8821044934"
      },
      "execution_count": null,
      "outputs": [
        {
          "output_type": "stream",
          "name": "stdout",
          "text": [
            "ALGORITHM: Depth-first search\n",
            "RESULT: SUCCES\n",
            "Elapsed time: 0.002025127410888672 seconds\n",
            "Number of iterations: 4\n",
            "Maximum length of queue: 4\n"
          ]
        },
        {
          "output_type": "execute_result",
          "data": {
            "text/plain": [
              "SDEFG"
            ]
          },
          "metadata": {},
          "execution_count": 28
        }
      ]
    },
    {
      "cell_type": "markdown",
      "source": [
        "This gives a different path indeed. Do you understand why? In trying to understand how the algorithm works, it may be useful to print the queue for each iteration, in a similar way as is done in the slides:"
      ],
      "metadata": {
        "id": "yYk72CNRol_D"
      }
    },
    {
      "cell_type": "code",
      "source": [
        "path = graph.search(DFS, print_queue=True)  # set print_queue to True\n",
        "print('Path found:', path)"
      ],
      "metadata": {
        "colab": {
          "base_uri": "https://localhost:8080/"
        },
        "id": "H7D3HDsappXp",
        "outputId": "96a14f7c-9483-416d-9d0e-d50bf04c32f8"
      },
      "execution_count": null,
      "outputs": [
        {
          "output_type": "stream",
          "name": "stdout",
          "text": [
            "Initial queue:\n",
            "[S]\n",
            "\n",
            "Iteration 1\n",
            "Path removed from queue:\n",
            "S\n",
            "New paths:\n",
            "[SD,SA]\n",
            "Paths in queue:\n",
            "[SD,SA]\n",
            "\n",
            "Iteration 2\n",
            "Path removed from queue:\n",
            "SD\n",
            "New paths:\n",
            "[SDE,SDA]\n",
            "Paths in queue:\n",
            "[SDE,SDA,SA]\n",
            "\n",
            "Iteration 3\n",
            "Path removed from queue:\n",
            "SDE\n",
            "New paths:\n",
            "[SDEF,SDEB]\n",
            "Paths in queue:\n",
            "[SDEF,SDEB,SDA,SA]\n",
            "\n",
            "Iteration 4\n",
            "Path removed from queue:\n",
            "SDEF\n",
            "New paths:\n",
            "[SDEFG]\n",
            "Paths in queue:\n",
            "[SDEFG,SDEB,SDA,SA]\n",
            "\n",
            "Path to goal found in new paths:\n",
            "SDEFG\n",
            "\n",
            "ALGORITHM: Depth-first search\n",
            "RESULT: SUCCES\n",
            "Elapsed time: 0.001588582992553711 seconds\n",
            "Number of iterations: 4\n",
            "Maximum length of queue: 4\n",
            "Path found: SDEFG\n"
          ]
        }
      ]
    },
    {
      "cell_type": "markdown",
      "source": [
        "We see that the algorithm indeed selects the nodes in descending alphabetical order. We also see that the algorithm applies the **last in first out** (LIFO) principle: the new paths that are last added to the queue are removed first!"
      ],
      "metadata": {
        "id": "aKMIXjegp1om"
      }
    },
    {
      "cell_type": "markdown",
      "source": [
        "Resetting the `rules` to the default ascending alphabetical order:"
      ],
      "metadata": {
        "id": "RYZKwmyLqchs"
      }
    },
    {
      "cell_type": "code",
      "source": [
        "graph.rules = ProductionRule.create_all(graph)  # default is ascending alphabetical order\n",
        "graph.rules"
      ],
      "metadata": {
        "colab": {
          "base_uri": "https://localhost:8080/"
        },
        "id": "oTSA_6IeqdBV",
        "outputId": "b9986a6b-a978-448c-bd13-fa67a9af0ee7"
      },
      "execution_count": null,
      "outputs": [
        {
          "output_type": "execute_result",
          "data": {
            "text/plain": [
              "[A, B, C, D, E, F, G, S]"
            ]
          },
          "metadata": {},
          "execution_count": 30
        }
      ]
    },
    {
      "cell_type": "markdown",
      "source": [
        "Searching again while displaying the intermediate queues:"
      ],
      "metadata": {
        "id": "k638ypAHqqLS"
      }
    },
    {
      "cell_type": "code",
      "source": [
        "path = graph.search(DFS, print_queue=True)\n",
        "print('Path found:', path)"
      ],
      "metadata": {
        "colab": {
          "base_uri": "https://localhost:8080/"
        },
        "id": "IV0CKGcpq0Wc",
        "outputId": "39e4ae8d-849e-4d67-eed7-6a88c4e9b421"
      },
      "execution_count": null,
      "outputs": [
        {
          "output_type": "stream",
          "name": "stdout",
          "text": [
            "Initial queue:\n",
            "[S]\n",
            "\n",
            "Iteration 1\n",
            "Path removed from queue:\n",
            "S\n",
            "New paths:\n",
            "[SA,SD]\n",
            "Paths in queue:\n",
            "[SA,SD]\n",
            "\n",
            "Iteration 2\n",
            "Path removed from queue:\n",
            "SA\n",
            "New paths:\n",
            "[SAB,SAD]\n",
            "Paths in queue:\n",
            "[SAB,SAD,SD]\n",
            "\n",
            "Iteration 3\n",
            "Path removed from queue:\n",
            "SAB\n",
            "New paths:\n",
            "[SABC,SABE]\n",
            "Paths in queue:\n",
            "[SABC,SABE,SAD,SD]\n",
            "\n",
            "Iteration 4\n",
            "Path removed from queue:\n",
            "SABC\n",
            "New paths:\n",
            "[]\n",
            "Paths in queue:\n",
            "[SABE,SAD,SD]\n",
            "\n",
            "Iteration 5\n",
            "Path removed from queue:\n",
            "SABE\n",
            "New paths:\n",
            "[SABED,SABEF]\n",
            "Paths in queue:\n",
            "[SABED,SABEF,SAD,SD]\n",
            "\n",
            "Iteration 6\n",
            "Path removed from queue:\n",
            "SABED\n",
            "New paths:\n",
            "[]\n",
            "Paths in queue:\n",
            "[SABEF,SAD,SD]\n",
            "\n",
            "Iteration 7\n",
            "Path removed from queue:\n",
            "SABEF\n",
            "New paths:\n",
            "[SABEFG]\n",
            "Paths in queue:\n",
            "[SABEFG,SAD,SD]\n",
            "\n",
            "Path to goal found in new paths:\n",
            "SABEFG\n",
            "\n",
            "ALGORITHM: Depth-first search\n",
            "RESULT: SUCCES\n",
            "Elapsed time: 0.005633831024169922 seconds\n",
            "Number of iterations: 7\n",
            "Maximum length of queue: 4\n",
            "Path found: SABEFG\n"
          ]
        }
      ]
    },
    {
      "cell_type": "markdown",
      "source": [
        "This result is exactly the same as for the DFS example discussed in the slides!"
      ],
      "metadata": {
        "id": "__BHwA-RrWX9"
      }
    },
    {
      "cell_type": "markdown",
      "source": [
        "## Breadth-first search"
      ],
      "metadata": {
        "id": "qf9ziHKzsFTv"
      }
    },
    {
      "cell_type": "markdown",
      "source": [
        "If we want to apply breadth-first search, then we need to pass class `BFS` to method `search`:"
      ],
      "metadata": {
        "id": "0l3ay_Z1sOJu"
      }
    },
    {
      "cell_type": "code",
      "source": [
        "path = graph.search(BFS)  # class BFS implements breadth-first search\n",
        "print('Path found:', path)"
      ],
      "metadata": {
        "colab": {
          "base_uri": "https://localhost:8080/"
        },
        "id": "CXhTn2C5sWZ1",
        "outputId": "9eb210f6-610d-48d8-a30a-3c79473f3755"
      },
      "execution_count": null,
      "outputs": [
        {
          "output_type": "stream",
          "name": "stdout",
          "text": [
            "ALGORITHM: Breadth-first search\n",
            "RESULT: SUCCES\n",
            "Elapsed time: 0.0017497539520263672 seconds\n",
            "Number of iterations: 13\n",
            "Maximum length of queue: 9\n",
            "Path found: SDEFG\n"
          ]
        }
      ]
    },
    {
      "cell_type": "markdown",
      "source": [
        "Nice! BFS finds the **shortest path**, which has the minimum number of nodes! Is that always the case? Yes! Next topic will explain why!"
      ],
      "metadata": {
        "id": "u2Mye0MLspp2"
      }
    },
    {
      "cell_type": "markdown",
      "source": [
        "Re-running the algorithm and this time printing the intermediate queues gives us the entire solution (from which the slides only show the first steps and the final step):"
      ],
      "metadata": {
        "id": "_Fh_L3oStI8y"
      }
    },
    {
      "cell_type": "code",
      "source": [
        "path = graph.search(BFS, print_queue=True)\n",
        "print('Path found:', path)"
      ],
      "metadata": {
        "colab": {
          "base_uri": "https://localhost:8080/"
        },
        "id": "OIi70NHWtQQs",
        "outputId": "ba01ed83-60c7-4a63-9e22-660a99e81228"
      },
      "execution_count": null,
      "outputs": [
        {
          "output_type": "stream",
          "name": "stdout",
          "text": [
            "Initial queue:\n",
            "[S]\n",
            "\n",
            "Iteration 1\n",
            "Path removed from queue:\n",
            "S\n",
            "New paths:\n",
            "[SA,SD]\n",
            "Paths in queue:\n",
            "[SA,SD]\n",
            "\n",
            "Iteration 2\n",
            "Path removed from queue:\n",
            "SA\n",
            "New paths:\n",
            "[SAB,SAD]\n",
            "Paths in queue:\n",
            "[SD,SAB,SAD]\n",
            "\n",
            "Iteration 3\n",
            "Path removed from queue:\n",
            "SD\n",
            "New paths:\n",
            "[SDA,SDE]\n",
            "Paths in queue:\n",
            "[SAB,SAD,SDA,SDE]\n",
            "\n",
            "Iteration 4\n",
            "Path removed from queue:\n",
            "SAB\n",
            "New paths:\n",
            "[SABC,SABE]\n",
            "Paths in queue:\n",
            "[SAD,SDA,SDE,SABC,SABE]\n",
            "\n",
            "Iteration 5\n",
            "Path removed from queue:\n",
            "SAD\n",
            "New paths:\n",
            "[SADE]\n",
            "Paths in queue:\n",
            "[SDA,SDE,SABC,SABE,SADE]\n",
            "\n",
            "Iteration 6\n",
            "Path removed from queue:\n",
            "SDA\n",
            "New paths:\n",
            "[SDAB]\n",
            "Paths in queue:\n",
            "[SDE,SABC,SABE,SADE,SDAB]\n",
            "\n",
            "Iteration 7\n",
            "Path removed from queue:\n",
            "SDE\n",
            "New paths:\n",
            "[SDEB,SDEF]\n",
            "Paths in queue:\n",
            "[SABC,SABE,SADE,SDAB,SDEB,SDEF]\n",
            "\n",
            "Iteration 8\n",
            "Path removed from queue:\n",
            "SABC\n",
            "New paths:\n",
            "[]\n",
            "Paths in queue:\n",
            "[SABE,SADE,SDAB,SDEB,SDEF]\n",
            "\n",
            "Iteration 9\n",
            "Path removed from queue:\n",
            "SABE\n",
            "New paths:\n",
            "[SABED,SABEF]\n",
            "Paths in queue:\n",
            "[SADE,SDAB,SDEB,SDEF,SABED,SABEF]\n",
            "\n",
            "Iteration 10\n",
            "Path removed from queue:\n",
            "SADE\n",
            "New paths:\n",
            "[SADEB,SADEF]\n",
            "Paths in queue:\n",
            "[SDAB,SDEB,SDEF,SABED,SABEF,SADEB,SADEF]\n",
            "\n",
            "Iteration 11\n",
            "Path removed from queue:\n",
            "SDAB\n",
            "New paths:\n",
            "[SDABC,SDABE]\n",
            "Paths in queue:\n",
            "[SDEB,SDEF,SABED,SABEF,SADEB,SADEF,SDABC,SDABE]\n",
            "\n",
            "Iteration 12\n",
            "Path removed from queue:\n",
            "SDEB\n",
            "New paths:\n",
            "[SDEBA,SDEBC]\n",
            "Paths in queue:\n",
            "[SDEF,SABED,SABEF,SADEB,SADEF,SDABC,SDABE,SDEBA,SDEBC]\n",
            "\n",
            "Iteration 13\n",
            "Path removed from queue:\n",
            "SDEF\n",
            "New paths:\n",
            "[SDEFG]\n",
            "Paths in queue:\n",
            "[SABED,SABEF,SADEB,SADEF,SDABC,SDABE,SDEBA,SDEBC,SDEFG]\n",
            "\n",
            "Path to goal found in new paths:\n",
            "SDEFG\n",
            "\n",
            "ALGORITHM: Breadth-first search\n",
            "RESULT: SUCCES\n",
            "Elapsed time: 0.024992704391479492 seconds\n",
            "Number of iterations: 13\n",
            "Maximum length of queue: 9\n",
            "Path found: SDEFG\n"
          ]
        }
      ]
    },
    {
      "cell_type": "markdown",
      "source": [
        "What we see here is that BFS applies the principle of **first in first out** (FIFO): the paths that are removed first from the queue were added first!"
      ],
      "metadata": {
        "id": "LgmuK04BvxNd"
      }
    },
    {
      "cell_type": "markdown",
      "source": [
        "If you are not convinced that BFS always finds the shortest path, just do the test! Shuffle the nodes in `rules `randomly, re-run BFS, and you'll see!"
      ],
      "metadata": {
        "id": "RJsh3l75uHlA"
      }
    },
    {
      "cell_type": "code",
      "source": [
        "from random import shuffle\n",
        "\n",
        "shuffle(graph.rules)  # shuffle list randomly\n",
        "graph.rules"
      ],
      "metadata": {
        "colab": {
          "base_uri": "https://localhost:8080/"
        },
        "id": "EQxXvD1luG8c",
        "outputId": "c21fa805-1b9b-4e71-9625-70d2e6ff26c2"
      },
      "execution_count": null,
      "outputs": [
        {
          "output_type": "execute_result",
          "data": {
            "text/plain": [
              "[E, B, G, D, S, F, C, A]"
            ]
          },
          "metadata": {},
          "execution_count": 35
        }
      ]
    },
    {
      "cell_type": "code",
      "source": [
        "path = graph.search(BFS)\n",
        "print('Path found:', path)"
      ],
      "metadata": {
        "colab": {
          "base_uri": "https://localhost:8080/"
        },
        "id": "-ktcS0W0uk5K",
        "outputId": "b895d61c-01d5-4c14-c70d-08ca49889c24"
      },
      "execution_count": null,
      "outputs": [
        {
          "output_type": "stream",
          "name": "stdout",
          "text": [
            "ALGORITHM: Breadth-first search\n",
            "RESULT: SUCCES\n",
            "Elapsed time: 0.0014102458953857422 seconds\n",
            "Number of iterations: 9\n",
            "Maximum length of queue: 7\n",
            "Path found: SDEFG\n"
          ]
        }
      ]
    },
    {
      "cell_type": "markdown",
      "source": [
        "## Maze"
      ],
      "metadata": {
        "id": "XN-8kNFqwVmE"
      }
    },
    {
      "cell_type": "markdown",
      "source": [
        "Of course DFS and BFS can also be applied to find a path in a maze! Let's try this out on the simple 3x3 maze we've been using to explain the concepts of the state space representation:"
      ],
      "metadata": {
        "id": "T0L06tHfwX0H"
      }
    },
    {
      "cell_type": "code",
      "source": [
        "maze = Maze.create([\"*..\",\n",
        "                    \".#.\",\n",
        "                    \"..o\"])\n",
        "maze"
      ],
      "metadata": {
        "colab": {
          "base_uri": "https://localhost:8080/"
        },
        "id": "Ksza7Xlb0OWc",
        "outputId": "0e79daec-3534-4d05-8338-7567294b761e"
      },
      "execution_count": null,
      "outputs": [
        {
          "output_type": "execute_result",
          "data": {
            "text/plain": [
              "*..\n",
              ".#.\n",
              "..o"
            ]
          },
          "metadata": {},
          "execution_count": 50
        }
      ]
    },
    {
      "cell_type": "markdown",
      "source": [
        "Recall that the maze is visualized calling method `plot`:"
      ],
      "metadata": {
        "id": "6aF5ecJt250V"
      }
    },
    {
      "cell_type": "code",
      "source": [
        "maze.plot()"
      ],
      "metadata": {
        "colab": {
          "base_uri": "https://localhost:8080/",
          "height": 409
        },
        "id": "nQRofPBe3BAa",
        "outputId": "68bfacc8-fd7c-49ad-92b0-b3154ab26de8"
      },
      "execution_count": null,
      "outputs": [
        {
          "output_type": "display_data",
          "data": {
            "text/plain": [
              "<Figure size 480x480 with 1 Axes>"
            ],
            "image/png": "[encoded data removed]"
          },
          "metadata": {}
        }
      ]
    },
    {
      "cell_type": "markdown",
      "source": [
        "Like class `Graph`, class `Maze` also has a `search` method (which they both inherit from a common superclass):"
      ],
      "metadata": {
        "id": "mg4Row_Q0RjH"
      }
    },
    {
      "cell_type": "code",
      "source": [
        "path = maze.search(DFS, print_queue=True)"
      ],
      "metadata": {
        "colab": {
          "base_uri": "https://localhost:8080/"
        },
        "id": "RRNlXU7k0gMx",
        "outputId": "c4764895-b01d-48d9-bcb9-73a4334d4dd7"
      },
      "execution_count": null,
      "outputs": [
        {
          "output_type": "stream",
          "name": "stdout",
          "text": [
            "Initial queue:\n",
            "x..  \n",
            ".#.  \n",
            "..o  \n",
            "\n",
            "Iteration 1\n",
            "Path removed from queue:\n",
            "x..\n",
            ".#.\n",
            "..o\n",
            "New paths:\n",
            "xx.  x..  \n",
            ".#.  x#.  \n",
            "..o  ..o  \n",
            "Paths in queue:\n",
            "xx.  x..  \n",
            ".#.  x#.  \n",
            "..o  ..o  \n",
            "\n",
            "Iteration 2\n",
            "Path removed from queue:\n",
            "xx.\n",
            ".#.\n",
            "..o\n",
            "New paths:\n",
            "xxx  \n",
            ".#.  \n",
            "..o  \n",
            "Paths in queue:\n",
            "xxx  x..  \n",
            ".#.  x#.  \n",
            "..o  ..o  \n",
            "\n",
            "Iteration 3\n",
            "Path removed from queue:\n",
            "xxx\n",
            ".#.\n",
            "..o\n",
            "New paths:\n",
            "xxx  \n",
            ".#x  \n",
            "..o  \n",
            "Paths in queue:\n",
            "xxx  x..  \n",
            ".#x  x#.  \n",
            "..o  ..o  \n",
            "\n",
            "Iteration 4\n",
            "Path removed from queue:\n",
            "xxx\n",
            ".#x\n",
            "..o\n",
            "New paths:\n",
            "xxx  \n",
            ".#x  \n",
            "..x  \n",
            "Paths in queue:\n",
            "xxx  x..  \n",
            ".#x  x#.  \n",
            "..x  ..o  \n",
            "\n",
            "Path to goal found in new paths:\n",
            "xxx\n",
            ".#x\n",
            "..x\n",
            "\n",
            "ALGORITHM: Depth-first search\n",
            "RESULT: SUCCES\n",
            "Elapsed time: 0.01858353614807129 seconds\n",
            "Number of iterations: 4\n",
            "Maximum length of queue: 2\n"
          ]
        }
      ]
    },
    {
      "cell_type": "markdown",
      "source": [
        "Recall that we can visualize the maze and the found path by calling method `plot` on the `Path` object:"
      ],
      "metadata": {
        "id": "JPy0G9Py1FKC"
      }
    },
    {
      "cell_type": "code",
      "source": [
        "path.plot()"
      ],
      "metadata": {
        "colab": {
          "base_uri": "https://localhost:8080/",
          "height": 409
        },
        "id": "mJIVXnPO1TU5",
        "outputId": "6cd3d923-7ab3-45f2-d9ac-00c4e2a59a9f"
      },
      "execution_count": null,
      "outputs": [
        {
          "output_type": "display_data",
          "data": {
            "text/plain": [
              "<Figure size 480x480 with 1 Axes>"
            ],
            "image/png": "[encoded data removed]"
          },
          "metadata": {}
        }
      ]
    },
    {
      "cell_type": "markdown",
      "source": [
        "Does BFS find the same path? Or will it choose the path that first goes down?"
      ],
      "metadata": {
        "id": "87F8fvtJ1YfT"
      }
    },
    {
      "cell_type": "code",
      "source": [
        "maze.search(BFS).plot()"
      ],
      "metadata": {
        "colab": {
          "base_uri": "https://localhost:8080/",
          "height": 499
        },
        "id": "P0ruYiOR1krR",
        "outputId": "6f456d02-2f60-419d-a2e0-1edabbbfcc9e"
      },
      "execution_count": null,
      "outputs": [
        {
          "output_type": "stream",
          "name": "stdout",
          "text": [
            "ALGORITHM: Breadth-first search\n",
            "RESULT: SUCCES\n",
            "Elapsed time: 0.002200603485107422 seconds\n",
            "Number of iterations: 6\n",
            "Maximum length of queue: 2\n"
          ]
        },
        {
          "output_type": "display_data",
          "data": {
            "text/plain": [
              "<Figure size 480x480 with 1 Axes>"
            ],
            "image/png": "[encoded data removed]"
          },
          "metadata": {}
        }
      ]
    },
    {
      "cell_type": "markdown",
      "source": [
        "It finds the same path! Check the intermediate results to understand why!"
      ],
      "metadata": {
        "id": "fJFRpQFJ1sWT"
      }
    },
    {
      "cell_type": "markdown",
      "source": [
        "Suppose now that we want to find the other path going down first, then we need to change the production rules. Recall that these `rules` are the conventional \"left, right, up, down\" by default:"
      ],
      "metadata": {
        "id": "pkJI0FoU16NF"
      }
    },
    {
      "cell_type": "code",
      "source": [
        "maze.rules  # Left, Right, Up, Down by convention!"
      ],
      "metadata": {
        "colab": {
          "base_uri": "https://localhost:8080/"
        },
        "id": "ayhDPzxK2CD3",
        "outputId": "c6112bfc-8353-425c-aa1a-0a2001863d77"
      },
      "execution_count": null,
      "outputs": [
        {
          "output_type": "execute_result",
          "data": {
            "text/plain": [
              "[L, R, U, D]"
            ]
          },
          "metadata": {},
          "execution_count": 44
        }
      ]
    },
    {
      "cell_type": "markdown",
      "source": [
        "Changing these `rules` and setting `Up()` in front will do the job:"
      ],
      "metadata": {
        "id": "EQlwcGNw2P0b"
      }
    },
    {
      "cell_type": "code",
      "source": [
        "maze.rules = [Down(), Right(), Up(), Left()]  # contains instances, not classes!\n",
        "maze.search(BFS).plot()"
      ],
      "metadata": {
        "colab": {
          "base_uri": "https://localhost:8080/",
          "height": 499
        },
        "id": "rWYp1AGI2Jnb",
        "outputId": "7cebe5f8-07aa-4270-986e-60149d3ed75e"
      },
      "execution_count": null,
      "outputs": [
        {
          "output_type": "stream",
          "name": "stdout",
          "text": [
            "ALGORITHM: Breadth-first search\n",
            "RESULT: SUCCES\n",
            "Elapsed time: 0.0020334720611572266 seconds\n",
            "Number of iterations: 6\n",
            "Maximum length of queue: 2\n"
          ]
        },
        {
          "output_type": "display_data",
          "data": {
            "text/plain": [
              "<Figure size 480x480 with 1 Axes>"
            ],
            "image/png": "[encoded data removed]"
          },
          "metadata": {}
        }
      ]
    },
    {
      "cell_type": "markdown",
      "source": [
        "Of course the same path is found applying DFS:"
      ],
      "metadata": {
        "id": "YNQzi-wC2ukU"
      }
    },
    {
      "cell_type": "code",
      "source": [
        "maze.search(DFS).plot()"
      ],
      "metadata": {
        "colab": {
          "base_uri": "https://localhost:8080/",
          "height": 499
        },
        "id": "ysCfRxFF2aJU",
        "outputId": "642fcf26-49db-4f39-bf1c-aab84f192529"
      },
      "execution_count": null,
      "outputs": [
        {
          "output_type": "stream",
          "name": "stdout",
          "text": [
            "ALGORITHM: Depth-first search\n",
            "RESULT: SUCCES\n",
            "Elapsed time: 0.0008156299591064453 seconds\n",
            "Number of iterations: 4\n",
            "Maximum length of queue: 2\n"
          ]
        },
        {
          "output_type": "display_data",
          "data": {
            "text/plain": [
              "<Figure size 480x480 with 1 Axes>"
            ],
            "image/png": "[encoded data removed]"
          },
          "metadata": {}
        }
      ]
    },
    {
      "cell_type": "markdown",
      "source": [
        "## Exercise"
      ],
      "metadata": {
        "id": "2VizLsc3pdbO"
      }
    },
    {
      "cell_type": "markdown",
      "source": [
        "Recall that we can create a random maze using static method `create_random` of the `Maze` class:"
      ],
      "metadata": {
        "id": "6IEKGfIKpzJb"
      }
    },
    {
      "cell_type": "code",
      "source": [
        "maze = Maze.create_random(size=5,         # number of rows = number of columns\n",
        "                          num_of_walls=6, # number of 'forbidden' barriers or walls\n",
        "                          seed=0)         # random seed\n",
        "maze.plot()"
      ],
      "metadata": {
        "colab": {
          "base_uri": "https://localhost:8080/",
          "height": 409
        },
        "id": "AaDsdR02tAEn",
        "outputId": "9fd4b1ce-7f36-4bbe-b79d-a4a5892824f6"
      },
      "execution_count": null,
      "outputs": [
        {
          "output_type": "display_data",
          "data": {
            "text/plain": [
              "<Figure size 480x480 with 1 Axes>"
            ],
            "image/png": "[encoded data removed]"
          },
          "metadata": {}
        }
      ]
    },
    {
      "cell_type": "markdown",
      "source": [
        "Try to predict the path that DFS and BFS will find for this maze applying the convential production rules.\n",
        "\n",
        "Check your solution using method `maze.search`..."
      ],
      "metadata": {
        "id": "VFwnU-1R30Pa"
      }
    },
    {
      "cell_type": "code",
      "source": [],
      "metadata": {
        "id": "52sbqfFOfXNx"
      },
      "execution_count": null,
      "outputs": []
    },
    {
      "cell_type": "markdown",
      "source": [
        "---"
      ],
      "metadata": {
        "id": "g6aG7LbMr2cI"
      }
    }
  ]
}