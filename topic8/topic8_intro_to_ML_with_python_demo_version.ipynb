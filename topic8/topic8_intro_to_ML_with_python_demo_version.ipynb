{
  "nbformat": 4,
  "nbformat_minor": 0,
  "metadata": {
    "colab": {
      "provenance": [],
      "toc_visible": true,
      "authorship_tag": "ABX9TyOWVE/EkKfbJYZrL+8SXmUL",
      "include_colab_link": true
    },
    "kernelspec": {
      "name": "python3",
      "display_name": "Python 3"
    },
    "language_info": {
      "name": "python"
    }
  },
  "cells": [
    {
      "cell_type": "markdown",
      "metadata": {
        "id": "view-in-github",
        "colab_type": "text"
      },
      "source": [
        "<a href=\"https://colab.research.google.com/github/alouwyck/vives-intro-to-ai/blob/main/topic8/topic8_intro_to_ML_with_python_demo_version.ipynb\" target=\"_parent\"><img src=\"https://colab.research.google.com/assets/colab-badge.svg\" alt=\"Open In Colab\"/></a>"
      ]
    },
    {
      "cell_type": "markdown",
      "metadata": {
        "id": "1N1kqUSWctSM"
      },
      "source": [
        "<img src=\"data:image/png;base64,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\" align=\"right\" /><br>\n",
        "\n",
        "\n",
        "**INTRODUCTION TO ARTIFICIAL INTELLIGENCE**<br>\n",
        "VIVES BUSINESS ACADEMY<br>\n",
        "Academic Year 2023-2024<br>\n",
        "Andy Louwyck\n",
        "\n",
        "---\n",
        "\n",
        "\n",
        "\n",
        "---\n",
        "\n"
      ]
    },
    {
      "cell_type": "markdown",
      "metadata": {
        "id": "H-KkWI-G73CE"
      },
      "source": [
        "# **INTRODUCTION TO MACHINE LEARNING WITH PYTHON**"
      ]
    },
    {
      "cell_type": "markdown",
      "source": [
        "## **Python libraries**"
      ],
      "metadata": {
        "id": "vUZNY65q76E0"
      }
    },
    {
      "cell_type": "code",
      "execution_count": null,
      "metadata": {
        "id": "8_1dJHyy8jHr"
      },
      "outputs": [],
      "source": [
        "import numpy as np  # numeric python\n",
        "import pandas as pd  # python data analysis library\n",
        "import matplotlib.pyplot as plt  # python library for visualizations\n",
        "plt.rcParams[\"figure.dpi\"] = 80  # set figure dpi"
      ]
    },
    {
      "cell_type": "markdown",
      "source": [
        "## **Pandas**"
      ],
      "metadata": {
        "id": "t5P5j7YD-2ek"
      }
    },
    {
      "cell_type": "markdown",
      "source": [
        "For structured data = tables = DataFrames."
      ],
      "metadata": {
        "id": "HJbLlIwbB__q"
      }
    },
    {
      "cell_type": "code",
      "source": [
        "data = dict(\n",
        "    day=['Monday', 'Tuesday', 'Wednesday', 'Thursday', 'Friday', 'Saturday', 'Sunday'],\n",
        "    temperature=[15, 10, 12, 18, 16, 11, 17],  # in degrees Celcius\n",
        "    rain=[3.1, 0.0, 0.2, 2.1, 1.0, 0.0, np.nan],  # in mm\n",
        "    wind=['strong', 'mild', 'mild', 'mild', 'strong', 'mild', pd.NA]\n",
        ")\n",
        "\n",
        "df = pd.DataFrame(data)\n",
        "df"
      ],
      "metadata": {
        "id": "04M59lMNQqmZ"
      },
      "execution_count": null,
      "outputs": []
    },
    {
      "cell_type": "markdown",
      "source": [
        "Checking the data type:"
      ],
      "metadata": {
        "id": "DwJJD8P0qxOM"
      }
    },
    {
      "cell_type": "code",
      "source": [
        "print(type(df))"
      ],
      "metadata": {
        "id": "sBvZupnbq27-"
      },
      "execution_count": null,
      "outputs": []
    },
    {
      "cell_type": "markdown",
      "source": [
        "Checking if there are missing values:"
      ],
      "metadata": {
        "id": "IYUhY-AlmXrk"
      }
    },
    {
      "cell_type": "code",
      "source": [
        "np.any(df.isna())  # np.any returns true if at least one element is True"
      ],
      "metadata": {
        "id": "m7bzbCLqtM7d"
      },
      "execution_count": null,
      "outputs": []
    },
    {
      "cell_type": "markdown",
      "source": [
        "The `info` method gives an overview:"
      ],
      "metadata": {
        "id": "xnRx2TVi-cEw"
      }
    },
    {
      "cell_type": "code",
      "source": [
        "df.info()"
      ],
      "metadata": {
        "id": "ljPsx6b2-kdF"
      },
      "execution_count": null,
      "outputs": []
    },
    {
      "cell_type": "markdown",
      "source": [
        "By invoking method `describe`, we get the descriptive statistics of the numerical variables:"
      ],
      "metadata": {
        "id": "lzE_C2VmtCQr"
      }
    },
    {
      "cell_type": "code",
      "source": [
        "df.describe().T  # use .T to transpose the output"
      ],
      "metadata": {
        "id": "vs7leCGVl1_u"
      },
      "execution_count": null,
      "outputs": []
    },
    {
      "cell_type": "markdown",
      "source": [
        "It is also possible to plot these numerical variables:"
      ],
      "metadata": {
        "id": "f8Tsc3ArmgFe"
      }
    },
    {
      "cell_type": "code",
      "source": [
        "df.plot();\n",
        "plt.grid();"
      ],
      "metadata": {
        "id": "wKFGZ_iomGY-"
      },
      "execution_count": null,
      "outputs": []
    },
    {
      "cell_type": "markdown",
      "source": [
        "Selecting a specific column can be done in two ways:"
      ],
      "metadata": {
        "id": "4tGLYhptmz30"
      }
    },
    {
      "cell_type": "code",
      "source": [
        "print(df.temperature)\n",
        "print(df['rain'])"
      ],
      "metadata": {
        "id": "4yCeAgIMm7BF"
      },
      "execution_count": null,
      "outputs": []
    },
    {
      "cell_type": "markdown",
      "source": [
        "The result of these operations is not a Pandas dataframe, but a Pandas series, which is a 1D data structure:"
      ],
      "metadata": {
        "id": "aqLRum-0nHa2"
      }
    },
    {
      "cell_type": "code",
      "source": [
        "print(type(df.rain))"
      ],
      "metadata": {
        "id": "q6-9fGnYnR_4"
      },
      "execution_count": null,
      "outputs": []
    },
    {
      "cell_type": "markdown",
      "source": [
        "Pandas provides all kind of methods that can be performed on the data. Some examples:"
      ],
      "metadata": {
        "id": "iQ23UIQ4nglc"
      }
    },
    {
      "cell_type": "code",
      "source": [
        "df.sort_values(by=['rain', 'temperature'])  # sort rows by rain values and then by temperature values"
      ],
      "metadata": {
        "id": "TzgLVsq5oUoW"
      },
      "execution_count": null,
      "outputs": []
    },
    {
      "cell_type": "code",
      "source": [
        "df.wind.unique()  # unique values in column wind"
      ],
      "metadata": {
        "id": "zz5ZwZf-oDEt"
      },
      "execution_count": null,
      "outputs": []
    },
    {
      "cell_type": "code",
      "source": [
        "df[['temperature', 'rain']].max(axis=0)  # maximum of columns temperature and rain"
      ],
      "metadata": {
        "id": "WI_g2PdungD0"
      },
      "execution_count": null,
      "outputs": []
    },
    {
      "cell_type": "code",
      "source": [
        "df[['temperature', 'rain']].sum(axis=1)  # sum or rows"
      ],
      "metadata": {
        "id": "VuDM1uwkn6jF"
      },
      "execution_count": null,
      "outputs": []
    },
    {
      "cell_type": "markdown",
      "source": [
        "Data imputation = filling up missing values"
      ],
      "metadata": {
        "id": "h6K1UhwloxO3"
      }
    },
    {
      "cell_type": "code",
      "source": [
        "df['wind'] = df['wind'].fillna(df.wind.mode().iloc[0])  # iloc[0] selects the first element\n",
        "df['rain'] = df['rain'].fillna(df.rain.mean())\n",
        "df"
      ],
      "metadata": {
        "id": "yURCdvWQpQtU"
      },
      "execution_count": null,
      "outputs": []
    },
    {
      "cell_type": "markdown",
      "source": [
        "Another option is to omit the samples containing missing values, which is easy using method `drop`:"
      ],
      "metadata": {
        "id": "YsT4Fw84sXPC"
      }
    },
    {
      "cell_type": "code",
      "source": [
        "df = df.drop(index=6)\n",
        "df"
      ],
      "metadata": {
        "id": "T4VdwHgqsWrb"
      },
      "execution_count": null,
      "outputs": []
    },
    {
      "cell_type": "markdown",
      "source": [
        "Using method `drop`, it is also possible to delete a column:"
      ],
      "metadata": {
        "id": "6nKCibx0t3Ss"
      }
    },
    {
      "cell_type": "code",
      "source": [
        "df = df.drop(columns=['day'])\n",
        "df"
      ],
      "metadata": {
        "id": "f6KcTjpmuIe3"
      },
      "execution_count": null,
      "outputs": []
    },
    {
      "cell_type": "markdown",
      "source": [
        "**Vectorized expressions**"
      ],
      "metadata": {
        "id": "1G57bnZqUOCT"
      }
    },
    {
      "cell_type": "markdown",
      "source": [
        "Converting temperature values in Celsius to Fahrenheit\n",
        "\n",
        "> `°F = °C * 9 / 5 + 32`\n",
        "\n"
      ],
      "metadata": {
        "id": "nmogH6DYWPUx"
      }
    },
    {
      "cell_type": "code",
      "source": [
        "df.temperature = df.temperature * 9 / 5 + 32\n",
        "df"
      ],
      "metadata": {
        "id": "QMQ_zuSFWyVh"
      },
      "execution_count": null,
      "outputs": []
    },
    {
      "cell_type": "markdown",
      "source": [
        "Similar to SQL, it is also possible to apply the `groupby` method:"
      ],
      "metadata": {
        "id": "iiAU2v-6_7uc"
      }
    },
    {
      "cell_type": "code",
      "source": [
        "df[['temperature', 'wind']].groupby(by='wind').mean()"
      ],
      "metadata": {
        "id": "JbkmOcfnAKlq"
      },
      "execution_count": null,
      "outputs": []
    },
    {
      "cell_type": "markdown",
      "source": [
        "## **What is Machine Learning?**"
      ],
      "metadata": {
        "id": "fodnpzuJJlc4"
      }
    },
    {
      "cell_type": "markdown",
      "source": [
        "![image.png](data:image/png;base64,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)"
      ],
      "metadata": {
        "id": "wBYiGPdRiMwT"
      }
    },
    {
      "cell_type": "markdown",
      "source": [
        "### Classical Programming"
      ],
      "metadata": {
        "id": "I3cbZPzsnmBT"
      }
    },
    {
      "cell_type": "markdown",
      "source": [
        "Thermostat: when the temperature is lower than 17.5 degrees Celsius, the heating should be on; otherwise, the heating is off."
      ],
      "metadata": {
        "id": "0mAk9iDRaVHW"
      }
    },
    {
      "cell_type": "code",
      "source": [
        "threshold = 17\n",
        "temperature = float(input(\"What is the temperature?\\n\"))  # data (input)\n",
        "heating = 'on' if temperature < threshold else 'off'      # rule\n",
        "print(f'The heating is {heating}!')                       # answer (output)"
      ],
      "metadata": {
        "id": "2OmJbvHLhiKb"
      },
      "execution_count": null,
      "outputs": []
    },
    {
      "cell_type": "markdown",
      "source": [
        "### Machine Learning"
      ],
      "metadata": {
        "id": "L2dHluIRnxDS"
      }
    },
    {
      "cell_type": "markdown",
      "source": [
        "In Machine Learning, we do not know the rule, but we have a dataset that is labeled in case of supervised learning:"
      ],
      "metadata": {
        "id": "iGIRezkVcqVp"
      }
    },
    {
      "cell_type": "code",
      "source": [
        "import pandas as pd\n",
        "\n",
        "temperature = [17.1, 15.6, 23.1, 19.8, 12.9, 20.3, 14.7, 16.2]  # data (input)\n",
        "heating = ['off', 'on', 'off', 'off', 'on', 'off', 'on', 'on']  # corresponding answers (output)\n",
        "\n",
        "# put in Pandas DataFrame to get a table\n",
        "table = pd.DataFrame(dict(temperature=temperature, heating=heating))\n",
        "table"
      ],
      "metadata": {
        "id": "s4kaLBnakclf"
      },
      "execution_count": null,
      "outputs": []
    },
    {
      "cell_type": "markdown",
      "source": [
        "It's always a good idea to visualize the data."
      ],
      "metadata": {
        "id": "1M3k5FCKUbka"
      }
    },
    {
      "cell_type": "code",
      "source": [
        "def plot_temperature_heating(table):\n",
        "    '''\n",
        "    plots heating vs temperature\n",
        "    table: Pandas DataFrame with columns 'temperature' and 'heating'\n",
        "    returns: axes\n",
        "    '''\n",
        "    _, ax = plt.subplots(1, 1, figsize=(8, 2))\n",
        "    on = table.heating == 'on'\n",
        "    off = ~on\n",
        "    plt.plot(table[on].temperature, np.ones(on.sum()), 'go');\n",
        "    plt.plot(table[off].temperature, np.zeros(off.sum()), 'ro');\n",
        "    plt.xlabel('temperature');\n",
        "    plt.ylabel('heating');\n",
        "    plt.yticks((0, 1));\n",
        "    ax.set_yticklabels(('off', 'on'))\n",
        "    plt.grid();\n",
        "    return ax"
      ],
      "metadata": {
        "id": "ALGDSwrqUx8h"
      },
      "execution_count": null,
      "outputs": []
    },
    {
      "cell_type": "markdown",
      "source": [
        "By plotting the data we see it is easy to separate the 'on' and 'off' temperatures:"
      ],
      "metadata": {
        "id": "8_RuJJfhVkXe"
      }
    },
    {
      "cell_type": "code",
      "source": [
        "plot_temperature_heating(table);"
      ],
      "metadata": {
        "id": "uz-ENKMYVQmL"
      },
      "execution_count": null,
      "outputs": []
    },
    {
      "cell_type": "markdown",
      "source": [
        "#### Decision Tree"
      ],
      "metadata": {
        "id": "wlVfzB4cn7pq"
      }
    },
    {
      "cell_type": "markdown",
      "source": [
        "A naive way of separating both classes is defining the threshold as the average of the maximum 'on' temperature and the minimum 'off' temperature:"
      ],
      "metadata": {
        "id": "lbysW25hWpyx"
      }
    },
    {
      "cell_type": "code",
      "source": [
        "max_temperature_on = table[table.heating=='on']['temperature'].max()\n",
        "min_temperature_off = table[table.heating=='off']['temperature'].min()\n",
        "threshold = (max_temperature_on + min_temperature_off) / 2\n",
        "print(f'maximum temperature if heating is on: {max_temperature_on}°C')\n",
        "print(f'minimum temperature if heating is off: {min_temperature_off}°C')\n",
        "print(f'threshold is {threshold}°C')"
      ],
      "metadata": {
        "id": "_tSMB9TR20hW"
      },
      "execution_count": null,
      "outputs": []
    },
    {
      "cell_type": "markdown",
      "source": [
        "Let's add the derived threshold to the plot:"
      ],
      "metadata": {
        "id": "guxug7UHXOBn"
      }
    },
    {
      "cell_type": "code",
      "source": [
        "ax = plot_temperature_heating(table);\n",
        "yl = ax.get_ylim();\n",
        "ax.plot(threshold * np.ones(2), [-1, 2], 'b-');\n",
        "ax.set_ylim(yl);"
      ],
      "metadata": {
        "id": "9wlC7mAWmNdT"
      },
      "execution_count": null,
      "outputs": []
    },
    {
      "cell_type": "markdown",
      "source": [
        "We may use Scikit-Learn to build a **decision tree** that gives the same result:"
      ],
      "metadata": {
        "id": "jxaodQ7nJ50N"
      }
    },
    {
      "cell_type": "code",
      "source": [
        "from sklearn.tree import DecisionTreeClassifier, plot_tree\n",
        "\n",
        "tree = DecisionTreeClassifier()   # instantiate the DecisionTreeClassifier class\n",
        "\n",
        "tree.fit(table[['temperature']],  # feature\n",
        "         table.heating=='on')     # labels\n",
        "\n",
        "# plot the resulting decision tree\n",
        "plot_tree(tree, feature_names=['temperature'], class_names=['off', 'on']);"
      ],
      "metadata": {
        "id": "CxDZ1g7GIvu9"
      },
      "execution_count": null,
      "outputs": []
    },
    {
      "cell_type": "markdown",
      "source": [
        "#### Nearest Neighbor"
      ],
      "metadata": {
        "id": "XlVYQzOxoFcF"
      }
    },
    {
      "cell_type": "markdown",
      "source": [
        "Another way to decide whether the heating is on or off is to simply adopt the output of the **nearest neighbor**:\n",
        "\n",
        "> $\\min_i{|T_{new} - T_i|}$"
      ],
      "metadata": {
        "id": "H_ykfYwSCwyC"
      }
    },
    {
      "cell_type": "code",
      "source": [
        "temperature = float(input(\"What is the temperature?\\n\"))  # input temperature\n",
        "abs_difference = (temperature - table.temperature).abs()  # absolute difference\n",
        "heating = table.heating.iloc[abs_difference.argmin()]     # label of nearest neighbor\n",
        "print(f'The heating is {heating}!')                       # answer"
      ],
      "metadata": {
        "id": "KBONgfvz7gWN"
      },
      "execution_count": null,
      "outputs": []
    },
    {
      "cell_type": "markdown",
      "source": [
        "When we visualize the new data point given by the user, then we see the closest point from the dataset has label 'on' indeed:"
      ],
      "metadata": {
        "id": "giC_6GgdY_-v"
      }
    },
    {
      "cell_type": "code",
      "source": [
        "ax = plot_temperature_heating(table);\n",
        "ax.plot(temperature, heating == 'on', 'bo');"
      ],
      "metadata": {
        "id": "Z3Ll7iwy8YL_"
      },
      "execution_count": null,
      "outputs": []
    },
    {
      "cell_type": "markdown",
      "source": [
        "It is a special case of a very well-known machine learning algorithm, called **K Nearest Neighbors** (KNN)."
      ],
      "metadata": {
        "id": "og1-OYitCwyC"
      }
    },
    {
      "cell_type": "code",
      "source": [
        "from sklearn.neighbors import KNeighborsClassifier\n",
        "\n",
        "knn = KNeighborsClassifier(n_neighbors=1)  # number of neighbors K is set to 1\n",
        "\n",
        "knn.fit(table[['temperature']],  # feature\n",
        "        table.heating=='on')     # labels\n",
        "\n",
        "knn.predict(pd.DataFrame(dict(temperature=[16.5])))  # predict heating for new temperature"
      ],
      "metadata": {
        "id": "5BezzfcDMMd_"
      },
      "execution_count": null,
      "outputs": []
    },
    {
      "cell_type": "markdown",
      "source": [
        "## **Scikit-Learn**"
      ],
      "metadata": {
        "id": "licMQio7N0Q1"
      }
    },
    {
      "cell_type": "markdown",
      "source": [
        "The Scikit-Learn API is the same for all machine learning algorithms, and it revolves around three fundamental methods:\n",
        "\n",
        "1. **`fit`**\n",
        "\n",
        "2. **`score`**\n",
        "\n",
        "3. **`predict`**\n"
      ],
      "metadata": {
        "id": "lIX-Wgg7PWia"
      }
    },
    {
      "cell_type": "markdown",
      "source": [
        "These methods reflect the fundamental steps in the machine learning workflow:"
      ],
      "metadata": {
        "id": "4pRoJVpvbst4"
      }
    },
    {
      "cell_type": "markdown",
      "source": [
        "![image.png](data:image/png;base64,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)"
      ],
      "metadata": {
        "id": "rD0BQBMob11y"
      }
    },
    {
      "cell_type": "markdown",
      "source": [
        "### Choosing the algorithm"
      ],
      "metadata": {
        "id": "o8WIaD1XaePu"
      }
    },
    {
      "cell_type": "markdown",
      "source": [
        "Instantiate the class:"
      ],
      "metadata": {
        "id": "GU7rRBVPTb-8"
      }
    },
    {
      "cell_type": "code",
      "source": [
        "# decision tree\n",
        "tree = DecisionTreeClassifier()"
      ],
      "metadata": {
        "id": "1l_FJiT8Tmen"
      },
      "execution_count": null,
      "outputs": []
    },
    {
      "cell_type": "code",
      "source": [
        "# KNN\n",
        "knn = KNeighborsClassifier(n_neighbors=1)  # n_neighbors K is a hyperparameter"
      ],
      "metadata": {
        "id": "YoNsFxYNT3kC"
      },
      "execution_count": null,
      "outputs": []
    },
    {
      "cell_type": "markdown",
      "source": [
        "### Data preparation"
      ],
      "metadata": {
        "id": "TuawYqn8aLRT"
      }
    },
    {
      "cell_type": "markdown",
      "source": [
        "Categorical variables using strings must be transformed, which is called **feature encoding**."
      ],
      "metadata": {
        "id": "II0WLTOyREB8"
      }
    },
    {
      "cell_type": "code",
      "source": [
        "X = table[['temperature']]    # X must be 2D; hence the double square brackets!\n",
        "y = table['heating'] == 'on'  # labels are converted to zeros/falses and ones/trues!"
      ],
      "metadata": {
        "id": "h7SZqNl6N2-H"
      },
      "execution_count": null,
      "outputs": []
    },
    {
      "cell_type": "markdown",
      "source": [
        "### Model training"
      ],
      "metadata": {
        "id": "aQ7zgO9nZ6Pe"
      }
    },
    {
      "cell_type": "markdown",
      "source": [
        "Training the models:"
      ],
      "metadata": {
        "id": "p6FjTkYUS2nC"
      }
    },
    {
      "cell_type": "code",
      "source": [
        "# decision tree\n",
        "tree.fit(X, y)"
      ],
      "metadata": {
        "id": "WyvboTS_S1VD"
      },
      "execution_count": null,
      "outputs": []
    },
    {
      "cell_type": "code",
      "source": [
        "# KNN\n",
        "knn.fit(X, y)  # lazy learning!"
      ],
      "metadata": {
        "id": "rcm-TIzdUJKU"
      },
      "execution_count": null,
      "outputs": []
    },
    {
      "cell_type": "markdown",
      "source": [
        "### Model evaluation"
      ],
      "metadata": {
        "id": "NcSI-NvCZ19D"
      }
    },
    {
      "cell_type": "markdown",
      "source": [
        "Calculating the accuracy:"
      ],
      "metadata": {
        "id": "vF8I5P0hU5tL"
      }
    },
    {
      "cell_type": "code",
      "source": [
        "# decision tree\n",
        "tree.score(X, y)"
      ],
      "metadata": {
        "id": "-x8fNe71UKbF"
      },
      "execution_count": null,
      "outputs": []
    },
    {
      "cell_type": "code",
      "source": [
        "# KNN\n",
        "knn.score(X, y)"
      ],
      "metadata": {
        "id": "KMxGxUcHUUcu"
      },
      "execution_count": null,
      "outputs": []
    },
    {
      "cell_type": "markdown",
      "source": [
        "### Making predictions"
      ],
      "metadata": {
        "id": "FgKa_qvWZ_EL"
      }
    },
    {
      "cell_type": "markdown",
      "source": [
        "New data points:"
      ],
      "metadata": {
        "id": "82pnt5uvWBUi"
      }
    },
    {
      "cell_type": "code",
      "source": [
        "Xnew = pd.DataFrame(\n",
        "    dict(temperature=[12, 16.5, 17.5, 22])\n",
        ")\n",
        "Xnew"
      ],
      "metadata": {
        "id": "-tIT_QgxVKC7"
      },
      "execution_count": null,
      "outputs": []
    },
    {
      "cell_type": "markdown",
      "source": [
        "Predicting the labels:"
      ],
      "metadata": {
        "id": "SPud7laHWolw"
      }
    },
    {
      "cell_type": "code",
      "source": [
        "# decision tree\n",
        "y_pred = tree.predict(Xnew)\n",
        "y_pred"
      ],
      "metadata": {
        "id": "9_x5FNGqWX8W"
      },
      "execution_count": null,
      "outputs": []
    },
    {
      "cell_type": "code",
      "source": [
        "# KNN\n",
        "y_pred = knn.predict(Xnew)\n",
        "y_pred"
      ],
      "metadata": {
        "id": "ThuE26VzW0nO"
      },
      "execution_count": null,
      "outputs": []
    },
    {
      "cell_type": "code",
      "source": [
        "idx = y_pred.astype(int)          # indices\n",
        "labels = np.array(['off', 'on'])  # labels: off has index 0, on has index 1!\n",
        "labels[idx]"
      ],
      "metadata": {
        "id": "egU8ckhrW5A2"
      },
      "execution_count": null,
      "outputs": []
    },
    {
      "cell_type": "markdown",
      "source": [
        "## **The Cocktail Example**"
      ],
      "metadata": {
        "id": "gceqDJGvEb2b"
      }
    },
    {
      "cell_type": "markdown",
      "source": [
        "Consider the following \"cocktail\" dataset, indicating which cocktails make us happy or sick:"
      ],
      "metadata": {
        "id": "nCvLchkws4xr"
      }
    },
    {
      "cell_type": "markdown",
      "source": [
        "![image.png](data:image/png;base64,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)"
      ],
      "metadata": {
        "id": "NMP0cgCQs82I"
      }
    },
    {
      "cell_type": "markdown",
      "source": [
        "### Data preparation"
      ],
      "metadata": {
        "id": "yD02QOq6JaQs"
      }
    },
    {
      "cell_type": "markdown",
      "source": [
        "Let's turn this dataset into a Pandas dataframe:"
      ],
      "metadata": {
        "id": "XaEkEno4tTWE"
      }
    },
    {
      "cell_type": "code",
      "source": [
        "df = pd.DataFrame(columns=[\"shape\", \"foot\", \"color\", \"lemon\", \"stirrer\", \"sick\"],\n",
        "                  data=[[\"trapezium\", \"yes\", \"other\", \"no\", \"yes\", \"no\"],\n",
        "                        [\"triangle\", \"yes\", \"other\", \"yes\", \"no\", \"no\"],\n",
        "                        [\"rectangle\", \"no\", \"orange\", \"no\", \"no\", \"no\"],\n",
        "                        [\"rectangle\", \"no\", \"other\", \"yes\", \"no\", \"no\"],\n",
        "                        [\"triangle\", \"yes\", \"other\", \"no\", \"no\", \"no\"],\n",
        "                        [\"trapezium\", \"yes\", \"orange\", \"no\", \"yes\", \"yes\"],\n",
        "                        [\"triangle\", \"yes\", \"orange\", \"no\", \"no\", \"yes\"],\n",
        "                        [\"triangle\", \"yes\", \"orange\", \"yes\", \"no\", \"yes\"]])\n",
        "df"
      ],
      "metadata": {
        "id": "TrtyRZ8LSTMS"
      },
      "execution_count": null,
      "outputs": []
    },
    {
      "cell_type": "markdown",
      "source": [
        "The first 'preprocessing' step is **encoding** these features and labels."
      ],
      "metadata": {
        "id": "V79TTq5xuQic"
      }
    },
    {
      "cell_type": "code",
      "source": [
        "from sklearn.preprocessing import OrdinalEncoder, LabelEncoder\n",
        "\n",
        "# features\n",
        "features = df[[\"shape\", \"foot\", \"color\", \"lemon\", \"stirrer\"]]\n",
        "feature_encoder = OrdinalEncoder()\n",
        "X = feature_encoder.fit_transform(features)\n",
        "\n",
        "# labels\n",
        "labels = df['sick']\n",
        "label_encoder = LabelEncoder()\n",
        "y = label_encoder.fit_transform(labels)"
      ],
      "metadata": {
        "id": "oHMLWp19Srmu"
      },
      "execution_count": null,
      "outputs": []
    },
    {
      "cell_type": "markdown",
      "source": [
        "The encoders convert the string values into numerical values:"
      ],
      "metadata": {
        "id": "2Y0b8hD8GG1c"
      }
    },
    {
      "cell_type": "code",
      "source": [
        "np.hstack((X, y[:, np.newaxis]))  # creates matrix [X, y]"
      ],
      "metadata": {
        "id": "z3snDYenGcYn"
      },
      "execution_count": null,
      "outputs": []
    },
    {
      "cell_type": "markdown",
      "source": [
        "The `categories_` and `classes_` attributes show which class is represented by which integer:"
      ],
      "metadata": {
        "id": "1iu2OXDGGyc3"
      }
    },
    {
      "cell_type": "code",
      "source": [
        "feature_encoder.categories_"
      ],
      "metadata": {
        "id": "nFB8WnqAGtjg"
      },
      "execution_count": null,
      "outputs": []
    },
    {
      "cell_type": "code",
      "source": [
        "label_encoder.classes_"
      ],
      "metadata": {
        "id": "xg5_Xl4EHDoX"
      },
      "execution_count": null,
      "outputs": []
    },
    {
      "cell_type": "markdown",
      "source": [
        "### Decision tree"
      ],
      "metadata": {
        "id": "rTxoVfBNJeB4"
      }
    },
    {
      "cell_type": "markdown",
      "source": [
        "The second step is **training** the model and calculating the **accuracy**."
      ],
      "metadata": {
        "id": "pi7HxxJkuflt"
      }
    },
    {
      "cell_type": "code",
      "source": [
        "from sklearn.tree import DecisionTreeClassifier, plot_tree\n",
        "\n",
        "tree = DecisionTreeClassifier()  # instantiate\n",
        "tree.fit(X, y)                   # train\n",
        "tree.score(X, y)                 # evaluate"
      ],
      "metadata": {
        "id": "F7zBceNdTWOf"
      },
      "execution_count": null,
      "outputs": []
    },
    {
      "cell_type": "markdown",
      "source": [
        "Let's plot the tree:"
      ],
      "metadata": {
        "id": "18OGxVuK2X8U"
      }
    },
    {
      "cell_type": "code",
      "source": [
        "out = plot_tree(tree,\n",
        "                feature_names=feature_encoder.feature_names_in_,\n",
        "                class_names=label_encoder.classes_,\n",
        "                impurity=False, filled=True, fontsize=10, rounded=True);\n",
        "\n",
        "# the following lines of code are applicable only to this tree:\n",
        "out[0].set_text(out[0].get_text().replace(\"<= 0.5\", feature_encoder.categories_[2][0]))\n",
        "out[1].set_text(out[1].get_text().replace(\"<= 0.5\", feature_encoder.categories_[1][0]))"
      ],
      "metadata": {
        "id": "mozVLA8XUXCE"
      },
      "execution_count": null,
      "outputs": []
    },
    {
      "cell_type": "markdown",
      "source": [
        "Let's figure out whether we will get sick if we try this new cocktail:"
      ],
      "metadata": {
        "id": "ChOCHKz0vH4l"
      }
    },
    {
      "cell_type": "markdown",
      "source": [
        "![image.png](data:image/png;base64,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)"
      ],
      "metadata": {
        "id": "Tyf57FGGvcpe"
      }
    },
    {
      "cell_type": "markdown",
      "source": [
        "We create a Pandas dataframe containing this new data example:"
      ],
      "metadata": {
        "id": "VDPZ4apiveRQ"
      }
    },
    {
      "cell_type": "code",
      "source": [
        "new = pd.DataFrame(dict(shape=[\"triangle\"],\n",
        "                        foot=[\"yes\"],\n",
        "                        color=[\"orange\"],\n",
        "                        lemon=[\"no\"],\n",
        "                        stirrer=[\"yes\"],\n",
        "                        sick=[\"???\"]))\n",
        "new"
      ],
      "metadata": {
        "id": "Cq-O7lAxWODZ"
      },
      "execution_count": null,
      "outputs": []
    },
    {
      "cell_type": "markdown",
      "source": [
        "We encode the new data point:"
      ],
      "metadata": {
        "id": "BX44CGuYvwNL"
      }
    },
    {
      "cell_type": "code",
      "source": [
        "Xnew = feature_encoder.transform(new[new.columns[:-1]]).astype(int)\n",
        "Xnew"
      ],
      "metadata": {
        "id": "iwMYRVZLWVYP"
      },
      "execution_count": null,
      "outputs": []
    },
    {
      "cell_type": "markdown",
      "source": [
        "And we predict whether or not we'll get sick:"
      ],
      "metadata": {
        "id": "zn4tU21zv0mJ"
      }
    },
    {
      "cell_type": "code",
      "source": [
        "label = tree.predict(Xnew)[0]\n",
        "print(\"Will we get sick?\", label_encoder.classes_[label])"
      ],
      "metadata": {
        "id": "oyIw6WqdXED1"
      },
      "execution_count": null,
      "outputs": []
    },
    {
      "cell_type": "markdown",
      "source": [
        "### Nearest Neighbor"
      ],
      "metadata": {
        "id": "JcyYldqUJzmW"
      }
    },
    {
      "cell_type": "markdown",
      "source": [
        "Do we get the same result if we apply KNN (with K=1)?"
      ],
      "metadata": {
        "id": "cW6lyK0BIY9u"
      }
    },
    {
      "cell_type": "code",
      "source": [
        "from sklearn.neighbors import KNeighborsClassifier\n",
        "\n",
        "knn = KNeighborsClassifier(n_neighbors=1)  # number of neighbors K is set to 1\n",
        "knn.fit(X, y)    # train\n",
        "knn.score(X, y)  # evaluate"
      ],
      "metadata": {
        "id": "UXOVHGA1Id-p"
      },
      "execution_count": null,
      "outputs": []
    },
    {
      "cell_type": "markdown",
      "source": [
        "The predicted label for the new cocktail:"
      ],
      "metadata": {
        "id": "NifgaNkKKAr7"
      }
    },
    {
      "cell_type": "code",
      "source": [
        "label = knn.predict(Xnew)[0]\n",
        "print(\"Will we get sick?\", label_encoder.classes_[label])"
      ],
      "metadata": {
        "id": "QdyzCSsmIy6Q"
      },
      "execution_count": null,
      "outputs": []
    },
    {
      "cell_type": "markdown",
      "source": [
        "---"
      ],
      "metadata": {
        "id": "ANRhfoGSlX0y"
      }
    }
  ]
}