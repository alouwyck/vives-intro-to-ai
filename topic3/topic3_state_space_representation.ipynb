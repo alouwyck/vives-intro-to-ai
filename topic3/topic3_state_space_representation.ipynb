{
  "nbformat": 4,
  "nbformat_minor": 0,
  "metadata": {
    "colab": {
      "provenance": [],
      "include_colab_link": true
    },
    "kernelspec": {
      "name": "python3",
      "display_name": "Python 3"
    },
    "language_info": {
      "name": "python"
    }
  },
  "cells": [
    {
      "cell_type": "markdown",
      "metadata": {
        "id": "view-in-github",
        "colab_type": "text"
      },
      "source": [
        "<a href=\"https://colab.research.google.com/github/alouwyck/vives-intro-to-ai/blob/main/topic3/topic3_state_space_representation.ipynb\" target=\"_parent\"><img src=\"https://colab.research.google.com/assets/colab-badge.svg\" alt=\"Open In Colab\"/></a>"
      ]
    },
    {
      "cell_type": "markdown",
      "metadata": {
        "id": "ouPdZRXgZLDE"
      },
      "source": [
        "<img src=\"data:image/png;base64,iVBORw0KGgoAAAANSUhEUgAAAX4AAACLCAMAAABRLALQAAAAAXNSR0IArs4c6QAAAARnQU1BAACxjwv8YQUAAAELUExURQAAAP///////////////////////////////////////////x0dGysrKTk5OEhIRlZWVGRkY3JycYCAf42NjJycm6qqqbi4t8bGxtPT09TU1OLi4eMGE+MHFOPj4uQHFOUWIuUXI+YXI+clMecmMugmMug1P+g2QOk2QOpETupFT+tFT+xUXexVXu1VXu1ja+5kbO5lbe9lbe9yeu+Bh/ByevBze/B0fPCBh/CCiPCDifDw8PF0fPGDifGRlvHx8fKRlvKSl/KTmPOTmPOgpfSgpfShpvWip/WwtPawtPaxtfe/w/i/w/jAxPnP0vrP0vrQ0/vf4Pvg4fzu7/3u7/3v8P7+/v/+/v////j/Q2sAAAAMdFJOUwAYMEBon6evz9/n7zhUPkIAAAAJcEhZcwAAFxEAABcRAcom8z8AABNYSURBVHhe7Z1pY9vIkYZns7l3ZN1HvE0RjLhUKFMO5UloU9FEoifD7CDmDsMMbP7/X5Kq6gLYVegGIFES6DXeDyLYaF5PV1dVH4C+arQB+o9fLBs9u375M8b/Ky5o9Kz6NePnp42eWQ3+WtXgr1UN/lrV4K9VDf5a1eCvVQ3+WtXgr1UN/lr15eI/OOKDOvXl4t854IM61eCvVQ3+WtXgr1UN/lrV4K9VDf5a1eCvVQ3+WtXgr1UN/lrV4C9Rwo9PozXxT1ZacJHWjM+juGgj5OJPXg3pcdEf0+NKs17vn3xYSd91Bp/4sIrWxB+ZTCG2Iz4POuOijZCLf9E6I2izdv8jFWSCb38vo+kac5/mejz82m5SDfg8qMdFG6Fq+Kdt8wMfVtKliX6Ch+txtT6wJv4egwUNuEjLwd/noo1QNfzLyZQPqimZzPFvK3oW/H0GC4q4SCnh0yjrYDdEFfE/SM+F33HsBps9r5jPokZcthH6/4B/ymBRftt2+oeJuWwjFMY/nyySeDS2qRw6n/nEfnObus0nw/GMnseTZTIdY2o6m4wnlKIu0PnMxq3oDlLB9xN613gazF7XxO+6FuNLPWd8jhTKTWtRGP/YjDBgRT9CCdnxrGXw9LxlIKxOKN0YYcG5+fDKmO8h0v4e63+AomkLEs+rNlZ596ljs6BuOHqviX95hh/E8gVf1/g3KvEpxG/OxuPI9KGM8Cctg00xafc+LRcdM5iAz0Wi52ZgIjiataI/xa8o5yH887hlfogXywtzB2+xaIVz0XXxu87f41wmfIYUSk3rUSF+oA22DtSsFz83d3D2Cm3+xuC46lsuNu/Qr1yZb+DZpbn7aPGnvv+69Wd4iFvQagGti9+NrMZYl7jS1BkXbJjrL8RPvLoGvIkFaZlfoslfmDFUgf4ABee2IpRZv/Puk8Qft7ADvadG8Gtd/ML7aP7WTabaLN9TiJ9StAvztxRkTH/JlXfJD9njcxsCoCb4f6gFUVfgtw/UagGtjd/NfUCjVZBfOAMu1P3GL0+uIvzkJi9X+MnY51SpY/F3LX4L9rrVw6EuSuC3tehPQGvjT6T5QwNQD0hmI2H6EM2C2Vc9ug9+snlLtmO+n4EYPzodfLmJyP41/retu0/pe3u1Nn4MVFpnPd0moA0z/vvhv4HYe0Vev8M/x8WPmanpUU+Q+GMIBzMqCWh9/Dnz96u3YcZ/P/xI1frwjukPSOBuMvxg55DqYweQ+BN49h4jckjr45cjq5AinRTVrnvhx4cODrpszGU5+JeLS+oQEv+yG0GrrSrl9Aj4Ze4f0EattJBc/CmuIH6MuDZ9D+HH+jrvhxFB+59dmoEO6DHwu9POAW3UXKeVix+gEqMJpZw+/BdmZLNMTjzn2JtT/HZ2P0byCv916x3l/iE9Cv6kjP/GOX6QwH9uM4NX1Et9+G/gV1BstcOuGRWn+G1q+Z2L3zYnHPRMeND1SPjL+Pc3kL7EPzXR/6Hxk6Pw4Y8htyGvM8Y6yQUNg1P8l/gMyrJRL/SmP1ofBYlSeND1WPiL+W8kfYkfSJo+/AYKUT78YM82OiddqBnZ6c0UP+T9ZhCZM2g7xo9zntxZnFiR1yPhXy6HzDovZyC8SZL46ftHdmwytq3wxuLnQVOX7B00h5YyEbHNQi+V9ZFz3BpitQT4fw9OCgZe4fk20KPhX079+X9vsybaVlL4ccomtZPEHtgHVQhaZDWzImiBtEjWf9/64/PgR6vJKbJrQJuoHP4n0aXtBCE9Jv5lMpEhoL+58J8Lf9F8G+hR8YPmk2EfvFB01huM/Wvvm6Jnwf++2PU/On6rxQZbfapnwD8fdzAZLdDT4P8c9Az437YKx1ygBv8TKh7PStxAg79WNfi9ekjseshrGvx5LQYRbatijc9oIBvWoosD4stAlI27fwq//DPBf3tyeLi/v39weHLKJUW6fXl8dLi/d3BwdMIlHoXxdw3P71h1Dc8eh0Rr8EkrUO3vRePeEP6TF1K+X73H51iHULTLx1b4A3f4mLVPr5TSn3XL5azbk/3trx3tFt8J5vZoe4tronb3Aw0WxB+3z8RQqUW7rgpkt0Bkk0JKD8K/fMFfn4VslW7dXwk6hrIdPrbag5IDPmZt0UulVJVdW8q63VcfgwohhaYU7K128ZvlFMTP23xSAVza4xaWxb+M/c7/Yfj3+buzJBPSCZ9ibaHR5vHf8nEqDzj5oq9dLLcHHvgoXy/CtuLTSjuqQ6GC+Ic407nSJF3nCorxB/Qw/Mf8zVkeq/UZbR5/eTcqaKDbXS7La9tD9ER91kpbL7nKSkH8r+UCyRvzY+F64dPg167F8/35DIt6uAd/aTdSDb3NxaCXQZygPNFDPuNVLghL/Itxf0CLLItRz/RHdGh1aX7q2qA6G83mo8GIprKSt9Nk3BvQAoHFD2fxyTIeDYY8yT6/6Q3/MX0Q/uUef29WzlaU0ZLv8eE/5SesfDcKftBJwPGkUi79ZWH1XGsJ/HPcoE8LjjPam++Yc6f36cpOW96YHu3cwzWWeSuivfMYFSz+t21KPC+x1Oagc9qS1TcPwh82Sit13lq1B7/2PjmjVecz33NYQv/rr0UKdFpSfeu/uSLLxZ/8wfRncY82LM975m/z1WTtvDX8OLax9wZYzuL/obaZQ545joe0lOji/w63+o/t9QAX5uwuvjAPw69dsva1ymitKfrwK++jnf9LLmdlzVxszFZuUypfmJdyey7+Ka2xQ+qOVi59/7Q9XsYt3N0A+LkWsAX8uKmta959FPihAP5etSEJXbSon3Qehl/z1dm212h9+FWGtEOFKymPnUK5LcUJesGVQepTfJLu38U/MQPk26VFXon/DTzDvYJwaHf5Qy0Aby++WL7FIhe/RR5jid2MAk3xMPxH/K1ZlmUmZbRsWj78uqFUN1LJTcpI5VUBrRCGc6RML8Syn4t/aBfXR7TFQeK/RMwdAnljE1DcbgvIaR1lhg8OfrB4LKb9EZzyPCzzycdWLmb5jdaLX3kf2Y1UhpX6niquB5W6nzLPTxKxuiJ+ynouyNRvaIdVCX5qqMfAr72pHDApa+OTXvwqSMtupJwGD6cquR5U6n6UNWztHx4fHYi5CpD45Gr455TzE/GK+H+I43j6GPiV9xExM2C0XvxLWVd2I+Vk2PeoFoMX7SDQ/XyrcF+SgWqPHdyR9Htbrvephn/axhmIKcXeSvgp74Qcdn38yvuIzEEZbfpT/PhVEBfdSL4ibRrtyXdSJ5MbifFniBesJu2UlbjBtxr+Mc1A2EskquH/ZoSarI9fxUxhtcpoU6J+/MqW3W6kmjj1PcqTHzjhWn0yfyvxVR0nI83E/eRq+C/NcDKZjGkyubrvJ62N3+8YSJJzlqz78Rd0I9UyHBwLo4XqGdb7CPwOWHnC/eRq+LvsTDD2Pjd+hc35vqEzfvzK+7jdSJ1hK5eE1QKAtzEFZfcDRNq1jfhYLv6RvQDhNW0zd/ED2TGqj8hvDC17Xdq8nzjTlbsOfh65JVMYNvPl1NcPxq+8jzPIUeaZ9YsAfhXEncGq/AS2TuV79IBPvptvssnNMF+64jKUix9GvYAo6Zj/hScufrpkAjRGw4dRr60F52HYheMr8E0CP4xxcTB8jS+DOIBN0X3gqBekMvaVFUqjXc0HBfArg125YDV48/qetEtkUi+iti+Z2fDIxQ+kJstkZLf3u/jTpRdqhhucYcNaQBXwg93POtYRrfBf4TZzKMaeQOtf71sPx6+wrcxQGu1q7SOAX5Wv5h1kup6ClqUi40L5GjM3SN53Ld0nFz84f8gV+a4TLv70inQaR4H1mwhrgQsD52NMz9Cefhc/eB8spsus8ZIMeMXD8SvMGU6f/ZFC+JX3yexZOvkUtOxbLiYr+a0Iv2fKZ2tfjHK1BH6690dE8Xc5itAFWZ2jpduDnwD/eAS16AY+EHo/dExEe/qTDjr569/fYWSZX0AVKsYdnib6Ju7g/TYCKsEv+3QW0pTRcikohD/QjZSTT3HJRtna1pKvsn1PNkmq3UPtuTJJ/OCASu82RJkP7+OnzCewlTW7TgDe1F8jUwl+ZVRpei/5OOuuIfyBbqScvH/0UCbbZ1QysNJuIA5o/OXixJPEiee6KsHv6+dBowUF8UvfnPYXWZo5eb8lh8SBv+BFe+6IJdVngV96HwYk+4SbmQTxK+/jnaHLzJSfVxS3ZeEc6Y6Y6CB9FviVe7CFAaMFBfF7u5G/TfTqcJnSrlQ8R52D/VngV7OVthdLyG5+Ecbv60aybbPRwz3xZ6PBYv5OhCJ9Hvg9SaA0WjEqCuNXL6IyGcEzHKpTlMkZjMsvq6T43x9/MnOSo9mjXDpVit/jfWSR63sK8CvvQ4MiWZS553viX425oQPIFpWSKdD98T+BSvErFmjq0sbE2KYAv/Q+iEIO3hyKXFJRcu3+9DCYAsmtJgp/4mTrmZKnvjqwFL+CjQMm8fuyZJ1UgF/CRmZy8ObQUPHmtET8qkwnh/JrZBLfR+BP8NZnZ7l7Dr0RO82fQOX45XwB/ALJUfieIvzK1UA3ko7CmaOR7yJ9RkUd+cKAMH+B/zXN1NCEp6uO4TuTPJXK8edipjRa5VC51Eril97nSA3eXA/uHWzcW8fybVDul3Xxx+0oxln/1VqJ1Ru6k+0Tqhy/MtLT3HNXRfhlxN5Tz928xD9EfoB0HBBDFAf/0M51dnPmX3Zl4rqqgF96n8Ow0YKK8EuXvqUgu/MCakI159zvIWkrbpR28b+23Ed2zfEZVQG/9D67csbBdaCgQvzSHZ+Kuk7yDpKxV3mfvS0h/JCjHVfiY2WekA2bJP5ze/nQ9NlvelYBv/oF0miVZRbil95Gvo8cE6m4KXJb+S7Wn6sydyAoA8BfuBTk4mezn/XIB80HvYG9e/9sYHfqT/vRwI54bwaf4v7ZkAMylnOHWYx7ZwN7DVgyfdUf/oMOy1QFv5rd50eS8j3F+FUQ50crQVivzrjJ7a3euobn1ODEXRyWX95JfVz8Y4N3MGTZO0/T3fsnZojlds8+zTJ0DN03yuajtpyis93Lb9fGbDHeO75UVfCrH+dK+Z5i/AVzAmo991aFzBXQU33GeiZZ6jaXdP4B55O0bOxFJR0zmMd9yoIs/kk7msyndkc5UB7j8R0cT1rR3QKOcZHxwvR+nI3a+KIpFM8ndp29TFXwqx/nSi+oFuNXRu1IJ5e5nHHvCD7q9iR/maPNJVXDrq6DlR8Z2mgCmWfG393rb/Ff0s7mGzJ/aBv4+y3t/LTlvMecdzXcfYRiWnNvVzH/SvjzCTRL+54S/OFuJH1PoGYOPYj3AOUa1sYSfVVqKPNB759eTjqxu/jfYDiw+O0//7A31evQrOeCjp3yqZ0ApeV2G8fjou09mSrhD2LTk7gl+JUnWCm3l0S57LBSr5TvoC92d3LX+LrfV+IH98/+n3e8zTHlt/jZj9C9Oe1NbG1TcHk8w2uKaAfWFB+urNuvdE+jSviD3ie3iFeCP+R9PANbHWH9yl4Y9muufse1UQo/OB0bXBk/KcVPiY4HPydAEv91i8J2JVXDH/A+MllHleAPdSPte0CV1lycyxXD8Wkl0coaP17TiGm/D/8Y/99nuxB/D6sMcdNbcm7Mn6lflKsafjUMTZXzPWX4A5DyvgdUxf04BD0bfXISnTWHH/mD2frws4rwcxXsBMkFHJTcxopVDX8AW95oy/D7mXp8D0i+l0+i+cvdj1wYyONfvsb0J2j99N8bg/j7VGXCl1Z3K/KviN/rfTxGW4bf7338U8qlFxipzhfMz1jqNgQu/tGA4mTcHnwM+35Sse9f6brlbFUMqyJ+PdIneYy2DL+/G6mZi0zFQNMriDKFR3UofU8cFz/P+cxbkPww/gRnHSrhxxQnhx/yfsz+y1QRv5oEs/IEzFL8PqLSKbgq8P9bnu2DReFiS2dpLv6hnfGkKbcRIYfBE7SCxc/I6T82uvj5GO/9TxfyQvvhvUvPaRai6J+lrVQVv8eyfAGzFL/P++SdcKbg3pHsYi+h8Ep7rqtI52Mvq36Fvj+mmQO7i9/iP6ehlv1nai5++7/sJkieR730n6S6dN/gwqsqMlXF7/E+voBZit/nfUK+h+S1aJ/pW/lvBLHt66gOfprz4f392THwtPjHJvqQzOx418X/bevsw3LWpamHrul/Wty08UVXeC9z3Pn/iPg9Vuv5SRXw571PbuZC6VCNwLZ2jkLwUce6o27tHvvqu/hxzAWyN5Cnveb2Vv4WPxg1ivbsu/gxwQfhFn/ey0+zPdBxzBlPhJapKv7l8aGW7zfJWr4GOuVzK/lqSb083LNNsPViu2DLeKbj/Z0d6mVb27t+9iCBfznrm6jPt+GZnqXHvACwvIpMZOf4L3uE/4LmhZIr3MtP5bivP+pNsLGgei/q/fVfdFiiyvjr1+lpOXhXJfUlfpA7R1NlvobkXhRQ+UUrfUb4H1k5/HWowV+rGvy1qsFfqxr8tarBX6sa/LWqwV+rGvy1qsFfqxr8terLxb/v7gStS18u/o1Qg79WNfhrVYO/VjX4a1WDv1Y1+GtVg79WNfhrFeP/NT9t9Kz6LeP/z99wQaNn1H/9nPE3avTF6auv/g08rNsQsEXBAgAAAABJRU5ErkJggg==\" align=\"right\" /><br>\n",
        "\n",
        "\n",
        "**INTRODUCTION TO ARTIFICIAL INTELLIGENCE**<br>\n",
        "VIVES BUSINESS ACADEMY<br>\n",
        "Academic Year 2023-2024<br>\n",
        "Andy Louwyck\n",
        "\n",
        "---\n",
        "\n",
        "\n",
        "\n",
        "---\n",
        "\n"
      ]
    },
    {
      "cell_type": "markdown",
      "source": [
        "# **STATE SPACE REPRESENTATION**"
      ],
      "metadata": {
        "id": "-Z6HVXBB88Si"
      }
    },
    {
      "cell_type": "markdown",
      "source": [
        "This notebook demonstrates how the **state space representation** is applied to model the problem of **finding a path in a maze**. Modeling the problem is the first step to solve the problem applying **search algorithms**. The use of search algorithms will be covered in the next topics."
      ],
      "metadata": {
        "id": "gW1DrxwHApWx"
      }
    },
    {
      "cell_type": "markdown",
      "source": [
        "## `SearchExerciser`"
      ],
      "metadata": {
        "id": "z-7HPhob_N5_"
      }
    },
    {
      "cell_type": "markdown",
      "source": [
        "To illustrate the basic concepts discussed in the topics about search algorithms, we will use the `SearchExerciser` package developed by Stefaan Haspeslagh and Andy Louwyck at Vives University of Applied Sciences. The package can be downloaded or cloned from the following GitHub repository: https://github.com/alouwyck/SearchExerciser.\n",
        "\n",
        "To clone the repository, we execute the statements in the cell below. Note that [Google Colab](https://colab.research.google.com/) is used as environment to run the notebooks, although this is not required."
      ],
      "metadata": {
        "id": "wWxyM9yc_TDH"
      }
    },
    {
      "cell_type": "code",
      "execution_count": null,
      "metadata": {
        "colab": {
          "base_uri": "https://localhost:8080/"
        },
        "id": "OCzEFi9QqZ0R",
        "outputId": "80b88ae1-4fe7-43b5-dcaf-54154d12792b"
      },
      "outputs": [
        {
          "output_type": "stream",
          "name": "stdout",
          "text": [
            "Cloning into 'SearchExerciser'...\n",
            "remote: Enumerating objects: 281, done.\u001b[K\n",
            "remote: Counting objects:   3% (1/33)\u001b[K\rremote: Counting objects:   6% (2/33)\u001b[K\rremote: Counting objects:   9% (3/33)\u001b[K\rremote: Counting objects:  12% (4/33)\u001b[K\rremote: Counting objects:  15% (5/33)\u001b[K\rremote: Counting objects:  18% (6/33)\u001b[K\rremote: Counting objects:  21% (7/33)\u001b[K\rremote: Counting objects:  24% (8/33)\u001b[K\rremote: Counting objects:  27% (9/33)\u001b[K\rremote: Counting objects:  30% (10/33)\u001b[K\rremote: Counting objects:  33% (11/33)\u001b[K\rremote: Counting objects:  36% (12/33)\u001b[K\rremote: Counting objects:  39% (13/33)\u001b[K\rremote: Counting objects:  42% (14/33)\u001b[K\rremote: Counting objects:  45% (15/33)\u001b[K\rremote: Counting objects:  48% (16/33)\u001b[K\rremote: Counting objects:  51% (17/33)\u001b[K\rremote: Counting objects:  54% (18/33)\u001b[K\rremote: Counting objects:  57% (19/33)\u001b[K\rremote: Counting objects:  60% (20/33)\u001b[K\rremote: Counting objects:  63% (21/33)\u001b[K\rremote: Counting objects:  66% (22/33)\u001b[K\rremote: Counting objects:  69% (23/33)\u001b[K\rremote: Counting objects:  72% (24/33)\u001b[K\rremote: Counting objects:  75% (25/33)\u001b[K\rremote: Counting objects:  78% (26/33)\u001b[K\rremote: Counting objects:  81% (27/33)\u001b[K\rremote: Counting objects:  84% (28/33)\u001b[K\rremote: Counting objects:  87% (29/33)\u001b[K\rremote: Counting objects:  90% (30/33)\u001b[K\rremote: Counting objects:  93% (31/33)\u001b[K\rremote: Counting objects:  96% (32/33)\u001b[K\rremote: Counting objects: 100% (33/33)\u001b[K\rremote: Counting objects: 100% (33/33), done.\u001b[K\n",
            "remote: Compressing objects: 100% (21/21), done.\u001b[K\n",
            "remote: Total 281 (delta 20), reused 25 (delta 12), pack-reused 248\u001b[K\n",
            "Receiving objects: 100% (281/281), 349.00 KiB | 4.20 MiB/s, done.\n",
            "Resolving deltas: 100% (168/168), done.\n"
          ]
        }
      ],
      "source": [
        "import os, shutil\n",
        "\n",
        "# remove directory 'SearchExerciser' first if it already exists\n",
        "path = \"SearchExerciser\"\n",
        "if os.path.exists(path):\n",
        "    shutil.rmtree(path)\n",
        "\n",
        "# clone SearchExerciser repository from Github\n",
        "!git clone https://github.com/alouwyck/SearchExerciser\n",
        "\n",
        "# put SearchExerciser package directory in the current working directory\n",
        "os.rename(path, 'temp')\n",
        "shutil.copytree(os.path.join('temp', path), path);\n",
        "shutil.rmtree('temp')"
      ]
    },
    {
      "cell_type": "markdown",
      "source": [
        "Once the package is cloned into our environment, we import the following classes from module `maze`:"
      ],
      "metadata": {
        "id": "mGwYf5XmBA_g"
      }
    },
    {
      "cell_type": "code",
      "source": [
        "from SearchExerciser.maze import Maze, Position, State, Path, Move, Left, Right, Up, Down"
      ],
      "metadata": {
        "id": "FJHXayI-qnzu"
      },
      "execution_count": null,
      "outputs": []
    },
    {
      "cell_type": "markdown",
      "source": [
        "The meaning and the purpose of these classes will be explained in the sections below."
      ],
      "metadata": {
        "id": "3y3p9hr1BoxA"
      }
    },
    {
      "cell_type": "markdown",
      "source": [
        "## Creating a maze"
      ],
      "metadata": {
        "id": "C3qHCsX-B2pa"
      }
    },
    {
      "cell_type": "markdown",
      "source": [
        "As we intend to solve the problem of finding a path in a maze applying the state space representation, we first need to be able to construct a maze. A maze can be represented as a **grid** consisting of a number of **rows** and **colums**. This is a two-dimensional structure similar to a table or a matrix. In Python (and other programming languages) there are several ways of implementing such a 2D array."
      ],
      "metadata": {
        "id": "PIdKSP5NB7Cv"
      }
    },
    {
      "cell_type": "markdown",
      "source": [
        "`SearchExerciser` has a class called `Maze` that is used to define a maze. Using static method `create`, we can create a `Maze` object. The method accepts a list of strings, and each charachter in the strings represents a grid cell:\n",
        "\n",
        "- `*`: cell where we start\n",
        "- `o`: cell with the exit or goal\n",
        "- `#`: 'forbidden' barrier cell\n",
        "- `.`: 'free-to-walk' cell"
      ],
      "metadata": {
        "id": "RCzwU2g2DMMC"
      }
    },
    {
      "cell_type": "markdown",
      "source": [
        "To start, let's create a very simple maze consisting of 3 rows and 3 columns. The start is in the upper left corner and the goal in the lower right corner. There is one barrier cell in the middle of the grid:"
      ],
      "metadata": {
        "id": "VFwxUiZzEn3p"
      }
    },
    {
      "cell_type": "code",
      "source": [
        "maze = Maze.create([\"*..\",\n",
        "                    \".#.\",\n",
        "                    \"..o\"])\n",
        "maze"
      ],
      "metadata": {
        "colab": {
          "base_uri": "https://localhost:8080/"
        },
        "id": "9kXqJsl5qvom",
        "outputId": "9eec2292-0bde-42db-a116-296a575ffcff"
      },
      "execution_count": null,
      "outputs": [
        {
          "output_type": "execute_result",
          "data": {
            "text/plain": [
              "*..\n",
              ".#.\n",
              "..o"
            ]
          },
          "metadata": {},
          "execution_count": 47
        }
      ]
    },
    {
      "cell_type": "markdown",
      "source": [
        "Note that `SearchExerciser` only allows 'square' grids having an equal number of rows and columns. That number is called the **size** of the grid:"
      ],
      "metadata": {
        "id": "wVcUqhleFDgs"
      }
    },
    {
      "cell_type": "code",
      "source": [
        "maze.size"
      ],
      "metadata": {
        "colab": {
          "base_uri": "https://localhost:8080/"
        },
        "id": "6wBYoBHZFcl8",
        "outputId": "25ab6ee8-bd13-412c-c9c4-a2c056eb2937"
      },
      "execution_count": null,
      "outputs": [
        {
          "output_type": "execute_result",
          "data": {
            "text/plain": [
              "3"
            ]
          },
          "metadata": {},
          "execution_count": 49
        }
      ]
    },
    {
      "cell_type": "markdown",
      "source": [
        "The total number of cells in the grid is equal to the square of the grid size:"
      ],
      "metadata": {
        "id": "kPUTF7L9H3F0"
      }
    },
    {
      "cell_type": "code",
      "source": [
        "maze.size**2"
      ],
      "metadata": {
        "colab": {
          "base_uri": "https://localhost:8080/"
        },
        "id": "AlC0gP4CH9_0",
        "outputId": "00dfcb85-6169-49bc-c2dd-1a47d13ed59d"
      },
      "execution_count": null,
      "outputs": [
        {
          "output_type": "execute_result",
          "data": {
            "text/plain": [
              "9"
            ]
          },
          "metadata": {},
          "execution_count": 52
        }
      ]
    },
    {
      "cell_type": "markdown",
      "source": [
        "The list of strings has been converted into a [NumPy](https://numpy.org/) array of integers assigned to attribute `grid`. Do you see which number is assigned to the different cell types?"
      ],
      "metadata": {
        "id": "oKKs51cQFf-K"
      }
    },
    {
      "cell_type": "code",
      "source": [
        "maze.grid"
      ],
      "metadata": {
        "colab": {
          "base_uri": "https://localhost:8080/"
        },
        "id": "G-2UxUGPFrwc",
        "outputId": "1c4a7f49-5386-407d-8d98-c1cc93abe0ca"
      },
      "execution_count": null,
      "outputs": [
        {
          "output_type": "execute_result",
          "data": {
            "text/plain": [
              "array([[0, 1, 1],\n",
              "       [1, 2, 1],\n",
              "       [1, 1, 3]])"
            ]
          },
          "metadata": {},
          "execution_count": 50
        }
      ]
    },
    {
      "cell_type": "markdown",
      "source": [
        "Using an numeric array, it is easy to plot the grid using [matplotlib](https://matplotlib.org/). The `Maze` class has method `plot` to do the job for us:"
      ],
      "metadata": {
        "id": "nsPWFi1xF0CR"
      }
    },
    {
      "cell_type": "code",
      "source": [
        "maze.plot()"
      ],
      "metadata": {
        "colab": {
          "base_uri": "https://localhost:8080/",
          "height": 409
        },
        "id": "GgiGHzXbqzWu",
        "outputId": "d8dff81f-923d-40b3-82fe-81566c13b546"
      },
      "execution_count": null,
      "outputs": [
        {
          "output_type": "display_data",
          "data": {
            "text/plain": [
              "<Figure size 480x480 with 1 Axes>"
            ],
            "image/png": "[encoded data removed]"
          },
          "metadata": {}
        }
      ]
    },
    {
      "cell_type": "markdown",
      "source": [
        "The `plot` method nicely visualizes the **configuration** of the maze!"
      ],
      "metadata": {
        "id": "aAnMAmHdSRkV"
      }
    },
    {
      "cell_type": "markdown",
      "source": [
        "## Maze position"
      ],
      "metadata": {
        "id": "McRd-eQNHfOB"
      }
    },
    {
      "cell_type": "markdown",
      "source": [
        "To know where exactly we are in the maze, we need our current **position**, which is the cell we are currently in. But how do we implement a position in Python? Just like in Excel, a specific cell can be referred to unambiguously using the unique combination of its **row and column indices**. We call this a grid **coordinate**. In Python a tuple can be used to store these row and column indices:\n",
        "\n",
        "> `position = (row_index, column_index)`\n",
        "\n",
        "Note that the first entry in the tuple is the row index!"
      ],
      "metadata": {
        "id": "nQgMDtSmIFyu"
      }
    },
    {
      "cell_type": "markdown",
      "source": [
        "`SearchExerciser` has a class `Position` to implement a position in the maze. For instance, invoking method `get_start_position` returns the start position, which is the coordinate of the cell where we have to start:"
      ],
      "metadata": {
        "id": "Fuy5W6xMJSD8"
      }
    },
    {
      "cell_type": "code",
      "source": [
        "maze.get_start_position()"
      ],
      "metadata": {
        "colab": {
          "base_uri": "https://localhost:8080/"
        },
        "id": "A9hp8J_arCJ1",
        "outputId": "524c171c-e6f8-4d26-e5a5-e999a2406cdc"
      },
      "execution_count": null,
      "outputs": [
        {
          "output_type": "execute_result",
          "data": {
            "text/plain": [
              "(0, 0)"
            ]
          },
          "metadata": {},
          "execution_count": 53
        }
      ]
    },
    {
      "cell_type": "markdown",
      "source": [
        "Note that the rows are numbered from top to bottom (which is the opposite of the direction of the y-axis!), and the columns from left to right (which is the direction of the x-axis). Similarly, we can get the coordinate of the goal by calling method `get_goal_position`:"
      ],
      "metadata": {
        "id": "o0Y-XBOgLTdh"
      }
    },
    {
      "cell_type": "code",
      "source": [
        "maze.get_goal_position()"
      ],
      "metadata": {
        "colab": {
          "base_uri": "https://localhost:8080/"
        },
        "id": "WTRMr0dWrIaX",
        "outputId": "01b7da66-c868-4247-8131-a6151fdd9f5e"
      },
      "execution_count": null,
      "outputs": [
        {
          "output_type": "execute_result",
          "data": {
            "text/plain": [
              "(2, 2)"
            ]
          },
          "metadata": {},
          "execution_count": 54
        }
      ]
    },
    {
      "cell_type": "markdown",
      "source": [
        "Of course we can instantiate a `Position` object to store another position in the maze:"
      ],
      "metadata": {
        "id": "0z2Ud_InMQK_"
      }
    },
    {
      "cell_type": "code",
      "source": [
        "p = Position(1, 0)\n",
        "p"
      ],
      "metadata": {
        "colab": {
          "base_uri": "https://localhost:8080/"
        },
        "id": "S6Wrt3BgMZWM",
        "outputId": "d5862b33-aba2-4ee5-ca73-6a9ed11c0f18"
      },
      "execution_count": null,
      "outputs": [
        {
          "output_type": "execute_result",
          "data": {
            "text/plain": [
              "(1, 0)"
            ]
          },
          "metadata": {},
          "execution_count": 55
        }
      ]
    },
    {
      "cell_type": "markdown",
      "source": [
        "Using class `Position` instead of a Python tuple, it is easy to compare two grid positions:"
      ],
      "metadata": {
        "id": "Bo29yw25MpzQ"
      }
    },
    {
      "cell_type": "code",
      "source": [
        "maze.get_start_position() == p"
      ],
      "metadata": {
        "colab": {
          "base_uri": "https://localhost:8080/"
        },
        "id": "JZX9EjEEMw8g",
        "outputId": "24cdfd2c-ccc3-4d40-9198-94dea6f4bd24"
      },
      "execution_count": null,
      "outputs": [
        {
          "output_type": "execute_result",
          "data": {
            "text/plain": [
              "False"
            ]
          },
          "metadata": {},
          "execution_count": 56
        }
      ]
    },
    {
      "cell_type": "markdown",
      "source": [
        "## State"
      ],
      "metadata": {
        "id": "zfVnT45XL4QO"
      }
    },
    {
      "cell_type": "markdown",
      "source": [
        "The concept of **state** is essential in the state space representation. The objective of solving a search problem is to find one of the goal states starting from the initial state. Therefore, to model the search problem, it is crucial to find the right representation of all possible states, which is the **state space**."
      ],
      "metadata": {
        "id": "yeUT91LtNMtY"
      }
    },
    {
      "cell_type": "markdown",
      "source": [
        "`SearchExerciser` has a class `State` which conceptualizes a maze state as a position in the maze grid. That implies a `State` object is an aggregation of a `Maze` object and a `Position` object. The initial state of the maze we created is instantiated as follows:"
      ],
      "metadata": {
        "id": "A9gVFbpSOOgq"
      }
    },
    {
      "cell_type": "code",
      "source": [
        "initial_state = State(maze, maze.get_start_position())\n",
        "initial_state"
      ],
      "metadata": {
        "colab": {
          "base_uri": "https://localhost:8080/"
        },
        "id": "2ewLhnW-O9Ae",
        "outputId": "07c3cbd9-7fcc-4b64-ea89-e4902fba59aa"
      },
      "execution_count": null,
      "outputs": [
        {
          "output_type": "execute_result",
          "data": {
            "text/plain": [
              "(0, 0)"
            ]
          },
          "metadata": {},
          "execution_count": 57
        }
      ]
    },
    {
      "cell_type": "markdown",
      "source": [
        "We see that the position of the starting cell is printed indeed. But what is the difference between a position and a state? A `Position` object has no information about the `Maze` object it refers to, while the `State` object has. For instance, it contains a method `is_goal` to check if the state it implements is a **goal state**:"
      ],
      "metadata": {
        "id": "sU1pKIK-POpD"
      }
    },
    {
      "cell_type": "code",
      "source": [
        "initial_state.is_goal()"
      ],
      "metadata": {
        "colab": {
          "base_uri": "https://localhost:8080/"
        },
        "id": "PWsLc4j_P6wZ",
        "outputId": "bae8a84d-3b16-4de0-d129-0648c507ef3b"
      },
      "execution_count": null,
      "outputs": [
        {
          "output_type": "execute_result",
          "data": {
            "text/plain": [
              "False"
            ]
          },
          "metadata": {},
          "execution_count": 58
        }
      ]
    },
    {
      "cell_type": "markdown",
      "source": [
        "Of course, the initial state is not a goal state, but our goal position is:"
      ],
      "metadata": {
        "id": "lN2UAwxJP9BW"
      }
    },
    {
      "cell_type": "code",
      "source": [
        "goal_state = State(maze, maze.get_goal_position())\n",
        "goal_state.is_goal()"
      ],
      "metadata": {
        "colab": {
          "base_uri": "https://localhost:8080/"
        },
        "id": "NGu8iWPBQBv8",
        "outputId": "718b18e2-d99f-484d-aa7b-f4ad811b0597"
      },
      "execution_count": null,
      "outputs": [
        {
          "output_type": "execute_result",
          "data": {
            "text/plain": [
              "True"
            ]
          },
          "metadata": {},
          "execution_count": 59
        }
      ]
    },
    {
      "cell_type": "markdown",
      "source": [
        "Can you see why this method is an important one? Indeed, it will be used by the search algorithms to check if a state is the goal state. If we would forget to implement this check, a search algorithim would be endlessly trying to find the solution..."
      ],
      "metadata": {
        "id": "CLSR-Z9UQQaK"
      }
    },
    {
      "cell_type": "markdown",
      "source": [
        "## Production rules"
      ],
      "metadata": {
        "id": "f2BAnPHQR6J_"
      }
    },
    {
      "cell_type": "markdown",
      "source": [
        "The **production rules** explain how we can go from one state to another. In the maze example, they define in which direction we can go and how many steps we may take. To keep it simple, we can only move to an adjacent cell, which means we can go one cell to the left (L), to the right (R), up (U), or down (D). A diagonal move is not allowed and neither is 'jumping' over cells.\n",
        "\n",
        "To known which production rules are valid, we simply check `Maze` attribute `rules`:"
      ],
      "metadata": {
        "id": "bvVdou8hSb1C"
      }
    },
    {
      "cell_type": "code",
      "source": [
        "maze.rules  # L, R, U, D by convention!"
      ],
      "metadata": {
        "colab": {
          "base_uri": "https://localhost:8080/"
        },
        "id": "mXiy9ci2rLpb",
        "outputId": "e369efa4-1e12-480e-bc3a-32db8b85f3f0"
      },
      "execution_count": null,
      "outputs": [
        {
          "output_type": "execute_result",
          "data": {
            "text/plain": [
              "[L, R, U, D]"
            ]
          },
          "metadata": {},
          "execution_count": 60
        }
      ]
    },
    {
      "cell_type": "markdown",
      "source": [
        "Don't forget the order of the rules is relevant to some search algorithms! By convention, we implement **left, right, up, down**, although it is possible to change that order, in which case some algorithms may give a different result!"
      ],
      "metadata": {
        "id": "gVSVfuaOT94Z"
      }
    },
    {
      "cell_type": "markdown",
      "source": [
        "How can we select production rule `R`?  It is the second entry in the list of `rules`, which means it has index `1`:"
      ],
      "metadata": {
        "id": "Bayj8smbZmWf"
      }
    },
    {
      "cell_type": "code",
      "source": [
        "maze.rules[1]"
      ],
      "metadata": {
        "colab": {
          "base_uri": "https://localhost:8080/"
        },
        "id": "joqMSQKRZzvy",
        "outputId": "75f26d9d-b8cc-4001-901c-2c75f6f5f509"
      },
      "execution_count": null,
      "outputs": [
        {
          "output_type": "execute_result",
          "data": {
            "text/plain": [
              "R"
            ]
          },
          "metadata": {},
          "execution_count": 61
        }
      ]
    },
    {
      "cell_type": "markdown",
      "source": [
        "The `R` object actually is an instance of class `Right`, which is a subclass of the `ProductionRule` class:"
      ],
      "metadata": {
        "id": "qYC4M9NkZ61t"
      }
    },
    {
      "cell_type": "code",
      "source": [
        "type(maze.rules[1])"
      ],
      "metadata": {
        "colab": {
          "base_uri": "https://localhost:8080/"
        },
        "id": "4amlvbDVaEas",
        "outputId": "f0261db3-1d90-42e6-cee2-587b2140e14c"
      },
      "execution_count": null,
      "outputs": [
        {
          "output_type": "execute_result",
          "data": {
            "text/plain": [
              "SearchExerciser.maze.Right"
            ]
          },
          "metadata": {},
          "execution_count": 62
        }
      ]
    },
    {
      "cell_type": "markdown",
      "source": [
        "## Move"
      ],
      "metadata": {
        "id": "rMz-9PVMYLcq"
      }
    },
    {
      "cell_type": "markdown",
      "source": [
        "It is good to know how we can move in the maze, which is formalized by defining the set of production rules. But of course, we also have to be able to actually move in the maze! Hence, class `Move` in the `SearchExerciser` package!"
      ],
      "metadata": {
        "id": "ZrOTf1YMYgoG"
      }
    },
    {
      "cell_type": "markdown",
      "source": [
        "A **move** is applied to a given state, which explains why a `Move` object is created using a `State` object and a specific production rule. That is the difference between a move and a production rule: the first applies to a specific state, the latter doesn't.\n",
        "\n",
        "Suppose we want to go down starting from the initial state. Instantiating the following `Move` object will do the job:"
      ],
      "metadata": {
        "id": "97Bty66JZV0U"
      }
    },
    {
      "cell_type": "code",
      "source": [
        "initial_state = State(maze, maze.get_start_position())  # the initial state\n",
        "down = maze.rules[-1]  # D is the last production rule -> index -1\n",
        "move_down = Move(initial_state, down)\n",
        "move_down"
      ],
      "metadata": {
        "colab": {
          "base_uri": "https://localhost:8080/"
        },
        "id": "3ad54hsGa154",
        "outputId": "9521070b-667e-46fb-be3d-fa5539accf37"
      },
      "execution_count": null,
      "outputs": [
        {
          "output_type": "execute_result",
          "data": {
            "text/plain": [
              "D"
            ]
          },
          "metadata": {},
          "execution_count": 66
        }
      ]
    },
    {
      "cell_type": "markdown",
      "source": [
        "The `Move` object is represented by its production rule, but recall that it also contains the state to which the rule is applied:"
      ],
      "metadata": {
        "id": "pyP2hHGhbQWT"
      }
    },
    {
      "cell_type": "code",
      "source": [
        "move_down.state"
      ],
      "metadata": {
        "colab": {
          "base_uri": "https://localhost:8080/"
        },
        "id": "9lY0hd40beOy",
        "outputId": "8d521519-cace-454c-8bb7-f571d6943005"
      },
      "execution_count": null,
      "outputs": [
        {
          "output_type": "execute_result",
          "data": {
            "text/plain": [
              "(0, 0)"
            ]
          },
          "metadata": {},
          "execution_count": 67
        }
      ]
    },
    {
      "cell_type": "markdown",
      "source": [
        "Applying the production rule to the state is simply done by calling method `apply`:"
      ],
      "metadata": {
        "id": "1u1k69rCbk9t"
      }
    },
    {
      "cell_type": "code",
      "source": [
        "new_state = move_down.apply()\n",
        "new_state"
      ],
      "metadata": {
        "colab": {
          "base_uri": "https://localhost:8080/"
        },
        "id": "DJBbNQabbgnn",
        "outputId": "44dfa870-e5d9-4dc7-9518-e27ebb8f8017"
      },
      "execution_count": null,
      "outputs": [
        {
          "output_type": "execute_result",
          "data": {
            "text/plain": [
              "(1, 0)"
            ]
          },
          "metadata": {},
          "execution_count": 68
        }
      ]
    },
    {
      "cell_type": "markdown",
      "source": [
        "Method `apply` returns the new state. Suppose we want to go to the left:"
      ],
      "metadata": {
        "id": "1w-ktHgebsQi"
      }
    },
    {
      "cell_type": "code",
      "source": [
        "move_left = Move(new_state, maze.rules[0])\n",
        "move_left"
      ],
      "metadata": {
        "colab": {
          "base_uri": "https://localhost:8080/"
        },
        "id": "z9c6o_FNb2sf",
        "outputId": "1de4bc70-e9f2-421d-ef55-048c6996cdce"
      },
      "execution_count": null,
      "outputs": [
        {
          "output_type": "execute_result",
          "data": {
            "text/plain": [
              "L"
            ]
          },
          "metadata": {},
          "execution_count": 69
        }
      ]
    },
    {
      "cell_type": "markdown",
      "source": [
        "Of course this move is not **valid** as we are in the first column of the grid and we cannot leave the maze by crossing its boundaries! That's something the search algorithms should check, and therefore, class `Move` has a method `is_valid`:"
      ],
      "metadata": {
        "id": "W4fUTGChb-Ck"
      }
    },
    {
      "cell_type": "code",
      "source": [
        "move_left.is_valid()"
      ],
      "metadata": {
        "colab": {
          "base_uri": "https://localhost:8080/"
        },
        "id": "p3UUCaFxcM0n",
        "outputId": "73cc3498-af4c-4146-ea35-b6fbda82ecfc"
      },
      "execution_count": null,
      "outputs": [
        {
          "output_type": "execute_result",
          "data": {
            "text/plain": [
              "False"
            ]
          },
          "metadata": {},
          "execution_count": 71
        }
      ]
    },
    {
      "cell_type": "markdown",
      "source": [
        "Going to the left is not valid indeed, while `move_down` was valid:"
      ],
      "metadata": {
        "id": "S5EgffywccZB"
      }
    },
    {
      "cell_type": "code",
      "source": [
        "move_down.is_valid()"
      ],
      "metadata": {
        "colab": {
          "base_uri": "https://localhost:8080/"
        },
        "id": "dAEERgOJcbYC",
        "outputId": "d65c92a7-8a3f-4c8f-b8cb-c93e7cbab7bf"
      },
      "execution_count": null,
      "outputs": [
        {
          "output_type": "execute_result",
          "data": {
            "text/plain": [
              "True"
            ]
          },
          "metadata": {},
          "execution_count": 72
        }
      ]
    },
    {
      "cell_type": "markdown",
      "source": [
        "Let's implement a sequence of valid moves to get from start to goal:"
      ],
      "metadata": {
        "id": "7DcS9xbscwT4"
      }
    },
    {
      "cell_type": "code",
      "source": [
        "state = State(maze, maze.get_start_position())  # the initial state\n",
        "print('initial state:', state)\n",
        "\n",
        "for step in [Down(), Down(), Right(), Right()]:  # steps required to find the goal\n",
        "    move = Move(state, step)  # create move\n",
        "    if move.is_valid():  # check if move is valid\n",
        "        state = move.apply()  # apply move\n",
        "        print('move:', move)\n",
        "        print('new state:', state)\n",
        "    else:\n",
        "        print('invalid move:', step)\n",
        "        break\n",
        "    if state.is_goal():  # check if goal is reached\n",
        "        print('goal reached!')\n",
        "        break"
      ],
      "metadata": {
        "colab": {
          "base_uri": "https://localhost:8080/"
        },
        "id": "xBCK5pXbc--1",
        "outputId": "72db9fae-53f4-4023-96df-f5e10cb75a46"
      },
      "execution_count": null,
      "outputs": [
        {
          "output_type": "stream",
          "name": "stdout",
          "text": [
            "initial state: (0, 0)\n",
            "move: D\n",
            "new state: (1, 0)\n",
            "move: D\n",
            "new state: (2, 0)\n",
            "move: R\n",
            "new state: (2, 1)\n",
            "move: R\n",
            "new state: (2, 2)\n",
            "goal reached!\n"
          ]
        }
      ]
    },
    {
      "cell_type": "markdown",
      "source": [
        "It's good practice to create a function which allows us to reuse this piece of code:"
      ],
      "metadata": {
        "id": "VMluS-x4elsY"
      }
    },
    {
      "cell_type": "code",
      "source": [
        "def walk(maze, steps):\n",
        "    \"\"\"\n",
        "    maze is a Maze object\n",
        "    steps is a list of ProductionRule objects\n",
        "    \"\"\"\n",
        "    state = State(maze, maze.get_start_position())  # the initial state\n",
        "    print('initial state:', state)\n",
        "    for step in steps:  # go through the given steps\n",
        "        move = Move(state, step)  # create move\n",
        "        if move.is_valid():  # check if move is valid\n",
        "            state = move.apply()  # apply move\n",
        "            print('move:', move)\n",
        "            print('new state:', state)\n",
        "        else:\n",
        "            print('invalid move:', step)\n",
        "            break\n",
        "        if state.is_goal():  # check if goal is reached\n",
        "            print('goal reached!')\n",
        "            break"
      ],
      "metadata": {
        "id": "HhxqmaTEe1_S"
      },
      "execution_count": null,
      "outputs": []
    },
    {
      "cell_type": "markdown",
      "source": [
        "Testing the function:"
      ],
      "metadata": {
        "id": "ASuYrP4YfLjj"
      }
    },
    {
      "cell_type": "code",
      "source": [
        "walk(maze, [Down(), Down(), Right(), Right()])"
      ],
      "metadata": {
        "colab": {
          "base_uri": "https://localhost:8080/"
        },
        "id": "yeISk36bfLCj",
        "outputId": "0995d8d1-9dd9-45d2-e41b-5f47c306b00f"
      },
      "execution_count": null,
      "outputs": [
        {
          "output_type": "stream",
          "name": "stdout",
          "text": [
            "initial state: (0, 0)\n",
            "move: D\n",
            "new state: (1, 0)\n",
            "move: D\n",
            "new state: (2, 0)\n",
            "move: R\n",
            "new state: (2, 1)\n",
            "move: R\n",
            "new state: (2, 2)\n",
            "goal reached!\n"
          ]
        }
      ]
    },
    {
      "cell_type": "markdown",
      "source": [
        "Nice! And what if we include an invalid step in the list of steps?"
      ],
      "metadata": {
        "id": "FItp8SgBfSyX"
      }
    },
    {
      "cell_type": "code",
      "source": [
        "walk(maze, [Right(), Right(), Up(), Up()])"
      ],
      "metadata": {
        "colab": {
          "base_uri": "https://localhost:8080/"
        },
        "id": "zXLivq0KfbPN",
        "outputId": "56e99248-0312-497d-805b-2ddad4e7197f"
      },
      "execution_count": null,
      "outputs": [
        {
          "output_type": "stream",
          "name": "stdout",
          "text": [
            "initial state: (0, 0)\n",
            "move: R\n",
            "new state: (0, 1)\n",
            "move: R\n",
            "new state: (0, 2)\n",
            "invalid move: U\n"
          ]
        }
      ]
    },
    {
      "cell_type": "markdown",
      "source": [
        "Ok, it identifies the invalid move and stops the execution, as it should!"
      ],
      "metadata": {
        "id": "gz97TrnEgFp-"
      }
    },
    {
      "cell_type": "markdown",
      "source": [
        "## Path"
      ],
      "metadata": {
        "id": "s9-MqB8kgV_D"
      }
    },
    {
      "cell_type": "markdown",
      "source": [
        "It is clear we want to find a path that guides us from start to goal, and in fact, we want to find the shortest path! How we find the shortest path is the subject of the next topics. For now, we are focusing on finding a path as we did in previous section for the simple 3x3 maze we've created.\n",
        "\n",
        "The **path** is defined as the sequence of states we go through, and as you may except, `SearchExerciser` implements a class `Path` to help us storing this sequence.\n",
        "\n",
        "We modify our function `walk` and make use of class `Path` to save the succession of states we are creating. We name this new function `create_path`:"
      ],
      "metadata": {
        "id": "wO-TBbosgsOZ"
      }
    },
    {
      "cell_type": "code",
      "source": [
        "def create_path(maze, steps):\n",
        "    \"\"\"\n",
        "    maze is a Maze object\n",
        "    steps is a list of ProductionRule objects\n",
        "    \"\"\"\n",
        "    state = State(maze, maze.get_start_position())  # the initial state\n",
        "    print('initial state:', state)\n",
        "    states = [state]  # list in which we will store the subsequent states\n",
        "    for step in steps:  # go through the given steps\n",
        "        move = Move(state, step)  # create move\n",
        "        if move.is_valid():  # check if move is valid\n",
        "            state = move.apply()  # apply move\n",
        "            print('move:', move)\n",
        "            print('new state:', state)\n",
        "            states.append(state)  # append new state to list of states\n",
        "        else:\n",
        "            print('invalid move:', step)\n",
        "            break\n",
        "        if state.is_goal():  # check if goal is reached\n",
        "            print('goal reached!')\n",
        "            break\n",
        "    return Path(states)  # return list of states as Path object"
      ],
      "metadata": {
        "id": "ewlBFmfEiaoy"
      },
      "execution_count": null,
      "outputs": []
    },
    {
      "cell_type": "markdown",
      "source": [
        "What has changed? Well, we now keep track of the states by appending them to list `states`. This list is passed to the `Path` constructor that creates a `Path` object which is returned by the function. Let's see how this works:"
      ],
      "metadata": {
        "id": "CIeHJvI-i-gw"
      }
    },
    {
      "cell_type": "code",
      "source": [
        "path = create_path(maze, [Down(), Down(), Right(), Right()])"
      ],
      "metadata": {
        "colab": {
          "base_uri": "https://localhost:8080/"
        },
        "id": "66L2DH5njnT3",
        "outputId": "763e806e-133b-4873-bd1a-e3143a93ecfe"
      },
      "execution_count": null,
      "outputs": [
        {
          "output_type": "stream",
          "name": "stdout",
          "text": [
            "initial state: (0, 0)\n",
            "move: D\n",
            "new state: (1, 0)\n",
            "move: D\n",
            "new state: (2, 0)\n",
            "move: R\n",
            "new state: (2, 1)\n",
            "move: R\n",
            "new state: (2, 2)\n",
            "goal reached!\n"
          ]
        }
      ]
    },
    {
      "cell_type": "markdown",
      "source": [
        "If you print the `path`, then you see the path is indicated by crosses `x`:"
      ],
      "metadata": {
        "id": "uP8OaliVkHvr"
      }
    },
    {
      "cell_type": "code",
      "source": [
        "path"
      ],
      "metadata": {
        "colab": {
          "base_uri": "https://localhost:8080/"
        },
        "id": "FaSxB5vzkRBh",
        "outputId": "3fb2acc5-ea1e-4c5e-f8a8-dbe1155a4b2d"
      },
      "execution_count": null,
      "outputs": [
        {
          "output_type": "execute_result",
          "data": {
            "text/plain": [
              "x..\n",
              "x#.\n",
              "xxx"
            ]
          },
          "metadata": {},
          "execution_count": 97
        }
      ]
    },
    {
      "cell_type": "markdown",
      "source": [
        "But what's really cool about this `Path` class is that you are able now to visualize the path in the maze! To do so, simply call method `plot`:"
      ],
      "metadata": {
        "id": "S_f6WB5Njtqb"
      }
    },
    {
      "cell_type": "code",
      "source": [
        "path.plot()"
      ],
      "metadata": {
        "colab": {
          "base_uri": "https://localhost:8080/",
          "height": 409
        },
        "id": "53fHcbn5j5-K",
        "outputId": "6f047523-a280-4b1a-f5e5-18381620fd66"
      },
      "execution_count": null,
      "outputs": [
        {
          "output_type": "display_data",
          "data": {
            "text/plain": [
              "<Figure size 480x480 with 1 Axes>"
            ],
            "image/png": "[encoded data removed]"
          },
          "metadata": {}
        }
      ]
    },
    {
      "cell_type": "markdown",
      "source": [
        "And there is even a 'live' plot:"
      ],
      "metadata": {
        "id": "8XIF8lsJkjE0"
      }
    },
    {
      "cell_type": "code",
      "source": [
        "path.plot_live()"
      ],
      "metadata": {
        "colab": {
          "base_uri": "https://localhost:8080/",
          "height": 409
        },
        "id": "Ce3bXruDkmP3",
        "outputId": "ad575d67-cc77-450b-8a1d-405e314553d4"
      },
      "execution_count": null,
      "outputs": [
        {
          "output_type": "display_data",
          "data": {
            "text/plain": [
              "<Figure size 480x480 with 1 Axes>"
            ],
            "image/png": "[encoded data removed]"
          },
          "metadata": {}
        }
      ]
    },
    {
      "cell_type": "markdown",
      "source": [
        "That's nice! But isn't that a very cumbersome way just to implement the path you have to follow to find the exit of a maze? It sure is! But this is of course a very simple problem, while the state space respresentation is meant to solve all kinds of search problems, not only maze problems! For instance, think of a more complicated problem such as playing chess. In that case, modeling the problem using the state space representation is a much more convenient way than trying to solve the problem 'intuitively' without formalizing it.\n",
        "\n",
        "In fact, the classes presented in this topic are specific implementations for the maze problem. If you take a look at the code of the `SearchExerciser` package, then you will see that these classes inherit attributes and methods from base classes with the same name, following an **object oriented** approach. Solving new search problems thus requires the implementation of specific subclasses that inherit the logic from these base classes.\n",
        "\n",
        "Finally, what is missing here, is the use of an efficient search algorithm to solve the problem. Now we have been hard-coding the steps to go from start to goal, but in real-life problems, that is not always possible, as there are mostly too many options. In other words, the number of possible combinations is too large. To search the enormous state space of real-life problems, not only efficient algorithms are required, but also intelligent algorithms! Welcome to the world of **artificial intelligence**!"
      ],
      "metadata": {
        "id": "nKFSEUXhk_6J"
      }
    },
    {
      "cell_type": "markdown",
      "source": [
        "## Exercise"
      ],
      "metadata": {
        "id": "2VizLsc3pdbO"
      }
    },
    {
      "cell_type": "markdown",
      "source": [
        "Using static method `create_random` of the `Maze` class, it is possible to create a random maze:"
      ],
      "metadata": {
        "id": "6IEKGfIKpzJb"
      }
    },
    {
      "cell_type": "code",
      "source": [
        "maze = Maze.create_random(size=5,         # number of rows = number of columns\n",
        "                          num_of_walls=6, # number of 'forbidden' barriers or walls\n",
        "                          seed=0)         # random seed\n",
        "maze.plot()"
      ],
      "metadata": {
        "colab": {
          "base_uri": "https://localhost:8080/",
          "height": 409
        },
        "id": "AaDsdR02tAEn",
        "outputId": "ea047369-9c33-433e-b0eb-5c78917250cf"
      },
      "execution_count": null,
      "outputs": [
        {
          "output_type": "display_data",
          "data": {
            "text/plain": [
              "<Figure size 480x480 with 1 Axes>"
            ],
            "image/png": "[encoded data removed]"
          },
          "metadata": {}
        }
      ]
    },
    {
      "cell_type": "markdown",
      "source": [
        "If you pass a `seed`, then the method will generate a random maze that is always the same. As you know, a random generator is not realy random, but pseudo-random, and by initializing its seed, it is possible to generate the same 'random' sequence of numbers over and over again."
      ],
      "metadata": {
        "id": "aqXg6ux2qTSX"
      }
    },
    {
      "cell_type": "markdown",
      "source": [
        "Use the function `create_path` to implement a path to the goal. Does it also work to solve this specific search problem? If so, then we did a great job in generalizing the maze problem!"
      ],
      "metadata": {
        "id": "rpOAyYrwrn38"
      }
    },
    {
      "cell_type": "code",
      "source": [],
      "metadata": {
        "id": "UlYZK6mCr16l"
      },
      "execution_count": null,
      "outputs": []
    },
    {
      "cell_type": "markdown",
      "source": [
        "Now try to implement a search algorithm that is capable of finding a path to the goal, without the user giving a possible solution. Take into account the possibility there is no solution!"
      ],
      "metadata": {
        "id": "H_f0p1tJrAYA"
      }
    },
    {
      "cell_type": "code",
      "source": [],
      "metadata": {
        "id": "fspK70USqQAj"
      },
      "execution_count": null,
      "outputs": []
    },
    {
      "cell_type": "markdown",
      "source": [
        "As you see, implementing such an algorithm from scratch is not as easy as it looks! The next topic will discuss some algorithms that are capable of finding a path without telling them which moves to take!"
      ],
      "metadata": {
        "id": "fo_mO2FMsGR3"
      }
    },
    {
      "cell_type": "markdown",
      "source": [
        "---"
      ],
      "metadata": {
        "id": "g6aG7LbMr2cI"
      }
    }
  ]
}